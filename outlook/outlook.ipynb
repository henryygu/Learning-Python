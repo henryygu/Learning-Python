{
 "cells": [
  {
   "cell_type": "markdown",
   "metadata": {},
   "source": [
    "# outlook"
   ]
  },
  {
   "cell_type": "code",
   "execution_count": 43,
   "metadata": {},
   "outputs": [],
   "source": [
    "import win32com.client\n",
    "import pandas as pd\n",
    "import os\n",
    "import datetime"
   ]
  },
  {
   "cell_type": "code",
   "execution_count": 23,
   "metadata": {},
   "outputs": [],
   "source": [
    "outlook = win32com.client.Dispatch(\"Outlook.Application\")\n",
    "mapi = outlook.GetNamespace(\"MAPI\")\n",
    "inbox = mapi.GetDefaultFolder(6) # 6 is the index of the inbox folder\n",
    "\n",
    "emails = inbox.Items\n",
    "email_data = []\n"
   ]
  },
  {
   "cell_type": "code",
   "execution_count": 54,
   "metadata": {},
   "outputs": [],
   "source": [
    "# today = datetime.date.today()\n",
    "\n",
    "# # first day of the month\n",
    "# start_time = today.replace(month=1).strftime('%Y-%m-%d %H:%M %p')\n",
    "\n",
    "# #today 12am\n",
    "# end_time = today.strftime('%Y-%m-%d %H:%M %p')\n",
    "\n",
    "# emails = emails.Restrict(\"[ReceivedTime] >= '\" + start_time\n",
    "# + \"' And [ReceivedTime] <= '\" + end_time + \"'\")\n"
   ]
  },
  {
   "cell_type": "code",
   "execution_count": 79,
   "metadata": {},
   "outputs": [],
   "source": [
    "emails = emails.Restrict(\"@SQL=urn:schemas:httpmail:subject LIKE '%Screen%'\")\n",
    "\n"
   ]
  },
  {
   "cell_type": "code",
   "execution_count": 80,
   "metadata": {},
   "outputs": [],
   "source": [
    "\n",
    "for email in list(emails)[:10]:\n",
    "    email_dict = {}\n",
    "    email_dict['Subject'] = email.Subject\n",
    "    email_dict['Sender'] = email.SenderName\n",
    "    email_dict['Sender Email'] = email.SenderEmailAddress\n",
    "    email_dict['Recipients'] = email.Recipients\n",
    "    email_dict['Body'] = email.Body\n",
    "    email_dict['Received'] = email.ReceivedTime\n",
    "    email_data.append(email_dict)\n",
    "\n"
   ]
  },
  {
   "cell_type": "code",
   "execution_count": 81,
   "metadata": {},
   "outputs": [],
   "source": [
    "df = pd.DataFrame(email_data)"
   ]
  },
  {
   "cell_type": "code",
   "execution_count": 82,
   "metadata": {},
   "outputs": [
    {
     "ename": "AttributeError",
     "evalue": "'NoneType' object has no attribute 'total_seconds'",
     "output_type": "error",
     "traceback": [
      "\u001b[1;31m---------------------------------------------------------------------------\u001b[0m",
      "\u001b[1;31mAttributeError\u001b[0m                            Traceback (most recent call last)",
      "\u001b[1;32mc:\\Users\\henry.gu\\Anaconda3\\envs\\Python\\lib\\site-packages\\pandas\\_libs\\tslibs\\tzconversion.pyx\u001b[0m in \u001b[0;36mpandas._libs.tslibs.tzconversion.Localizer.__cinit__\u001b[1;34m()\u001b[0m\n",
      "\u001b[1;32mc:\\Users\\henry.gu\\Anaconda3\\envs\\Python\\lib\\site-packages\\pandas\\_libs\\tslibs\\timezones.pyx\u001b[0m in \u001b[0;36mpandas._libs.tslibs.timezones.get_dst_info\u001b[1;34m()\u001b[0m\n",
      "\u001b[1;31mAttributeError\u001b[0m: 'NoneType' object has no attribute 'total_seconds'"
     ]
    },
    {
     "name": "stderr",
     "output_type": "stream",
     "text": [
      "Exception ignored in: 'pandas._libs.tslibs.conversion._localize_tso'\n",
      "Traceback (most recent call last):\n",
      "  File \"pandas\\_libs\\tslibs\\tzconversion.pyx\", line 85, in pandas._libs.tslibs.tzconversion.Localizer.__cinit__\n",
      "  File \"pandas\\_libs\\tslibs\\timezones.pyx\", line 306, in pandas._libs.tslibs.timezones.get_dst_info\n",
      "AttributeError: 'NoneType' object has no attribute 'total_seconds'\n"
     ]
    },
    {
     "ename": "AttributeError",
     "evalue": "'NoneType' object has no attribute 'total_seconds'",
     "output_type": "error",
     "traceback": [
      "\u001b[1;31m---------------------------------------------------------------------------\u001b[0m",
      "\u001b[1;31mAttributeError\u001b[0m                            Traceback (most recent call last)",
      "\u001b[1;32mc:\\Users\\henry.gu\\Anaconda3\\envs\\Python\\lib\\site-packages\\IPython\\core\\formatters.py\u001b[0m in \u001b[0;36m__call__\u001b[1;34m(self, obj)\u001b[0m\n\u001b[0;32m    700\u001b[0m                 \u001b[0mtype_pprinters\u001b[0m\u001b[1;33m=\u001b[0m\u001b[0mself\u001b[0m\u001b[1;33m.\u001b[0m\u001b[0mtype_printers\u001b[0m\u001b[1;33m,\u001b[0m\u001b[1;33m\u001b[0m\u001b[1;33m\u001b[0m\u001b[0m\n\u001b[0;32m    701\u001b[0m                 deferred_pprinters=self.deferred_printers)\n\u001b[1;32m--> 702\u001b[1;33m             \u001b[0mprinter\u001b[0m\u001b[1;33m.\u001b[0m\u001b[0mpretty\u001b[0m\u001b[1;33m(\u001b[0m\u001b[0mobj\u001b[0m\u001b[1;33m)\u001b[0m\u001b[1;33m\u001b[0m\u001b[1;33m\u001b[0m\u001b[0m\n\u001b[0m\u001b[0;32m    703\u001b[0m             \u001b[0mprinter\u001b[0m\u001b[1;33m.\u001b[0m\u001b[0mflush\u001b[0m\u001b[1;33m(\u001b[0m\u001b[1;33m)\u001b[0m\u001b[1;33m\u001b[0m\u001b[1;33m\u001b[0m\u001b[0m\n\u001b[0;32m    704\u001b[0m             \u001b[1;32mreturn\u001b[0m \u001b[0mstream\u001b[0m\u001b[1;33m.\u001b[0m\u001b[0mgetvalue\u001b[0m\u001b[1;33m(\u001b[0m\u001b[1;33m)\u001b[0m\u001b[1;33m\u001b[0m\u001b[1;33m\u001b[0m\u001b[0m\n",
      "\u001b[1;32mc:\\Users\\henry.gu\\Anaconda3\\envs\\Python\\lib\\site-packages\\IPython\\lib\\pretty.py\u001b[0m in \u001b[0;36mpretty\u001b[1;34m(self, obj)\u001b[0m\n\u001b[0;32m    392\u001b[0m                         \u001b[1;32mif\u001b[0m \u001b[0mcls\u001b[0m \u001b[1;32mis\u001b[0m \u001b[1;32mnot\u001b[0m \u001b[0mobject\u001b[0m\u001b[0;31m \u001b[0m\u001b[0;31m\\\u001b[0m\u001b[1;33m\u001b[0m\u001b[1;33m\u001b[0m\u001b[0m\n\u001b[0;32m    393\u001b[0m                                 \u001b[1;32mand\u001b[0m \u001b[0mcallable\u001b[0m\u001b[1;33m(\u001b[0m\u001b[0mcls\u001b[0m\u001b[1;33m.\u001b[0m\u001b[0m__dict__\u001b[0m\u001b[1;33m.\u001b[0m\u001b[0mget\u001b[0m\u001b[1;33m(\u001b[0m\u001b[1;34m'__repr__'\u001b[0m\u001b[1;33m)\u001b[0m\u001b[1;33m)\u001b[0m\u001b[1;33m:\u001b[0m\u001b[1;33m\u001b[0m\u001b[1;33m\u001b[0m\u001b[0m\n\u001b[1;32m--> 394\u001b[1;33m                             \u001b[1;32mreturn\u001b[0m \u001b[0m_repr_pprint\u001b[0m\u001b[1;33m(\u001b[0m\u001b[0mobj\u001b[0m\u001b[1;33m,\u001b[0m \u001b[0mself\u001b[0m\u001b[1;33m,\u001b[0m \u001b[0mcycle\u001b[0m\u001b[1;33m)\u001b[0m\u001b[1;33m\u001b[0m\u001b[1;33m\u001b[0m\u001b[0m\n\u001b[0m\u001b[0;32m    395\u001b[0m \u001b[1;33m\u001b[0m\u001b[0m\n\u001b[0;32m    396\u001b[0m             \u001b[1;32mreturn\u001b[0m \u001b[0m_default_pprint\u001b[0m\u001b[1;33m(\u001b[0m\u001b[0mobj\u001b[0m\u001b[1;33m,\u001b[0m \u001b[0mself\u001b[0m\u001b[1;33m,\u001b[0m \u001b[0mcycle\u001b[0m\u001b[1;33m)\u001b[0m\u001b[1;33m\u001b[0m\u001b[1;33m\u001b[0m\u001b[0m\n",
      "\u001b[1;32mc:\\Users\\henry.gu\\Anaconda3\\envs\\Python\\lib\\site-packages\\IPython\\lib\\pretty.py\u001b[0m in \u001b[0;36m_repr_pprint\u001b[1;34m(obj, p, cycle)\u001b[0m\n\u001b[0;32m    698\u001b[0m     \u001b[1;34m\"\"\"A pprint that just redirects to the normal repr function.\"\"\"\u001b[0m\u001b[1;33m\u001b[0m\u001b[1;33m\u001b[0m\u001b[0m\n\u001b[0;32m    699\u001b[0m     \u001b[1;31m# Find newlines and replace them with p.break_()\u001b[0m\u001b[1;33m\u001b[0m\u001b[1;33m\u001b[0m\u001b[1;33m\u001b[0m\u001b[0m\n\u001b[1;32m--> 700\u001b[1;33m     \u001b[0moutput\u001b[0m \u001b[1;33m=\u001b[0m \u001b[0mrepr\u001b[0m\u001b[1;33m(\u001b[0m\u001b[0mobj\u001b[0m\u001b[1;33m)\u001b[0m\u001b[1;33m\u001b[0m\u001b[1;33m\u001b[0m\u001b[0m\n\u001b[0m\u001b[0;32m    701\u001b[0m     \u001b[0mlines\u001b[0m \u001b[1;33m=\u001b[0m \u001b[0moutput\u001b[0m\u001b[1;33m.\u001b[0m\u001b[0msplitlines\u001b[0m\u001b[1;33m(\u001b[0m\u001b[1;33m)\u001b[0m\u001b[1;33m\u001b[0m\u001b[1;33m\u001b[0m\u001b[0m\n\u001b[0;32m    702\u001b[0m     \u001b[1;32mwith\u001b[0m \u001b[0mp\u001b[0m\u001b[1;33m.\u001b[0m\u001b[0mgroup\u001b[0m\u001b[1;33m(\u001b[0m\u001b[1;33m)\u001b[0m\u001b[1;33m:\u001b[0m\u001b[1;33m\u001b[0m\u001b[1;33m\u001b[0m\u001b[0m\n",
      "\u001b[1;32mc:\\Users\\henry.gu\\Anaconda3\\envs\\Python\\lib\\site-packages\\pandas\\core\\frame.py\u001b[0m in \u001b[0;36m__repr__\u001b[1;34m(self)\u001b[0m\n\u001b[0;32m   1060\u001b[0m \u001b[1;33m\u001b[0m\u001b[0m\n\u001b[0;32m   1061\u001b[0m         \u001b[0mrepr_params\u001b[0m \u001b[1;33m=\u001b[0m \u001b[0mfmt\u001b[0m\u001b[1;33m.\u001b[0m\u001b[0mget_dataframe_repr_params\u001b[0m\u001b[1;33m(\u001b[0m\u001b[1;33m)\u001b[0m\u001b[1;33m\u001b[0m\u001b[1;33m\u001b[0m\u001b[0m\n\u001b[1;32m-> 1062\u001b[1;33m         \u001b[1;32mreturn\u001b[0m \u001b[0mself\u001b[0m\u001b[1;33m.\u001b[0m\u001b[0mto_string\u001b[0m\u001b[1;33m(\u001b[0m\u001b[1;33m**\u001b[0m\u001b[0mrepr_params\u001b[0m\u001b[1;33m)\u001b[0m\u001b[1;33m\u001b[0m\u001b[1;33m\u001b[0m\u001b[0m\n\u001b[0m\u001b[0;32m   1063\u001b[0m \u001b[1;33m\u001b[0m\u001b[0m\n\u001b[0;32m   1064\u001b[0m     \u001b[1;32mdef\u001b[0m \u001b[0m_repr_html_\u001b[0m\u001b[1;33m(\u001b[0m\u001b[0mself\u001b[0m\u001b[1;33m)\u001b[0m \u001b[1;33m->\u001b[0m \u001b[0mstr\u001b[0m \u001b[1;33m|\u001b[0m \u001b[1;32mNone\u001b[0m\u001b[1;33m:\u001b[0m\u001b[1;33m\u001b[0m\u001b[1;33m\u001b[0m\u001b[0m\n",
      "\u001b[1;32mc:\\Users\\henry.gu\\Anaconda3\\envs\\Python\\lib\\site-packages\\pandas\\core\\frame.py\u001b[0m in \u001b[0;36mto_string\u001b[1;34m(self, buf, columns, col_space, header, index, na_rep, formatters, float_format, sparsify, index_names, justify, max_rows, max_cols, show_dimensions, decimal, line_width, min_rows, max_colwidth, encoding)\u001b[0m\n\u001b[0;32m   1241\u001b[0m                 \u001b[0mdecimal\u001b[0m\u001b[1;33m=\u001b[0m\u001b[0mdecimal\u001b[0m\u001b[1;33m,\u001b[0m\u001b[1;33m\u001b[0m\u001b[1;33m\u001b[0m\u001b[0m\n\u001b[0;32m   1242\u001b[0m             )\n\u001b[1;32m-> 1243\u001b[1;33m             return fmt.DataFrameRenderer(formatter).to_string(\n\u001b[0m\u001b[0;32m   1244\u001b[0m                 \u001b[0mbuf\u001b[0m\u001b[1;33m=\u001b[0m\u001b[0mbuf\u001b[0m\u001b[1;33m,\u001b[0m\u001b[1;33m\u001b[0m\u001b[1;33m\u001b[0m\u001b[0m\n\u001b[0;32m   1245\u001b[0m                 \u001b[0mencoding\u001b[0m\u001b[1;33m=\u001b[0m\u001b[0mencoding\u001b[0m\u001b[1;33m,\u001b[0m\u001b[1;33m\u001b[0m\u001b[1;33m\u001b[0m\u001b[0m\n",
      "\u001b[1;32mc:\\Users\\henry.gu\\Anaconda3\\envs\\Python\\lib\\site-packages\\pandas\\io\\formats\\format.py\u001b[0m in \u001b[0;36mto_string\u001b[1;34m(self, buf, encoding, line_width)\u001b[0m\n\u001b[0;32m   1134\u001b[0m \u001b[1;33m\u001b[0m\u001b[0m\n\u001b[0;32m   1135\u001b[0m         \u001b[0mstring_formatter\u001b[0m \u001b[1;33m=\u001b[0m \u001b[0mStringFormatter\u001b[0m\u001b[1;33m(\u001b[0m\u001b[0mself\u001b[0m\u001b[1;33m.\u001b[0m\u001b[0mfmt\u001b[0m\u001b[1;33m,\u001b[0m \u001b[0mline_width\u001b[0m\u001b[1;33m=\u001b[0m\u001b[0mline_width\u001b[0m\u001b[1;33m)\u001b[0m\u001b[1;33m\u001b[0m\u001b[1;33m\u001b[0m\u001b[0m\n\u001b[1;32m-> 1136\u001b[1;33m         \u001b[0mstring\u001b[0m \u001b[1;33m=\u001b[0m \u001b[0mstring_formatter\u001b[0m\u001b[1;33m.\u001b[0m\u001b[0mto_string\u001b[0m\u001b[1;33m(\u001b[0m\u001b[1;33m)\u001b[0m\u001b[1;33m\u001b[0m\u001b[1;33m\u001b[0m\u001b[0m\n\u001b[0m\u001b[0;32m   1137\u001b[0m         \u001b[1;32mreturn\u001b[0m \u001b[0msave_to_buffer\u001b[0m\u001b[1;33m(\u001b[0m\u001b[0mstring\u001b[0m\u001b[1;33m,\u001b[0m \u001b[0mbuf\u001b[0m\u001b[1;33m=\u001b[0m\u001b[0mbuf\u001b[0m\u001b[1;33m,\u001b[0m \u001b[0mencoding\u001b[0m\u001b[1;33m=\u001b[0m\u001b[0mencoding\u001b[0m\u001b[1;33m)\u001b[0m\u001b[1;33m\u001b[0m\u001b[1;33m\u001b[0m\u001b[0m\n\u001b[0;32m   1138\u001b[0m \u001b[1;33m\u001b[0m\u001b[0m\n",
      "\u001b[1;32mc:\\Users\\henry.gu\\Anaconda3\\envs\\Python\\lib\\site-packages\\pandas\\io\\formats\\string.py\u001b[0m in \u001b[0;36mto_string\u001b[1;34m(self)\u001b[0m\n\u001b[0;32m     28\u001b[0m \u001b[1;33m\u001b[0m\u001b[0m\n\u001b[0;32m     29\u001b[0m     \u001b[1;32mdef\u001b[0m \u001b[0mto_string\u001b[0m\u001b[1;33m(\u001b[0m\u001b[0mself\u001b[0m\u001b[1;33m)\u001b[0m \u001b[1;33m->\u001b[0m \u001b[0mstr\u001b[0m\u001b[1;33m:\u001b[0m\u001b[1;33m\u001b[0m\u001b[1;33m\u001b[0m\u001b[0m\n\u001b[1;32m---> 30\u001b[1;33m         \u001b[0mtext\u001b[0m \u001b[1;33m=\u001b[0m \u001b[0mself\u001b[0m\u001b[1;33m.\u001b[0m\u001b[0m_get_string_representation\u001b[0m\u001b[1;33m(\u001b[0m\u001b[1;33m)\u001b[0m\u001b[1;33m\u001b[0m\u001b[1;33m\u001b[0m\u001b[0m\n\u001b[0m\u001b[0;32m     31\u001b[0m         \u001b[1;32mif\u001b[0m \u001b[0mself\u001b[0m\u001b[1;33m.\u001b[0m\u001b[0mfmt\u001b[0m\u001b[1;33m.\u001b[0m\u001b[0mshould_show_dimensions\u001b[0m\u001b[1;33m:\u001b[0m\u001b[1;33m\u001b[0m\u001b[1;33m\u001b[0m\u001b[0m\n\u001b[0;32m     32\u001b[0m             \u001b[0mtext\u001b[0m \u001b[1;33m=\u001b[0m \u001b[1;34m\"\"\u001b[0m\u001b[1;33m.\u001b[0m\u001b[0mjoin\u001b[0m\u001b[1;33m(\u001b[0m\u001b[1;33m[\u001b[0m\u001b[0mtext\u001b[0m\u001b[1;33m,\u001b[0m \u001b[0mself\u001b[0m\u001b[1;33m.\u001b[0m\u001b[0mfmt\u001b[0m\u001b[1;33m.\u001b[0m\u001b[0mdimensions_info\u001b[0m\u001b[1;33m]\u001b[0m\u001b[1;33m)\u001b[0m\u001b[1;33m\u001b[0m\u001b[1;33m\u001b[0m\u001b[0m\n",
      "\u001b[1;32mc:\\Users\\henry.gu\\Anaconda3\\envs\\Python\\lib\\site-packages\\pandas\\io\\formats\\string.py\u001b[0m in \u001b[0;36m_get_string_representation\u001b[1;34m(self)\u001b[0m\n\u001b[0;32m     43\u001b[0m             \u001b[1;32mreturn\u001b[0m \u001b[0mself\u001b[0m\u001b[1;33m.\u001b[0m\u001b[0m_empty_info_line\u001b[0m\u001b[1;33m\u001b[0m\u001b[1;33m\u001b[0m\u001b[0m\n\u001b[0;32m     44\u001b[0m \u001b[1;33m\u001b[0m\u001b[0m\n\u001b[1;32m---> 45\u001b[1;33m         \u001b[0mstrcols\u001b[0m \u001b[1;33m=\u001b[0m \u001b[0mself\u001b[0m\u001b[1;33m.\u001b[0m\u001b[0m_get_strcols\u001b[0m\u001b[1;33m(\u001b[0m\u001b[1;33m)\u001b[0m\u001b[1;33m\u001b[0m\u001b[1;33m\u001b[0m\u001b[0m\n\u001b[0m\u001b[0;32m     46\u001b[0m \u001b[1;33m\u001b[0m\u001b[0m\n\u001b[0;32m     47\u001b[0m         \u001b[1;32mif\u001b[0m \u001b[0mself\u001b[0m\u001b[1;33m.\u001b[0m\u001b[0mline_width\u001b[0m \u001b[1;32mis\u001b[0m \u001b[1;32mNone\u001b[0m\u001b[1;33m:\u001b[0m\u001b[1;33m\u001b[0m\u001b[1;33m\u001b[0m\u001b[0m\n",
      "\u001b[1;32mc:\\Users\\henry.gu\\Anaconda3\\envs\\Python\\lib\\site-packages\\pandas\\io\\formats\\string.py\u001b[0m in \u001b[0;36m_get_strcols\u001b[1;34m(self)\u001b[0m\n\u001b[0;32m     34\u001b[0m \u001b[1;33m\u001b[0m\u001b[0m\n\u001b[0;32m     35\u001b[0m     \u001b[1;32mdef\u001b[0m \u001b[0m_get_strcols\u001b[0m\u001b[1;33m(\u001b[0m\u001b[0mself\u001b[0m\u001b[1;33m)\u001b[0m \u001b[1;33m->\u001b[0m \u001b[0mlist\u001b[0m\u001b[1;33m[\u001b[0m\u001b[0mlist\u001b[0m\u001b[1;33m[\u001b[0m\u001b[0mstr\u001b[0m\u001b[1;33m]\u001b[0m\u001b[1;33m]\u001b[0m\u001b[1;33m:\u001b[0m\u001b[1;33m\u001b[0m\u001b[1;33m\u001b[0m\u001b[0m\n\u001b[1;32m---> 36\u001b[1;33m         \u001b[0mstrcols\u001b[0m \u001b[1;33m=\u001b[0m \u001b[0mself\u001b[0m\u001b[1;33m.\u001b[0m\u001b[0mfmt\u001b[0m\u001b[1;33m.\u001b[0m\u001b[0mget_strcols\u001b[0m\u001b[1;33m(\u001b[0m\u001b[1;33m)\u001b[0m\u001b[1;33m\u001b[0m\u001b[1;33m\u001b[0m\u001b[0m\n\u001b[0m\u001b[0;32m     37\u001b[0m         \u001b[1;32mif\u001b[0m \u001b[0mself\u001b[0m\u001b[1;33m.\u001b[0m\u001b[0mfmt\u001b[0m\u001b[1;33m.\u001b[0m\u001b[0mis_truncated\u001b[0m\u001b[1;33m:\u001b[0m\u001b[1;33m\u001b[0m\u001b[1;33m\u001b[0m\u001b[0m\n\u001b[0;32m     38\u001b[0m             \u001b[0mstrcols\u001b[0m \u001b[1;33m=\u001b[0m \u001b[0mself\u001b[0m\u001b[1;33m.\u001b[0m\u001b[0m_insert_dot_separators\u001b[0m\u001b[1;33m(\u001b[0m\u001b[0mstrcols\u001b[0m\u001b[1;33m)\u001b[0m\u001b[1;33m\u001b[0m\u001b[1;33m\u001b[0m\u001b[0m\n",
      "\u001b[1;32mc:\\Users\\henry.gu\\Anaconda3\\envs\\Python\\lib\\site-packages\\pandas\\io\\formats\\format.py\u001b[0m in \u001b[0;36mget_strcols\u001b[1;34m(self)\u001b[0m\n\u001b[0;32m    615\u001b[0m         \u001b[0mRender\u001b[0m \u001b[0ma\u001b[0m \u001b[0mDataFrame\u001b[0m \u001b[0mto\u001b[0m \u001b[0ma\u001b[0m \u001b[0mlist\u001b[0m \u001b[0mof\u001b[0m \u001b[0mcolumns\u001b[0m \u001b[1;33m(\u001b[0m\u001b[1;32mas\u001b[0m \u001b[0mlists\u001b[0m \u001b[0mof\u001b[0m \u001b[0mstrings\u001b[0m\u001b[1;33m)\u001b[0m\u001b[1;33m.\u001b[0m\u001b[1;33m\u001b[0m\u001b[1;33m\u001b[0m\u001b[0m\n\u001b[0;32m    616\u001b[0m         \"\"\"\n\u001b[1;32m--> 617\u001b[1;33m         \u001b[0mstrcols\u001b[0m \u001b[1;33m=\u001b[0m \u001b[0mself\u001b[0m\u001b[1;33m.\u001b[0m\u001b[0m_get_strcols_without_index\u001b[0m\u001b[1;33m(\u001b[0m\u001b[1;33m)\u001b[0m\u001b[1;33m\u001b[0m\u001b[1;33m\u001b[0m\u001b[0m\n\u001b[0m\u001b[0;32m    618\u001b[0m \u001b[1;33m\u001b[0m\u001b[0m\n\u001b[0;32m    619\u001b[0m         \u001b[1;32mif\u001b[0m \u001b[0mself\u001b[0m\u001b[1;33m.\u001b[0m\u001b[0mindex\u001b[0m\u001b[1;33m:\u001b[0m\u001b[1;33m\u001b[0m\u001b[1;33m\u001b[0m\u001b[0m\n",
      "\u001b[1;32mc:\\Users\\henry.gu\\Anaconda3\\envs\\Python\\lib\\site-packages\\pandas\\io\\formats\\format.py\u001b[0m in \u001b[0;36m_get_strcols_without_index\u001b[1;34m(self)\u001b[0m\n\u001b[0;32m    881\u001b[0m                 \u001b[0mint\u001b[0m\u001b[1;33m(\u001b[0m\u001b[0mself\u001b[0m\u001b[1;33m.\u001b[0m\u001b[0mcol_space\u001b[0m\u001b[1;33m.\u001b[0m\u001b[0mget\u001b[0m\u001b[1;33m(\u001b[0m\u001b[0mc\u001b[0m\u001b[1;33m,\u001b[0m \u001b[1;36m0\u001b[0m\u001b[1;33m)\u001b[0m\u001b[1;33m)\u001b[0m\u001b[1;33m,\u001b[0m \u001b[1;33m*\u001b[0m\u001b[1;33m(\u001b[0m\u001b[0mself\u001b[0m\u001b[1;33m.\u001b[0m\u001b[0madj\u001b[0m\u001b[1;33m.\u001b[0m\u001b[0mlen\u001b[0m\u001b[1;33m(\u001b[0m\u001b[0mx\u001b[0m\u001b[1;33m)\u001b[0m \u001b[1;32mfor\u001b[0m \u001b[0mx\u001b[0m \u001b[1;32min\u001b[0m \u001b[0mcheader\u001b[0m\u001b[1;33m)\u001b[0m\u001b[1;33m\u001b[0m\u001b[1;33m\u001b[0m\u001b[0m\n\u001b[0;32m    882\u001b[0m             )\n\u001b[1;32m--> 883\u001b[1;33m             \u001b[0mfmt_values\u001b[0m \u001b[1;33m=\u001b[0m \u001b[0mself\u001b[0m\u001b[1;33m.\u001b[0m\u001b[0mformat_col\u001b[0m\u001b[1;33m(\u001b[0m\u001b[0mi\u001b[0m\u001b[1;33m)\u001b[0m\u001b[1;33m\u001b[0m\u001b[1;33m\u001b[0m\u001b[0m\n\u001b[0m\u001b[0;32m    884\u001b[0m             fmt_values = _make_fixed_width(\n\u001b[0;32m    885\u001b[0m                 \u001b[0mfmt_values\u001b[0m\u001b[1;33m,\u001b[0m \u001b[0mself\u001b[0m\u001b[1;33m.\u001b[0m\u001b[0mjustify\u001b[0m\u001b[1;33m,\u001b[0m \u001b[0mminimum\u001b[0m\u001b[1;33m=\u001b[0m\u001b[0mheader_colwidth\u001b[0m\u001b[1;33m,\u001b[0m \u001b[0madj\u001b[0m\u001b[1;33m=\u001b[0m\u001b[0mself\u001b[0m\u001b[1;33m.\u001b[0m\u001b[0madj\u001b[0m\u001b[1;33m\u001b[0m\u001b[1;33m\u001b[0m\u001b[0m\n",
      "\u001b[1;32mc:\\Users\\henry.gu\\Anaconda3\\envs\\Python\\lib\\site-packages\\pandas\\io\\formats\\format.py\u001b[0m in \u001b[0;36mformat_col\u001b[1;34m(self, i)\u001b[0m\n\u001b[0;32m    895\u001b[0m         \u001b[0mframe\u001b[0m \u001b[1;33m=\u001b[0m \u001b[0mself\u001b[0m\u001b[1;33m.\u001b[0m\u001b[0mtr_frame\u001b[0m\u001b[1;33m\u001b[0m\u001b[1;33m\u001b[0m\u001b[0m\n\u001b[0;32m    896\u001b[0m         \u001b[0mformatter\u001b[0m \u001b[1;33m=\u001b[0m \u001b[0mself\u001b[0m\u001b[1;33m.\u001b[0m\u001b[0m_get_formatter\u001b[0m\u001b[1;33m(\u001b[0m\u001b[0mi\u001b[0m\u001b[1;33m)\u001b[0m\u001b[1;33m\u001b[0m\u001b[1;33m\u001b[0m\u001b[0m\n\u001b[1;32m--> 897\u001b[1;33m         return format_array(\n\u001b[0m\u001b[0;32m    898\u001b[0m             \u001b[0mframe\u001b[0m\u001b[1;33m.\u001b[0m\u001b[0miloc\u001b[0m\u001b[1;33m[\u001b[0m\u001b[1;33m:\u001b[0m\u001b[1;33m,\u001b[0m \u001b[0mi\u001b[0m\u001b[1;33m]\u001b[0m\u001b[1;33m.\u001b[0m\u001b[0m_values\u001b[0m\u001b[1;33m,\u001b[0m\u001b[1;33m\u001b[0m\u001b[1;33m\u001b[0m\u001b[0m\n\u001b[0;32m    899\u001b[0m             \u001b[0mformatter\u001b[0m\u001b[1;33m,\u001b[0m\u001b[1;33m\u001b[0m\u001b[1;33m\u001b[0m\u001b[0m\n",
      "\u001b[1;32mc:\\Users\\henry.gu\\Anaconda3\\envs\\Python\\lib\\site-packages\\pandas\\io\\formats\\format.py\u001b[0m in \u001b[0;36mformat_array\u001b[1;34m(values, formatter, float_format, na_rep, digits, space, justify, decimal, leading_space, quoting)\u001b[0m\n\u001b[0;32m   1326\u001b[0m     )\n\u001b[0;32m   1327\u001b[0m \u001b[1;33m\u001b[0m\u001b[0m\n\u001b[1;32m-> 1328\u001b[1;33m     \u001b[1;32mreturn\u001b[0m \u001b[0mfmt_obj\u001b[0m\u001b[1;33m.\u001b[0m\u001b[0mget_result\u001b[0m\u001b[1;33m(\u001b[0m\u001b[1;33m)\u001b[0m\u001b[1;33m\u001b[0m\u001b[1;33m\u001b[0m\u001b[0m\n\u001b[0m\u001b[0;32m   1329\u001b[0m \u001b[1;33m\u001b[0m\u001b[0m\n\u001b[0;32m   1330\u001b[0m \u001b[1;33m\u001b[0m\u001b[0m\n",
      "\u001b[1;32mc:\\Users\\henry.gu\\Anaconda3\\envs\\Python\\lib\\site-packages\\pandas\\io\\formats\\format.py\u001b[0m in \u001b[0;36mget_result\u001b[1;34m(self)\u001b[0m\n\u001b[0;32m   1357\u001b[0m \u001b[1;33m\u001b[0m\u001b[0m\n\u001b[0;32m   1358\u001b[0m     \u001b[1;32mdef\u001b[0m \u001b[0mget_result\u001b[0m\u001b[1;33m(\u001b[0m\u001b[0mself\u001b[0m\u001b[1;33m)\u001b[0m \u001b[1;33m->\u001b[0m \u001b[0mlist\u001b[0m\u001b[1;33m[\u001b[0m\u001b[0mstr\u001b[0m\u001b[1;33m]\u001b[0m\u001b[1;33m:\u001b[0m\u001b[1;33m\u001b[0m\u001b[1;33m\u001b[0m\u001b[0m\n\u001b[1;32m-> 1359\u001b[1;33m         \u001b[0mfmt_values\u001b[0m \u001b[1;33m=\u001b[0m \u001b[0mself\u001b[0m\u001b[1;33m.\u001b[0m\u001b[0m_format_strings\u001b[0m\u001b[1;33m(\u001b[0m\u001b[1;33m)\u001b[0m\u001b[1;33m\u001b[0m\u001b[1;33m\u001b[0m\u001b[0m\n\u001b[0m\u001b[0;32m   1360\u001b[0m         \u001b[1;32mreturn\u001b[0m \u001b[0m_make_fixed_width\u001b[0m\u001b[1;33m(\u001b[0m\u001b[0mfmt_values\u001b[0m\u001b[1;33m,\u001b[0m \u001b[0mself\u001b[0m\u001b[1;33m.\u001b[0m\u001b[0mjustify\u001b[0m\u001b[1;33m)\u001b[0m\u001b[1;33m\u001b[0m\u001b[1;33m\u001b[0m\u001b[0m\n\u001b[0;32m   1361\u001b[0m \u001b[1;33m\u001b[0m\u001b[0m\n",
      "\u001b[1;32mc:\\Users\\henry.gu\\Anaconda3\\envs\\Python\\lib\\site-packages\\pandas\\io\\formats\\format.py\u001b[0m in \u001b[0;36m_format_strings\u001b[1;34m(self)\u001b[0m\n\u001b[0;32m   1826\u001b[0m     \u001b[1;32mdef\u001b[0m \u001b[0m_format_strings\u001b[0m\u001b[1;33m(\u001b[0m\u001b[0mself\u001b[0m\u001b[1;33m)\u001b[0m \u001b[1;33m->\u001b[0m \u001b[0mlist\u001b[0m\u001b[1;33m[\u001b[0m\u001b[0mstr\u001b[0m\u001b[1;33m]\u001b[0m\u001b[1;33m:\u001b[0m\u001b[1;33m\u001b[0m\u001b[1;33m\u001b[0m\u001b[0m\n\u001b[0;32m   1827\u001b[0m         \u001b[1;34m\"\"\"we by definition have a TZ\"\"\"\u001b[0m\u001b[1;33m\u001b[0m\u001b[1;33m\u001b[0m\u001b[0m\n\u001b[1;32m-> 1828\u001b[1;33m         \u001b[0mvalues\u001b[0m \u001b[1;33m=\u001b[0m \u001b[0mself\u001b[0m\u001b[1;33m.\u001b[0m\u001b[0mvalues\u001b[0m\u001b[1;33m.\u001b[0m\u001b[0mastype\u001b[0m\u001b[1;33m(\u001b[0m\u001b[0mobject\u001b[0m\u001b[1;33m)\u001b[0m\u001b[1;33m\u001b[0m\u001b[1;33m\u001b[0m\u001b[0m\n\u001b[0m\u001b[0;32m   1829\u001b[0m         \u001b[0mido\u001b[0m \u001b[1;33m=\u001b[0m \u001b[0mis_dates_only\u001b[0m\u001b[1;33m(\u001b[0m\u001b[0mvalues\u001b[0m\u001b[1;33m)\u001b[0m\u001b[1;33m\u001b[0m\u001b[1;33m\u001b[0m\u001b[0m\n\u001b[0;32m   1830\u001b[0m         formatter = self.formatter or get_format_datetime64(\n",
      "\u001b[1;32mc:\\Users\\henry.gu\\Anaconda3\\envs\\Python\\lib\\site-packages\\pandas\\core\\arrays\\datetimes.py\u001b[0m in \u001b[0;36mastype\u001b[1;34m(self, dtype, copy)\u001b[0m\n\u001b[0;32m    648\u001b[0m         \u001b[1;32melif\u001b[0m \u001b[0mis_period_dtype\u001b[0m\u001b[1;33m(\u001b[0m\u001b[0mdtype\u001b[0m\u001b[1;33m)\u001b[0m\u001b[1;33m:\u001b[0m\u001b[1;33m\u001b[0m\u001b[1;33m\u001b[0m\u001b[0m\n\u001b[0;32m    649\u001b[0m             \u001b[1;32mreturn\u001b[0m \u001b[0mself\u001b[0m\u001b[1;33m.\u001b[0m\u001b[0mto_period\u001b[0m\u001b[1;33m(\u001b[0m\u001b[0mfreq\u001b[0m\u001b[1;33m=\u001b[0m\u001b[0mdtype\u001b[0m\u001b[1;33m.\u001b[0m\u001b[0mfreq\u001b[0m\u001b[1;33m)\u001b[0m\u001b[1;33m\u001b[0m\u001b[1;33m\u001b[0m\u001b[0m\n\u001b[1;32m--> 650\u001b[1;33m         \u001b[1;32mreturn\u001b[0m \u001b[0mdtl\u001b[0m\u001b[1;33m.\u001b[0m\u001b[0mDatetimeLikeArrayMixin\u001b[0m\u001b[1;33m.\u001b[0m\u001b[0mastype\u001b[0m\u001b[1;33m(\u001b[0m\u001b[0mself\u001b[0m\u001b[1;33m,\u001b[0m \u001b[0mdtype\u001b[0m\u001b[1;33m,\u001b[0m \u001b[0mcopy\u001b[0m\u001b[1;33m)\u001b[0m\u001b[1;33m\u001b[0m\u001b[1;33m\u001b[0m\u001b[0m\n\u001b[0m\u001b[0;32m    651\u001b[0m \u001b[1;33m\u001b[0m\u001b[0m\n\u001b[0;32m    652\u001b[0m     \u001b[1;31m# -----------------------------------------------------------------\u001b[0m\u001b[1;33m\u001b[0m\u001b[1;33m\u001b[0m\u001b[1;33m\u001b[0m\u001b[0m\n",
      "\u001b[1;32mc:\\Users\\henry.gu\\Anaconda3\\envs\\Python\\lib\\site-packages\\pandas\\core\\arrays\\datetimelike.py\u001b[0m in \u001b[0;36mastype\u001b[1;34m(self, dtype, copy)\u001b[0m\n\u001b[0;32m    436\u001b[0m                 \u001b[1;31m#  for e.g. test_get_loc_tuple_monotonic_above_size_cutoff\u001b[0m\u001b[1;33m\u001b[0m\u001b[1;33m\u001b[0m\u001b[1;33m\u001b[0m\u001b[0m\n\u001b[0;32m    437\u001b[0m                 \u001b[0mi8data\u001b[0m \u001b[1;33m=\u001b[0m \u001b[0mself\u001b[0m\u001b[1;33m.\u001b[0m\u001b[0masi8\u001b[0m\u001b[1;33m\u001b[0m\u001b[1;33m\u001b[0m\u001b[0m\n\u001b[1;32m--> 438\u001b[1;33m                 converted = ints_to_pydatetime(\n\u001b[0m\u001b[0;32m    439\u001b[0m                     \u001b[0mi8data\u001b[0m\u001b[1;33m,\u001b[0m\u001b[1;33m\u001b[0m\u001b[1;33m\u001b[0m\u001b[0m\n\u001b[0;32m    440\u001b[0m                     \u001b[0mtz\u001b[0m\u001b[1;33m=\u001b[0m\u001b[0mself\u001b[0m\u001b[1;33m.\u001b[0m\u001b[0mtz\u001b[0m\u001b[1;33m,\u001b[0m\u001b[1;33m\u001b[0m\u001b[1;33m\u001b[0m\u001b[0m\n",
      "\u001b[1;32mc:\\Users\\henry.gu\\Anaconda3\\envs\\Python\\lib\\site-packages\\pandas\\_libs\\tslibs\\vectorized.pyx\u001b[0m in \u001b[0;36mpandas._libs.tslibs.vectorized.ints_to_pydatetime\u001b[1;34m()\u001b[0m\n",
      "\u001b[1;32mc:\\Users\\henry.gu\\Anaconda3\\envs\\Python\\lib\\site-packages\\pandas\\_libs\\tslibs\\tzconversion.pyx\u001b[0m in \u001b[0;36mpandas._libs.tslibs.tzconversion.Localizer.__cinit__\u001b[1;34m()\u001b[0m\n",
      "\u001b[1;32mc:\\Users\\henry.gu\\Anaconda3\\envs\\Python\\lib\\site-packages\\pandas\\_libs\\tslibs\\timezones.pyx\u001b[0m in \u001b[0;36mpandas._libs.tslibs.timezones.get_dst_info\u001b[1;34m()\u001b[0m\n",
      "\u001b[1;31mAttributeError\u001b[0m: 'NoneType' object has no attribute 'total_seconds'"
     ]
    },
    {
     "ename": "AttributeError",
     "evalue": "'NoneType' object has no attribute 'total_seconds'",
     "output_type": "error",
     "traceback": [
      "\u001b[1;31m---------------------------------------------------------------------------\u001b[0m",
      "\u001b[1;31mAttributeError\u001b[0m                            Traceback (most recent call last)",
      "\u001b[1;32mc:\\Users\\henry.gu\\Anaconda3\\envs\\Python\\lib\\site-packages\\pandas\\_libs\\tslibs\\tzconversion.pyx\u001b[0m in \u001b[0;36mpandas._libs.tslibs.tzconversion.Localizer.__cinit__\u001b[1;34m()\u001b[0m\n",
      "\u001b[1;32mc:\\Users\\henry.gu\\Anaconda3\\envs\\Python\\lib\\site-packages\\pandas\\_libs\\tslibs\\timezones.pyx\u001b[0m in \u001b[0;36mpandas._libs.tslibs.timezones.get_dst_info\u001b[1;34m()\u001b[0m\n",
      "\u001b[1;31mAttributeError\u001b[0m: 'NoneType' object has no attribute 'total_seconds'"
     ]
    },
    {
     "name": "stderr",
     "output_type": "stream",
     "text": [
      "Exception ignored in: 'pandas._libs.tslibs.conversion._localize_tso'\n",
      "Traceback (most recent call last):\n",
      "  File \"pandas\\_libs\\tslibs\\tzconversion.pyx\", line 85, in pandas._libs.tslibs.tzconversion.Localizer.__cinit__\n",
      "  File \"pandas\\_libs\\tslibs\\timezones.pyx\", line 306, in pandas._libs.tslibs.timezones.get_dst_info\n",
      "AttributeError: 'NoneType' object has no attribute 'total_seconds'\n"
     ]
    },
    {
     "ename": "AttributeError",
     "evalue": "'NoneType' object has no attribute 'total_seconds'",
     "output_type": "error",
     "traceback": [
      "\u001b[1;31m---------------------------------------------------------------------------\u001b[0m",
      "\u001b[1;31mAttributeError\u001b[0m                            Traceback (most recent call last)",
      "\u001b[1;32mc:\\Users\\henry.gu\\Anaconda3\\envs\\Python\\lib\\site-packages\\IPython\\core\\formatters.py\u001b[0m in \u001b[0;36m__call__\u001b[1;34m(self, obj)\u001b[0m\n\u001b[0;32m    343\u001b[0m             \u001b[0mmethod\u001b[0m \u001b[1;33m=\u001b[0m \u001b[0mget_real_method\u001b[0m\u001b[1;33m(\u001b[0m\u001b[0mobj\u001b[0m\u001b[1;33m,\u001b[0m \u001b[0mself\u001b[0m\u001b[1;33m.\u001b[0m\u001b[0mprint_method\u001b[0m\u001b[1;33m)\u001b[0m\u001b[1;33m\u001b[0m\u001b[1;33m\u001b[0m\u001b[0m\n\u001b[0;32m    344\u001b[0m             \u001b[1;32mif\u001b[0m \u001b[0mmethod\u001b[0m \u001b[1;32mis\u001b[0m \u001b[1;32mnot\u001b[0m \u001b[1;32mNone\u001b[0m\u001b[1;33m:\u001b[0m\u001b[1;33m\u001b[0m\u001b[1;33m\u001b[0m\u001b[0m\n\u001b[1;32m--> 345\u001b[1;33m                 \u001b[1;32mreturn\u001b[0m \u001b[0mmethod\u001b[0m\u001b[1;33m(\u001b[0m\u001b[1;33m)\u001b[0m\u001b[1;33m\u001b[0m\u001b[1;33m\u001b[0m\u001b[0m\n\u001b[0m\u001b[0;32m    346\u001b[0m             \u001b[1;32mreturn\u001b[0m \u001b[1;32mNone\u001b[0m\u001b[1;33m\u001b[0m\u001b[1;33m\u001b[0m\u001b[0m\n\u001b[0;32m    347\u001b[0m         \u001b[1;32melse\u001b[0m\u001b[1;33m:\u001b[0m\u001b[1;33m\u001b[0m\u001b[1;33m\u001b[0m\u001b[0m\n",
      "\u001b[1;32mc:\\Users\\henry.gu\\Anaconda3\\envs\\Python\\lib\\site-packages\\pandas\\core\\frame.py\u001b[0m in \u001b[0;36m_repr_html_\u001b[1;34m(self)\u001b[0m\n\u001b[0;32m   1102\u001b[0m                 \u001b[0mdecimal\u001b[0m\u001b[1;33m=\u001b[0m\u001b[1;34m\".\"\u001b[0m\u001b[1;33m,\u001b[0m\u001b[1;33m\u001b[0m\u001b[1;33m\u001b[0m\u001b[0m\n\u001b[0;32m   1103\u001b[0m             )\n\u001b[1;32m-> 1104\u001b[1;33m             \u001b[1;32mreturn\u001b[0m \u001b[0mfmt\u001b[0m\u001b[1;33m.\u001b[0m\u001b[0mDataFrameRenderer\u001b[0m\u001b[1;33m(\u001b[0m\u001b[0mformatter\u001b[0m\u001b[1;33m)\u001b[0m\u001b[1;33m.\u001b[0m\u001b[0mto_html\u001b[0m\u001b[1;33m(\u001b[0m\u001b[0mnotebook\u001b[0m\u001b[1;33m=\u001b[0m\u001b[1;32mTrue\u001b[0m\u001b[1;33m)\u001b[0m\u001b[1;33m\u001b[0m\u001b[1;33m\u001b[0m\u001b[0m\n\u001b[0m\u001b[0;32m   1105\u001b[0m         \u001b[1;32melse\u001b[0m\u001b[1;33m:\u001b[0m\u001b[1;33m\u001b[0m\u001b[1;33m\u001b[0m\u001b[0m\n\u001b[0;32m   1106\u001b[0m             \u001b[1;32mreturn\u001b[0m \u001b[1;32mNone\u001b[0m\u001b[1;33m\u001b[0m\u001b[1;33m\u001b[0m\u001b[0m\n",
      "\u001b[1;32mc:\\Users\\henry.gu\\Anaconda3\\envs\\Python\\lib\\site-packages\\pandas\\io\\formats\\format.py\u001b[0m in \u001b[0;36mto_html\u001b[1;34m(self, buf, encoding, classes, notebook, border, table_id, render_links)\u001b[0m\n\u001b[0;32m   1108\u001b[0m             \u001b[0mrender_links\u001b[0m\u001b[1;33m=\u001b[0m\u001b[0mrender_links\u001b[0m\u001b[1;33m,\u001b[0m\u001b[1;33m\u001b[0m\u001b[1;33m\u001b[0m\u001b[0m\n\u001b[0;32m   1109\u001b[0m         )\n\u001b[1;32m-> 1110\u001b[1;33m         \u001b[0mstring\u001b[0m \u001b[1;33m=\u001b[0m \u001b[0mhtml_formatter\u001b[0m\u001b[1;33m.\u001b[0m\u001b[0mto_string\u001b[0m\u001b[1;33m(\u001b[0m\u001b[1;33m)\u001b[0m\u001b[1;33m\u001b[0m\u001b[1;33m\u001b[0m\u001b[0m\n\u001b[0m\u001b[0;32m   1111\u001b[0m         \u001b[1;32mreturn\u001b[0m \u001b[0msave_to_buffer\u001b[0m\u001b[1;33m(\u001b[0m\u001b[0mstring\u001b[0m\u001b[1;33m,\u001b[0m \u001b[0mbuf\u001b[0m\u001b[1;33m=\u001b[0m\u001b[0mbuf\u001b[0m\u001b[1;33m,\u001b[0m \u001b[0mencoding\u001b[0m\u001b[1;33m=\u001b[0m\u001b[0mencoding\u001b[0m\u001b[1;33m)\u001b[0m\u001b[1;33m\u001b[0m\u001b[1;33m\u001b[0m\u001b[0m\n\u001b[0;32m   1112\u001b[0m \u001b[1;33m\u001b[0m\u001b[0m\n",
      "\u001b[1;32mc:\\Users\\henry.gu\\Anaconda3\\envs\\Python\\lib\\site-packages\\pandas\\io\\formats\\html.py\u001b[0m in \u001b[0;36mto_string\u001b[1;34m(self)\u001b[0m\n\u001b[0;32m     75\u001b[0m \u001b[1;33m\u001b[0m\u001b[0m\n\u001b[0;32m     76\u001b[0m     \u001b[1;32mdef\u001b[0m \u001b[0mto_string\u001b[0m\u001b[1;33m(\u001b[0m\u001b[0mself\u001b[0m\u001b[1;33m)\u001b[0m \u001b[1;33m->\u001b[0m \u001b[0mstr\u001b[0m\u001b[1;33m:\u001b[0m\u001b[1;33m\u001b[0m\u001b[1;33m\u001b[0m\u001b[0m\n\u001b[1;32m---> 77\u001b[1;33m         \u001b[0mlines\u001b[0m \u001b[1;33m=\u001b[0m \u001b[0mself\u001b[0m\u001b[1;33m.\u001b[0m\u001b[0mrender\u001b[0m\u001b[1;33m(\u001b[0m\u001b[1;33m)\u001b[0m\u001b[1;33m\u001b[0m\u001b[1;33m\u001b[0m\u001b[0m\n\u001b[0m\u001b[0;32m     78\u001b[0m         \u001b[1;32mif\u001b[0m \u001b[0many\u001b[0m\u001b[1;33m(\u001b[0m\u001b[0misinstance\u001b[0m\u001b[1;33m(\u001b[0m\u001b[0mx\u001b[0m\u001b[1;33m,\u001b[0m \u001b[0mstr\u001b[0m\u001b[1;33m)\u001b[0m \u001b[1;32mfor\u001b[0m \u001b[0mx\u001b[0m \u001b[1;32min\u001b[0m \u001b[0mlines\u001b[0m\u001b[1;33m)\u001b[0m\u001b[1;33m:\u001b[0m\u001b[1;33m\u001b[0m\u001b[1;33m\u001b[0m\u001b[0m\n\u001b[0;32m     79\u001b[0m             \u001b[0mlines\u001b[0m \u001b[1;33m=\u001b[0m \u001b[1;33m[\u001b[0m\u001b[0mstr\u001b[0m\u001b[1;33m(\u001b[0m\u001b[0mx\u001b[0m\u001b[1;33m)\u001b[0m \u001b[1;32mfor\u001b[0m \u001b[0mx\u001b[0m \u001b[1;32min\u001b[0m \u001b[0mlines\u001b[0m\u001b[1;33m]\u001b[0m\u001b[1;33m\u001b[0m\u001b[1;33m\u001b[0m\u001b[0m\n",
      "\u001b[1;32mc:\\Users\\henry.gu\\Anaconda3\\envs\\Python\\lib\\site-packages\\pandas\\io\\formats\\html.py\u001b[0m in \u001b[0;36mrender\u001b[1;34m(self)\u001b[0m\n\u001b[0;32m    630\u001b[0m         \u001b[0mself\u001b[0m\u001b[1;33m.\u001b[0m\u001b[0mwrite\u001b[0m\u001b[1;33m(\u001b[0m\u001b[1;34m\"<div>\"\u001b[0m\u001b[1;33m)\u001b[0m\u001b[1;33m\u001b[0m\u001b[1;33m\u001b[0m\u001b[0m\n\u001b[0;32m    631\u001b[0m         \u001b[0mself\u001b[0m\u001b[1;33m.\u001b[0m\u001b[0mwrite_style\u001b[0m\u001b[1;33m(\u001b[0m\u001b[1;33m)\u001b[0m\u001b[1;33m\u001b[0m\u001b[1;33m\u001b[0m\u001b[0m\n\u001b[1;32m--> 632\u001b[1;33m         \u001b[0msuper\u001b[0m\u001b[1;33m(\u001b[0m\u001b[1;33m)\u001b[0m\u001b[1;33m.\u001b[0m\u001b[0mrender\u001b[0m\u001b[1;33m(\u001b[0m\u001b[1;33m)\u001b[0m\u001b[1;33m\u001b[0m\u001b[1;33m\u001b[0m\u001b[0m\n\u001b[0m\u001b[0;32m    633\u001b[0m         \u001b[0mself\u001b[0m\u001b[1;33m.\u001b[0m\u001b[0mwrite\u001b[0m\u001b[1;33m(\u001b[0m\u001b[1;34m\"</div>\"\u001b[0m\u001b[1;33m)\u001b[0m\u001b[1;33m\u001b[0m\u001b[1;33m\u001b[0m\u001b[0m\n\u001b[0;32m    634\u001b[0m         \u001b[1;32mreturn\u001b[0m \u001b[0mself\u001b[0m\u001b[1;33m.\u001b[0m\u001b[0melements\u001b[0m\u001b[1;33m\u001b[0m\u001b[1;33m\u001b[0m\u001b[0m\n",
      "\u001b[1;32mc:\\Users\\henry.gu\\Anaconda3\\envs\\Python\\lib\\site-packages\\pandas\\io\\formats\\html.py\u001b[0m in \u001b[0;36mrender\u001b[1;34m(self)\u001b[0m\n\u001b[0;32m     81\u001b[0m \u001b[1;33m\u001b[0m\u001b[0m\n\u001b[0;32m     82\u001b[0m     \u001b[1;32mdef\u001b[0m \u001b[0mrender\u001b[0m\u001b[1;33m(\u001b[0m\u001b[0mself\u001b[0m\u001b[1;33m)\u001b[0m \u001b[1;33m->\u001b[0m \u001b[0mlist\u001b[0m\u001b[1;33m[\u001b[0m\u001b[0mstr\u001b[0m\u001b[1;33m]\u001b[0m\u001b[1;33m:\u001b[0m\u001b[1;33m\u001b[0m\u001b[1;33m\u001b[0m\u001b[0m\n\u001b[1;32m---> 83\u001b[1;33m         \u001b[0mself\u001b[0m\u001b[1;33m.\u001b[0m\u001b[0m_write_table\u001b[0m\u001b[1;33m(\u001b[0m\u001b[1;33m)\u001b[0m\u001b[1;33m\u001b[0m\u001b[1;33m\u001b[0m\u001b[0m\n\u001b[0m\u001b[0;32m     84\u001b[0m \u001b[1;33m\u001b[0m\u001b[0m\n\u001b[0;32m     85\u001b[0m         \u001b[1;32mif\u001b[0m \u001b[0mself\u001b[0m\u001b[1;33m.\u001b[0m\u001b[0mshould_show_dimensions\u001b[0m\u001b[1;33m:\u001b[0m\u001b[1;33m\u001b[0m\u001b[1;33m\u001b[0m\u001b[0m\n",
      "\u001b[1;32mc:\\Users\\henry.gu\\Anaconda3\\envs\\Python\\lib\\site-packages\\pandas\\io\\formats\\html.py\u001b[0m in \u001b[0;36m_write_table\u001b[1;34m(self, indent)\u001b[0m\n\u001b[0;32m    256\u001b[0m             \u001b[0mself\u001b[0m\u001b[1;33m.\u001b[0m\u001b[0m_write_header\u001b[0m\u001b[1;33m(\u001b[0m\u001b[0mindent\u001b[0m \u001b[1;33m+\u001b[0m \u001b[0mself\u001b[0m\u001b[1;33m.\u001b[0m\u001b[0mindent_delta\u001b[0m\u001b[1;33m)\u001b[0m\u001b[1;33m\u001b[0m\u001b[1;33m\u001b[0m\u001b[0m\n\u001b[0;32m    257\u001b[0m \u001b[1;33m\u001b[0m\u001b[0m\n\u001b[1;32m--> 258\u001b[1;33m         \u001b[0mself\u001b[0m\u001b[1;33m.\u001b[0m\u001b[0m_write_body\u001b[0m\u001b[1;33m(\u001b[0m\u001b[0mindent\u001b[0m \u001b[1;33m+\u001b[0m \u001b[0mself\u001b[0m\u001b[1;33m.\u001b[0m\u001b[0mindent_delta\u001b[0m\u001b[1;33m)\u001b[0m\u001b[1;33m\u001b[0m\u001b[1;33m\u001b[0m\u001b[0m\n\u001b[0m\u001b[0;32m    259\u001b[0m \u001b[1;33m\u001b[0m\u001b[0m\n\u001b[0;32m    260\u001b[0m         \u001b[0mself\u001b[0m\u001b[1;33m.\u001b[0m\u001b[0mwrite\u001b[0m\u001b[1;33m(\u001b[0m\u001b[1;34m\"</table>\"\u001b[0m\u001b[1;33m,\u001b[0m \u001b[0mindent\u001b[0m\u001b[1;33m)\u001b[0m\u001b[1;33m\u001b[0m\u001b[1;33m\u001b[0m\u001b[0m\n",
      "\u001b[1;32mc:\\Users\\henry.gu\\Anaconda3\\envs\\Python\\lib\\site-packages\\pandas\\io\\formats\\html.py\u001b[0m in \u001b[0;36m_write_body\u001b[1;34m(self, indent)\u001b[0m\n\u001b[0;32m    404\u001b[0m     \u001b[1;32mdef\u001b[0m \u001b[0m_write_body\u001b[0m\u001b[1;33m(\u001b[0m\u001b[0mself\u001b[0m\u001b[1;33m,\u001b[0m \u001b[0mindent\u001b[0m\u001b[1;33m:\u001b[0m \u001b[0mint\u001b[0m\u001b[1;33m)\u001b[0m \u001b[1;33m->\u001b[0m \u001b[1;32mNone\u001b[0m\u001b[1;33m:\u001b[0m\u001b[1;33m\u001b[0m\u001b[1;33m\u001b[0m\u001b[0m\n\u001b[0;32m    405\u001b[0m         \u001b[0mself\u001b[0m\u001b[1;33m.\u001b[0m\u001b[0mwrite\u001b[0m\u001b[1;33m(\u001b[0m\u001b[1;34m\"<tbody>\"\u001b[0m\u001b[1;33m,\u001b[0m \u001b[0mindent\u001b[0m\u001b[1;33m)\u001b[0m\u001b[1;33m\u001b[0m\u001b[1;33m\u001b[0m\u001b[0m\n\u001b[1;32m--> 406\u001b[1;33m         \u001b[0mfmt_values\u001b[0m \u001b[1;33m=\u001b[0m \u001b[0mself\u001b[0m\u001b[1;33m.\u001b[0m\u001b[0m_get_formatted_values\u001b[0m\u001b[1;33m(\u001b[0m\u001b[1;33m)\u001b[0m\u001b[1;33m\u001b[0m\u001b[1;33m\u001b[0m\u001b[0m\n\u001b[0m\u001b[0;32m    407\u001b[0m \u001b[1;33m\u001b[0m\u001b[0m\n\u001b[0;32m    408\u001b[0m         \u001b[1;31m# write values\u001b[0m\u001b[1;33m\u001b[0m\u001b[1;33m\u001b[0m\u001b[1;33m\u001b[0m\u001b[0m\n",
      "\u001b[1;32mc:\\Users\\henry.gu\\Anaconda3\\envs\\Python\\lib\\site-packages\\pandas\\io\\formats\\html.py\u001b[0m in \u001b[0;36m_get_formatted_values\u001b[1;34m(self)\u001b[0m\n\u001b[0;32m    594\u001b[0m \u001b[1;33m\u001b[0m\u001b[0m\n\u001b[0;32m    595\u001b[0m     \u001b[1;32mdef\u001b[0m \u001b[0m_get_formatted_values\u001b[0m\u001b[1;33m(\u001b[0m\u001b[0mself\u001b[0m\u001b[1;33m)\u001b[0m \u001b[1;33m->\u001b[0m \u001b[0mdict\u001b[0m\u001b[1;33m[\u001b[0m\u001b[0mint\u001b[0m\u001b[1;33m,\u001b[0m \u001b[0mlist\u001b[0m\u001b[1;33m[\u001b[0m\u001b[0mstr\u001b[0m\u001b[1;33m]\u001b[0m\u001b[1;33m]\u001b[0m\u001b[1;33m:\u001b[0m\u001b[1;33m\u001b[0m\u001b[1;33m\u001b[0m\u001b[0m\n\u001b[1;32m--> 596\u001b[1;33m         \u001b[1;32mreturn\u001b[0m \u001b[1;33m{\u001b[0m\u001b[0mi\u001b[0m\u001b[1;33m:\u001b[0m \u001b[0mself\u001b[0m\u001b[1;33m.\u001b[0m\u001b[0mfmt\u001b[0m\u001b[1;33m.\u001b[0m\u001b[0mformat_col\u001b[0m\u001b[1;33m(\u001b[0m\u001b[0mi\u001b[0m\u001b[1;33m)\u001b[0m \u001b[1;32mfor\u001b[0m \u001b[0mi\u001b[0m \u001b[1;32min\u001b[0m \u001b[0mrange\u001b[0m\u001b[1;33m(\u001b[0m\u001b[0mself\u001b[0m\u001b[1;33m.\u001b[0m\u001b[0mncols\u001b[0m\u001b[1;33m)\u001b[0m\u001b[1;33m}\u001b[0m\u001b[1;33m\u001b[0m\u001b[1;33m\u001b[0m\u001b[0m\n\u001b[0m\u001b[0;32m    597\u001b[0m \u001b[1;33m\u001b[0m\u001b[0m\n\u001b[0;32m    598\u001b[0m     \u001b[1;32mdef\u001b[0m \u001b[0m_get_columns_formatted_values\u001b[0m\u001b[1;33m(\u001b[0m\u001b[0mself\u001b[0m\u001b[1;33m)\u001b[0m \u001b[1;33m->\u001b[0m \u001b[0mlist\u001b[0m\u001b[1;33m[\u001b[0m\u001b[0mstr\u001b[0m\u001b[1;33m]\u001b[0m\u001b[1;33m:\u001b[0m\u001b[1;33m\u001b[0m\u001b[1;33m\u001b[0m\u001b[0m\n",
      "\u001b[1;32mc:\\Users\\henry.gu\\Anaconda3\\envs\\Python\\lib\\site-packages\\pandas\\io\\formats\\html.py\u001b[0m in \u001b[0;36m<dictcomp>\u001b[1;34m(.0)\u001b[0m\n\u001b[0;32m    594\u001b[0m \u001b[1;33m\u001b[0m\u001b[0m\n\u001b[0;32m    595\u001b[0m     \u001b[1;32mdef\u001b[0m \u001b[0m_get_formatted_values\u001b[0m\u001b[1;33m(\u001b[0m\u001b[0mself\u001b[0m\u001b[1;33m)\u001b[0m \u001b[1;33m->\u001b[0m \u001b[0mdict\u001b[0m\u001b[1;33m[\u001b[0m\u001b[0mint\u001b[0m\u001b[1;33m,\u001b[0m \u001b[0mlist\u001b[0m\u001b[1;33m[\u001b[0m\u001b[0mstr\u001b[0m\u001b[1;33m]\u001b[0m\u001b[1;33m]\u001b[0m\u001b[1;33m:\u001b[0m\u001b[1;33m\u001b[0m\u001b[1;33m\u001b[0m\u001b[0m\n\u001b[1;32m--> 596\u001b[1;33m         \u001b[1;32mreturn\u001b[0m \u001b[1;33m{\u001b[0m\u001b[0mi\u001b[0m\u001b[1;33m:\u001b[0m \u001b[0mself\u001b[0m\u001b[1;33m.\u001b[0m\u001b[0mfmt\u001b[0m\u001b[1;33m.\u001b[0m\u001b[0mformat_col\u001b[0m\u001b[1;33m(\u001b[0m\u001b[0mi\u001b[0m\u001b[1;33m)\u001b[0m \u001b[1;32mfor\u001b[0m \u001b[0mi\u001b[0m \u001b[1;32min\u001b[0m \u001b[0mrange\u001b[0m\u001b[1;33m(\u001b[0m\u001b[0mself\u001b[0m\u001b[1;33m.\u001b[0m\u001b[0mncols\u001b[0m\u001b[1;33m)\u001b[0m\u001b[1;33m}\u001b[0m\u001b[1;33m\u001b[0m\u001b[1;33m\u001b[0m\u001b[0m\n\u001b[0m\u001b[0;32m    597\u001b[0m \u001b[1;33m\u001b[0m\u001b[0m\n\u001b[0;32m    598\u001b[0m     \u001b[1;32mdef\u001b[0m \u001b[0m_get_columns_formatted_values\u001b[0m\u001b[1;33m(\u001b[0m\u001b[0mself\u001b[0m\u001b[1;33m)\u001b[0m \u001b[1;33m->\u001b[0m \u001b[0mlist\u001b[0m\u001b[1;33m[\u001b[0m\u001b[0mstr\u001b[0m\u001b[1;33m]\u001b[0m\u001b[1;33m:\u001b[0m\u001b[1;33m\u001b[0m\u001b[1;33m\u001b[0m\u001b[0m\n",
      "\u001b[1;32mc:\\Users\\henry.gu\\Anaconda3\\envs\\Python\\lib\\site-packages\\pandas\\io\\formats\\format.py\u001b[0m in \u001b[0;36mformat_col\u001b[1;34m(self, i)\u001b[0m\n\u001b[0;32m    895\u001b[0m         \u001b[0mframe\u001b[0m \u001b[1;33m=\u001b[0m \u001b[0mself\u001b[0m\u001b[1;33m.\u001b[0m\u001b[0mtr_frame\u001b[0m\u001b[1;33m\u001b[0m\u001b[1;33m\u001b[0m\u001b[0m\n\u001b[0;32m    896\u001b[0m         \u001b[0mformatter\u001b[0m \u001b[1;33m=\u001b[0m \u001b[0mself\u001b[0m\u001b[1;33m.\u001b[0m\u001b[0m_get_formatter\u001b[0m\u001b[1;33m(\u001b[0m\u001b[0mi\u001b[0m\u001b[1;33m)\u001b[0m\u001b[1;33m\u001b[0m\u001b[1;33m\u001b[0m\u001b[0m\n\u001b[1;32m--> 897\u001b[1;33m         return format_array(\n\u001b[0m\u001b[0;32m    898\u001b[0m             \u001b[0mframe\u001b[0m\u001b[1;33m.\u001b[0m\u001b[0miloc\u001b[0m\u001b[1;33m[\u001b[0m\u001b[1;33m:\u001b[0m\u001b[1;33m,\u001b[0m \u001b[0mi\u001b[0m\u001b[1;33m]\u001b[0m\u001b[1;33m.\u001b[0m\u001b[0m_values\u001b[0m\u001b[1;33m,\u001b[0m\u001b[1;33m\u001b[0m\u001b[1;33m\u001b[0m\u001b[0m\n\u001b[0;32m    899\u001b[0m             \u001b[0mformatter\u001b[0m\u001b[1;33m,\u001b[0m\u001b[1;33m\u001b[0m\u001b[1;33m\u001b[0m\u001b[0m\n",
      "\u001b[1;32mc:\\Users\\henry.gu\\Anaconda3\\envs\\Python\\lib\\site-packages\\pandas\\io\\formats\\format.py\u001b[0m in \u001b[0;36mformat_array\u001b[1;34m(values, formatter, float_format, na_rep, digits, space, justify, decimal, leading_space, quoting)\u001b[0m\n\u001b[0;32m   1326\u001b[0m     )\n\u001b[0;32m   1327\u001b[0m \u001b[1;33m\u001b[0m\u001b[0m\n\u001b[1;32m-> 1328\u001b[1;33m     \u001b[1;32mreturn\u001b[0m \u001b[0mfmt_obj\u001b[0m\u001b[1;33m.\u001b[0m\u001b[0mget_result\u001b[0m\u001b[1;33m(\u001b[0m\u001b[1;33m)\u001b[0m\u001b[1;33m\u001b[0m\u001b[1;33m\u001b[0m\u001b[0m\n\u001b[0m\u001b[0;32m   1329\u001b[0m \u001b[1;33m\u001b[0m\u001b[0m\n\u001b[0;32m   1330\u001b[0m \u001b[1;33m\u001b[0m\u001b[0m\n",
      "\u001b[1;32mc:\\Users\\henry.gu\\Anaconda3\\envs\\Python\\lib\\site-packages\\pandas\\io\\formats\\format.py\u001b[0m in \u001b[0;36mget_result\u001b[1;34m(self)\u001b[0m\n\u001b[0;32m   1357\u001b[0m \u001b[1;33m\u001b[0m\u001b[0m\n\u001b[0;32m   1358\u001b[0m     \u001b[1;32mdef\u001b[0m \u001b[0mget_result\u001b[0m\u001b[1;33m(\u001b[0m\u001b[0mself\u001b[0m\u001b[1;33m)\u001b[0m \u001b[1;33m->\u001b[0m \u001b[0mlist\u001b[0m\u001b[1;33m[\u001b[0m\u001b[0mstr\u001b[0m\u001b[1;33m]\u001b[0m\u001b[1;33m:\u001b[0m\u001b[1;33m\u001b[0m\u001b[1;33m\u001b[0m\u001b[0m\n\u001b[1;32m-> 1359\u001b[1;33m         \u001b[0mfmt_values\u001b[0m \u001b[1;33m=\u001b[0m \u001b[0mself\u001b[0m\u001b[1;33m.\u001b[0m\u001b[0m_format_strings\u001b[0m\u001b[1;33m(\u001b[0m\u001b[1;33m)\u001b[0m\u001b[1;33m\u001b[0m\u001b[1;33m\u001b[0m\u001b[0m\n\u001b[0m\u001b[0;32m   1360\u001b[0m         \u001b[1;32mreturn\u001b[0m \u001b[0m_make_fixed_width\u001b[0m\u001b[1;33m(\u001b[0m\u001b[0mfmt_values\u001b[0m\u001b[1;33m,\u001b[0m \u001b[0mself\u001b[0m\u001b[1;33m.\u001b[0m\u001b[0mjustify\u001b[0m\u001b[1;33m)\u001b[0m\u001b[1;33m\u001b[0m\u001b[1;33m\u001b[0m\u001b[0m\n\u001b[0;32m   1361\u001b[0m \u001b[1;33m\u001b[0m\u001b[0m\n",
      "\u001b[1;32mc:\\Users\\henry.gu\\Anaconda3\\envs\\Python\\lib\\site-packages\\pandas\\io\\formats\\format.py\u001b[0m in \u001b[0;36m_format_strings\u001b[1;34m(self)\u001b[0m\n\u001b[0;32m   1826\u001b[0m     \u001b[1;32mdef\u001b[0m \u001b[0m_format_strings\u001b[0m\u001b[1;33m(\u001b[0m\u001b[0mself\u001b[0m\u001b[1;33m)\u001b[0m \u001b[1;33m->\u001b[0m \u001b[0mlist\u001b[0m\u001b[1;33m[\u001b[0m\u001b[0mstr\u001b[0m\u001b[1;33m]\u001b[0m\u001b[1;33m:\u001b[0m\u001b[1;33m\u001b[0m\u001b[1;33m\u001b[0m\u001b[0m\n\u001b[0;32m   1827\u001b[0m         \u001b[1;34m\"\"\"we by definition have a TZ\"\"\"\u001b[0m\u001b[1;33m\u001b[0m\u001b[1;33m\u001b[0m\u001b[0m\n\u001b[1;32m-> 1828\u001b[1;33m         \u001b[0mvalues\u001b[0m \u001b[1;33m=\u001b[0m \u001b[0mself\u001b[0m\u001b[1;33m.\u001b[0m\u001b[0mvalues\u001b[0m\u001b[1;33m.\u001b[0m\u001b[0mastype\u001b[0m\u001b[1;33m(\u001b[0m\u001b[0mobject\u001b[0m\u001b[1;33m)\u001b[0m\u001b[1;33m\u001b[0m\u001b[1;33m\u001b[0m\u001b[0m\n\u001b[0m\u001b[0;32m   1829\u001b[0m         \u001b[0mido\u001b[0m \u001b[1;33m=\u001b[0m \u001b[0mis_dates_only\u001b[0m\u001b[1;33m(\u001b[0m\u001b[0mvalues\u001b[0m\u001b[1;33m)\u001b[0m\u001b[1;33m\u001b[0m\u001b[1;33m\u001b[0m\u001b[0m\n\u001b[0;32m   1830\u001b[0m         formatter = self.formatter or get_format_datetime64(\n",
      "\u001b[1;32mc:\\Users\\henry.gu\\Anaconda3\\envs\\Python\\lib\\site-packages\\pandas\\core\\arrays\\datetimes.py\u001b[0m in \u001b[0;36mastype\u001b[1;34m(self, dtype, copy)\u001b[0m\n\u001b[0;32m    648\u001b[0m         \u001b[1;32melif\u001b[0m \u001b[0mis_period_dtype\u001b[0m\u001b[1;33m(\u001b[0m\u001b[0mdtype\u001b[0m\u001b[1;33m)\u001b[0m\u001b[1;33m:\u001b[0m\u001b[1;33m\u001b[0m\u001b[1;33m\u001b[0m\u001b[0m\n\u001b[0;32m    649\u001b[0m             \u001b[1;32mreturn\u001b[0m \u001b[0mself\u001b[0m\u001b[1;33m.\u001b[0m\u001b[0mto_period\u001b[0m\u001b[1;33m(\u001b[0m\u001b[0mfreq\u001b[0m\u001b[1;33m=\u001b[0m\u001b[0mdtype\u001b[0m\u001b[1;33m.\u001b[0m\u001b[0mfreq\u001b[0m\u001b[1;33m)\u001b[0m\u001b[1;33m\u001b[0m\u001b[1;33m\u001b[0m\u001b[0m\n\u001b[1;32m--> 650\u001b[1;33m         \u001b[1;32mreturn\u001b[0m \u001b[0mdtl\u001b[0m\u001b[1;33m.\u001b[0m\u001b[0mDatetimeLikeArrayMixin\u001b[0m\u001b[1;33m.\u001b[0m\u001b[0mastype\u001b[0m\u001b[1;33m(\u001b[0m\u001b[0mself\u001b[0m\u001b[1;33m,\u001b[0m \u001b[0mdtype\u001b[0m\u001b[1;33m,\u001b[0m \u001b[0mcopy\u001b[0m\u001b[1;33m)\u001b[0m\u001b[1;33m\u001b[0m\u001b[1;33m\u001b[0m\u001b[0m\n\u001b[0m\u001b[0;32m    651\u001b[0m \u001b[1;33m\u001b[0m\u001b[0m\n\u001b[0;32m    652\u001b[0m     \u001b[1;31m# -----------------------------------------------------------------\u001b[0m\u001b[1;33m\u001b[0m\u001b[1;33m\u001b[0m\u001b[1;33m\u001b[0m\u001b[0m\n",
      "\u001b[1;32mc:\\Users\\henry.gu\\Anaconda3\\envs\\Python\\lib\\site-packages\\pandas\\core\\arrays\\datetimelike.py\u001b[0m in \u001b[0;36mastype\u001b[1;34m(self, dtype, copy)\u001b[0m\n\u001b[0;32m    436\u001b[0m                 \u001b[1;31m#  for e.g. test_get_loc_tuple_monotonic_above_size_cutoff\u001b[0m\u001b[1;33m\u001b[0m\u001b[1;33m\u001b[0m\u001b[1;33m\u001b[0m\u001b[0m\n\u001b[0;32m    437\u001b[0m                 \u001b[0mi8data\u001b[0m \u001b[1;33m=\u001b[0m \u001b[0mself\u001b[0m\u001b[1;33m.\u001b[0m\u001b[0masi8\u001b[0m\u001b[1;33m\u001b[0m\u001b[1;33m\u001b[0m\u001b[0m\n\u001b[1;32m--> 438\u001b[1;33m                 converted = ints_to_pydatetime(\n\u001b[0m\u001b[0;32m    439\u001b[0m                     \u001b[0mi8data\u001b[0m\u001b[1;33m,\u001b[0m\u001b[1;33m\u001b[0m\u001b[1;33m\u001b[0m\u001b[0m\n\u001b[0;32m    440\u001b[0m                     \u001b[0mtz\u001b[0m\u001b[1;33m=\u001b[0m\u001b[0mself\u001b[0m\u001b[1;33m.\u001b[0m\u001b[0mtz\u001b[0m\u001b[1;33m,\u001b[0m\u001b[1;33m\u001b[0m\u001b[1;33m\u001b[0m\u001b[0m\n",
      "\u001b[1;32mc:\\Users\\henry.gu\\Anaconda3\\envs\\Python\\lib\\site-packages\\pandas\\_libs\\tslibs\\vectorized.pyx\u001b[0m in \u001b[0;36mpandas._libs.tslibs.vectorized.ints_to_pydatetime\u001b[1;34m()\u001b[0m\n",
      "\u001b[1;32mc:\\Users\\henry.gu\\Anaconda3\\envs\\Python\\lib\\site-packages\\pandas\\_libs\\tslibs\\tzconversion.pyx\u001b[0m in \u001b[0;36mpandas._libs.tslibs.tzconversion.Localizer.__cinit__\u001b[1;34m()\u001b[0m\n",
      "\u001b[1;32mc:\\Users\\henry.gu\\Anaconda3\\envs\\Python\\lib\\site-packages\\pandas\\_libs\\tslibs\\timezones.pyx\u001b[0m in \u001b[0;36mpandas._libs.tslibs.timezones.get_dst_info\u001b[1;34m()\u001b[0m\n",
      "\u001b[1;31mAttributeError\u001b[0m: 'NoneType' object has no attribute 'total_seconds'"
     ]
    }
   ],
   "source": [
    "df"
   ]
  },
  {
   "cell_type": "code",
   "execution_count": 64,
   "metadata": {},
   "outputs": [
    {
     "ename": "AttributeError",
     "evalue": "'NoneType' object has no attribute 'total_seconds'",
     "output_type": "error",
     "traceback": [
      "\u001b[1;31m---------------------------------------------------------------------------\u001b[0m",
      "\u001b[1;31mAttributeError\u001b[0m                            Traceback (most recent call last)",
      "\u001b[1;32mc:\\Users\\henry.gu\\Anaconda3\\envs\\Python\\lib\\site-packages\\pandas\\_libs\\tslibs\\tzconversion.pyx\u001b[0m in \u001b[0;36mpandas._libs.tslibs.tzconversion.Localizer.__cinit__\u001b[1;34m()\u001b[0m\n",
      "\u001b[1;32mc:\\Users\\henry.gu\\Anaconda3\\envs\\Python\\lib\\site-packages\\pandas\\_libs\\tslibs\\timezones.pyx\u001b[0m in \u001b[0;36mpandas._libs.tslibs.timezones.get_dst_info\u001b[1;34m()\u001b[0m\n",
      "\u001b[1;31mAttributeError\u001b[0m: 'NoneType' object has no attribute 'total_seconds'"
     ]
    },
    {
     "name": "stderr",
     "output_type": "stream",
     "text": [
      "Exception ignored in: 'pandas._libs.tslibs.conversion._localize_tso'\n",
      "Traceback (most recent call last):\n",
      "  File \"pandas\\_libs\\tslibs\\tzconversion.pyx\", line 85, in pandas._libs.tslibs.tzconversion.Localizer.__cinit__\n",
      "  File \"pandas\\_libs\\tslibs\\timezones.pyx\", line 306, in pandas._libs.tslibs.timezones.get_dst_info\n",
      "AttributeError: 'NoneType' object has no attribute 'total_seconds'\n"
     ]
    },
    {
     "ename": "AttributeError",
     "evalue": "'NoneType' object has no attribute 'total_seconds'",
     "output_type": "error",
     "traceback": [
      "\u001b[1;31m---------------------------------------------------------------------------\u001b[0m",
      "\u001b[1;31mAttributeError\u001b[0m                            Traceback (most recent call last)",
      "\u001b[1;32mc:\\Users\\henry.gu\\Anaconda3\\envs\\Python\\lib\\site-packages\\pandas\\_libs\\tslibs\\tzconversion.pyx\u001b[0m in \u001b[0;36mpandas._libs.tslibs.tzconversion.Localizer.__cinit__\u001b[1;34m()\u001b[0m\n",
      "\u001b[1;32mc:\\Users\\henry.gu\\Anaconda3\\envs\\Python\\lib\\site-packages\\pandas\\_libs\\tslibs\\timezones.pyx\u001b[0m in \u001b[0;36mpandas._libs.tslibs.timezones.get_dst_info\u001b[1;34m()\u001b[0m\n",
      "\u001b[1;31mAttributeError\u001b[0m: 'NoneType' object has no attribute 'total_seconds'"
     ]
    },
    {
     "name": "stderr",
     "output_type": "stream",
     "text": [
      "Exception ignored in: 'pandas._libs.tslibs.conversion._localize_tso'\n",
      "Traceback (most recent call last):\n",
      "  File \"pandas\\_libs\\tslibs\\tzconversion.pyx\", line 85, in pandas._libs.tslibs.tzconversion.Localizer.__cinit__\n",
      "  File \"pandas\\_libs\\tslibs\\timezones.pyx\", line 306, in pandas._libs.tslibs.timezones.get_dst_info\n",
      "AttributeError: 'NoneType' object has no attribute 'total_seconds'\n"
     ]
    },
    {
     "ename": "AttributeError",
     "evalue": "'NoneType' object has no attribute 'total_seconds'",
     "output_type": "error",
     "traceback": [
      "\u001b[1;31m---------------------------------------------------------------------------\u001b[0m",
      "\u001b[1;31mAttributeError\u001b[0m                            Traceback (most recent call last)",
      "\u001b[1;32mc:\\Users\\henry.gu\\Anaconda3\\envs\\Python\\lib\\site-packages\\pandas\\_libs\\tslibs\\tzconversion.pyx\u001b[0m in \u001b[0;36mpandas._libs.tslibs.tzconversion.Localizer.__cinit__\u001b[1;34m()\u001b[0m\n",
      "\u001b[1;32mc:\\Users\\henry.gu\\Anaconda3\\envs\\Python\\lib\\site-packages\\pandas\\_libs\\tslibs\\timezones.pyx\u001b[0m in \u001b[0;36mpandas._libs.tslibs.timezones.get_dst_info\u001b[1;34m()\u001b[0m\n",
      "\u001b[1;31mAttributeError\u001b[0m: 'NoneType' object has no attribute 'total_seconds'"
     ]
    },
    {
     "name": "stderr",
     "output_type": "stream",
     "text": [
      "Exception ignored in: 'pandas._libs.tslibs.conversion._localize_tso'\n",
      "Traceback (most recent call last):\n",
      "  File \"pandas\\_libs\\tslibs\\tzconversion.pyx\", line 85, in pandas._libs.tslibs.tzconversion.Localizer.__cinit__\n",
      "  File \"pandas\\_libs\\tslibs\\timezones.pyx\", line 306, in pandas._libs.tslibs.timezones.get_dst_info\n",
      "AttributeError: 'NoneType' object has no attribute 'total_seconds'\n"
     ]
    },
    {
     "ename": "AttributeError",
     "evalue": "'NoneType' object has no attribute 'total_seconds'",
     "output_type": "error",
     "traceback": [
      "\u001b[1;31m---------------------------------------------------------------------------\u001b[0m",
      "\u001b[1;31mAttributeError\u001b[0m                            Traceback (most recent call last)",
      "\u001b[1;32mc:\\Users\\henry.gu\\Anaconda3\\envs\\Python\\lib\\site-packages\\pandas\\_libs\\tslibs\\tzconversion.pyx\u001b[0m in \u001b[0;36mpandas._libs.tslibs.tzconversion.Localizer.__cinit__\u001b[1;34m()\u001b[0m\n",
      "\u001b[1;32mc:\\Users\\henry.gu\\Anaconda3\\envs\\Python\\lib\\site-packages\\pandas\\_libs\\tslibs\\timezones.pyx\u001b[0m in \u001b[0;36mpandas._libs.tslibs.timezones.get_dst_info\u001b[1;34m()\u001b[0m\n",
      "\u001b[1;31mAttributeError\u001b[0m: 'NoneType' object has no attribute 'total_seconds'"
     ]
    },
    {
     "name": "stderr",
     "output_type": "stream",
     "text": [
      "Exception ignored in: 'pandas._libs.tslibs.conversion._localize_tso'\n",
      "Traceback (most recent call last):\n",
      "  File \"pandas\\_libs\\tslibs\\tzconversion.pyx\", line 85, in pandas._libs.tslibs.tzconversion.Localizer.__cinit__\n",
      "  File \"pandas\\_libs\\tslibs\\timezones.pyx\", line 306, in pandas._libs.tslibs.timezones.get_dst_info\n",
      "AttributeError: 'NoneType' object has no attribute 'total_seconds'\n"
     ]
    },
    {
     "ename": "AttributeError",
     "evalue": "'NoneType' object has no attribute 'total_seconds'",
     "output_type": "error",
     "traceback": [
      "\u001b[1;31m---------------------------------------------------------------------------\u001b[0m",
      "\u001b[1;31mAttributeError\u001b[0m                            Traceback (most recent call last)",
      "\u001b[1;32mc:\\Users\\henry.gu\\Anaconda3\\envs\\Python\\lib\\site-packages\\pandas\\_libs\\tslibs\\tzconversion.pyx\u001b[0m in \u001b[0;36mpandas._libs.tslibs.tzconversion.Localizer.__cinit__\u001b[1;34m()\u001b[0m\n",
      "\u001b[1;32mc:\\Users\\henry.gu\\Anaconda3\\envs\\Python\\lib\\site-packages\\pandas\\_libs\\tslibs\\timezones.pyx\u001b[0m in \u001b[0;36mpandas._libs.tslibs.timezones.get_dst_info\u001b[1;34m()\u001b[0m\n",
      "\u001b[1;31mAttributeError\u001b[0m: 'NoneType' object has no attribute 'total_seconds'"
     ]
    },
    {
     "name": "stderr",
     "output_type": "stream",
     "text": [
      "Exception ignored in: 'pandas._libs.tslibs.conversion._localize_tso'\n",
      "Traceback (most recent call last):\n",
      "  File \"pandas\\_libs\\tslibs\\tzconversion.pyx\", line 85, in pandas._libs.tslibs.tzconversion.Localizer.__cinit__\n",
      "  File \"pandas\\_libs\\tslibs\\timezones.pyx\", line 306, in pandas._libs.tslibs.timezones.get_dst_info\n",
      "AttributeError: 'NoneType' object has no attribute 'total_seconds'\n"
     ]
    },
    {
     "ename": "AttributeError",
     "evalue": "'NoneType' object has no attribute 'total_seconds'",
     "output_type": "error",
     "traceback": [
      "\u001b[1;31m---------------------------------------------------------------------------\u001b[0m",
      "\u001b[1;31mAttributeError\u001b[0m                            Traceback (most recent call last)",
      "\u001b[1;32mc:\\Users\\henry.gu\\Anaconda3\\envs\\Python\\lib\\site-packages\\pandas\\_libs\\tslibs\\tzconversion.pyx\u001b[0m in \u001b[0;36mpandas._libs.tslibs.tzconversion.Localizer.__cinit__\u001b[1;34m()\u001b[0m\n",
      "\u001b[1;32mc:\\Users\\henry.gu\\Anaconda3\\envs\\Python\\lib\\site-packages\\pandas\\_libs\\tslibs\\timezones.pyx\u001b[0m in \u001b[0;36mpandas._libs.tslibs.timezones.get_dst_info\u001b[1;34m()\u001b[0m\n",
      "\u001b[1;31mAttributeError\u001b[0m: 'NoneType' object has no attribute 'total_seconds'"
     ]
    },
    {
     "name": "stderr",
     "output_type": "stream",
     "text": [
      "Exception ignored in: 'pandas._libs.tslibs.conversion._localize_tso'\n",
      "Traceback (most recent call last):\n",
      "  File \"pandas\\_libs\\tslibs\\tzconversion.pyx\", line 85, in pandas._libs.tslibs.tzconversion.Localizer.__cinit__\n",
      "  File \"pandas\\_libs\\tslibs\\timezones.pyx\", line 306, in pandas._libs.tslibs.timezones.get_dst_info\n",
      "AttributeError: 'NoneType' object has no attribute 'total_seconds'\n"
     ]
    },
    {
     "ename": "AttributeError",
     "evalue": "'NoneType' object has no attribute 'total_seconds'",
     "output_type": "error",
     "traceback": [
      "\u001b[1;31m---------------------------------------------------------------------------\u001b[0m",
      "\u001b[1;31mAttributeError\u001b[0m                            Traceback (most recent call last)",
      "\u001b[1;32mc:\\Users\\henry.gu\\Anaconda3\\envs\\Python\\lib\\site-packages\\pandas\\_libs\\tslibs\\tzconversion.pyx\u001b[0m in \u001b[0;36mpandas._libs.tslibs.tzconversion.Localizer.__cinit__\u001b[1;34m()\u001b[0m\n",
      "\u001b[1;32mc:\\Users\\henry.gu\\Anaconda3\\envs\\Python\\lib\\site-packages\\pandas\\_libs\\tslibs\\timezones.pyx\u001b[0m in \u001b[0;36mpandas._libs.tslibs.timezones.get_dst_info\u001b[1;34m()\u001b[0m\n",
      "\u001b[1;31mAttributeError\u001b[0m: 'NoneType' object has no attribute 'total_seconds'"
     ]
    },
    {
     "name": "stderr",
     "output_type": "stream",
     "text": [
      "Exception ignored in: 'pandas._libs.tslibs.conversion._localize_tso'\n",
      "Traceback (most recent call last):\n",
      "  File \"pandas\\_libs\\tslibs\\tzconversion.pyx\", line 85, in pandas._libs.tslibs.tzconversion.Localizer.__cinit__\n",
      "  File \"pandas\\_libs\\tslibs\\timezones.pyx\", line 306, in pandas._libs.tslibs.timezones.get_dst_info\n",
      "AttributeError: 'NoneType' object has no attribute 'total_seconds'\n"
     ]
    },
    {
     "ename": "AttributeError",
     "evalue": "'NoneType' object has no attribute 'total_seconds'",
     "output_type": "error",
     "traceback": [
      "\u001b[1;31m---------------------------------------------------------------------------\u001b[0m",
      "\u001b[1;31mAttributeError\u001b[0m                            Traceback (most recent call last)",
      "\u001b[1;32mc:\\Users\\henry.gu\\Anaconda3\\envs\\Python\\lib\\site-packages\\pandas\\_libs\\tslibs\\tzconversion.pyx\u001b[0m in \u001b[0;36mpandas._libs.tslibs.tzconversion.Localizer.__cinit__\u001b[1;34m()\u001b[0m\n",
      "\u001b[1;32mc:\\Users\\henry.gu\\Anaconda3\\envs\\Python\\lib\\site-packages\\pandas\\_libs\\tslibs\\timezones.pyx\u001b[0m in \u001b[0;36mpandas._libs.tslibs.timezones.get_dst_info\u001b[1;34m()\u001b[0m\n",
      "\u001b[1;31mAttributeError\u001b[0m: 'NoneType' object has no attribute 'total_seconds'"
     ]
    },
    {
     "name": "stderr",
     "output_type": "stream",
     "text": [
      "Exception ignored in: 'pandas._libs.tslibs.conversion._localize_tso'\n",
      "Traceback (most recent call last):\n",
      "  File \"pandas\\_libs\\tslibs\\tzconversion.pyx\", line 85, in pandas._libs.tslibs.tzconversion.Localizer.__cinit__\n",
      "  File \"pandas\\_libs\\tslibs\\timezones.pyx\", line 306, in pandas._libs.tslibs.timezones.get_dst_info\n",
      "AttributeError: 'NoneType' object has no attribute 'total_seconds'\n"
     ]
    },
    {
     "ename": "AttributeError",
     "evalue": "'NoneType' object has no attribute 'total_seconds'",
     "output_type": "error",
     "traceback": [
      "\u001b[1;31m---------------------------------------------------------------------------\u001b[0m",
      "\u001b[1;31mAttributeError\u001b[0m                            Traceback (most recent call last)",
      "\u001b[1;32mc:\\Users\\henry.gu\\Anaconda3\\envs\\Python\\lib\\site-packages\\pandas\\_libs\\tslibs\\tzconversion.pyx\u001b[0m in \u001b[0;36mpandas._libs.tslibs.tzconversion.Localizer.__cinit__\u001b[1;34m()\u001b[0m\n",
      "\u001b[1;32mc:\\Users\\henry.gu\\Anaconda3\\envs\\Python\\lib\\site-packages\\pandas\\_libs\\tslibs\\timezones.pyx\u001b[0m in \u001b[0;36mpandas._libs.tslibs.timezones.get_dst_info\u001b[1;34m()\u001b[0m\n",
      "\u001b[1;31mAttributeError\u001b[0m: 'NoneType' object has no attribute 'total_seconds'"
     ]
    },
    {
     "name": "stderr",
     "output_type": "stream",
     "text": [
      "Exception ignored in: 'pandas._libs.tslibs.conversion._localize_tso'\n",
      "Traceback (most recent call last):\n",
      "  File \"pandas\\_libs\\tslibs\\tzconversion.pyx\", line 85, in pandas._libs.tslibs.tzconversion.Localizer.__cinit__\n",
      "  File \"pandas\\_libs\\tslibs\\timezones.pyx\", line 306, in pandas._libs.tslibs.timezones.get_dst_info\n",
      "AttributeError: 'NoneType' object has no attribute 'total_seconds'\n"
     ]
    },
    {
     "ename": "AttributeError",
     "evalue": "'NoneType' object has no attribute 'total_seconds'",
     "output_type": "error",
     "traceback": [
      "\u001b[1;31m---------------------------------------------------------------------------\u001b[0m",
      "\u001b[1;31mAttributeError\u001b[0m                            Traceback (most recent call last)",
      "\u001b[1;32mc:\\Users\\henry.gu\\Anaconda3\\envs\\Python\\lib\\site-packages\\pandas\\_libs\\tslibs\\tzconversion.pyx\u001b[0m in \u001b[0;36mpandas._libs.tslibs.tzconversion.Localizer.__cinit__\u001b[1;34m()\u001b[0m\n",
      "\u001b[1;32mc:\\Users\\henry.gu\\Anaconda3\\envs\\Python\\lib\\site-packages\\pandas\\_libs\\tslibs\\timezones.pyx\u001b[0m in \u001b[0;36mpandas._libs.tslibs.timezones.get_dst_info\u001b[1;34m()\u001b[0m\n",
      "\u001b[1;31mAttributeError\u001b[0m: 'NoneType' object has no attribute 'total_seconds'"
     ]
    },
    {
     "name": "stderr",
     "output_type": "stream",
     "text": [
      "Exception ignored in: 'pandas._libs.tslibs.conversion._localize_tso'\n",
      "Traceback (most recent call last):\n",
      "  File \"pandas\\_libs\\tslibs\\tzconversion.pyx\", line 85, in pandas._libs.tslibs.tzconversion.Localizer.__cinit__\n",
      "  File \"pandas\\_libs\\tslibs\\timezones.pyx\", line 306, in pandas._libs.tslibs.timezones.get_dst_info\n",
      "AttributeError: 'NoneType' object has no attribute 'total_seconds'\n"
     ]
    },
    {
     "ename": "AttributeError",
     "evalue": "'NoneType' object has no attribute 'total_seconds'",
     "output_type": "error",
     "traceback": [
      "\u001b[1;31m---------------------------------------------------------------------------\u001b[0m",
      "\u001b[1;31mAttributeError\u001b[0m                            Traceback (most recent call last)",
      "\u001b[1;32mc:\\Users\\henry.gu\\Anaconda3\\envs\\Python\\lib\\site-packages\\pandas\\_libs\\tslibs\\tzconversion.pyx\u001b[0m in \u001b[0;36mpandas._libs.tslibs.tzconversion.Localizer.__cinit__\u001b[1;34m()\u001b[0m\n",
      "\u001b[1;32mc:\\Users\\henry.gu\\Anaconda3\\envs\\Python\\lib\\site-packages\\pandas\\_libs\\tslibs\\timezones.pyx\u001b[0m in \u001b[0;36mpandas._libs.tslibs.timezones.get_dst_info\u001b[1;34m()\u001b[0m\n",
      "\u001b[1;31mAttributeError\u001b[0m: 'NoneType' object has no attribute 'total_seconds'"
     ]
    },
    {
     "name": "stderr",
     "output_type": "stream",
     "text": [
      "Exception ignored in: 'pandas._libs.tslibs.conversion._localize_tso'\n",
      "Traceback (most recent call last):\n",
      "  File \"pandas\\_libs\\tslibs\\tzconversion.pyx\", line 85, in pandas._libs.tslibs.tzconversion.Localizer.__cinit__\n",
      "  File \"pandas\\_libs\\tslibs\\timezones.pyx\", line 306, in pandas._libs.tslibs.timezones.get_dst_info\n",
      "AttributeError: 'NoneType' object has no attribute 'total_seconds'\n"
     ]
    },
    {
     "ename": "AttributeError",
     "evalue": "'NoneType' object has no attribute 'total_seconds'",
     "output_type": "error",
     "traceback": [
      "\u001b[1;31m---------------------------------------------------------------------------\u001b[0m",
      "\u001b[1;31mAttributeError\u001b[0m                            Traceback (most recent call last)",
      "\u001b[1;32mc:\\Users\\henry.gu\\Anaconda3\\envs\\Python\\lib\\site-packages\\pandas\\_libs\\tslibs\\tzconversion.pyx\u001b[0m in \u001b[0;36mpandas._libs.tslibs.tzconversion.Localizer.__cinit__\u001b[1;34m()\u001b[0m\n",
      "\u001b[1;32mc:\\Users\\henry.gu\\Anaconda3\\envs\\Python\\lib\\site-packages\\pandas\\_libs\\tslibs\\timezones.pyx\u001b[0m in \u001b[0;36mpandas._libs.tslibs.timezones.get_dst_info\u001b[1;34m()\u001b[0m\n",
      "\u001b[1;31mAttributeError\u001b[0m: 'NoneType' object has no attribute 'total_seconds'"
     ]
    },
    {
     "name": "stderr",
     "output_type": "stream",
     "text": [
      "Exception ignored in: 'pandas._libs.tslibs.conversion._localize_tso'\n",
      "Traceback (most recent call last):\n",
      "  File \"pandas\\_libs\\tslibs\\tzconversion.pyx\", line 85, in pandas._libs.tslibs.tzconversion.Localizer.__cinit__\n",
      "  File \"pandas\\_libs\\tslibs\\timezones.pyx\", line 306, in pandas._libs.tslibs.timezones.get_dst_info\n",
      "AttributeError: 'NoneType' object has no attribute 'total_seconds'\n"
     ]
    },
    {
     "ename": "AttributeError",
     "evalue": "'NoneType' object has no attribute 'total_seconds'",
     "output_type": "error",
     "traceback": [
      "\u001b[1;31m---------------------------------------------------------------------------\u001b[0m",
      "\u001b[1;31mAttributeError\u001b[0m                            Traceback (most recent call last)",
      "\u001b[1;32mc:\\Users\\henry.gu\\Anaconda3\\envs\\Python\\lib\\site-packages\\pandas\\_libs\\tslibs\\tzconversion.pyx\u001b[0m in \u001b[0;36mpandas._libs.tslibs.tzconversion.Localizer.__cinit__\u001b[1;34m()\u001b[0m\n",
      "\u001b[1;32mc:\\Users\\henry.gu\\Anaconda3\\envs\\Python\\lib\\site-packages\\pandas\\_libs\\tslibs\\timezones.pyx\u001b[0m in \u001b[0;36mpandas._libs.tslibs.timezones.get_dst_info\u001b[1;34m()\u001b[0m\n",
      "\u001b[1;31mAttributeError\u001b[0m: 'NoneType' object has no attribute 'total_seconds'"
     ]
    },
    {
     "name": "stderr",
     "output_type": "stream",
     "text": [
      "Exception ignored in: 'pandas._libs.tslibs.conversion._localize_tso'\n",
      "Traceback (most recent call last):\n",
      "  File \"pandas\\_libs\\tslibs\\tzconversion.pyx\", line 85, in pandas._libs.tslibs.tzconversion.Localizer.__cinit__\n",
      "  File \"pandas\\_libs\\tslibs\\timezones.pyx\", line 306, in pandas._libs.tslibs.timezones.get_dst_info\n",
      "AttributeError: 'NoneType' object has no attribute 'total_seconds'\n"
     ]
    },
    {
     "ename": "AttributeError",
     "evalue": "'NoneType' object has no attribute 'total_seconds'",
     "output_type": "error",
     "traceback": [
      "\u001b[1;31m---------------------------------------------------------------------------\u001b[0m",
      "\u001b[1;31mAttributeError\u001b[0m                            Traceback (most recent call last)",
      "\u001b[1;32mc:\\Users\\henry.gu\\Anaconda3\\envs\\Python\\lib\\site-packages\\pandas\\_libs\\tslibs\\tzconversion.pyx\u001b[0m in \u001b[0;36mpandas._libs.tslibs.tzconversion.Localizer.__cinit__\u001b[1;34m()\u001b[0m\n",
      "\u001b[1;32mc:\\Users\\henry.gu\\Anaconda3\\envs\\Python\\lib\\site-packages\\pandas\\_libs\\tslibs\\timezones.pyx\u001b[0m in \u001b[0;36mpandas._libs.tslibs.timezones.get_dst_info\u001b[1;34m()\u001b[0m\n",
      "\u001b[1;31mAttributeError\u001b[0m: 'NoneType' object has no attribute 'total_seconds'"
     ]
    },
    {
     "name": "stderr",
     "output_type": "stream",
     "text": [
      "Exception ignored in: 'pandas._libs.tslibs.conversion._localize_tso'\n",
      "Traceback (most recent call last):\n",
      "  File \"pandas\\_libs\\tslibs\\tzconversion.pyx\", line 85, in pandas._libs.tslibs.tzconversion.Localizer.__cinit__\n",
      "  File \"pandas\\_libs\\tslibs\\timezones.pyx\", line 306, in pandas._libs.tslibs.timezones.get_dst_info\n",
      "AttributeError: 'NoneType' object has no attribute 'total_seconds'\n"
     ]
    },
    {
     "ename": "AttributeError",
     "evalue": "'NoneType' object has no attribute 'total_seconds'",
     "output_type": "error",
     "traceback": [
      "\u001b[1;31m---------------------------------------------------------------------------\u001b[0m",
      "\u001b[1;31mAttributeError\u001b[0m                            Traceback (most recent call last)",
      "\u001b[1;32mc:\\Users\\henry.gu\\Anaconda3\\envs\\Python\\lib\\site-packages\\pandas\\_libs\\tslibs\\tzconversion.pyx\u001b[0m in \u001b[0;36mpandas._libs.tslibs.tzconversion.Localizer.__cinit__\u001b[1;34m()\u001b[0m\n",
      "\u001b[1;32mc:\\Users\\henry.gu\\Anaconda3\\envs\\Python\\lib\\site-packages\\pandas\\_libs\\tslibs\\timezones.pyx\u001b[0m in \u001b[0;36mpandas._libs.tslibs.timezones.get_dst_info\u001b[1;34m()\u001b[0m\n",
      "\u001b[1;31mAttributeError\u001b[0m: 'NoneType' object has no attribute 'total_seconds'"
     ]
    },
    {
     "name": "stderr",
     "output_type": "stream",
     "text": [
      "Exception ignored in: 'pandas._libs.tslibs.conversion._localize_tso'\n",
      "Traceback (most recent call last):\n",
      "  File \"pandas\\_libs\\tslibs\\tzconversion.pyx\", line 85, in pandas._libs.tslibs.tzconversion.Localizer.__cinit__\n",
      "  File \"pandas\\_libs\\tslibs\\timezones.pyx\", line 306, in pandas._libs.tslibs.timezones.get_dst_info\n",
      "AttributeError: 'NoneType' object has no attribute 'total_seconds'\n"
     ]
    },
    {
     "ename": "AttributeError",
     "evalue": "'NoneType' object has no attribute 'total_seconds'",
     "output_type": "error",
     "traceback": [
      "\u001b[1;31m---------------------------------------------------------------------------\u001b[0m",
      "\u001b[1;31mAttributeError\u001b[0m                            Traceback (most recent call last)",
      "\u001b[1;32mc:\\Users\\henry.gu\\Anaconda3\\envs\\Python\\lib\\site-packages\\pandas\\_libs\\tslibs\\tzconversion.pyx\u001b[0m in \u001b[0;36mpandas._libs.tslibs.tzconversion.Localizer.__cinit__\u001b[1;34m()\u001b[0m\n",
      "\u001b[1;32mc:\\Users\\henry.gu\\Anaconda3\\envs\\Python\\lib\\site-packages\\pandas\\_libs\\tslibs\\timezones.pyx\u001b[0m in \u001b[0;36mpandas._libs.tslibs.timezones.get_dst_info\u001b[1;34m()\u001b[0m\n",
      "\u001b[1;31mAttributeError\u001b[0m: 'NoneType' object has no attribute 'total_seconds'"
     ]
    },
    {
     "name": "stderr",
     "output_type": "stream",
     "text": [
      "Exception ignored in: 'pandas._libs.tslibs.conversion._localize_tso'\n",
      "Traceback (most recent call last):\n",
      "  File \"pandas\\_libs\\tslibs\\tzconversion.pyx\", line 85, in pandas._libs.tslibs.tzconversion.Localizer.__cinit__\n",
      "  File \"pandas\\_libs\\tslibs\\timezones.pyx\", line 306, in pandas._libs.tslibs.timezones.get_dst_info\n",
      "AttributeError: 'NoneType' object has no attribute 'total_seconds'\n"
     ]
    },
    {
     "ename": "AttributeError",
     "evalue": "'NoneType' object has no attribute 'total_seconds'",
     "output_type": "error",
     "traceback": [
      "\u001b[1;31m---------------------------------------------------------------------------\u001b[0m",
      "\u001b[1;31mAttributeError\u001b[0m                            Traceback (most recent call last)",
      "\u001b[1;32mc:\\Users\\henry.gu\\Anaconda3\\envs\\Python\\lib\\site-packages\\pandas\\_libs\\tslibs\\tzconversion.pyx\u001b[0m in \u001b[0;36mpandas._libs.tslibs.tzconversion.Localizer.__cinit__\u001b[1;34m()\u001b[0m\n",
      "\u001b[1;32mc:\\Users\\henry.gu\\Anaconda3\\envs\\Python\\lib\\site-packages\\pandas\\_libs\\tslibs\\timezones.pyx\u001b[0m in \u001b[0;36mpandas._libs.tslibs.timezones.get_dst_info\u001b[1;34m()\u001b[0m\n",
      "\u001b[1;31mAttributeError\u001b[0m: 'NoneType' object has no attribute 'total_seconds'"
     ]
    },
    {
     "name": "stderr",
     "output_type": "stream",
     "text": [
      "Exception ignored in: 'pandas._libs.tslibs.conversion._localize_tso'\n",
      "Traceback (most recent call last):\n",
      "  File \"pandas\\_libs\\tslibs\\tzconversion.pyx\", line 85, in pandas._libs.tslibs.tzconversion.Localizer.__cinit__\n",
      "  File \"pandas\\_libs\\tslibs\\timezones.pyx\", line 306, in pandas._libs.tslibs.timezones.get_dst_info\n",
      "AttributeError: 'NoneType' object has no attribute 'total_seconds'\n"
     ]
    },
    {
     "ename": "AttributeError",
     "evalue": "'NoneType' object has no attribute 'total_seconds'",
     "output_type": "error",
     "traceback": [
      "\u001b[1;31m---------------------------------------------------------------------------\u001b[0m",
      "\u001b[1;31mAttributeError\u001b[0m                            Traceback (most recent call last)",
      "\u001b[1;32mc:\\Users\\henry.gu\\Anaconda3\\envs\\Python\\lib\\site-packages\\pandas\\_libs\\tslibs\\tzconversion.pyx\u001b[0m in \u001b[0;36mpandas._libs.tslibs.tzconversion.Localizer.__cinit__\u001b[1;34m()\u001b[0m\n",
      "\u001b[1;32mc:\\Users\\henry.gu\\Anaconda3\\envs\\Python\\lib\\site-packages\\pandas\\_libs\\tslibs\\timezones.pyx\u001b[0m in \u001b[0;36mpandas._libs.tslibs.timezones.get_dst_info\u001b[1;34m()\u001b[0m\n",
      "\u001b[1;31mAttributeError\u001b[0m: 'NoneType' object has no attribute 'total_seconds'"
     ]
    },
    {
     "name": "stderr",
     "output_type": "stream",
     "text": [
      "Exception ignored in: 'pandas._libs.tslibs.conversion._localize_tso'\n",
      "Traceback (most recent call last):\n",
      "  File \"pandas\\_libs\\tslibs\\tzconversion.pyx\", line 85, in pandas._libs.tslibs.tzconversion.Localizer.__cinit__\n",
      "  File \"pandas\\_libs\\tslibs\\timezones.pyx\", line 306, in pandas._libs.tslibs.timezones.get_dst_info\n",
      "AttributeError: 'NoneType' object has no attribute 'total_seconds'\n"
     ]
    },
    {
     "ename": "AttributeError",
     "evalue": "'NoneType' object has no attribute 'total_seconds'",
     "output_type": "error",
     "traceback": [
      "\u001b[1;31m---------------------------------------------------------------------------\u001b[0m",
      "\u001b[1;31mAttributeError\u001b[0m                            Traceback (most recent call last)",
      "\u001b[1;32mc:\\Users\\henry.gu\\Anaconda3\\envs\\Python\\lib\\site-packages\\pandas\\_libs\\tslibs\\tzconversion.pyx\u001b[0m in \u001b[0;36mpandas._libs.tslibs.tzconversion.Localizer.__cinit__\u001b[1;34m()\u001b[0m\n",
      "\u001b[1;32mc:\\Users\\henry.gu\\Anaconda3\\envs\\Python\\lib\\site-packages\\pandas\\_libs\\tslibs\\timezones.pyx\u001b[0m in \u001b[0;36mpandas._libs.tslibs.timezones.get_dst_info\u001b[1;34m()\u001b[0m\n",
      "\u001b[1;31mAttributeError\u001b[0m: 'NoneType' object has no attribute 'total_seconds'"
     ]
    },
    {
     "name": "stderr",
     "output_type": "stream",
     "text": [
      "Exception ignored in: 'pandas._libs.tslibs.conversion._localize_tso'\n",
      "Traceback (most recent call last):\n",
      "  File \"pandas\\_libs\\tslibs\\tzconversion.pyx\", line 85, in pandas._libs.tslibs.tzconversion.Localizer.__cinit__\n",
      "  File \"pandas\\_libs\\tslibs\\timezones.pyx\", line 306, in pandas._libs.tslibs.timezones.get_dst_info\n",
      "AttributeError: 'NoneType' object has no attribute 'total_seconds'\n"
     ]
    },
    {
     "ename": "AttributeError",
     "evalue": "'NoneType' object has no attribute 'total_seconds'",
     "output_type": "error",
     "traceback": [
      "\u001b[1;31m---------------------------------------------------------------------------\u001b[0m",
      "\u001b[1;31mAttributeError\u001b[0m                            Traceback (most recent call last)",
      "\u001b[1;32mc:\\Users\\henry.gu\\Anaconda3\\envs\\Python\\lib\\site-packages\\pandas\\_libs\\tslibs\\tzconversion.pyx\u001b[0m in \u001b[0;36mpandas._libs.tslibs.tzconversion.Localizer.__cinit__\u001b[1;34m()\u001b[0m\n",
      "\u001b[1;32mc:\\Users\\henry.gu\\Anaconda3\\envs\\Python\\lib\\site-packages\\pandas\\_libs\\tslibs\\timezones.pyx\u001b[0m in \u001b[0;36mpandas._libs.tslibs.timezones.get_dst_info\u001b[1;34m()\u001b[0m\n",
      "\u001b[1;31mAttributeError\u001b[0m: 'NoneType' object has no attribute 'total_seconds'"
     ]
    },
    {
     "name": "stderr",
     "output_type": "stream",
     "text": [
      "Exception ignored in: 'pandas._libs.tslibs.conversion._localize_tso'\n",
      "Traceback (most recent call last):\n",
      "  File \"pandas\\_libs\\tslibs\\tzconversion.pyx\", line 85, in pandas._libs.tslibs.tzconversion.Localizer.__cinit__\n",
      "  File \"pandas\\_libs\\tslibs\\timezones.pyx\", line 306, in pandas._libs.tslibs.timezones.get_dst_info\n",
      "AttributeError: 'NoneType' object has no attribute 'total_seconds'\n"
     ]
    },
    {
     "ename": "AttributeError",
     "evalue": "'NoneType' object has no attribute 'total_seconds'",
     "output_type": "error",
     "traceback": [
      "\u001b[1;31m---------------------------------------------------------------------------\u001b[0m",
      "\u001b[1;31mAttributeError\u001b[0m                            Traceback (most recent call last)",
      "\u001b[1;32mc:\\Users\\henry.gu\\Anaconda3\\envs\\Python\\lib\\site-packages\\pandas\\_libs\\tslibs\\tzconversion.pyx\u001b[0m in \u001b[0;36mpandas._libs.tslibs.tzconversion.Localizer.__cinit__\u001b[1;34m()\u001b[0m\n",
      "\u001b[1;32mc:\\Users\\henry.gu\\Anaconda3\\envs\\Python\\lib\\site-packages\\pandas\\_libs\\tslibs\\timezones.pyx\u001b[0m in \u001b[0;36mpandas._libs.tslibs.timezones.get_dst_info\u001b[1;34m()\u001b[0m\n",
      "\u001b[1;31mAttributeError\u001b[0m: 'NoneType' object has no attribute 'total_seconds'"
     ]
    },
    {
     "name": "stderr",
     "output_type": "stream",
     "text": [
      "Exception ignored in: 'pandas._libs.tslibs.conversion._localize_tso'\n",
      "Traceback (most recent call last):\n",
      "  File \"pandas\\_libs\\tslibs\\tzconversion.pyx\", line 85, in pandas._libs.tslibs.tzconversion.Localizer.__cinit__\n",
      "  File \"pandas\\_libs\\tslibs\\timezones.pyx\", line 306, in pandas._libs.tslibs.timezones.get_dst_info\n",
      "AttributeError: 'NoneType' object has no attribute 'total_seconds'\n"
     ]
    },
    {
     "ename": "AttributeError",
     "evalue": "'NoneType' object has no attribute 'total_seconds'",
     "output_type": "error",
     "traceback": [
      "\u001b[1;31m---------------------------------------------------------------------------\u001b[0m",
      "\u001b[1;31mAttributeError\u001b[0m                            Traceback (most recent call last)",
      "\u001b[1;32mc:\\Users\\henry.gu\\Anaconda3\\envs\\Python\\lib\\site-packages\\pandas\\_libs\\tslibs\\tzconversion.pyx\u001b[0m in \u001b[0;36mpandas._libs.tslibs.tzconversion.Localizer.__cinit__\u001b[1;34m()\u001b[0m\n",
      "\u001b[1;32mc:\\Users\\henry.gu\\Anaconda3\\envs\\Python\\lib\\site-packages\\pandas\\_libs\\tslibs\\timezones.pyx\u001b[0m in \u001b[0;36mpandas._libs.tslibs.timezones.get_dst_info\u001b[1;34m()\u001b[0m\n",
      "\u001b[1;31mAttributeError\u001b[0m: 'NoneType' object has no attribute 'total_seconds'"
     ]
    },
    {
     "name": "stderr",
     "output_type": "stream",
     "text": [
      "Exception ignored in: 'pandas._libs.tslibs.conversion._localize_tso'\n",
      "Traceback (most recent call last):\n",
      "  File \"pandas\\_libs\\tslibs\\tzconversion.pyx\", line 85, in pandas._libs.tslibs.tzconversion.Localizer.__cinit__\n",
      "  File \"pandas\\_libs\\tslibs\\timezones.pyx\", line 306, in pandas._libs.tslibs.timezones.get_dst_info\n",
      "AttributeError: 'NoneType' object has no attribute 'total_seconds'\n"
     ]
    },
    {
     "ename": "AttributeError",
     "evalue": "'NoneType' object has no attribute 'total_seconds'",
     "output_type": "error",
     "traceback": [
      "\u001b[1;31m---------------------------------------------------------------------------\u001b[0m",
      "\u001b[1;31mAttributeError\u001b[0m                            Traceback (most recent call last)",
      "\u001b[1;32mc:\\Users\\henry.gu\\Anaconda3\\envs\\Python\\lib\\site-packages\\pandas\\_libs\\tslibs\\tzconversion.pyx\u001b[0m in \u001b[0;36mpandas._libs.tslibs.tzconversion.Localizer.__cinit__\u001b[1;34m()\u001b[0m\n",
      "\u001b[1;32mc:\\Users\\henry.gu\\Anaconda3\\envs\\Python\\lib\\site-packages\\pandas\\_libs\\tslibs\\timezones.pyx\u001b[0m in \u001b[0;36mpandas._libs.tslibs.timezones.get_dst_info\u001b[1;34m()\u001b[0m\n",
      "\u001b[1;31mAttributeError\u001b[0m: 'NoneType' object has no attribute 'total_seconds'"
     ]
    },
    {
     "name": "stderr",
     "output_type": "stream",
     "text": [
      "Exception ignored in: 'pandas._libs.tslibs.conversion._localize_tso'\n",
      "Traceback (most recent call last):\n",
      "  File \"pandas\\_libs\\tslibs\\tzconversion.pyx\", line 85, in pandas._libs.tslibs.tzconversion.Localizer.__cinit__\n",
      "  File \"pandas\\_libs\\tslibs\\timezones.pyx\", line 306, in pandas._libs.tslibs.timezones.get_dst_info\n",
      "AttributeError: 'NoneType' object has no attribute 'total_seconds'\n"
     ]
    },
    {
     "ename": "AttributeError",
     "evalue": "'NoneType' object has no attribute 'total_seconds'",
     "output_type": "error",
     "traceback": [
      "\u001b[1;31m---------------------------------------------------------------------------\u001b[0m",
      "\u001b[1;31mAttributeError\u001b[0m                            Traceback (most recent call last)",
      "\u001b[1;32mc:\\Users\\henry.gu\\Anaconda3\\envs\\Python\\lib\\site-packages\\pandas\\_libs\\tslibs\\tzconversion.pyx\u001b[0m in \u001b[0;36mpandas._libs.tslibs.tzconversion.Localizer.__cinit__\u001b[1;34m()\u001b[0m\n",
      "\u001b[1;32mc:\\Users\\henry.gu\\Anaconda3\\envs\\Python\\lib\\site-packages\\pandas\\_libs\\tslibs\\timezones.pyx\u001b[0m in \u001b[0;36mpandas._libs.tslibs.timezones.get_dst_info\u001b[1;34m()\u001b[0m\n",
      "\u001b[1;31mAttributeError\u001b[0m: 'NoneType' object has no attribute 'total_seconds'"
     ]
    },
    {
     "name": "stderr",
     "output_type": "stream",
     "text": [
      "Exception ignored in: 'pandas._libs.tslibs.conversion._localize_tso'\n",
      "Traceback (most recent call last):\n",
      "  File \"pandas\\_libs\\tslibs\\tzconversion.pyx\", line 85, in pandas._libs.tslibs.tzconversion.Localizer.__cinit__\n",
      "  File \"pandas\\_libs\\tslibs\\timezones.pyx\", line 306, in pandas._libs.tslibs.timezones.get_dst_info\n",
      "AttributeError: 'NoneType' object has no attribute 'total_seconds'\n"
     ]
    },
    {
     "ename": "AttributeError",
     "evalue": "'NoneType' object has no attribute 'total_seconds'",
     "output_type": "error",
     "traceback": [
      "\u001b[1;31m---------------------------------------------------------------------------\u001b[0m",
      "\u001b[1;31mAttributeError\u001b[0m                            Traceback (most recent call last)",
      "\u001b[1;32mc:\\Users\\henry.gu\\Anaconda3\\envs\\Python\\lib\\site-packages\\pandas\\_libs\\tslibs\\tzconversion.pyx\u001b[0m in \u001b[0;36mpandas._libs.tslibs.tzconversion.Localizer.__cinit__\u001b[1;34m()\u001b[0m\n",
      "\u001b[1;32mc:\\Users\\henry.gu\\Anaconda3\\envs\\Python\\lib\\site-packages\\pandas\\_libs\\tslibs\\timezones.pyx\u001b[0m in \u001b[0;36mpandas._libs.tslibs.timezones.get_dst_info\u001b[1;34m()\u001b[0m\n",
      "\u001b[1;31mAttributeError\u001b[0m: 'NoneType' object has no attribute 'total_seconds'"
     ]
    },
    {
     "name": "stderr",
     "output_type": "stream",
     "text": [
      "Exception ignored in: 'pandas._libs.tslibs.conversion._localize_tso'\n",
      "Traceback (most recent call last):\n",
      "  File \"pandas\\_libs\\tslibs\\tzconversion.pyx\", line 85, in pandas._libs.tslibs.tzconversion.Localizer.__cinit__\n",
      "  File \"pandas\\_libs\\tslibs\\timezones.pyx\", line 306, in pandas._libs.tslibs.timezones.get_dst_info\n",
      "AttributeError: 'NoneType' object has no attribute 'total_seconds'\n"
     ]
    },
    {
     "ename": "AttributeError",
     "evalue": "'NoneType' object has no attribute 'total_seconds'",
     "output_type": "error",
     "traceback": [
      "\u001b[1;31m---------------------------------------------------------------------------\u001b[0m",
      "\u001b[1;31mAttributeError\u001b[0m                            Traceback (most recent call last)",
      "\u001b[1;32mc:\\Users\\henry.gu\\Anaconda3\\envs\\Python\\lib\\site-packages\\pandas\\_libs\\tslibs\\tzconversion.pyx\u001b[0m in \u001b[0;36mpandas._libs.tslibs.tzconversion.Localizer.__cinit__\u001b[1;34m()\u001b[0m\n",
      "\u001b[1;32mc:\\Users\\henry.gu\\Anaconda3\\envs\\Python\\lib\\site-packages\\pandas\\_libs\\tslibs\\timezones.pyx\u001b[0m in \u001b[0;36mpandas._libs.tslibs.timezones.get_dst_info\u001b[1;34m()\u001b[0m\n",
      "\u001b[1;31mAttributeError\u001b[0m: 'NoneType' object has no attribute 'total_seconds'"
     ]
    },
    {
     "name": "stderr",
     "output_type": "stream",
     "text": [
      "Exception ignored in: 'pandas._libs.tslibs.conversion._localize_tso'\n",
      "Traceback (most recent call last):\n",
      "  File \"pandas\\_libs\\tslibs\\tzconversion.pyx\", line 85, in pandas._libs.tslibs.tzconversion.Localizer.__cinit__\n",
      "  File \"pandas\\_libs\\tslibs\\timezones.pyx\", line 306, in pandas._libs.tslibs.timezones.get_dst_info\n",
      "AttributeError: 'NoneType' object has no attribute 'total_seconds'\n"
     ]
    },
    {
     "ename": "AttributeError",
     "evalue": "'NoneType' object has no attribute 'total_seconds'",
     "output_type": "error",
     "traceback": [
      "\u001b[1;31m---------------------------------------------------------------------------\u001b[0m",
      "\u001b[1;31mAttributeError\u001b[0m                            Traceback (most recent call last)",
      "\u001b[1;32mc:\\Users\\henry.gu\\Anaconda3\\envs\\Python\\lib\\site-packages\\pandas\\_libs\\tslibs\\tzconversion.pyx\u001b[0m in \u001b[0;36mpandas._libs.tslibs.tzconversion.Localizer.__cinit__\u001b[1;34m()\u001b[0m\n",
      "\u001b[1;32mc:\\Users\\henry.gu\\Anaconda3\\envs\\Python\\lib\\site-packages\\pandas\\_libs\\tslibs\\timezones.pyx\u001b[0m in \u001b[0;36mpandas._libs.tslibs.timezones.get_dst_info\u001b[1;34m()\u001b[0m\n",
      "\u001b[1;31mAttributeError\u001b[0m: 'NoneType' object has no attribute 'total_seconds'"
     ]
    },
    {
     "name": "stderr",
     "output_type": "stream",
     "text": [
      "Exception ignored in: 'pandas._libs.tslibs.conversion._localize_tso'\n",
      "Traceback (most recent call last):\n",
      "  File \"pandas\\_libs\\tslibs\\tzconversion.pyx\", line 85, in pandas._libs.tslibs.tzconversion.Localizer.__cinit__\n",
      "  File \"pandas\\_libs\\tslibs\\timezones.pyx\", line 306, in pandas._libs.tslibs.timezones.get_dst_info\n",
      "AttributeError: 'NoneType' object has no attribute 'total_seconds'\n"
     ]
    },
    {
     "ename": "AttributeError",
     "evalue": "'NoneType' object has no attribute 'total_seconds'",
     "output_type": "error",
     "traceback": [
      "\u001b[1;31m---------------------------------------------------------------------------\u001b[0m",
      "\u001b[1;31mAttributeError\u001b[0m                            Traceback (most recent call last)",
      "\u001b[1;32mc:\\Users\\henry.gu\\Anaconda3\\envs\\Python\\lib\\site-packages\\pandas\\_libs\\tslibs\\tzconversion.pyx\u001b[0m in \u001b[0;36mpandas._libs.tslibs.tzconversion.Localizer.__cinit__\u001b[1;34m()\u001b[0m\n",
      "\u001b[1;32mc:\\Users\\henry.gu\\Anaconda3\\envs\\Python\\lib\\site-packages\\pandas\\_libs\\tslibs\\timezones.pyx\u001b[0m in \u001b[0;36mpandas._libs.tslibs.timezones.get_dst_info\u001b[1;34m()\u001b[0m\n",
      "\u001b[1;31mAttributeError\u001b[0m: 'NoneType' object has no attribute 'total_seconds'"
     ]
    },
    {
     "name": "stderr",
     "output_type": "stream",
     "text": [
      "Exception ignored in: 'pandas._libs.tslibs.conversion._localize_tso'\n",
      "Traceback (most recent call last):\n",
      "  File \"pandas\\_libs\\tslibs\\tzconversion.pyx\", line 85, in pandas._libs.tslibs.tzconversion.Localizer.__cinit__\n",
      "  File \"pandas\\_libs\\tslibs\\timezones.pyx\", line 306, in pandas._libs.tslibs.timezones.get_dst_info\n",
      "AttributeError: 'NoneType' object has no attribute 'total_seconds'\n"
     ]
    },
    {
     "ename": "AttributeError",
     "evalue": "'NoneType' object has no attribute 'total_seconds'",
     "output_type": "error",
     "traceback": [
      "\u001b[1;31m---------------------------------------------------------------------------\u001b[0m",
      "\u001b[1;31mAttributeError\u001b[0m                            Traceback (most recent call last)",
      "\u001b[1;32mc:\\Users\\henry.gu\\Anaconda3\\envs\\Python\\lib\\site-packages\\pandas\\_libs\\tslibs\\tzconversion.pyx\u001b[0m in \u001b[0;36mpandas._libs.tslibs.tzconversion.Localizer.__cinit__\u001b[1;34m()\u001b[0m\n",
      "\u001b[1;32mc:\\Users\\henry.gu\\Anaconda3\\envs\\Python\\lib\\site-packages\\pandas\\_libs\\tslibs\\timezones.pyx\u001b[0m in \u001b[0;36mpandas._libs.tslibs.timezones.get_dst_info\u001b[1;34m()\u001b[0m\n",
      "\u001b[1;31mAttributeError\u001b[0m: 'NoneType' object has no attribute 'total_seconds'"
     ]
    },
    {
     "name": "stderr",
     "output_type": "stream",
     "text": [
      "Exception ignored in: 'pandas._libs.tslibs.conversion._localize_tso'\n",
      "Traceback (most recent call last):\n",
      "  File \"pandas\\_libs\\tslibs\\tzconversion.pyx\", line 85, in pandas._libs.tslibs.tzconversion.Localizer.__cinit__\n",
      "  File \"pandas\\_libs\\tslibs\\timezones.pyx\", line 306, in pandas._libs.tslibs.timezones.get_dst_info\n",
      "AttributeError: 'NoneType' object has no attribute 'total_seconds'\n"
     ]
    },
    {
     "ename": "AttributeError",
     "evalue": "'NoneType' object has no attribute 'total_seconds'",
     "output_type": "error",
     "traceback": [
      "\u001b[1;31m---------------------------------------------------------------------------\u001b[0m",
      "\u001b[1;31mAttributeError\u001b[0m                            Traceback (most recent call last)",
      "\u001b[1;32mc:\\Users\\henry.gu\\Anaconda3\\envs\\Python\\lib\\site-packages\\pandas\\_libs\\tslibs\\tzconversion.pyx\u001b[0m in \u001b[0;36mpandas._libs.tslibs.tzconversion.Localizer.__cinit__\u001b[1;34m()\u001b[0m\n",
      "\u001b[1;32mc:\\Users\\henry.gu\\Anaconda3\\envs\\Python\\lib\\site-packages\\pandas\\_libs\\tslibs\\timezones.pyx\u001b[0m in \u001b[0;36mpandas._libs.tslibs.timezones.get_dst_info\u001b[1;34m()\u001b[0m\n",
      "\u001b[1;31mAttributeError\u001b[0m: 'NoneType' object has no attribute 'total_seconds'"
     ]
    },
    {
     "name": "stderr",
     "output_type": "stream",
     "text": [
      "Exception ignored in: 'pandas._libs.tslibs.conversion._localize_tso'\n",
      "Traceback (most recent call last):\n",
      "  File \"pandas\\_libs\\tslibs\\tzconversion.pyx\", line 85, in pandas._libs.tslibs.tzconversion.Localizer.__cinit__\n",
      "  File \"pandas\\_libs\\tslibs\\timezones.pyx\", line 306, in pandas._libs.tslibs.timezones.get_dst_info\n",
      "AttributeError: 'NoneType' object has no attribute 'total_seconds'\n"
     ]
    },
    {
     "ename": "AttributeError",
     "evalue": "'NoneType' object has no attribute 'total_seconds'",
     "output_type": "error",
     "traceback": [
      "\u001b[1;31m---------------------------------------------------------------------------\u001b[0m",
      "\u001b[1;31mAttributeError\u001b[0m                            Traceback (most recent call last)",
      "\u001b[1;32mc:\\Users\\henry.gu\\Anaconda3\\envs\\Python\\lib\\site-packages\\pandas\\_libs\\tslibs\\tzconversion.pyx\u001b[0m in \u001b[0;36mpandas._libs.tslibs.tzconversion.Localizer.__cinit__\u001b[1;34m()\u001b[0m\n",
      "\u001b[1;32mc:\\Users\\henry.gu\\Anaconda3\\envs\\Python\\lib\\site-packages\\pandas\\_libs\\tslibs\\timezones.pyx\u001b[0m in \u001b[0;36mpandas._libs.tslibs.timezones.get_dst_info\u001b[1;34m()\u001b[0m\n",
      "\u001b[1;31mAttributeError\u001b[0m: 'NoneType' object has no attribute 'total_seconds'"
     ]
    },
    {
     "name": "stderr",
     "output_type": "stream",
     "text": [
      "Exception ignored in: 'pandas._libs.tslibs.conversion._localize_tso'\n",
      "Traceback (most recent call last):\n",
      "  File \"pandas\\_libs\\tslibs\\tzconversion.pyx\", line 85, in pandas._libs.tslibs.tzconversion.Localizer.__cinit__\n",
      "  File \"pandas\\_libs\\tslibs\\timezones.pyx\", line 306, in pandas._libs.tslibs.timezones.get_dst_info\n",
      "AttributeError: 'NoneType' object has no attribute 'total_seconds'\n"
     ]
    },
    {
     "ename": "AttributeError",
     "evalue": "'NoneType' object has no attribute 'total_seconds'",
     "output_type": "error",
     "traceback": [
      "\u001b[1;31m---------------------------------------------------------------------------\u001b[0m",
      "\u001b[1;31mAttributeError\u001b[0m                            Traceback (most recent call last)",
      "\u001b[1;32mc:\\Users\\henry.gu\\Anaconda3\\envs\\Python\\lib\\site-packages\\pandas\\_libs\\tslibs\\tzconversion.pyx\u001b[0m in \u001b[0;36mpandas._libs.tslibs.tzconversion.Localizer.__cinit__\u001b[1;34m()\u001b[0m\n",
      "\u001b[1;32mc:\\Users\\henry.gu\\Anaconda3\\envs\\Python\\lib\\site-packages\\pandas\\_libs\\tslibs\\timezones.pyx\u001b[0m in \u001b[0;36mpandas._libs.tslibs.timezones.get_dst_info\u001b[1;34m()\u001b[0m\n",
      "\u001b[1;31mAttributeError\u001b[0m: 'NoneType' object has no attribute 'total_seconds'"
     ]
    },
    {
     "name": "stderr",
     "output_type": "stream",
     "text": [
      "Exception ignored in: 'pandas._libs.tslibs.conversion._localize_tso'\n",
      "Traceback (most recent call last):\n",
      "  File \"pandas\\_libs\\tslibs\\tzconversion.pyx\", line 85, in pandas._libs.tslibs.tzconversion.Localizer.__cinit__\n",
      "  File \"pandas\\_libs\\tslibs\\timezones.pyx\", line 306, in pandas._libs.tslibs.timezones.get_dst_info\n",
      "AttributeError: 'NoneType' object has no attribute 'total_seconds'\n"
     ]
    },
    {
     "ename": "AttributeError",
     "evalue": "'NoneType' object has no attribute 'total_seconds'",
     "output_type": "error",
     "traceback": [
      "\u001b[1;31m---------------------------------------------------------------------------\u001b[0m",
      "\u001b[1;31mAttributeError\u001b[0m                            Traceback (most recent call last)",
      "\u001b[1;32mc:\\Users\\henry.gu\\Anaconda3\\envs\\Python\\lib\\site-packages\\pandas\\_libs\\tslibs\\tzconversion.pyx\u001b[0m in \u001b[0;36mpandas._libs.tslibs.tzconversion.Localizer.__cinit__\u001b[1;34m()\u001b[0m\n",
      "\u001b[1;32mc:\\Users\\henry.gu\\Anaconda3\\envs\\Python\\lib\\site-packages\\pandas\\_libs\\tslibs\\timezones.pyx\u001b[0m in \u001b[0;36mpandas._libs.tslibs.timezones.get_dst_info\u001b[1;34m()\u001b[0m\n",
      "\u001b[1;31mAttributeError\u001b[0m: 'NoneType' object has no attribute 'total_seconds'"
     ]
    },
    {
     "name": "stderr",
     "output_type": "stream",
     "text": [
      "Exception ignored in: 'pandas._libs.tslibs.conversion._localize_tso'\n",
      "Traceback (most recent call last):\n",
      "  File \"pandas\\_libs\\tslibs\\tzconversion.pyx\", line 85, in pandas._libs.tslibs.tzconversion.Localizer.__cinit__\n",
      "  File \"pandas\\_libs\\tslibs\\timezones.pyx\", line 306, in pandas._libs.tslibs.timezones.get_dst_info\n",
      "AttributeError: 'NoneType' object has no attribute 'total_seconds'\n"
     ]
    },
    {
     "ename": "AttributeError",
     "evalue": "'NoneType' object has no attribute 'total_seconds'",
     "output_type": "error",
     "traceback": [
      "\u001b[1;31m---------------------------------------------------------------------------\u001b[0m",
      "\u001b[1;31mAttributeError\u001b[0m                            Traceback (most recent call last)",
      "\u001b[1;32mc:\\Users\\henry.gu\\Anaconda3\\envs\\Python\\lib\\site-packages\\pandas\\_libs\\tslibs\\tzconversion.pyx\u001b[0m in \u001b[0;36mpandas._libs.tslibs.tzconversion.Localizer.__cinit__\u001b[1;34m()\u001b[0m\n",
      "\u001b[1;32mc:\\Users\\henry.gu\\Anaconda3\\envs\\Python\\lib\\site-packages\\pandas\\_libs\\tslibs\\timezones.pyx\u001b[0m in \u001b[0;36mpandas._libs.tslibs.timezones.get_dst_info\u001b[1;34m()\u001b[0m\n",
      "\u001b[1;31mAttributeError\u001b[0m: 'NoneType' object has no attribute 'total_seconds'"
     ]
    },
    {
     "name": "stderr",
     "output_type": "stream",
     "text": [
      "Exception ignored in: 'pandas._libs.tslibs.conversion._localize_tso'\n",
      "Traceback (most recent call last):\n",
      "  File \"pandas\\_libs\\tslibs\\tzconversion.pyx\", line 85, in pandas._libs.tslibs.tzconversion.Localizer.__cinit__\n",
      "  File \"pandas\\_libs\\tslibs\\timezones.pyx\", line 306, in pandas._libs.tslibs.timezones.get_dst_info\n",
      "AttributeError: 'NoneType' object has no attribute 'total_seconds'\n"
     ]
    },
    {
     "ename": "AttributeError",
     "evalue": "'NoneType' object has no attribute 'total_seconds'",
     "output_type": "error",
     "traceback": [
      "\u001b[1;31m---------------------------------------------------------------------------\u001b[0m",
      "\u001b[1;31mAttributeError\u001b[0m                            Traceback (most recent call last)",
      "\u001b[1;32mc:\\Users\\henry.gu\\Anaconda3\\envs\\Python\\lib\\site-packages\\pandas\\_libs\\tslibs\\tzconversion.pyx\u001b[0m in \u001b[0;36mpandas._libs.tslibs.tzconversion.Localizer.__cinit__\u001b[1;34m()\u001b[0m\n",
      "\u001b[1;32mc:\\Users\\henry.gu\\Anaconda3\\envs\\Python\\lib\\site-packages\\pandas\\_libs\\tslibs\\timezones.pyx\u001b[0m in \u001b[0;36mpandas._libs.tslibs.timezones.get_dst_info\u001b[1;34m()\u001b[0m\n",
      "\u001b[1;31mAttributeError\u001b[0m: 'NoneType' object has no attribute 'total_seconds'"
     ]
    },
    {
     "name": "stderr",
     "output_type": "stream",
     "text": [
      "Exception ignored in: 'pandas._libs.tslibs.conversion._localize_tso'\n",
      "Traceback (most recent call last):\n",
      "  File \"pandas\\_libs\\tslibs\\tzconversion.pyx\", line 85, in pandas._libs.tslibs.tzconversion.Localizer.__cinit__\n",
      "  File \"pandas\\_libs\\tslibs\\timezones.pyx\", line 306, in pandas._libs.tslibs.timezones.get_dst_info\n",
      "AttributeError: 'NoneType' object has no attribute 'total_seconds'\n"
     ]
    },
    {
     "ename": "AttributeError",
     "evalue": "'NoneType' object has no attribute 'total_seconds'",
     "output_type": "error",
     "traceback": [
      "\u001b[1;31m---------------------------------------------------------------------------\u001b[0m",
      "\u001b[1;31mAttributeError\u001b[0m                            Traceback (most recent call last)",
      "\u001b[1;32mc:\\Users\\henry.gu\\Anaconda3\\envs\\Python\\lib\\site-packages\\pandas\\_libs\\tslibs\\tzconversion.pyx\u001b[0m in \u001b[0;36mpandas._libs.tslibs.tzconversion.Localizer.__cinit__\u001b[1;34m()\u001b[0m\n",
      "\u001b[1;32mc:\\Users\\henry.gu\\Anaconda3\\envs\\Python\\lib\\site-packages\\pandas\\_libs\\tslibs\\timezones.pyx\u001b[0m in \u001b[0;36mpandas._libs.tslibs.timezones.get_dst_info\u001b[1;34m()\u001b[0m\n",
      "\u001b[1;31mAttributeError\u001b[0m: 'NoneType' object has no attribute 'total_seconds'"
     ]
    },
    {
     "name": "stderr",
     "output_type": "stream",
     "text": [
      "Exception ignored in: 'pandas._libs.tslibs.conversion._localize_tso'\n",
      "Traceback (most recent call last):\n",
      "  File \"pandas\\_libs\\tslibs\\tzconversion.pyx\", line 85, in pandas._libs.tslibs.tzconversion.Localizer.__cinit__\n",
      "  File \"pandas\\_libs\\tslibs\\timezones.pyx\", line 306, in pandas._libs.tslibs.timezones.get_dst_info\n",
      "AttributeError: 'NoneType' object has no attribute 'total_seconds'\n"
     ]
    },
    {
     "ename": "AttributeError",
     "evalue": "'NoneType' object has no attribute 'total_seconds'",
     "output_type": "error",
     "traceback": [
      "\u001b[1;31m---------------------------------------------------------------------------\u001b[0m",
      "\u001b[1;31mAttributeError\u001b[0m                            Traceback (most recent call last)",
      "\u001b[1;32mc:\\Users\\henry.gu\\Anaconda3\\envs\\Python\\lib\\site-packages\\pandas\\_libs\\tslibs\\tzconversion.pyx\u001b[0m in \u001b[0;36mpandas._libs.tslibs.tzconversion.Localizer.__cinit__\u001b[1;34m()\u001b[0m\n",
      "\u001b[1;32mc:\\Users\\henry.gu\\Anaconda3\\envs\\Python\\lib\\site-packages\\pandas\\_libs\\tslibs\\timezones.pyx\u001b[0m in \u001b[0;36mpandas._libs.tslibs.timezones.get_dst_info\u001b[1;34m()\u001b[0m\n",
      "\u001b[1;31mAttributeError\u001b[0m: 'NoneType' object has no attribute 'total_seconds'"
     ]
    },
    {
     "name": "stderr",
     "output_type": "stream",
     "text": [
      "Exception ignored in: 'pandas._libs.tslibs.conversion._localize_tso'\n",
      "Traceback (most recent call last):\n",
      "  File \"pandas\\_libs\\tslibs\\tzconversion.pyx\", line 85, in pandas._libs.tslibs.tzconversion.Localizer.__cinit__\n",
      "  File \"pandas\\_libs\\tslibs\\timezones.pyx\", line 306, in pandas._libs.tslibs.timezones.get_dst_info\n",
      "AttributeError: 'NoneType' object has no attribute 'total_seconds'\n"
     ]
    },
    {
     "ename": "AttributeError",
     "evalue": "'NoneType' object has no attribute 'total_seconds'",
     "output_type": "error",
     "traceback": [
      "\u001b[1;31m---------------------------------------------------------------------------\u001b[0m",
      "\u001b[1;31mAttributeError\u001b[0m                            Traceback (most recent call last)",
      "\u001b[1;32mc:\\Users\\henry.gu\\Anaconda3\\envs\\Python\\lib\\site-packages\\pandas\\_libs\\tslibs\\tzconversion.pyx\u001b[0m in \u001b[0;36mpandas._libs.tslibs.tzconversion.Localizer.__cinit__\u001b[1;34m()\u001b[0m\n",
      "\u001b[1;32mc:\\Users\\henry.gu\\Anaconda3\\envs\\Python\\lib\\site-packages\\pandas\\_libs\\tslibs\\timezones.pyx\u001b[0m in \u001b[0;36mpandas._libs.tslibs.timezones.get_dst_info\u001b[1;34m()\u001b[0m\n",
      "\u001b[1;31mAttributeError\u001b[0m: 'NoneType' object has no attribute 'total_seconds'"
     ]
    },
    {
     "name": "stderr",
     "output_type": "stream",
     "text": [
      "Exception ignored in: 'pandas._libs.tslibs.conversion._localize_tso'\n",
      "Traceback (most recent call last):\n",
      "  File \"pandas\\_libs\\tslibs\\tzconversion.pyx\", line 85, in pandas._libs.tslibs.tzconversion.Localizer.__cinit__\n",
      "  File \"pandas\\_libs\\tslibs\\timezones.pyx\", line 306, in pandas._libs.tslibs.timezones.get_dst_info\n",
      "AttributeError: 'NoneType' object has no attribute 'total_seconds'\n"
     ]
    },
    {
     "ename": "AttributeError",
     "evalue": "'NoneType' object has no attribute 'total_seconds'",
     "output_type": "error",
     "traceback": [
      "\u001b[1;31m---------------------------------------------------------------------------\u001b[0m",
      "\u001b[1;31mAttributeError\u001b[0m                            Traceback (most recent call last)",
      "\u001b[1;32mc:\\Users\\henry.gu\\Anaconda3\\envs\\Python\\lib\\site-packages\\pandas\\_libs\\tslibs\\tzconversion.pyx\u001b[0m in \u001b[0;36mpandas._libs.tslibs.tzconversion.Localizer.__cinit__\u001b[1;34m()\u001b[0m\n",
      "\u001b[1;32mc:\\Users\\henry.gu\\Anaconda3\\envs\\Python\\lib\\site-packages\\pandas\\_libs\\tslibs\\timezones.pyx\u001b[0m in \u001b[0;36mpandas._libs.tslibs.timezones.get_dst_info\u001b[1;34m()\u001b[0m\n",
      "\u001b[1;31mAttributeError\u001b[0m: 'NoneType' object has no attribute 'total_seconds'"
     ]
    },
    {
     "name": "stderr",
     "output_type": "stream",
     "text": [
      "Exception ignored in: 'pandas._libs.tslibs.conversion._localize_tso'\n",
      "Traceback (most recent call last):\n",
      "  File \"pandas\\_libs\\tslibs\\tzconversion.pyx\", line 85, in pandas._libs.tslibs.tzconversion.Localizer.__cinit__\n",
      "  File \"pandas\\_libs\\tslibs\\timezones.pyx\", line 306, in pandas._libs.tslibs.timezones.get_dst_info\n",
      "AttributeError: 'NoneType' object has no attribute 'total_seconds'\n"
     ]
    },
    {
     "ename": "AttributeError",
     "evalue": "'NoneType' object has no attribute 'total_seconds'",
     "output_type": "error",
     "traceback": [
      "\u001b[1;31m---------------------------------------------------------------------------\u001b[0m",
      "\u001b[1;31mAttributeError\u001b[0m                            Traceback (most recent call last)",
      "\u001b[1;32mc:\\Users\\henry.gu\\Anaconda3\\envs\\Python\\lib\\site-packages\\pandas\\_libs\\tslibs\\tzconversion.pyx\u001b[0m in \u001b[0;36mpandas._libs.tslibs.tzconversion.Localizer.__cinit__\u001b[1;34m()\u001b[0m\n",
      "\u001b[1;32mc:\\Users\\henry.gu\\Anaconda3\\envs\\Python\\lib\\site-packages\\pandas\\_libs\\tslibs\\timezones.pyx\u001b[0m in \u001b[0;36mpandas._libs.tslibs.timezones.get_dst_info\u001b[1;34m()\u001b[0m\n",
      "\u001b[1;31mAttributeError\u001b[0m: 'NoneType' object has no attribute 'total_seconds'"
     ]
    },
    {
     "name": "stderr",
     "output_type": "stream",
     "text": [
      "Exception ignored in: 'pandas._libs.tslibs.conversion._localize_tso'\n",
      "Traceback (most recent call last):\n",
      "  File \"pandas\\_libs\\tslibs\\tzconversion.pyx\", line 85, in pandas._libs.tslibs.tzconversion.Localizer.__cinit__\n",
      "  File \"pandas\\_libs\\tslibs\\timezones.pyx\", line 306, in pandas._libs.tslibs.timezones.get_dst_info\n",
      "AttributeError: 'NoneType' object has no attribute 'total_seconds'\n"
     ]
    },
    {
     "ename": "AttributeError",
     "evalue": "'NoneType' object has no attribute 'total_seconds'",
     "output_type": "error",
     "traceback": [
      "\u001b[1;31m---------------------------------------------------------------------------\u001b[0m",
      "\u001b[1;31mAttributeError\u001b[0m                            Traceback (most recent call last)",
      "\u001b[1;32mc:\\Users\\henry.gu\\Anaconda3\\envs\\Python\\lib\\site-packages\\pandas\\_libs\\tslibs\\tzconversion.pyx\u001b[0m in \u001b[0;36mpandas._libs.tslibs.tzconversion.Localizer.__cinit__\u001b[1;34m()\u001b[0m\n",
      "\u001b[1;32mc:\\Users\\henry.gu\\Anaconda3\\envs\\Python\\lib\\site-packages\\pandas\\_libs\\tslibs\\timezones.pyx\u001b[0m in \u001b[0;36mpandas._libs.tslibs.timezones.get_dst_info\u001b[1;34m()\u001b[0m\n",
      "\u001b[1;31mAttributeError\u001b[0m: 'NoneType' object has no attribute 'total_seconds'"
     ]
    },
    {
     "name": "stderr",
     "output_type": "stream",
     "text": [
      "Exception ignored in: 'pandas._libs.tslibs.conversion._localize_tso'\n",
      "Traceback (most recent call last):\n",
      "  File \"pandas\\_libs\\tslibs\\tzconversion.pyx\", line 85, in pandas._libs.tslibs.tzconversion.Localizer.__cinit__\n",
      "  File \"pandas\\_libs\\tslibs\\timezones.pyx\", line 306, in pandas._libs.tslibs.timezones.get_dst_info\n",
      "AttributeError: 'NoneType' object has no attribute 'total_seconds'\n"
     ]
    },
    {
     "ename": "AttributeError",
     "evalue": "'NoneType' object has no attribute 'total_seconds'",
     "output_type": "error",
     "traceback": [
      "\u001b[1;31m---------------------------------------------------------------------------\u001b[0m",
      "\u001b[1;31mAttributeError\u001b[0m                            Traceback (most recent call last)",
      "\u001b[1;32mc:\\Users\\henry.gu\\Anaconda3\\envs\\Python\\lib\\site-packages\\pandas\\_libs\\tslibs\\tzconversion.pyx\u001b[0m in \u001b[0;36mpandas._libs.tslibs.tzconversion.Localizer.__cinit__\u001b[1;34m()\u001b[0m\n",
      "\u001b[1;32mc:\\Users\\henry.gu\\Anaconda3\\envs\\Python\\lib\\site-packages\\pandas\\_libs\\tslibs\\timezones.pyx\u001b[0m in \u001b[0;36mpandas._libs.tslibs.timezones.get_dst_info\u001b[1;34m()\u001b[0m\n",
      "\u001b[1;31mAttributeError\u001b[0m: 'NoneType' object has no attribute 'total_seconds'"
     ]
    },
    {
     "name": "stderr",
     "output_type": "stream",
     "text": [
      "Exception ignored in: 'pandas._libs.tslibs.conversion._localize_tso'\n",
      "Traceback (most recent call last):\n",
      "  File \"pandas\\_libs\\tslibs\\tzconversion.pyx\", line 85, in pandas._libs.tslibs.tzconversion.Localizer.__cinit__\n",
      "  File \"pandas\\_libs\\tslibs\\timezones.pyx\", line 306, in pandas._libs.tslibs.timezones.get_dst_info\n",
      "AttributeError: 'NoneType' object has no attribute 'total_seconds'\n"
     ]
    },
    {
     "ename": "AttributeError",
     "evalue": "'NoneType' object has no attribute 'total_seconds'",
     "output_type": "error",
     "traceback": [
      "\u001b[1;31m---------------------------------------------------------------------------\u001b[0m",
      "\u001b[1;31mAttributeError\u001b[0m                            Traceback (most recent call last)",
      "\u001b[1;32mc:\\Users\\henry.gu\\Anaconda3\\envs\\Python\\lib\\site-packages\\pandas\\_libs\\tslibs\\tzconversion.pyx\u001b[0m in \u001b[0;36mpandas._libs.tslibs.tzconversion.Localizer.__cinit__\u001b[1;34m()\u001b[0m\n",
      "\u001b[1;32mc:\\Users\\henry.gu\\Anaconda3\\envs\\Python\\lib\\site-packages\\pandas\\_libs\\tslibs\\timezones.pyx\u001b[0m in \u001b[0;36mpandas._libs.tslibs.timezones.get_dst_info\u001b[1;34m()\u001b[0m\n",
      "\u001b[1;31mAttributeError\u001b[0m: 'NoneType' object has no attribute 'total_seconds'"
     ]
    },
    {
     "name": "stderr",
     "output_type": "stream",
     "text": [
      "Exception ignored in: 'pandas._libs.tslibs.conversion._localize_tso'\n",
      "Traceback (most recent call last):\n",
      "  File \"pandas\\_libs\\tslibs\\tzconversion.pyx\", line 85, in pandas._libs.tslibs.tzconversion.Localizer.__cinit__\n",
      "  File \"pandas\\_libs\\tslibs\\timezones.pyx\", line 306, in pandas._libs.tslibs.timezones.get_dst_info\n",
      "AttributeError: 'NoneType' object has no attribute 'total_seconds'\n"
     ]
    },
    {
     "ename": "AttributeError",
     "evalue": "'NoneType' object has no attribute 'total_seconds'",
     "output_type": "error",
     "traceback": [
      "\u001b[1;31m---------------------------------------------------------------------------\u001b[0m",
      "\u001b[1;31mAttributeError\u001b[0m                            Traceback (most recent call last)",
      "\u001b[1;32mc:\\Users\\henry.gu\\Anaconda3\\envs\\Python\\lib\\site-packages\\pandas\\_libs\\tslibs\\tzconversion.pyx\u001b[0m in \u001b[0;36mpandas._libs.tslibs.tzconversion.Localizer.__cinit__\u001b[1;34m()\u001b[0m\n",
      "\u001b[1;32mc:\\Users\\henry.gu\\Anaconda3\\envs\\Python\\lib\\site-packages\\pandas\\_libs\\tslibs\\timezones.pyx\u001b[0m in \u001b[0;36mpandas._libs.tslibs.timezones.get_dst_info\u001b[1;34m()\u001b[0m\n",
      "\u001b[1;31mAttributeError\u001b[0m: 'NoneType' object has no attribute 'total_seconds'"
     ]
    },
    {
     "name": "stderr",
     "output_type": "stream",
     "text": [
      "Exception ignored in: 'pandas._libs.tslibs.conversion._localize_tso'\n",
      "Traceback (most recent call last):\n",
      "  File \"pandas\\_libs\\tslibs\\tzconversion.pyx\", line 85, in pandas._libs.tslibs.tzconversion.Localizer.__cinit__\n",
      "  File \"pandas\\_libs\\tslibs\\timezones.pyx\", line 306, in pandas._libs.tslibs.timezones.get_dst_info\n",
      "AttributeError: 'NoneType' object has no attribute 'total_seconds'\n"
     ]
    },
    {
     "ename": "AttributeError",
     "evalue": "'NoneType' object has no attribute 'total_seconds'",
     "output_type": "error",
     "traceback": [
      "\u001b[1;31m---------------------------------------------------------------------------\u001b[0m",
      "\u001b[1;31mAttributeError\u001b[0m                            Traceback (most recent call last)",
      "\u001b[1;32mc:\\Users\\henry.gu\\Anaconda3\\envs\\Python\\lib\\site-packages\\pandas\\_libs\\tslibs\\tzconversion.pyx\u001b[0m in \u001b[0;36mpandas._libs.tslibs.tzconversion.Localizer.__cinit__\u001b[1;34m()\u001b[0m\n",
      "\u001b[1;32mc:\\Users\\henry.gu\\Anaconda3\\envs\\Python\\lib\\site-packages\\pandas\\_libs\\tslibs\\timezones.pyx\u001b[0m in \u001b[0;36mpandas._libs.tslibs.timezones.get_dst_info\u001b[1;34m()\u001b[0m\n",
      "\u001b[1;31mAttributeError\u001b[0m: 'NoneType' object has no attribute 'total_seconds'"
     ]
    },
    {
     "name": "stderr",
     "output_type": "stream",
     "text": [
      "Exception ignored in: 'pandas._libs.tslibs.conversion._localize_tso'\n",
      "Traceback (most recent call last):\n",
      "  File \"pandas\\_libs\\tslibs\\tzconversion.pyx\", line 85, in pandas._libs.tslibs.tzconversion.Localizer.__cinit__\n",
      "  File \"pandas\\_libs\\tslibs\\timezones.pyx\", line 306, in pandas._libs.tslibs.timezones.get_dst_info\n",
      "AttributeError: 'NoneType' object has no attribute 'total_seconds'\n"
     ]
    },
    {
     "ename": "AttributeError",
     "evalue": "'NoneType' object has no attribute 'total_seconds'",
     "output_type": "error",
     "traceback": [
      "\u001b[1;31m---------------------------------------------------------------------------\u001b[0m",
      "\u001b[1;31mAttributeError\u001b[0m                            Traceback (most recent call last)",
      "\u001b[1;32mc:\\Users\\henry.gu\\Anaconda3\\envs\\Python\\lib\\site-packages\\pandas\\_libs\\tslibs\\tzconversion.pyx\u001b[0m in \u001b[0;36mpandas._libs.tslibs.tzconversion.Localizer.__cinit__\u001b[1;34m()\u001b[0m\n",
      "\u001b[1;32mc:\\Users\\henry.gu\\Anaconda3\\envs\\Python\\lib\\site-packages\\pandas\\_libs\\tslibs\\timezones.pyx\u001b[0m in \u001b[0;36mpandas._libs.tslibs.timezones.get_dst_info\u001b[1;34m()\u001b[0m\n",
      "\u001b[1;31mAttributeError\u001b[0m: 'NoneType' object has no attribute 'total_seconds'"
     ]
    },
    {
     "name": "stderr",
     "output_type": "stream",
     "text": [
      "Exception ignored in: 'pandas._libs.tslibs.conversion._localize_tso'\n",
      "Traceback (most recent call last):\n",
      "  File \"pandas\\_libs\\tslibs\\tzconversion.pyx\", line 85, in pandas._libs.tslibs.tzconversion.Localizer.__cinit__\n",
      "  File \"pandas\\_libs\\tslibs\\timezones.pyx\", line 306, in pandas._libs.tslibs.timezones.get_dst_info\n",
      "AttributeError: 'NoneType' object has no attribute 'total_seconds'\n"
     ]
    },
    {
     "ename": "AttributeError",
     "evalue": "'NoneType' object has no attribute 'total_seconds'",
     "output_type": "error",
     "traceback": [
      "\u001b[1;31m---------------------------------------------------------------------------\u001b[0m",
      "\u001b[1;31mAttributeError\u001b[0m                            Traceback (most recent call last)",
      "\u001b[1;32mc:\\Users\\henry.gu\\Anaconda3\\envs\\Python\\lib\\site-packages\\pandas\\_libs\\tslibs\\tzconversion.pyx\u001b[0m in \u001b[0;36mpandas._libs.tslibs.tzconversion.Localizer.__cinit__\u001b[1;34m()\u001b[0m\n",
      "\u001b[1;32mc:\\Users\\henry.gu\\Anaconda3\\envs\\Python\\lib\\site-packages\\pandas\\_libs\\tslibs\\timezones.pyx\u001b[0m in \u001b[0;36mpandas._libs.tslibs.timezones.get_dst_info\u001b[1;34m()\u001b[0m\n",
      "\u001b[1;31mAttributeError\u001b[0m: 'NoneType' object has no attribute 'total_seconds'"
     ]
    },
    {
     "name": "stderr",
     "output_type": "stream",
     "text": [
      "Exception ignored in: 'pandas._libs.tslibs.conversion._localize_tso'\n",
      "Traceback (most recent call last):\n",
      "  File \"pandas\\_libs\\tslibs\\tzconversion.pyx\", line 85, in pandas._libs.tslibs.tzconversion.Localizer.__cinit__\n",
      "  File \"pandas\\_libs\\tslibs\\timezones.pyx\", line 306, in pandas._libs.tslibs.timezones.get_dst_info\n",
      "AttributeError: 'NoneType' object has no attribute 'total_seconds'\n"
     ]
    },
    {
     "ename": "AttributeError",
     "evalue": "'NoneType' object has no attribute 'total_seconds'",
     "output_type": "error",
     "traceback": [
      "\u001b[1;31m---------------------------------------------------------------------------\u001b[0m",
      "\u001b[1;31mAttributeError\u001b[0m                            Traceback (most recent call last)",
      "\u001b[1;32mc:\\Users\\henry.gu\\Anaconda3\\envs\\Python\\lib\\site-packages\\pandas\\_libs\\tslibs\\tzconversion.pyx\u001b[0m in \u001b[0;36mpandas._libs.tslibs.tzconversion.Localizer.__cinit__\u001b[1;34m()\u001b[0m\n",
      "\u001b[1;32mc:\\Users\\henry.gu\\Anaconda3\\envs\\Python\\lib\\site-packages\\pandas\\_libs\\tslibs\\timezones.pyx\u001b[0m in \u001b[0;36mpandas._libs.tslibs.timezones.get_dst_info\u001b[1;34m()\u001b[0m\n",
      "\u001b[1;31mAttributeError\u001b[0m: 'NoneType' object has no attribute 'total_seconds'"
     ]
    },
    {
     "name": "stderr",
     "output_type": "stream",
     "text": [
      "Exception ignored in: 'pandas._libs.tslibs.conversion._localize_tso'\n",
      "Traceback (most recent call last):\n",
      "  File \"pandas\\_libs\\tslibs\\tzconversion.pyx\", line 85, in pandas._libs.tslibs.tzconversion.Localizer.__cinit__\n",
      "  File \"pandas\\_libs\\tslibs\\timezones.pyx\", line 306, in pandas._libs.tslibs.timezones.get_dst_info\n",
      "AttributeError: 'NoneType' object has no attribute 'total_seconds'\n"
     ]
    },
    {
     "ename": "AttributeError",
     "evalue": "'NoneType' object has no attribute 'total_seconds'",
     "output_type": "error",
     "traceback": [
      "\u001b[1;31m---------------------------------------------------------------------------\u001b[0m",
      "\u001b[1;31mAttributeError\u001b[0m                            Traceback (most recent call last)",
      "\u001b[1;32mc:\\Users\\henry.gu\\Anaconda3\\envs\\Python\\lib\\site-packages\\pandas\\_libs\\tslibs\\tzconversion.pyx\u001b[0m in \u001b[0;36mpandas._libs.tslibs.tzconversion.Localizer.__cinit__\u001b[1;34m()\u001b[0m\n",
      "\u001b[1;32mc:\\Users\\henry.gu\\Anaconda3\\envs\\Python\\lib\\site-packages\\pandas\\_libs\\tslibs\\timezones.pyx\u001b[0m in \u001b[0;36mpandas._libs.tslibs.timezones.get_dst_info\u001b[1;34m()\u001b[0m\n",
      "\u001b[1;31mAttributeError\u001b[0m: 'NoneType' object has no attribute 'total_seconds'"
     ]
    },
    {
     "name": "stderr",
     "output_type": "stream",
     "text": [
      "Exception ignored in: 'pandas._libs.tslibs.conversion._localize_tso'\n",
      "Traceback (most recent call last):\n",
      "  File \"pandas\\_libs\\tslibs\\tzconversion.pyx\", line 85, in pandas._libs.tslibs.tzconversion.Localizer.__cinit__\n",
      "  File \"pandas\\_libs\\tslibs\\timezones.pyx\", line 306, in pandas._libs.tslibs.timezones.get_dst_info\n",
      "AttributeError: 'NoneType' object has no attribute 'total_seconds'\n"
     ]
    },
    {
     "ename": "AttributeError",
     "evalue": "'NoneType' object has no attribute 'total_seconds'",
     "output_type": "error",
     "traceback": [
      "\u001b[1;31m---------------------------------------------------------------------------\u001b[0m",
      "\u001b[1;31mAttributeError\u001b[0m                            Traceback (most recent call last)",
      "\u001b[1;32mc:\\Users\\henry.gu\\Anaconda3\\envs\\Python\\lib\\site-packages\\pandas\\_libs\\tslibs\\tzconversion.pyx\u001b[0m in \u001b[0;36mpandas._libs.tslibs.tzconversion.Localizer.__cinit__\u001b[1;34m()\u001b[0m\n",
      "\u001b[1;32mc:\\Users\\henry.gu\\Anaconda3\\envs\\Python\\lib\\site-packages\\pandas\\_libs\\tslibs\\timezones.pyx\u001b[0m in \u001b[0;36mpandas._libs.tslibs.timezones.get_dst_info\u001b[1;34m()\u001b[0m\n",
      "\u001b[1;31mAttributeError\u001b[0m: 'NoneType' object has no attribute 'total_seconds'"
     ]
    },
    {
     "name": "stderr",
     "output_type": "stream",
     "text": [
      "Exception ignored in: 'pandas._libs.tslibs.conversion._localize_tso'\n",
      "Traceback (most recent call last):\n",
      "  File \"pandas\\_libs\\tslibs\\tzconversion.pyx\", line 85, in pandas._libs.tslibs.tzconversion.Localizer.__cinit__\n",
      "  File \"pandas\\_libs\\tslibs\\timezones.pyx\", line 306, in pandas._libs.tslibs.timezones.get_dst_info\n",
      "AttributeError: 'NoneType' object has no attribute 'total_seconds'\n"
     ]
    },
    {
     "ename": "AttributeError",
     "evalue": "'NoneType' object has no attribute 'total_seconds'",
     "output_type": "error",
     "traceback": [
      "\u001b[1;31m---------------------------------------------------------------------------\u001b[0m",
      "\u001b[1;31mAttributeError\u001b[0m                            Traceback (most recent call last)",
      "\u001b[1;32mc:\\Users\\henry.gu\\Anaconda3\\envs\\Python\\lib\\site-packages\\pandas\\_libs\\tslibs\\tzconversion.pyx\u001b[0m in \u001b[0;36mpandas._libs.tslibs.tzconversion.Localizer.__cinit__\u001b[1;34m()\u001b[0m\n",
      "\u001b[1;32mc:\\Users\\henry.gu\\Anaconda3\\envs\\Python\\lib\\site-packages\\pandas\\_libs\\tslibs\\timezones.pyx\u001b[0m in \u001b[0;36mpandas._libs.tslibs.timezones.get_dst_info\u001b[1;34m()\u001b[0m\n",
      "\u001b[1;31mAttributeError\u001b[0m: 'NoneType' object has no attribute 'total_seconds'"
     ]
    },
    {
     "name": "stderr",
     "output_type": "stream",
     "text": [
      "Exception ignored in: 'pandas._libs.tslibs.conversion._localize_tso'\n",
      "Traceback (most recent call last):\n",
      "  File \"pandas\\_libs\\tslibs\\tzconversion.pyx\", line 85, in pandas._libs.tslibs.tzconversion.Localizer.__cinit__\n",
      "  File \"pandas\\_libs\\tslibs\\timezones.pyx\", line 306, in pandas._libs.tslibs.timezones.get_dst_info\n",
      "AttributeError: 'NoneType' object has no attribute 'total_seconds'\n"
     ]
    },
    {
     "ename": "AttributeError",
     "evalue": "'NoneType' object has no attribute 'total_seconds'",
     "output_type": "error",
     "traceback": [
      "\u001b[1;31m---------------------------------------------------------------------------\u001b[0m",
      "\u001b[1;31mAttributeError\u001b[0m                            Traceback (most recent call last)",
      "\u001b[1;32mc:\\Users\\henry.gu\\Anaconda3\\envs\\Python\\lib\\site-packages\\pandas\\_libs\\tslibs\\tzconversion.pyx\u001b[0m in \u001b[0;36mpandas._libs.tslibs.tzconversion.Localizer.__cinit__\u001b[1;34m()\u001b[0m\n",
      "\u001b[1;32mc:\\Users\\henry.gu\\Anaconda3\\envs\\Python\\lib\\site-packages\\pandas\\_libs\\tslibs\\timezones.pyx\u001b[0m in \u001b[0;36mpandas._libs.tslibs.timezones.get_dst_info\u001b[1;34m()\u001b[0m\n",
      "\u001b[1;31mAttributeError\u001b[0m: 'NoneType' object has no attribute 'total_seconds'"
     ]
    },
    {
     "name": "stderr",
     "output_type": "stream",
     "text": [
      "Exception ignored in: 'pandas._libs.tslibs.conversion._localize_tso'\n",
      "Traceback (most recent call last):\n",
      "  File \"pandas\\_libs\\tslibs\\tzconversion.pyx\", line 85, in pandas._libs.tslibs.tzconversion.Localizer.__cinit__\n",
      "  File \"pandas\\_libs\\tslibs\\timezones.pyx\", line 306, in pandas._libs.tslibs.timezones.get_dst_info\n",
      "AttributeError: 'NoneType' object has no attribute 'total_seconds'\n"
     ]
    },
    {
     "ename": "AttributeError",
     "evalue": "'NoneType' object has no attribute 'total_seconds'",
     "output_type": "error",
     "traceback": [
      "\u001b[1;31m---------------------------------------------------------------------------\u001b[0m",
      "\u001b[1;31mAttributeError\u001b[0m                            Traceback (most recent call last)",
      "\u001b[1;32mc:\\Users\\henry.gu\\Anaconda3\\envs\\Python\\lib\\site-packages\\pandas\\_libs\\tslibs\\tzconversion.pyx\u001b[0m in \u001b[0;36mpandas._libs.tslibs.tzconversion.Localizer.__cinit__\u001b[1;34m()\u001b[0m\n",
      "\u001b[1;32mc:\\Users\\henry.gu\\Anaconda3\\envs\\Python\\lib\\site-packages\\pandas\\_libs\\tslibs\\timezones.pyx\u001b[0m in \u001b[0;36mpandas._libs.tslibs.timezones.get_dst_info\u001b[1;34m()\u001b[0m\n",
      "\u001b[1;31mAttributeError\u001b[0m: 'NoneType' object has no attribute 'total_seconds'"
     ]
    },
    {
     "name": "stderr",
     "output_type": "stream",
     "text": [
      "Exception ignored in: 'pandas._libs.tslibs.conversion._localize_tso'\n",
      "Traceback (most recent call last):\n",
      "  File \"pandas\\_libs\\tslibs\\tzconversion.pyx\", line 85, in pandas._libs.tslibs.tzconversion.Localizer.__cinit__\n",
      "  File \"pandas\\_libs\\tslibs\\timezones.pyx\", line 306, in pandas._libs.tslibs.timezones.get_dst_info\n",
      "AttributeError: 'NoneType' object has no attribute 'total_seconds'\n"
     ]
    },
    {
     "ename": "AttributeError",
     "evalue": "'NoneType' object has no attribute 'total_seconds'",
     "output_type": "error",
     "traceback": [
      "\u001b[1;31m---------------------------------------------------------------------------\u001b[0m",
      "\u001b[1;31mAttributeError\u001b[0m                            Traceback (most recent call last)",
      "\u001b[1;32mc:\\Users\\henry.gu\\Anaconda3\\envs\\Python\\lib\\site-packages\\pandas\\_libs\\tslibs\\tzconversion.pyx\u001b[0m in \u001b[0;36mpandas._libs.tslibs.tzconversion.Localizer.__cinit__\u001b[1;34m()\u001b[0m\n",
      "\u001b[1;32mc:\\Users\\henry.gu\\Anaconda3\\envs\\Python\\lib\\site-packages\\pandas\\_libs\\tslibs\\timezones.pyx\u001b[0m in \u001b[0;36mpandas._libs.tslibs.timezones.get_dst_info\u001b[1;34m()\u001b[0m\n",
      "\u001b[1;31mAttributeError\u001b[0m: 'NoneType' object has no attribute 'total_seconds'"
     ]
    },
    {
     "name": "stderr",
     "output_type": "stream",
     "text": [
      "Exception ignored in: 'pandas._libs.tslibs.conversion._localize_tso'\n",
      "Traceback (most recent call last):\n",
      "  File \"pandas\\_libs\\tslibs\\tzconversion.pyx\", line 85, in pandas._libs.tslibs.tzconversion.Localizer.__cinit__\n",
      "  File \"pandas\\_libs\\tslibs\\timezones.pyx\", line 306, in pandas._libs.tslibs.timezones.get_dst_info\n",
      "AttributeError: 'NoneType' object has no attribute 'total_seconds'\n"
     ]
    },
    {
     "ename": "AttributeError",
     "evalue": "'NoneType' object has no attribute 'total_seconds'",
     "output_type": "error",
     "traceback": [
      "\u001b[1;31m---------------------------------------------------------------------------\u001b[0m",
      "\u001b[1;31mAttributeError\u001b[0m                            Traceback (most recent call last)",
      "\u001b[1;32mc:\\Users\\henry.gu\\Anaconda3\\envs\\Python\\lib\\site-packages\\pandas\\_libs\\tslibs\\tzconversion.pyx\u001b[0m in \u001b[0;36mpandas._libs.tslibs.tzconversion.Localizer.__cinit__\u001b[1;34m()\u001b[0m\n",
      "\u001b[1;32mc:\\Users\\henry.gu\\Anaconda3\\envs\\Python\\lib\\site-packages\\pandas\\_libs\\tslibs\\timezones.pyx\u001b[0m in \u001b[0;36mpandas._libs.tslibs.timezones.get_dst_info\u001b[1;34m()\u001b[0m\n",
      "\u001b[1;31mAttributeError\u001b[0m: 'NoneType' object has no attribute 'total_seconds'"
     ]
    },
    {
     "name": "stderr",
     "output_type": "stream",
     "text": [
      "Exception ignored in: 'pandas._libs.tslibs.conversion._localize_tso'\n",
      "Traceback (most recent call last):\n",
      "  File \"pandas\\_libs\\tslibs\\tzconversion.pyx\", line 85, in pandas._libs.tslibs.tzconversion.Localizer.__cinit__\n",
      "  File \"pandas\\_libs\\tslibs\\timezones.pyx\", line 306, in pandas._libs.tslibs.timezones.get_dst_info\n",
      "AttributeError: 'NoneType' object has no attribute 'total_seconds'\n"
     ]
    },
    {
     "ename": "AttributeError",
     "evalue": "'NoneType' object has no attribute 'total_seconds'",
     "output_type": "error",
     "traceback": [
      "\u001b[1;31m---------------------------------------------------------------------------\u001b[0m",
      "\u001b[1;31mAttributeError\u001b[0m                            Traceback (most recent call last)",
      "\u001b[1;32mc:\\Users\\henry.gu\\Anaconda3\\envs\\Python\\lib\\site-packages\\pandas\\_libs\\tslibs\\tzconversion.pyx\u001b[0m in \u001b[0;36mpandas._libs.tslibs.tzconversion.Localizer.__cinit__\u001b[1;34m()\u001b[0m\n",
      "\u001b[1;32mc:\\Users\\henry.gu\\Anaconda3\\envs\\Python\\lib\\site-packages\\pandas\\_libs\\tslibs\\timezones.pyx\u001b[0m in \u001b[0;36mpandas._libs.tslibs.timezones.get_dst_info\u001b[1;34m()\u001b[0m\n",
      "\u001b[1;31mAttributeError\u001b[0m: 'NoneType' object has no attribute 'total_seconds'"
     ]
    },
    {
     "name": "stderr",
     "output_type": "stream",
     "text": [
      "Exception ignored in: 'pandas._libs.tslibs.conversion._localize_tso'\n",
      "Traceback (most recent call last):\n",
      "  File \"pandas\\_libs\\tslibs\\tzconversion.pyx\", line 85, in pandas._libs.tslibs.tzconversion.Localizer.__cinit__\n",
      "  File \"pandas\\_libs\\tslibs\\timezones.pyx\", line 306, in pandas._libs.tslibs.timezones.get_dst_info\n",
      "AttributeError: 'NoneType' object has no attribute 'total_seconds'\n"
     ]
    },
    {
     "ename": "AttributeError",
     "evalue": "'NoneType' object has no attribute 'total_seconds'",
     "output_type": "error",
     "traceback": [
      "\u001b[1;31m---------------------------------------------------------------------------\u001b[0m",
      "\u001b[1;31mAttributeError\u001b[0m                            Traceback (most recent call last)",
      "\u001b[1;32mc:\\Users\\henry.gu\\Anaconda3\\envs\\Python\\lib\\site-packages\\pandas\\_libs\\tslibs\\tzconversion.pyx\u001b[0m in \u001b[0;36mpandas._libs.tslibs.tzconversion.Localizer.__cinit__\u001b[1;34m()\u001b[0m\n",
      "\u001b[1;32mc:\\Users\\henry.gu\\Anaconda3\\envs\\Python\\lib\\site-packages\\pandas\\_libs\\tslibs\\timezones.pyx\u001b[0m in \u001b[0;36mpandas._libs.tslibs.timezones.get_dst_info\u001b[1;34m()\u001b[0m\n",
      "\u001b[1;31mAttributeError\u001b[0m: 'NoneType' object has no attribute 'total_seconds'"
     ]
    },
    {
     "name": "stderr",
     "output_type": "stream",
     "text": [
      "Exception ignored in: 'pandas._libs.tslibs.conversion._localize_tso'\n",
      "Traceback (most recent call last):\n",
      "  File \"pandas\\_libs\\tslibs\\tzconversion.pyx\", line 85, in pandas._libs.tslibs.tzconversion.Localizer.__cinit__\n",
      "  File \"pandas\\_libs\\tslibs\\timezones.pyx\", line 306, in pandas._libs.tslibs.timezones.get_dst_info\n",
      "AttributeError: 'NoneType' object has no attribute 'total_seconds'\n"
     ]
    },
    {
     "ename": "AttributeError",
     "evalue": "'NoneType' object has no attribute 'total_seconds'",
     "output_type": "error",
     "traceback": [
      "\u001b[1;31m---------------------------------------------------------------------------\u001b[0m",
      "\u001b[1;31mAttributeError\u001b[0m                            Traceback (most recent call last)",
      "\u001b[1;32mc:\\Users\\henry.gu\\Anaconda3\\envs\\Python\\lib\\site-packages\\pandas\\_libs\\tslibs\\tzconversion.pyx\u001b[0m in \u001b[0;36mpandas._libs.tslibs.tzconversion.Localizer.__cinit__\u001b[1;34m()\u001b[0m\n",
      "\u001b[1;32mc:\\Users\\henry.gu\\Anaconda3\\envs\\Python\\lib\\site-packages\\pandas\\_libs\\tslibs\\timezones.pyx\u001b[0m in \u001b[0;36mpandas._libs.tslibs.timezones.get_dst_info\u001b[1;34m()\u001b[0m\n",
      "\u001b[1;31mAttributeError\u001b[0m: 'NoneType' object has no attribute 'total_seconds'"
     ]
    },
    {
     "name": "stderr",
     "output_type": "stream",
     "text": [
      "Exception ignored in: 'pandas._libs.tslibs.conversion._localize_tso'\n",
      "Traceback (most recent call last):\n",
      "  File \"pandas\\_libs\\tslibs\\tzconversion.pyx\", line 85, in pandas._libs.tslibs.tzconversion.Localizer.__cinit__\n",
      "  File \"pandas\\_libs\\tslibs\\timezones.pyx\", line 306, in pandas._libs.tslibs.timezones.get_dst_info\n",
      "AttributeError: 'NoneType' object has no attribute 'total_seconds'\n"
     ]
    },
    {
     "ename": "AttributeError",
     "evalue": "'NoneType' object has no attribute 'total_seconds'",
     "output_type": "error",
     "traceback": [
      "\u001b[1;31m---------------------------------------------------------------------------\u001b[0m",
      "\u001b[1;31mAttributeError\u001b[0m                            Traceback (most recent call last)",
      "\u001b[1;32mc:\\Users\\henry.gu\\Anaconda3\\envs\\Python\\lib\\site-packages\\pandas\\_libs\\tslibs\\tzconversion.pyx\u001b[0m in \u001b[0;36mpandas._libs.tslibs.tzconversion.Localizer.__cinit__\u001b[1;34m()\u001b[0m\n",
      "\u001b[1;32mc:\\Users\\henry.gu\\Anaconda3\\envs\\Python\\lib\\site-packages\\pandas\\_libs\\tslibs\\timezones.pyx\u001b[0m in \u001b[0;36mpandas._libs.tslibs.timezones.get_dst_info\u001b[1;34m()\u001b[0m\n",
      "\u001b[1;31mAttributeError\u001b[0m: 'NoneType' object has no attribute 'total_seconds'"
     ]
    },
    {
     "name": "stderr",
     "output_type": "stream",
     "text": [
      "Exception ignored in: 'pandas._libs.tslibs.conversion._localize_tso'\n",
      "Traceback (most recent call last):\n",
      "  File \"pandas\\_libs\\tslibs\\tzconversion.pyx\", line 85, in pandas._libs.tslibs.tzconversion.Localizer.__cinit__\n",
      "  File \"pandas\\_libs\\tslibs\\timezones.pyx\", line 306, in pandas._libs.tslibs.timezones.get_dst_info\n",
      "AttributeError: 'NoneType' object has no attribute 'total_seconds'\n"
     ]
    },
    {
     "ename": "AttributeError",
     "evalue": "'NoneType' object has no attribute 'total_seconds'",
     "output_type": "error",
     "traceback": [
      "\u001b[1;31m---------------------------------------------------------------------------\u001b[0m",
      "\u001b[1;31mAttributeError\u001b[0m                            Traceback (most recent call last)",
      "\u001b[1;32mc:\\Users\\henry.gu\\Anaconda3\\envs\\Python\\lib\\site-packages\\pandas\\_libs\\tslibs\\tzconversion.pyx\u001b[0m in \u001b[0;36mpandas._libs.tslibs.tzconversion.Localizer.__cinit__\u001b[1;34m()\u001b[0m\n",
      "\u001b[1;32mc:\\Users\\henry.gu\\Anaconda3\\envs\\Python\\lib\\site-packages\\pandas\\_libs\\tslibs\\timezones.pyx\u001b[0m in \u001b[0;36mpandas._libs.tslibs.timezones.get_dst_info\u001b[1;34m()\u001b[0m\n",
      "\u001b[1;31mAttributeError\u001b[0m: 'NoneType' object has no attribute 'total_seconds'"
     ]
    },
    {
     "name": "stderr",
     "output_type": "stream",
     "text": [
      "Exception ignored in: 'pandas._libs.tslibs.conversion._localize_tso'\n",
      "Traceback (most recent call last):\n",
      "  File \"pandas\\_libs\\tslibs\\tzconversion.pyx\", line 85, in pandas._libs.tslibs.tzconversion.Localizer.__cinit__\n",
      "  File \"pandas\\_libs\\tslibs\\timezones.pyx\", line 306, in pandas._libs.tslibs.timezones.get_dst_info\n",
      "AttributeError: 'NoneType' object has no attribute 'total_seconds'\n"
     ]
    },
    {
     "ename": "AttributeError",
     "evalue": "'NoneType' object has no attribute 'total_seconds'",
     "output_type": "error",
     "traceback": [
      "\u001b[1;31m---------------------------------------------------------------------------\u001b[0m",
      "\u001b[1;31mAttributeError\u001b[0m                            Traceback (most recent call last)",
      "\u001b[1;32mc:\\Users\\henry.gu\\Anaconda3\\envs\\Python\\lib\\site-packages\\pandas\\_libs\\tslibs\\tzconversion.pyx\u001b[0m in \u001b[0;36mpandas._libs.tslibs.tzconversion.Localizer.__cinit__\u001b[1;34m()\u001b[0m\n",
      "\u001b[1;32mc:\\Users\\henry.gu\\Anaconda3\\envs\\Python\\lib\\site-packages\\pandas\\_libs\\tslibs\\timezones.pyx\u001b[0m in \u001b[0;36mpandas._libs.tslibs.timezones.get_dst_info\u001b[1;34m()\u001b[0m\n",
      "\u001b[1;31mAttributeError\u001b[0m: 'NoneType' object has no attribute 'total_seconds'"
     ]
    },
    {
     "name": "stderr",
     "output_type": "stream",
     "text": [
      "Exception ignored in: 'pandas._libs.tslibs.conversion._localize_tso'\n",
      "Traceback (most recent call last):\n",
      "  File \"pandas\\_libs\\tslibs\\tzconversion.pyx\", line 85, in pandas._libs.tslibs.tzconversion.Localizer.__cinit__\n",
      "  File \"pandas\\_libs\\tslibs\\timezones.pyx\", line 306, in pandas._libs.tslibs.timezones.get_dst_info\n",
      "AttributeError: 'NoneType' object has no attribute 'total_seconds'\n"
     ]
    },
    {
     "ename": "AttributeError",
     "evalue": "'NoneType' object has no attribute 'total_seconds'",
     "output_type": "error",
     "traceback": [
      "\u001b[1;31m---------------------------------------------------------------------------\u001b[0m",
      "\u001b[1;31mAttributeError\u001b[0m                            Traceback (most recent call last)",
      "\u001b[1;32mc:\\Users\\henry.gu\\Anaconda3\\envs\\Python\\lib\\site-packages\\pandas\\_libs\\tslibs\\tzconversion.pyx\u001b[0m in \u001b[0;36mpandas._libs.tslibs.tzconversion.Localizer.__cinit__\u001b[1;34m()\u001b[0m\n",
      "\u001b[1;32mc:\\Users\\henry.gu\\Anaconda3\\envs\\Python\\lib\\site-packages\\pandas\\_libs\\tslibs\\timezones.pyx\u001b[0m in \u001b[0;36mpandas._libs.tslibs.timezones.get_dst_info\u001b[1;34m()\u001b[0m\n",
      "\u001b[1;31mAttributeError\u001b[0m: 'NoneType' object has no attribute 'total_seconds'"
     ]
    },
    {
     "name": "stderr",
     "output_type": "stream",
     "text": [
      "Exception ignored in: 'pandas._libs.tslibs.conversion._localize_tso'\n",
      "Traceback (most recent call last):\n",
      "  File \"pandas\\_libs\\tslibs\\tzconversion.pyx\", line 85, in pandas._libs.tslibs.tzconversion.Localizer.__cinit__\n",
      "  File \"pandas\\_libs\\tslibs\\timezones.pyx\", line 306, in pandas._libs.tslibs.timezones.get_dst_info\n",
      "AttributeError: 'NoneType' object has no attribute 'total_seconds'\n"
     ]
    },
    {
     "ename": "AttributeError",
     "evalue": "'NoneType' object has no attribute 'total_seconds'",
     "output_type": "error",
     "traceback": [
      "\u001b[1;31m---------------------------------------------------------------------------\u001b[0m",
      "\u001b[1;31mAttributeError\u001b[0m                            Traceback (most recent call last)",
      "\u001b[1;32mc:\\Users\\henry.gu\\Anaconda3\\envs\\Python\\lib\\site-packages\\pandas\\_libs\\tslibs\\tzconversion.pyx\u001b[0m in \u001b[0;36mpandas._libs.tslibs.tzconversion.Localizer.__cinit__\u001b[1;34m()\u001b[0m\n",
      "\u001b[1;32mc:\\Users\\henry.gu\\Anaconda3\\envs\\Python\\lib\\site-packages\\pandas\\_libs\\tslibs\\timezones.pyx\u001b[0m in \u001b[0;36mpandas._libs.tslibs.timezones.get_dst_info\u001b[1;34m()\u001b[0m\n",
      "\u001b[1;31mAttributeError\u001b[0m: 'NoneType' object has no attribute 'total_seconds'"
     ]
    },
    {
     "name": "stderr",
     "output_type": "stream",
     "text": [
      "Exception ignored in: 'pandas._libs.tslibs.conversion._localize_tso'\n",
      "Traceback (most recent call last):\n",
      "  File \"pandas\\_libs\\tslibs\\tzconversion.pyx\", line 85, in pandas._libs.tslibs.tzconversion.Localizer.__cinit__\n",
      "  File \"pandas\\_libs\\tslibs\\timezones.pyx\", line 306, in pandas._libs.tslibs.timezones.get_dst_info\n",
      "AttributeError: 'NoneType' object has no attribute 'total_seconds'\n"
     ]
    },
    {
     "ename": "AttributeError",
     "evalue": "'NoneType' object has no attribute 'total_seconds'",
     "output_type": "error",
     "traceback": [
      "\u001b[1;31m---------------------------------------------------------------------------\u001b[0m",
      "\u001b[1;31mAttributeError\u001b[0m                            Traceback (most recent call last)",
      "\u001b[1;32mc:\\Users\\henry.gu\\Anaconda3\\envs\\Python\\lib\\site-packages\\pandas\\_libs\\tslibs\\tzconversion.pyx\u001b[0m in \u001b[0;36mpandas._libs.tslibs.tzconversion.Localizer.__cinit__\u001b[1;34m()\u001b[0m\n",
      "\u001b[1;32mc:\\Users\\henry.gu\\Anaconda3\\envs\\Python\\lib\\site-packages\\pandas\\_libs\\tslibs\\timezones.pyx\u001b[0m in \u001b[0;36mpandas._libs.tslibs.timezones.get_dst_info\u001b[1;34m()\u001b[0m\n",
      "\u001b[1;31mAttributeError\u001b[0m: 'NoneType' object has no attribute 'total_seconds'"
     ]
    },
    {
     "name": "stderr",
     "output_type": "stream",
     "text": [
      "Exception ignored in: 'pandas._libs.tslibs.conversion._localize_tso'\n",
      "Traceback (most recent call last):\n",
      "  File \"pandas\\_libs\\tslibs\\tzconversion.pyx\", line 85, in pandas._libs.tslibs.tzconversion.Localizer.__cinit__\n",
      "  File \"pandas\\_libs\\tslibs\\timezones.pyx\", line 306, in pandas._libs.tslibs.timezones.get_dst_info\n",
      "AttributeError: 'NoneType' object has no attribute 'total_seconds'\n"
     ]
    },
    {
     "ename": "AttributeError",
     "evalue": "'NoneType' object has no attribute 'total_seconds'",
     "output_type": "error",
     "traceback": [
      "\u001b[1;31m---------------------------------------------------------------------------\u001b[0m",
      "\u001b[1;31mAttributeError\u001b[0m                            Traceback (most recent call last)",
      "\u001b[1;32mc:\\Users\\henry.gu\\Anaconda3\\envs\\Python\\lib\\site-packages\\pandas\\_libs\\tslibs\\tzconversion.pyx\u001b[0m in \u001b[0;36mpandas._libs.tslibs.tzconversion.Localizer.__cinit__\u001b[1;34m()\u001b[0m\n",
      "\u001b[1;32mc:\\Users\\henry.gu\\Anaconda3\\envs\\Python\\lib\\site-packages\\pandas\\_libs\\tslibs\\timezones.pyx\u001b[0m in \u001b[0;36mpandas._libs.tslibs.timezones.get_dst_info\u001b[1;34m()\u001b[0m\n",
      "\u001b[1;31mAttributeError\u001b[0m: 'NoneType' object has no attribute 'total_seconds'"
     ]
    },
    {
     "name": "stderr",
     "output_type": "stream",
     "text": [
      "Exception ignored in: 'pandas._libs.tslibs.conversion._localize_tso'\n",
      "Traceback (most recent call last):\n",
      "  File \"pandas\\_libs\\tslibs\\tzconversion.pyx\", line 85, in pandas._libs.tslibs.tzconversion.Localizer.__cinit__\n",
      "  File \"pandas\\_libs\\tslibs\\timezones.pyx\", line 306, in pandas._libs.tslibs.timezones.get_dst_info\n",
      "AttributeError: 'NoneType' object has no attribute 'total_seconds'\n"
     ]
    },
    {
     "ename": "AttributeError",
     "evalue": "'NoneType' object has no attribute 'total_seconds'",
     "output_type": "error",
     "traceback": [
      "\u001b[1;31m---------------------------------------------------------------------------\u001b[0m",
      "\u001b[1;31mAttributeError\u001b[0m                            Traceback (most recent call last)",
      "\u001b[1;32mc:\\Users\\henry.gu\\Anaconda3\\envs\\Python\\lib\\site-packages\\pandas\\_libs\\tslibs\\tzconversion.pyx\u001b[0m in \u001b[0;36mpandas._libs.tslibs.tzconversion.Localizer.__cinit__\u001b[1;34m()\u001b[0m\n",
      "\u001b[1;32mc:\\Users\\henry.gu\\Anaconda3\\envs\\Python\\lib\\site-packages\\pandas\\_libs\\tslibs\\timezones.pyx\u001b[0m in \u001b[0;36mpandas._libs.tslibs.timezones.get_dst_info\u001b[1;34m()\u001b[0m\n",
      "\u001b[1;31mAttributeError\u001b[0m: 'NoneType' object has no attribute 'total_seconds'"
     ]
    },
    {
     "name": "stderr",
     "output_type": "stream",
     "text": [
      "Exception ignored in: 'pandas._libs.tslibs.conversion._localize_tso'\n",
      "Traceback (most recent call last):\n",
      "  File \"pandas\\_libs\\tslibs\\tzconversion.pyx\", line 85, in pandas._libs.tslibs.tzconversion.Localizer.__cinit__\n",
      "  File \"pandas\\_libs\\tslibs\\timezones.pyx\", line 306, in pandas._libs.tslibs.timezones.get_dst_info\n",
      "AttributeError: 'NoneType' object has no attribute 'total_seconds'\n"
     ]
    },
    {
     "ename": "AttributeError",
     "evalue": "'NoneType' object has no attribute 'total_seconds'",
     "output_type": "error",
     "traceback": [
      "\u001b[1;31m---------------------------------------------------------------------------\u001b[0m",
      "\u001b[1;31mAttributeError\u001b[0m                            Traceback (most recent call last)",
      "\u001b[1;32mc:\\Users\\henry.gu\\Anaconda3\\envs\\Python\\lib\\site-packages\\pandas\\_libs\\tslibs\\tzconversion.pyx\u001b[0m in \u001b[0;36mpandas._libs.tslibs.tzconversion.Localizer.__cinit__\u001b[1;34m()\u001b[0m\n",
      "\u001b[1;32mc:\\Users\\henry.gu\\Anaconda3\\envs\\Python\\lib\\site-packages\\pandas\\_libs\\tslibs\\timezones.pyx\u001b[0m in \u001b[0;36mpandas._libs.tslibs.timezones.get_dst_info\u001b[1;34m()\u001b[0m\n",
      "\u001b[1;31mAttributeError\u001b[0m: 'NoneType' object has no attribute 'total_seconds'"
     ]
    },
    {
     "name": "stderr",
     "output_type": "stream",
     "text": [
      "Exception ignored in: 'pandas._libs.tslibs.conversion._localize_tso'\n",
      "Traceback (most recent call last):\n",
      "  File \"pandas\\_libs\\tslibs\\tzconversion.pyx\", line 85, in pandas._libs.tslibs.tzconversion.Localizer.__cinit__\n",
      "  File \"pandas\\_libs\\tslibs\\timezones.pyx\", line 306, in pandas._libs.tslibs.timezones.get_dst_info\n",
      "AttributeError: 'NoneType' object has no attribute 'total_seconds'\n"
     ]
    },
    {
     "ename": "AttributeError",
     "evalue": "'NoneType' object has no attribute 'total_seconds'",
     "output_type": "error",
     "traceback": [
      "\u001b[1;31m---------------------------------------------------------------------------\u001b[0m",
      "\u001b[1;31mAttributeError\u001b[0m                            Traceback (most recent call last)",
      "\u001b[1;32mc:\\Users\\henry.gu\\Anaconda3\\envs\\Python\\lib\\site-packages\\pandas\\_libs\\tslibs\\tzconversion.pyx\u001b[0m in \u001b[0;36mpandas._libs.tslibs.tzconversion.Localizer.__cinit__\u001b[1;34m()\u001b[0m\n",
      "\u001b[1;32mc:\\Users\\henry.gu\\Anaconda3\\envs\\Python\\lib\\site-packages\\pandas\\_libs\\tslibs\\timezones.pyx\u001b[0m in \u001b[0;36mpandas._libs.tslibs.timezones.get_dst_info\u001b[1;34m()\u001b[0m\n",
      "\u001b[1;31mAttributeError\u001b[0m: 'NoneType' object has no attribute 'total_seconds'"
     ]
    },
    {
     "name": "stderr",
     "output_type": "stream",
     "text": [
      "Exception ignored in: 'pandas._libs.tslibs.conversion._localize_tso'\n",
      "Traceback (most recent call last):\n",
      "  File \"pandas\\_libs\\tslibs\\tzconversion.pyx\", line 85, in pandas._libs.tslibs.tzconversion.Localizer.__cinit__\n",
      "  File \"pandas\\_libs\\tslibs\\timezones.pyx\", line 306, in pandas._libs.tslibs.timezones.get_dst_info\n",
      "AttributeError: 'NoneType' object has no attribute 'total_seconds'\n"
     ]
    },
    {
     "ename": "AttributeError",
     "evalue": "'NoneType' object has no attribute 'total_seconds'",
     "output_type": "error",
     "traceback": [
      "\u001b[1;31m---------------------------------------------------------------------------\u001b[0m",
      "\u001b[1;31mAttributeError\u001b[0m                            Traceback (most recent call last)",
      "\u001b[1;32mc:\\Users\\henry.gu\\Anaconda3\\envs\\Python\\lib\\site-packages\\pandas\\_libs\\tslibs\\tzconversion.pyx\u001b[0m in \u001b[0;36mpandas._libs.tslibs.tzconversion.Localizer.__cinit__\u001b[1;34m()\u001b[0m\n",
      "\u001b[1;32mc:\\Users\\henry.gu\\Anaconda3\\envs\\Python\\lib\\site-packages\\pandas\\_libs\\tslibs\\timezones.pyx\u001b[0m in \u001b[0;36mpandas._libs.tslibs.timezones.get_dst_info\u001b[1;34m()\u001b[0m\n",
      "\u001b[1;31mAttributeError\u001b[0m: 'NoneType' object has no attribute 'total_seconds'"
     ]
    },
    {
     "name": "stderr",
     "output_type": "stream",
     "text": [
      "Exception ignored in: 'pandas._libs.tslibs.conversion._localize_tso'\n",
      "Traceback (most recent call last):\n",
      "  File \"pandas\\_libs\\tslibs\\tzconversion.pyx\", line 85, in pandas._libs.tslibs.tzconversion.Localizer.__cinit__\n",
      "  File \"pandas\\_libs\\tslibs\\timezones.pyx\", line 306, in pandas._libs.tslibs.timezones.get_dst_info\n",
      "AttributeError: 'NoneType' object has no attribute 'total_seconds'\n"
     ]
    },
    {
     "ename": "AttributeError",
     "evalue": "'NoneType' object has no attribute 'total_seconds'",
     "output_type": "error",
     "traceback": [
      "\u001b[1;31m---------------------------------------------------------------------------\u001b[0m",
      "\u001b[1;31mAttributeError\u001b[0m                            Traceback (most recent call last)",
      "\u001b[1;32mc:\\Users\\henry.gu\\Anaconda3\\envs\\Python\\lib\\site-packages\\pandas\\_libs\\tslibs\\tzconversion.pyx\u001b[0m in \u001b[0;36mpandas._libs.tslibs.tzconversion.Localizer.__cinit__\u001b[1;34m()\u001b[0m\n",
      "\u001b[1;32mc:\\Users\\henry.gu\\Anaconda3\\envs\\Python\\lib\\site-packages\\pandas\\_libs\\tslibs\\timezones.pyx\u001b[0m in \u001b[0;36mpandas._libs.tslibs.timezones.get_dst_info\u001b[1;34m()\u001b[0m\n",
      "\u001b[1;31mAttributeError\u001b[0m: 'NoneType' object has no attribute 'total_seconds'"
     ]
    },
    {
     "name": "stderr",
     "output_type": "stream",
     "text": [
      "Exception ignored in: 'pandas._libs.tslibs.conversion._localize_tso'\n",
      "Traceback (most recent call last):\n",
      "  File \"pandas\\_libs\\tslibs\\tzconversion.pyx\", line 85, in pandas._libs.tslibs.tzconversion.Localizer.__cinit__\n",
      "  File \"pandas\\_libs\\tslibs\\timezones.pyx\", line 306, in pandas._libs.tslibs.timezones.get_dst_info\n",
      "AttributeError: 'NoneType' object has no attribute 'total_seconds'\n"
     ]
    },
    {
     "ename": "AttributeError",
     "evalue": "'NoneType' object has no attribute 'total_seconds'",
     "output_type": "error",
     "traceback": [
      "\u001b[1;31m---------------------------------------------------------------------------\u001b[0m",
      "\u001b[1;31mAttributeError\u001b[0m                            Traceback (most recent call last)",
      "\u001b[1;32mc:\\Users\\henry.gu\\Anaconda3\\envs\\Python\\lib\\site-packages\\pandas\\_libs\\tslibs\\tzconversion.pyx\u001b[0m in \u001b[0;36mpandas._libs.tslibs.tzconversion.Localizer.__cinit__\u001b[1;34m()\u001b[0m\n",
      "\u001b[1;32mc:\\Users\\henry.gu\\Anaconda3\\envs\\Python\\lib\\site-packages\\pandas\\_libs\\tslibs\\timezones.pyx\u001b[0m in \u001b[0;36mpandas._libs.tslibs.timezones.get_dst_info\u001b[1;34m()\u001b[0m\n",
      "\u001b[1;31mAttributeError\u001b[0m: 'NoneType' object has no attribute 'total_seconds'"
     ]
    },
    {
     "name": "stderr",
     "output_type": "stream",
     "text": [
      "Exception ignored in: 'pandas._libs.tslibs.conversion._localize_tso'\n",
      "Traceback (most recent call last):\n",
      "  File \"pandas\\_libs\\tslibs\\tzconversion.pyx\", line 85, in pandas._libs.tslibs.tzconversion.Localizer.__cinit__\n",
      "  File \"pandas\\_libs\\tslibs\\timezones.pyx\", line 306, in pandas._libs.tslibs.timezones.get_dst_info\n",
      "AttributeError: 'NoneType' object has no attribute 'total_seconds'\n"
     ]
    },
    {
     "ename": "AttributeError",
     "evalue": "'NoneType' object has no attribute 'total_seconds'",
     "output_type": "error",
     "traceback": [
      "\u001b[1;31m---------------------------------------------------------------------------\u001b[0m",
      "\u001b[1;31mAttributeError\u001b[0m                            Traceback (most recent call last)",
      "\u001b[1;32mc:\\Users\\henry.gu\\Anaconda3\\envs\\Python\\lib\\site-packages\\pandas\\_libs\\tslibs\\tzconversion.pyx\u001b[0m in \u001b[0;36mpandas._libs.tslibs.tzconversion.Localizer.__cinit__\u001b[1;34m()\u001b[0m\n",
      "\u001b[1;32mc:\\Users\\henry.gu\\Anaconda3\\envs\\Python\\lib\\site-packages\\pandas\\_libs\\tslibs\\timezones.pyx\u001b[0m in \u001b[0;36mpandas._libs.tslibs.timezones.get_dst_info\u001b[1;34m()\u001b[0m\n",
      "\u001b[1;31mAttributeError\u001b[0m: 'NoneType' object has no attribute 'total_seconds'"
     ]
    },
    {
     "name": "stderr",
     "output_type": "stream",
     "text": [
      "Exception ignored in: 'pandas._libs.tslibs.conversion._localize_tso'\n",
      "Traceback (most recent call last):\n",
      "  File \"pandas\\_libs\\tslibs\\tzconversion.pyx\", line 85, in pandas._libs.tslibs.tzconversion.Localizer.__cinit__\n",
      "  File \"pandas\\_libs\\tslibs\\timezones.pyx\", line 306, in pandas._libs.tslibs.timezones.get_dst_info\n",
      "AttributeError: 'NoneType' object has no attribute 'total_seconds'\n"
     ]
    },
    {
     "ename": "AttributeError",
     "evalue": "'NoneType' object has no attribute 'total_seconds'",
     "output_type": "error",
     "traceback": [
      "\u001b[1;31m---------------------------------------------------------------------------\u001b[0m",
      "\u001b[1;31mAttributeError\u001b[0m                            Traceback (most recent call last)",
      "\u001b[1;32mc:\\Users\\henry.gu\\Anaconda3\\envs\\Python\\lib\\site-packages\\pandas\\_libs\\tslibs\\tzconversion.pyx\u001b[0m in \u001b[0;36mpandas._libs.tslibs.tzconversion.Localizer.__cinit__\u001b[1;34m()\u001b[0m\n",
      "\u001b[1;32mc:\\Users\\henry.gu\\Anaconda3\\envs\\Python\\lib\\site-packages\\pandas\\_libs\\tslibs\\timezones.pyx\u001b[0m in \u001b[0;36mpandas._libs.tslibs.timezones.get_dst_info\u001b[1;34m()\u001b[0m\n",
      "\u001b[1;31mAttributeError\u001b[0m: 'NoneType' object has no attribute 'total_seconds'"
     ]
    },
    {
     "name": "stderr",
     "output_type": "stream",
     "text": [
      "Exception ignored in: 'pandas._libs.tslibs.conversion._localize_tso'\n",
      "Traceback (most recent call last):\n",
      "  File \"pandas\\_libs\\tslibs\\tzconversion.pyx\", line 85, in pandas._libs.tslibs.tzconversion.Localizer.__cinit__\n",
      "  File \"pandas\\_libs\\tslibs\\timezones.pyx\", line 306, in pandas._libs.tslibs.timezones.get_dst_info\n",
      "AttributeError: 'NoneType' object has no attribute 'total_seconds'\n"
     ]
    },
    {
     "ename": "AttributeError",
     "evalue": "'NoneType' object has no attribute 'total_seconds'",
     "output_type": "error",
     "traceback": [
      "\u001b[1;31m---------------------------------------------------------------------------\u001b[0m",
      "\u001b[1;31mAttributeError\u001b[0m                            Traceback (most recent call last)",
      "\u001b[1;32mc:\\Users\\henry.gu\\Anaconda3\\envs\\Python\\lib\\site-packages\\pandas\\_libs\\tslibs\\tzconversion.pyx\u001b[0m in \u001b[0;36mpandas._libs.tslibs.tzconversion.Localizer.__cinit__\u001b[1;34m()\u001b[0m\n",
      "\u001b[1;32mc:\\Users\\henry.gu\\Anaconda3\\envs\\Python\\lib\\site-packages\\pandas\\_libs\\tslibs\\timezones.pyx\u001b[0m in \u001b[0;36mpandas._libs.tslibs.timezones.get_dst_info\u001b[1;34m()\u001b[0m\n",
      "\u001b[1;31mAttributeError\u001b[0m: 'NoneType' object has no attribute 'total_seconds'"
     ]
    },
    {
     "name": "stderr",
     "output_type": "stream",
     "text": [
      "Exception ignored in: 'pandas._libs.tslibs.conversion._localize_tso'\n",
      "Traceback (most recent call last):\n",
      "  File \"pandas\\_libs\\tslibs\\tzconversion.pyx\", line 85, in pandas._libs.tslibs.tzconversion.Localizer.__cinit__\n",
      "  File \"pandas\\_libs\\tslibs\\timezones.pyx\", line 306, in pandas._libs.tslibs.timezones.get_dst_info\n",
      "AttributeError: 'NoneType' object has no attribute 'total_seconds'\n"
     ]
    },
    {
     "ename": "AttributeError",
     "evalue": "'NoneType' object has no attribute 'total_seconds'",
     "output_type": "error",
     "traceback": [
      "\u001b[1;31m---------------------------------------------------------------------------\u001b[0m",
      "\u001b[1;31mAttributeError\u001b[0m                            Traceback (most recent call last)",
      "\u001b[1;32mc:\\Users\\henry.gu\\Anaconda3\\envs\\Python\\lib\\site-packages\\pandas\\_libs\\tslibs\\tzconversion.pyx\u001b[0m in \u001b[0;36mpandas._libs.tslibs.tzconversion.Localizer.__cinit__\u001b[1;34m()\u001b[0m\n",
      "\u001b[1;32mc:\\Users\\henry.gu\\Anaconda3\\envs\\Python\\lib\\site-packages\\pandas\\_libs\\tslibs\\timezones.pyx\u001b[0m in \u001b[0;36mpandas._libs.tslibs.timezones.get_dst_info\u001b[1;34m()\u001b[0m\n",
      "\u001b[1;31mAttributeError\u001b[0m: 'NoneType' object has no attribute 'total_seconds'"
     ]
    },
    {
     "name": "stderr",
     "output_type": "stream",
     "text": [
      "Exception ignored in: 'pandas._libs.tslibs.conversion._localize_tso'\n",
      "Traceback (most recent call last):\n",
      "  File \"pandas\\_libs\\tslibs\\tzconversion.pyx\", line 85, in pandas._libs.tslibs.tzconversion.Localizer.__cinit__\n",
      "  File \"pandas\\_libs\\tslibs\\timezones.pyx\", line 306, in pandas._libs.tslibs.timezones.get_dst_info\n",
      "AttributeError: 'NoneType' object has no attribute 'total_seconds'\n"
     ]
    },
    {
     "ename": "AttributeError",
     "evalue": "'NoneType' object has no attribute 'total_seconds'",
     "output_type": "error",
     "traceback": [
      "\u001b[1;31m---------------------------------------------------------------------------\u001b[0m",
      "\u001b[1;31mAttributeError\u001b[0m                            Traceback (most recent call last)",
      "\u001b[1;32mc:\\Users\\henry.gu\\Anaconda3\\envs\\Python\\lib\\site-packages\\pandas\\_libs\\tslibs\\tzconversion.pyx\u001b[0m in \u001b[0;36mpandas._libs.tslibs.tzconversion.Localizer.__cinit__\u001b[1;34m()\u001b[0m\n",
      "\u001b[1;32mc:\\Users\\henry.gu\\Anaconda3\\envs\\Python\\lib\\site-packages\\pandas\\_libs\\tslibs\\timezones.pyx\u001b[0m in \u001b[0;36mpandas._libs.tslibs.timezones.get_dst_info\u001b[1;34m()\u001b[0m\n",
      "\u001b[1;31mAttributeError\u001b[0m: 'NoneType' object has no attribute 'total_seconds'"
     ]
    },
    {
     "name": "stderr",
     "output_type": "stream",
     "text": [
      "Exception ignored in: 'pandas._libs.tslibs.conversion._localize_tso'\n",
      "Traceback (most recent call last):\n",
      "  File \"pandas\\_libs\\tslibs\\tzconversion.pyx\", line 85, in pandas._libs.tslibs.tzconversion.Localizer.__cinit__\n",
      "  File \"pandas\\_libs\\tslibs\\timezones.pyx\", line 306, in pandas._libs.tslibs.timezones.get_dst_info\n",
      "AttributeError: 'NoneType' object has no attribute 'total_seconds'\n"
     ]
    },
    {
     "ename": "AttributeError",
     "evalue": "'NoneType' object has no attribute 'total_seconds'",
     "output_type": "error",
     "traceback": [
      "\u001b[1;31m---------------------------------------------------------------------------\u001b[0m",
      "\u001b[1;31mAttributeError\u001b[0m                            Traceback (most recent call last)",
      "\u001b[1;32mc:\\Users\\henry.gu\\Anaconda3\\envs\\Python\\lib\\site-packages\\pandas\\_libs\\tslibs\\tzconversion.pyx\u001b[0m in \u001b[0;36mpandas._libs.tslibs.tzconversion.Localizer.__cinit__\u001b[1;34m()\u001b[0m\n",
      "\u001b[1;32mc:\\Users\\henry.gu\\Anaconda3\\envs\\Python\\lib\\site-packages\\pandas\\_libs\\tslibs\\timezones.pyx\u001b[0m in \u001b[0;36mpandas._libs.tslibs.timezones.get_dst_info\u001b[1;34m()\u001b[0m\n",
      "\u001b[1;31mAttributeError\u001b[0m: 'NoneType' object has no attribute 'total_seconds'"
     ]
    },
    {
     "name": "stderr",
     "output_type": "stream",
     "text": [
      "Exception ignored in: 'pandas._libs.tslibs.conversion._localize_tso'\n",
      "Traceback (most recent call last):\n",
      "  File \"pandas\\_libs\\tslibs\\tzconversion.pyx\", line 85, in pandas._libs.tslibs.tzconversion.Localizer.__cinit__\n",
      "  File \"pandas\\_libs\\tslibs\\timezones.pyx\", line 306, in pandas._libs.tslibs.timezones.get_dst_info\n",
      "AttributeError: 'NoneType' object has no attribute 'total_seconds'\n"
     ]
    },
    {
     "ename": "AttributeError",
     "evalue": "'NoneType' object has no attribute 'total_seconds'",
     "output_type": "error",
     "traceback": [
      "\u001b[1;31m---------------------------------------------------------------------------\u001b[0m",
      "\u001b[1;31mAttributeError\u001b[0m                            Traceback (most recent call last)",
      "\u001b[1;32mc:\\Users\\henry.gu\\Anaconda3\\envs\\Python\\lib\\site-packages\\pandas\\_libs\\tslibs\\tzconversion.pyx\u001b[0m in \u001b[0;36mpandas._libs.tslibs.tzconversion.Localizer.__cinit__\u001b[1;34m()\u001b[0m\n",
      "\u001b[1;32mc:\\Users\\henry.gu\\Anaconda3\\envs\\Python\\lib\\site-packages\\pandas\\_libs\\tslibs\\timezones.pyx\u001b[0m in \u001b[0;36mpandas._libs.tslibs.timezones.get_dst_info\u001b[1;34m()\u001b[0m\n",
      "\u001b[1;31mAttributeError\u001b[0m: 'NoneType' object has no attribute 'total_seconds'"
     ]
    },
    {
     "name": "stderr",
     "output_type": "stream",
     "text": [
      "Exception ignored in: 'pandas._libs.tslibs.conversion._localize_tso'\n",
      "Traceback (most recent call last):\n",
      "  File \"pandas\\_libs\\tslibs\\tzconversion.pyx\", line 85, in pandas._libs.tslibs.tzconversion.Localizer.__cinit__\n",
      "  File \"pandas\\_libs\\tslibs\\timezones.pyx\", line 306, in pandas._libs.tslibs.timezones.get_dst_info\n",
      "AttributeError: 'NoneType' object has no attribute 'total_seconds'\n"
     ]
    },
    {
     "ename": "AttributeError",
     "evalue": "'NoneType' object has no attribute 'total_seconds'",
     "output_type": "error",
     "traceback": [
      "\u001b[1;31m---------------------------------------------------------------------------\u001b[0m",
      "\u001b[1;31mAttributeError\u001b[0m                            Traceback (most recent call last)",
      "\u001b[1;32mc:\\Users\\henry.gu\\Anaconda3\\envs\\Python\\lib\\site-packages\\pandas\\_libs\\tslibs\\tzconversion.pyx\u001b[0m in \u001b[0;36mpandas._libs.tslibs.tzconversion.Localizer.__cinit__\u001b[1;34m()\u001b[0m\n",
      "\u001b[1;32mc:\\Users\\henry.gu\\Anaconda3\\envs\\Python\\lib\\site-packages\\pandas\\_libs\\tslibs\\timezones.pyx\u001b[0m in \u001b[0;36mpandas._libs.tslibs.timezones.get_dst_info\u001b[1;34m()\u001b[0m\n",
      "\u001b[1;31mAttributeError\u001b[0m: 'NoneType' object has no attribute 'total_seconds'"
     ]
    },
    {
     "name": "stderr",
     "output_type": "stream",
     "text": [
      "Exception ignored in: 'pandas._libs.tslibs.conversion._localize_tso'\n",
      "Traceback (most recent call last):\n",
      "  File \"pandas\\_libs\\tslibs\\tzconversion.pyx\", line 85, in pandas._libs.tslibs.tzconversion.Localizer.__cinit__\n",
      "  File \"pandas\\_libs\\tslibs\\timezones.pyx\", line 306, in pandas._libs.tslibs.timezones.get_dst_info\n",
      "AttributeError: 'NoneType' object has no attribute 'total_seconds'\n"
     ]
    },
    {
     "ename": "AttributeError",
     "evalue": "'NoneType' object has no attribute 'total_seconds'",
     "output_type": "error",
     "traceback": [
      "\u001b[1;31m---------------------------------------------------------------------------\u001b[0m",
      "\u001b[1;31mAttributeError\u001b[0m                            Traceback (most recent call last)",
      "\u001b[1;32mc:\\Users\\henry.gu\\Anaconda3\\envs\\Python\\lib\\site-packages\\pandas\\_libs\\tslibs\\tzconversion.pyx\u001b[0m in \u001b[0;36mpandas._libs.tslibs.tzconversion.Localizer.__cinit__\u001b[1;34m()\u001b[0m\n",
      "\u001b[1;32mc:\\Users\\henry.gu\\Anaconda3\\envs\\Python\\lib\\site-packages\\pandas\\_libs\\tslibs\\timezones.pyx\u001b[0m in \u001b[0;36mpandas._libs.tslibs.timezones.get_dst_info\u001b[1;34m()\u001b[0m\n",
      "\u001b[1;31mAttributeError\u001b[0m: 'NoneType' object has no attribute 'total_seconds'"
     ]
    },
    {
     "name": "stderr",
     "output_type": "stream",
     "text": [
      "Exception ignored in: 'pandas._libs.tslibs.conversion._localize_tso'\n",
      "Traceback (most recent call last):\n",
      "  File \"pandas\\_libs\\tslibs\\tzconversion.pyx\", line 85, in pandas._libs.tslibs.tzconversion.Localizer.__cinit__\n",
      "  File \"pandas\\_libs\\tslibs\\timezones.pyx\", line 306, in pandas._libs.tslibs.timezones.get_dst_info\n",
      "AttributeError: 'NoneType' object has no attribute 'total_seconds'\n"
     ]
    },
    {
     "ename": "AttributeError",
     "evalue": "'NoneType' object has no attribute 'total_seconds'",
     "output_type": "error",
     "traceback": [
      "\u001b[1;31m---------------------------------------------------------------------------\u001b[0m",
      "\u001b[1;31mAttributeError\u001b[0m                            Traceback (most recent call last)",
      "\u001b[1;32mc:\\Users\\henry.gu\\Anaconda3\\envs\\Python\\lib\\site-packages\\pandas\\_libs\\tslibs\\tzconversion.pyx\u001b[0m in \u001b[0;36mpandas._libs.tslibs.tzconversion.Localizer.__cinit__\u001b[1;34m()\u001b[0m\n",
      "\u001b[1;32mc:\\Users\\henry.gu\\Anaconda3\\envs\\Python\\lib\\site-packages\\pandas\\_libs\\tslibs\\timezones.pyx\u001b[0m in \u001b[0;36mpandas._libs.tslibs.timezones.get_dst_info\u001b[1;34m()\u001b[0m\n",
      "\u001b[1;31mAttributeError\u001b[0m: 'NoneType' object has no attribute 'total_seconds'"
     ]
    },
    {
     "name": "stderr",
     "output_type": "stream",
     "text": [
      "Exception ignored in: 'pandas._libs.tslibs.conversion._localize_tso'\n",
      "Traceback (most recent call last):\n",
      "  File \"pandas\\_libs\\tslibs\\tzconversion.pyx\", line 85, in pandas._libs.tslibs.tzconversion.Localizer.__cinit__\n",
      "  File \"pandas\\_libs\\tslibs\\timezones.pyx\", line 306, in pandas._libs.tslibs.timezones.get_dst_info\n",
      "AttributeError: 'NoneType' object has no attribute 'total_seconds'\n"
     ]
    },
    {
     "ename": "AttributeError",
     "evalue": "'NoneType' object has no attribute 'total_seconds'",
     "output_type": "error",
     "traceback": [
      "\u001b[1;31m---------------------------------------------------------------------------\u001b[0m",
      "\u001b[1;31mAttributeError\u001b[0m                            Traceback (most recent call last)",
      "\u001b[1;32mc:\\Users\\henry.gu\\Anaconda3\\envs\\Python\\lib\\site-packages\\pandas\\_libs\\tslibs\\tzconversion.pyx\u001b[0m in \u001b[0;36mpandas._libs.tslibs.tzconversion.Localizer.__cinit__\u001b[1;34m()\u001b[0m\n",
      "\u001b[1;32mc:\\Users\\henry.gu\\Anaconda3\\envs\\Python\\lib\\site-packages\\pandas\\_libs\\tslibs\\timezones.pyx\u001b[0m in \u001b[0;36mpandas._libs.tslibs.timezones.get_dst_info\u001b[1;34m()\u001b[0m\n",
      "\u001b[1;31mAttributeError\u001b[0m: 'NoneType' object has no attribute 'total_seconds'"
     ]
    },
    {
     "name": "stderr",
     "output_type": "stream",
     "text": [
      "Exception ignored in: 'pandas._libs.tslibs.conversion._localize_tso'\n",
      "Traceback (most recent call last):\n",
      "  File \"pandas\\_libs\\tslibs\\tzconversion.pyx\", line 85, in pandas._libs.tslibs.tzconversion.Localizer.__cinit__\n",
      "  File \"pandas\\_libs\\tslibs\\timezones.pyx\", line 306, in pandas._libs.tslibs.timezones.get_dst_info\n",
      "AttributeError: 'NoneType' object has no attribute 'total_seconds'\n"
     ]
    },
    {
     "ename": "AttributeError",
     "evalue": "'NoneType' object has no attribute 'total_seconds'",
     "output_type": "error",
     "traceback": [
      "\u001b[1;31m---------------------------------------------------------------------------\u001b[0m",
      "\u001b[1;31mAttributeError\u001b[0m                            Traceback (most recent call last)",
      "\u001b[1;32mc:\\Users\\henry.gu\\Anaconda3\\envs\\Python\\lib\\site-packages\\pandas\\_libs\\tslibs\\tzconversion.pyx\u001b[0m in \u001b[0;36mpandas._libs.tslibs.tzconversion.Localizer.__cinit__\u001b[1;34m()\u001b[0m\n",
      "\u001b[1;32mc:\\Users\\henry.gu\\Anaconda3\\envs\\Python\\lib\\site-packages\\pandas\\_libs\\tslibs\\timezones.pyx\u001b[0m in \u001b[0;36mpandas._libs.tslibs.timezones.get_dst_info\u001b[1;34m()\u001b[0m\n",
      "\u001b[1;31mAttributeError\u001b[0m: 'NoneType' object has no attribute 'total_seconds'"
     ]
    },
    {
     "name": "stderr",
     "output_type": "stream",
     "text": [
      "Exception ignored in: 'pandas._libs.tslibs.conversion._localize_tso'\n",
      "Traceback (most recent call last):\n",
      "  File \"pandas\\_libs\\tslibs\\tzconversion.pyx\", line 85, in pandas._libs.tslibs.tzconversion.Localizer.__cinit__\n",
      "  File \"pandas\\_libs\\tslibs\\timezones.pyx\", line 306, in pandas._libs.tslibs.timezones.get_dst_info\n",
      "AttributeError: 'NoneType' object has no attribute 'total_seconds'\n"
     ]
    },
    {
     "ename": "AttributeError",
     "evalue": "'NoneType' object has no attribute 'total_seconds'",
     "output_type": "error",
     "traceback": [
      "\u001b[1;31m---------------------------------------------------------------------------\u001b[0m",
      "\u001b[1;31mAttributeError\u001b[0m                            Traceback (most recent call last)",
      "\u001b[1;32mc:\\Users\\henry.gu\\Anaconda3\\envs\\Python\\lib\\site-packages\\pandas\\_libs\\tslibs\\tzconversion.pyx\u001b[0m in \u001b[0;36mpandas._libs.tslibs.tzconversion.Localizer.__cinit__\u001b[1;34m()\u001b[0m\n",
      "\u001b[1;32mc:\\Users\\henry.gu\\Anaconda3\\envs\\Python\\lib\\site-packages\\pandas\\_libs\\tslibs\\timezones.pyx\u001b[0m in \u001b[0;36mpandas._libs.tslibs.timezones.get_dst_info\u001b[1;34m()\u001b[0m\n",
      "\u001b[1;31mAttributeError\u001b[0m: 'NoneType' object has no attribute 'total_seconds'"
     ]
    },
    {
     "name": "stderr",
     "output_type": "stream",
     "text": [
      "Exception ignored in: 'pandas._libs.tslibs.conversion._localize_tso'\n",
      "Traceback (most recent call last):\n",
      "  File \"pandas\\_libs\\tslibs\\tzconversion.pyx\", line 85, in pandas._libs.tslibs.tzconversion.Localizer.__cinit__\n",
      "  File \"pandas\\_libs\\tslibs\\timezones.pyx\", line 306, in pandas._libs.tslibs.timezones.get_dst_info\n",
      "AttributeError: 'NoneType' object has no attribute 'total_seconds'\n"
     ]
    },
    {
     "ename": "AttributeError",
     "evalue": "'NoneType' object has no attribute 'total_seconds'",
     "output_type": "error",
     "traceback": [
      "\u001b[1;31m---------------------------------------------------------------------------\u001b[0m",
      "\u001b[1;31mAttributeError\u001b[0m                            Traceback (most recent call last)",
      "\u001b[1;32mc:\\Users\\henry.gu\\Anaconda3\\envs\\Python\\lib\\site-packages\\pandas\\_libs\\tslibs\\tzconversion.pyx\u001b[0m in \u001b[0;36mpandas._libs.tslibs.tzconversion.Localizer.__cinit__\u001b[1;34m()\u001b[0m\n",
      "\u001b[1;32mc:\\Users\\henry.gu\\Anaconda3\\envs\\Python\\lib\\site-packages\\pandas\\_libs\\tslibs\\timezones.pyx\u001b[0m in \u001b[0;36mpandas._libs.tslibs.timezones.get_dst_info\u001b[1;34m()\u001b[0m\n",
      "\u001b[1;31mAttributeError\u001b[0m: 'NoneType' object has no attribute 'total_seconds'"
     ]
    },
    {
     "name": "stderr",
     "output_type": "stream",
     "text": [
      "Exception ignored in: 'pandas._libs.tslibs.conversion._localize_tso'\n",
      "Traceback (most recent call last):\n",
      "  File \"pandas\\_libs\\tslibs\\tzconversion.pyx\", line 85, in pandas._libs.tslibs.tzconversion.Localizer.__cinit__\n",
      "  File \"pandas\\_libs\\tslibs\\timezones.pyx\", line 306, in pandas._libs.tslibs.timezones.get_dst_info\n",
      "AttributeError: 'NoneType' object has no attribute 'total_seconds'\n"
     ]
    },
    {
     "ename": "AttributeError",
     "evalue": "'NoneType' object has no attribute 'total_seconds'",
     "output_type": "error",
     "traceback": [
      "\u001b[1;31m---------------------------------------------------------------------------\u001b[0m",
      "\u001b[1;31mAttributeError\u001b[0m                            Traceback (most recent call last)",
      "\u001b[1;32mc:\\Users\\henry.gu\\Anaconda3\\envs\\Python\\lib\\site-packages\\pandas\\_libs\\tslibs\\tzconversion.pyx\u001b[0m in \u001b[0;36mpandas._libs.tslibs.tzconversion.Localizer.__cinit__\u001b[1;34m()\u001b[0m\n",
      "\u001b[1;32mc:\\Users\\henry.gu\\Anaconda3\\envs\\Python\\lib\\site-packages\\pandas\\_libs\\tslibs\\timezones.pyx\u001b[0m in \u001b[0;36mpandas._libs.tslibs.timezones.get_dst_info\u001b[1;34m()\u001b[0m\n",
      "\u001b[1;31mAttributeError\u001b[0m: 'NoneType' object has no attribute 'total_seconds'"
     ]
    },
    {
     "name": "stderr",
     "output_type": "stream",
     "text": [
      "Exception ignored in: 'pandas._libs.tslibs.conversion._localize_tso'\n",
      "Traceback (most recent call last):\n",
      "  File \"pandas\\_libs\\tslibs\\tzconversion.pyx\", line 85, in pandas._libs.tslibs.tzconversion.Localizer.__cinit__\n",
      "  File \"pandas\\_libs\\tslibs\\timezones.pyx\", line 306, in pandas._libs.tslibs.timezones.get_dst_info\n",
      "AttributeError: 'NoneType' object has no attribute 'total_seconds'\n"
     ]
    },
    {
     "ename": "AttributeError",
     "evalue": "'NoneType' object has no attribute 'total_seconds'",
     "output_type": "error",
     "traceback": [
      "\u001b[1;31m---------------------------------------------------------------------------\u001b[0m",
      "\u001b[1;31mAttributeError\u001b[0m                            Traceback (most recent call last)",
      "\u001b[1;32mc:\\Users\\henry.gu\\Anaconda3\\envs\\Python\\lib\\site-packages\\pandas\\_libs\\tslibs\\tzconversion.pyx\u001b[0m in \u001b[0;36mpandas._libs.tslibs.tzconversion.Localizer.__cinit__\u001b[1;34m()\u001b[0m\n",
      "\u001b[1;32mc:\\Users\\henry.gu\\Anaconda3\\envs\\Python\\lib\\site-packages\\pandas\\_libs\\tslibs\\timezones.pyx\u001b[0m in \u001b[0;36mpandas._libs.tslibs.timezones.get_dst_info\u001b[1;34m()\u001b[0m\n",
      "\u001b[1;31mAttributeError\u001b[0m: 'NoneType' object has no attribute 'total_seconds'"
     ]
    },
    {
     "name": "stderr",
     "output_type": "stream",
     "text": [
      "Exception ignored in: 'pandas._libs.tslibs.conversion._localize_tso'\n",
      "Traceback (most recent call last):\n",
      "  File \"pandas\\_libs\\tslibs\\tzconversion.pyx\", line 85, in pandas._libs.tslibs.tzconversion.Localizer.__cinit__\n",
      "  File \"pandas\\_libs\\tslibs\\timezones.pyx\", line 306, in pandas._libs.tslibs.timezones.get_dst_info\n",
      "AttributeError: 'NoneType' object has no attribute 'total_seconds'\n"
     ]
    },
    {
     "ename": "AttributeError",
     "evalue": "'NoneType' object has no attribute 'total_seconds'",
     "output_type": "error",
     "traceback": [
      "\u001b[1;31m---------------------------------------------------------------------------\u001b[0m",
      "\u001b[1;31mAttributeError\u001b[0m                            Traceback (most recent call last)",
      "\u001b[1;32mc:\\Users\\henry.gu\\Anaconda3\\envs\\Python\\lib\\site-packages\\pandas\\_libs\\tslibs\\tzconversion.pyx\u001b[0m in \u001b[0;36mpandas._libs.tslibs.tzconversion.Localizer.__cinit__\u001b[1;34m()\u001b[0m\n",
      "\u001b[1;32mc:\\Users\\henry.gu\\Anaconda3\\envs\\Python\\lib\\site-packages\\pandas\\_libs\\tslibs\\timezones.pyx\u001b[0m in \u001b[0;36mpandas._libs.tslibs.timezones.get_dst_info\u001b[1;34m()\u001b[0m\n",
      "\u001b[1;31mAttributeError\u001b[0m: 'NoneType' object has no attribute 'total_seconds'"
     ]
    },
    {
     "name": "stderr",
     "output_type": "stream",
     "text": [
      "Exception ignored in: 'pandas._libs.tslibs.conversion._localize_tso'\n",
      "Traceback (most recent call last):\n",
      "  File \"pandas\\_libs\\tslibs\\tzconversion.pyx\", line 85, in pandas._libs.tslibs.tzconversion.Localizer.__cinit__\n",
      "  File \"pandas\\_libs\\tslibs\\timezones.pyx\", line 306, in pandas._libs.tslibs.timezones.get_dst_info\n",
      "AttributeError: 'NoneType' object has no attribute 'total_seconds'\n"
     ]
    },
    {
     "ename": "AttributeError",
     "evalue": "'NoneType' object has no attribute 'total_seconds'",
     "output_type": "error",
     "traceback": [
      "\u001b[1;31m---------------------------------------------------------------------------\u001b[0m",
      "\u001b[1;31mAttributeError\u001b[0m                            Traceback (most recent call last)",
      "\u001b[1;32mc:\\Users\\henry.gu\\Anaconda3\\envs\\Python\\lib\\site-packages\\pandas\\_libs\\tslibs\\tzconversion.pyx\u001b[0m in \u001b[0;36mpandas._libs.tslibs.tzconversion.Localizer.__cinit__\u001b[1;34m()\u001b[0m\n",
      "\u001b[1;32mc:\\Users\\henry.gu\\Anaconda3\\envs\\Python\\lib\\site-packages\\pandas\\_libs\\tslibs\\timezones.pyx\u001b[0m in \u001b[0;36mpandas._libs.tslibs.timezones.get_dst_info\u001b[1;34m()\u001b[0m\n",
      "\u001b[1;31mAttributeError\u001b[0m: 'NoneType' object has no attribute 'total_seconds'"
     ]
    },
    {
     "name": "stderr",
     "output_type": "stream",
     "text": [
      "Exception ignored in: 'pandas._libs.tslibs.conversion._localize_tso'\n",
      "Traceback (most recent call last):\n",
      "  File \"pandas\\_libs\\tslibs\\tzconversion.pyx\", line 85, in pandas._libs.tslibs.tzconversion.Localizer.__cinit__\n",
      "  File \"pandas\\_libs\\tslibs\\timezones.pyx\", line 306, in pandas._libs.tslibs.timezones.get_dst_info\n",
      "AttributeError: 'NoneType' object has no attribute 'total_seconds'\n"
     ]
    },
    {
     "ename": "AttributeError",
     "evalue": "'NoneType' object has no attribute 'total_seconds'",
     "output_type": "error",
     "traceback": [
      "\u001b[1;31m---------------------------------------------------------------------------\u001b[0m",
      "\u001b[1;31mAttributeError\u001b[0m                            Traceback (most recent call last)",
      "\u001b[1;32mc:\\Users\\henry.gu\\Anaconda3\\envs\\Python\\lib\\site-packages\\pandas\\_libs\\tslibs\\tzconversion.pyx\u001b[0m in \u001b[0;36mpandas._libs.tslibs.tzconversion.Localizer.__cinit__\u001b[1;34m()\u001b[0m\n",
      "\u001b[1;32mc:\\Users\\henry.gu\\Anaconda3\\envs\\Python\\lib\\site-packages\\pandas\\_libs\\tslibs\\timezones.pyx\u001b[0m in \u001b[0;36mpandas._libs.tslibs.timezones.get_dst_info\u001b[1;34m()\u001b[0m\n",
      "\u001b[1;31mAttributeError\u001b[0m: 'NoneType' object has no attribute 'total_seconds'"
     ]
    },
    {
     "name": "stderr",
     "output_type": "stream",
     "text": [
      "Exception ignored in: 'pandas._libs.tslibs.conversion._localize_tso'\n",
      "Traceback (most recent call last):\n",
      "  File \"pandas\\_libs\\tslibs\\tzconversion.pyx\", line 85, in pandas._libs.tslibs.tzconversion.Localizer.__cinit__\n",
      "  File \"pandas\\_libs\\tslibs\\timezones.pyx\", line 306, in pandas._libs.tslibs.timezones.get_dst_info\n",
      "AttributeError: 'NoneType' object has no attribute 'total_seconds'\n"
     ]
    },
    {
     "ename": "AttributeError",
     "evalue": "'NoneType' object has no attribute 'total_seconds'",
     "output_type": "error",
     "traceback": [
      "\u001b[1;31m---------------------------------------------------------------------------\u001b[0m",
      "\u001b[1;31mAttributeError\u001b[0m                            Traceback (most recent call last)",
      "\u001b[1;32mc:\\Users\\henry.gu\\Anaconda3\\envs\\Python\\lib\\site-packages\\pandas\\_libs\\tslibs\\tzconversion.pyx\u001b[0m in \u001b[0;36mpandas._libs.tslibs.tzconversion.Localizer.__cinit__\u001b[1;34m()\u001b[0m\n",
      "\u001b[1;32mc:\\Users\\henry.gu\\Anaconda3\\envs\\Python\\lib\\site-packages\\pandas\\_libs\\tslibs\\timezones.pyx\u001b[0m in \u001b[0;36mpandas._libs.tslibs.timezones.get_dst_info\u001b[1;34m()\u001b[0m\n",
      "\u001b[1;31mAttributeError\u001b[0m: 'NoneType' object has no attribute 'total_seconds'"
     ]
    },
    {
     "name": "stderr",
     "output_type": "stream",
     "text": [
      "Exception ignored in: 'pandas._libs.tslibs.conversion._localize_tso'\n",
      "Traceback (most recent call last):\n",
      "  File \"pandas\\_libs\\tslibs\\tzconversion.pyx\", line 85, in pandas._libs.tslibs.tzconversion.Localizer.__cinit__\n",
      "  File \"pandas\\_libs\\tslibs\\timezones.pyx\", line 306, in pandas._libs.tslibs.timezones.get_dst_info\n",
      "AttributeError: 'NoneType' object has no attribute 'total_seconds'\n"
     ]
    },
    {
     "ename": "AttributeError",
     "evalue": "'NoneType' object has no attribute 'total_seconds'",
     "output_type": "error",
     "traceback": [
      "\u001b[1;31m---------------------------------------------------------------------------\u001b[0m",
      "\u001b[1;31mAttributeError\u001b[0m                            Traceback (most recent call last)",
      "\u001b[1;32mc:\\Users\\henry.gu\\Anaconda3\\envs\\Python\\lib\\site-packages\\pandas\\_libs\\tslibs\\tzconversion.pyx\u001b[0m in \u001b[0;36mpandas._libs.tslibs.tzconversion.Localizer.__cinit__\u001b[1;34m()\u001b[0m\n",
      "\u001b[1;32mc:\\Users\\henry.gu\\Anaconda3\\envs\\Python\\lib\\site-packages\\pandas\\_libs\\tslibs\\timezones.pyx\u001b[0m in \u001b[0;36mpandas._libs.tslibs.timezones.get_dst_info\u001b[1;34m()\u001b[0m\n",
      "\u001b[1;31mAttributeError\u001b[0m: 'NoneType' object has no attribute 'total_seconds'"
     ]
    },
    {
     "name": "stderr",
     "output_type": "stream",
     "text": [
      "Exception ignored in: 'pandas._libs.tslibs.conversion._localize_tso'\n",
      "Traceback (most recent call last):\n",
      "  File \"pandas\\_libs\\tslibs\\tzconversion.pyx\", line 85, in pandas._libs.tslibs.tzconversion.Localizer.__cinit__\n",
      "  File \"pandas\\_libs\\tslibs\\timezones.pyx\", line 306, in pandas._libs.tslibs.timezones.get_dst_info\n",
      "AttributeError: 'NoneType' object has no attribute 'total_seconds'\n"
     ]
    },
    {
     "ename": "AttributeError",
     "evalue": "'NoneType' object has no attribute 'total_seconds'",
     "output_type": "error",
     "traceback": [
      "\u001b[1;31m---------------------------------------------------------------------------\u001b[0m",
      "\u001b[1;31mAttributeError\u001b[0m                            Traceback (most recent call last)",
      "\u001b[1;32mc:\\Users\\henry.gu\\Anaconda3\\envs\\Python\\lib\\site-packages\\pandas\\_libs\\tslibs\\tzconversion.pyx\u001b[0m in \u001b[0;36mpandas._libs.tslibs.tzconversion.Localizer.__cinit__\u001b[1;34m()\u001b[0m\n",
      "\u001b[1;32mc:\\Users\\henry.gu\\Anaconda3\\envs\\Python\\lib\\site-packages\\pandas\\_libs\\tslibs\\timezones.pyx\u001b[0m in \u001b[0;36mpandas._libs.tslibs.timezones.get_dst_info\u001b[1;34m()\u001b[0m\n",
      "\u001b[1;31mAttributeError\u001b[0m: 'NoneType' object has no attribute 'total_seconds'"
     ]
    },
    {
     "name": "stderr",
     "output_type": "stream",
     "text": [
      "Exception ignored in: 'pandas._libs.tslibs.conversion._localize_tso'\n",
      "Traceback (most recent call last):\n",
      "  File \"pandas\\_libs\\tslibs\\tzconversion.pyx\", line 85, in pandas._libs.tslibs.tzconversion.Localizer.__cinit__\n",
      "  File \"pandas\\_libs\\tslibs\\timezones.pyx\", line 306, in pandas._libs.tslibs.timezones.get_dst_info\n",
      "AttributeError: 'NoneType' object has no attribute 'total_seconds'\n"
     ]
    },
    {
     "ename": "AttributeError",
     "evalue": "'NoneType' object has no attribute 'total_seconds'",
     "output_type": "error",
     "traceback": [
      "\u001b[1;31m---------------------------------------------------------------------------\u001b[0m",
      "\u001b[1;31mAttributeError\u001b[0m                            Traceback (most recent call last)",
      "\u001b[1;32mc:\\Users\\henry.gu\\Anaconda3\\envs\\Python\\lib\\site-packages\\pandas\\_libs\\tslibs\\tzconversion.pyx\u001b[0m in \u001b[0;36mpandas._libs.tslibs.tzconversion.Localizer.__cinit__\u001b[1;34m()\u001b[0m\n",
      "\u001b[1;32mc:\\Users\\henry.gu\\Anaconda3\\envs\\Python\\lib\\site-packages\\pandas\\_libs\\tslibs\\timezones.pyx\u001b[0m in \u001b[0;36mpandas._libs.tslibs.timezones.get_dst_info\u001b[1;34m()\u001b[0m\n",
      "\u001b[1;31mAttributeError\u001b[0m: 'NoneType' object has no attribute 'total_seconds'"
     ]
    },
    {
     "name": "stderr",
     "output_type": "stream",
     "text": [
      "Exception ignored in: 'pandas._libs.tslibs.conversion._localize_tso'\n",
      "Traceback (most recent call last):\n",
      "  File \"pandas\\_libs\\tslibs\\tzconversion.pyx\", line 85, in pandas._libs.tslibs.tzconversion.Localizer.__cinit__\n",
      "  File \"pandas\\_libs\\tslibs\\timezones.pyx\", line 306, in pandas._libs.tslibs.timezones.get_dst_info\n",
      "AttributeError: 'NoneType' object has no attribute 'total_seconds'\n"
     ]
    },
    {
     "ename": "AttributeError",
     "evalue": "'NoneType' object has no attribute 'total_seconds'",
     "output_type": "error",
     "traceback": [
      "\u001b[1;31m---------------------------------------------------------------------------\u001b[0m",
      "\u001b[1;31mAttributeError\u001b[0m                            Traceback (most recent call last)",
      "\u001b[1;32mc:\\Users\\henry.gu\\Anaconda3\\envs\\Python\\lib\\site-packages\\pandas\\_libs\\tslibs\\tzconversion.pyx\u001b[0m in \u001b[0;36mpandas._libs.tslibs.tzconversion.Localizer.__cinit__\u001b[1;34m()\u001b[0m\n",
      "\u001b[1;32mc:\\Users\\henry.gu\\Anaconda3\\envs\\Python\\lib\\site-packages\\pandas\\_libs\\tslibs\\timezones.pyx\u001b[0m in \u001b[0;36mpandas._libs.tslibs.timezones.get_dst_info\u001b[1;34m()\u001b[0m\n",
      "\u001b[1;31mAttributeError\u001b[0m: 'NoneType' object has no attribute 'total_seconds'"
     ]
    },
    {
     "name": "stderr",
     "output_type": "stream",
     "text": [
      "Exception ignored in: 'pandas._libs.tslibs.conversion._localize_tso'\n",
      "Traceback (most recent call last):\n",
      "  File \"pandas\\_libs\\tslibs\\tzconversion.pyx\", line 85, in pandas._libs.tslibs.tzconversion.Localizer.__cinit__\n",
      "  File \"pandas\\_libs\\tslibs\\timezones.pyx\", line 306, in pandas._libs.tslibs.timezones.get_dst_info\n",
      "AttributeError: 'NoneType' object has no attribute 'total_seconds'\n"
     ]
    },
    {
     "ename": "AttributeError",
     "evalue": "'NoneType' object has no attribute 'total_seconds'",
     "output_type": "error",
     "traceback": [
      "\u001b[1;31m---------------------------------------------------------------------------\u001b[0m",
      "\u001b[1;31mAttributeError\u001b[0m                            Traceback (most recent call last)",
      "\u001b[1;32mc:\\Users\\henry.gu\\Anaconda3\\envs\\Python\\lib\\site-packages\\pandas\\_libs\\tslibs\\tzconversion.pyx\u001b[0m in \u001b[0;36mpandas._libs.tslibs.tzconversion.Localizer.__cinit__\u001b[1;34m()\u001b[0m\n",
      "\u001b[1;32mc:\\Users\\henry.gu\\Anaconda3\\envs\\Python\\lib\\site-packages\\pandas\\_libs\\tslibs\\timezones.pyx\u001b[0m in \u001b[0;36mpandas._libs.tslibs.timezones.get_dst_info\u001b[1;34m()\u001b[0m\n",
      "\u001b[1;31mAttributeError\u001b[0m: 'NoneType' object has no attribute 'total_seconds'"
     ]
    },
    {
     "name": "stderr",
     "output_type": "stream",
     "text": [
      "Exception ignored in: 'pandas._libs.tslibs.conversion._localize_tso'\n",
      "Traceback (most recent call last):\n",
      "  File \"pandas\\_libs\\tslibs\\tzconversion.pyx\", line 85, in pandas._libs.tslibs.tzconversion.Localizer.__cinit__\n",
      "  File \"pandas\\_libs\\tslibs\\timezones.pyx\", line 306, in pandas._libs.tslibs.timezones.get_dst_info\n",
      "AttributeError: 'NoneType' object has no attribute 'total_seconds'\n"
     ]
    },
    {
     "ename": "AttributeError",
     "evalue": "'NoneType' object has no attribute 'total_seconds'",
     "output_type": "error",
     "traceback": [
      "\u001b[1;31m---------------------------------------------------------------------------\u001b[0m",
      "\u001b[1;31mAttributeError\u001b[0m                            Traceback (most recent call last)",
      "\u001b[1;32mc:\\Users\\henry.gu\\Anaconda3\\envs\\Python\\lib\\site-packages\\pandas\\_libs\\tslibs\\tzconversion.pyx\u001b[0m in \u001b[0;36mpandas._libs.tslibs.tzconversion.Localizer.__cinit__\u001b[1;34m()\u001b[0m\n",
      "\u001b[1;32mc:\\Users\\henry.gu\\Anaconda3\\envs\\Python\\lib\\site-packages\\pandas\\_libs\\tslibs\\timezones.pyx\u001b[0m in \u001b[0;36mpandas._libs.tslibs.timezones.get_dst_info\u001b[1;34m()\u001b[0m\n",
      "\u001b[1;31mAttributeError\u001b[0m: 'NoneType' object has no attribute 'total_seconds'"
     ]
    },
    {
     "name": "stderr",
     "output_type": "stream",
     "text": [
      "Exception ignored in: 'pandas._libs.tslibs.conversion._localize_tso'\n",
      "Traceback (most recent call last):\n",
      "  File \"pandas\\_libs\\tslibs\\tzconversion.pyx\", line 85, in pandas._libs.tslibs.tzconversion.Localizer.__cinit__\n",
      "  File \"pandas\\_libs\\tslibs\\timezones.pyx\", line 306, in pandas._libs.tslibs.timezones.get_dst_info\n",
      "AttributeError: 'NoneType' object has no attribute 'total_seconds'\n"
     ]
    },
    {
     "ename": "AttributeError",
     "evalue": "'NoneType' object has no attribute 'total_seconds'",
     "output_type": "error",
     "traceback": [
      "\u001b[1;31m---------------------------------------------------------------------------\u001b[0m",
      "\u001b[1;31mAttributeError\u001b[0m                            Traceback (most recent call last)",
      "\u001b[1;32mc:\\Users\\henry.gu\\Anaconda3\\envs\\Python\\lib\\site-packages\\pandas\\_libs\\tslibs\\tzconversion.pyx\u001b[0m in \u001b[0;36mpandas._libs.tslibs.tzconversion.Localizer.__cinit__\u001b[1;34m()\u001b[0m\n",
      "\u001b[1;32mc:\\Users\\henry.gu\\Anaconda3\\envs\\Python\\lib\\site-packages\\pandas\\_libs\\tslibs\\timezones.pyx\u001b[0m in \u001b[0;36mpandas._libs.tslibs.timezones.get_dst_info\u001b[1;34m()\u001b[0m\n",
      "\u001b[1;31mAttributeError\u001b[0m: 'NoneType' object has no attribute 'total_seconds'"
     ]
    },
    {
     "name": "stderr",
     "output_type": "stream",
     "text": [
      "Exception ignored in: 'pandas._libs.tslibs.conversion._localize_tso'\n",
      "Traceback (most recent call last):\n",
      "  File \"pandas\\_libs\\tslibs\\tzconversion.pyx\", line 85, in pandas._libs.tslibs.tzconversion.Localizer.__cinit__\n",
      "  File \"pandas\\_libs\\tslibs\\timezones.pyx\", line 306, in pandas._libs.tslibs.timezones.get_dst_info\n",
      "AttributeError: 'NoneType' object has no attribute 'total_seconds'\n"
     ]
    },
    {
     "ename": "AttributeError",
     "evalue": "'NoneType' object has no attribute 'total_seconds'",
     "output_type": "error",
     "traceback": [
      "\u001b[1;31m---------------------------------------------------------------------------\u001b[0m",
      "\u001b[1;31mAttributeError\u001b[0m                            Traceback (most recent call last)",
      "\u001b[1;32mc:\\Users\\henry.gu\\Anaconda3\\envs\\Python\\lib\\site-packages\\pandas\\_libs\\tslibs\\tzconversion.pyx\u001b[0m in \u001b[0;36mpandas._libs.tslibs.tzconversion.Localizer.__cinit__\u001b[1;34m()\u001b[0m\n",
      "\u001b[1;32mc:\\Users\\henry.gu\\Anaconda3\\envs\\Python\\lib\\site-packages\\pandas\\_libs\\tslibs\\timezones.pyx\u001b[0m in \u001b[0;36mpandas._libs.tslibs.timezones.get_dst_info\u001b[1;34m()\u001b[0m\n",
      "\u001b[1;31mAttributeError\u001b[0m: 'NoneType' object has no attribute 'total_seconds'"
     ]
    },
    {
     "name": "stderr",
     "output_type": "stream",
     "text": [
      "Exception ignored in: 'pandas._libs.tslibs.conversion._localize_tso'\n",
      "Traceback (most recent call last):\n",
      "  File \"pandas\\_libs\\tslibs\\tzconversion.pyx\", line 85, in pandas._libs.tslibs.tzconversion.Localizer.__cinit__\n",
      "  File \"pandas\\_libs\\tslibs\\timezones.pyx\", line 306, in pandas._libs.tslibs.timezones.get_dst_info\n",
      "AttributeError: 'NoneType' object has no attribute 'total_seconds'\n"
     ]
    },
    {
     "ename": "AttributeError",
     "evalue": "'NoneType' object has no attribute 'total_seconds'",
     "output_type": "error",
     "traceback": [
      "\u001b[1;31m---------------------------------------------------------------------------\u001b[0m",
      "\u001b[1;31mAttributeError\u001b[0m                            Traceback (most recent call last)",
      "\u001b[1;32mc:\\Users\\henry.gu\\Anaconda3\\envs\\Python\\lib\\site-packages\\pandas\\_libs\\tslibs\\tzconversion.pyx\u001b[0m in \u001b[0;36mpandas._libs.tslibs.tzconversion.Localizer.__cinit__\u001b[1;34m()\u001b[0m\n",
      "\u001b[1;32mc:\\Users\\henry.gu\\Anaconda3\\envs\\Python\\lib\\site-packages\\pandas\\_libs\\tslibs\\timezones.pyx\u001b[0m in \u001b[0;36mpandas._libs.tslibs.timezones.get_dst_info\u001b[1;34m()\u001b[0m\n",
      "\u001b[1;31mAttributeError\u001b[0m: 'NoneType' object has no attribute 'total_seconds'"
     ]
    },
    {
     "name": "stderr",
     "output_type": "stream",
     "text": [
      "Exception ignored in: 'pandas._libs.tslibs.conversion._localize_tso'\n",
      "Traceback (most recent call last):\n",
      "  File \"pandas\\_libs\\tslibs\\tzconversion.pyx\", line 85, in pandas._libs.tslibs.tzconversion.Localizer.__cinit__\n",
      "  File \"pandas\\_libs\\tslibs\\timezones.pyx\", line 306, in pandas._libs.tslibs.timezones.get_dst_info\n",
      "AttributeError: 'NoneType' object has no attribute 'total_seconds'\n"
     ]
    },
    {
     "ename": "AttributeError",
     "evalue": "'NoneType' object has no attribute 'total_seconds'",
     "output_type": "error",
     "traceback": [
      "\u001b[1;31m---------------------------------------------------------------------------\u001b[0m",
      "\u001b[1;31mAttributeError\u001b[0m                            Traceback (most recent call last)",
      "\u001b[1;32mc:\\Users\\henry.gu\\Anaconda3\\envs\\Python\\lib\\site-packages\\pandas\\_libs\\tslibs\\tzconversion.pyx\u001b[0m in \u001b[0;36mpandas._libs.tslibs.tzconversion.Localizer.__cinit__\u001b[1;34m()\u001b[0m\n",
      "\u001b[1;32mc:\\Users\\henry.gu\\Anaconda3\\envs\\Python\\lib\\site-packages\\pandas\\_libs\\tslibs\\timezones.pyx\u001b[0m in \u001b[0;36mpandas._libs.tslibs.timezones.get_dst_info\u001b[1;34m()\u001b[0m\n",
      "\u001b[1;31mAttributeError\u001b[0m: 'NoneType' object has no attribute 'total_seconds'"
     ]
    },
    {
     "name": "stderr",
     "output_type": "stream",
     "text": [
      "Exception ignored in: 'pandas._libs.tslibs.conversion._localize_tso'\n",
      "Traceback (most recent call last):\n",
      "  File \"pandas\\_libs\\tslibs\\tzconversion.pyx\", line 85, in pandas._libs.tslibs.tzconversion.Localizer.__cinit__\n",
      "  File \"pandas\\_libs\\tslibs\\timezones.pyx\", line 306, in pandas._libs.tslibs.timezones.get_dst_info\n",
      "AttributeError: 'NoneType' object has no attribute 'total_seconds'\n"
     ]
    },
    {
     "ename": "AttributeError",
     "evalue": "'NoneType' object has no attribute 'total_seconds'",
     "output_type": "error",
     "traceback": [
      "\u001b[1;31m---------------------------------------------------------------------------\u001b[0m",
      "\u001b[1;31mAttributeError\u001b[0m                            Traceback (most recent call last)",
      "\u001b[1;32mc:\\Users\\henry.gu\\Anaconda3\\envs\\Python\\lib\\site-packages\\pandas\\_libs\\tslibs\\tzconversion.pyx\u001b[0m in \u001b[0;36mpandas._libs.tslibs.tzconversion.Localizer.__cinit__\u001b[1;34m()\u001b[0m\n",
      "\u001b[1;32mc:\\Users\\henry.gu\\Anaconda3\\envs\\Python\\lib\\site-packages\\pandas\\_libs\\tslibs\\timezones.pyx\u001b[0m in \u001b[0;36mpandas._libs.tslibs.timezones.get_dst_info\u001b[1;34m()\u001b[0m\n",
      "\u001b[1;31mAttributeError\u001b[0m: 'NoneType' object has no attribute 'total_seconds'"
     ]
    },
    {
     "name": "stderr",
     "output_type": "stream",
     "text": [
      "Exception ignored in: 'pandas._libs.tslibs.conversion._localize_tso'\n",
      "Traceback (most recent call last):\n",
      "  File \"pandas\\_libs\\tslibs\\tzconversion.pyx\", line 85, in pandas._libs.tslibs.tzconversion.Localizer.__cinit__\n",
      "  File \"pandas\\_libs\\tslibs\\timezones.pyx\", line 306, in pandas._libs.tslibs.timezones.get_dst_info\n",
      "AttributeError: 'NoneType' object has no attribute 'total_seconds'\n"
     ]
    },
    {
     "ename": "AttributeError",
     "evalue": "'NoneType' object has no attribute 'total_seconds'",
     "output_type": "error",
     "traceback": [
      "\u001b[1;31m---------------------------------------------------------------------------\u001b[0m",
      "\u001b[1;31mAttributeError\u001b[0m                            Traceback (most recent call last)",
      "\u001b[1;32mc:\\Users\\henry.gu\\Anaconda3\\envs\\Python\\lib\\site-packages\\pandas\\_libs\\tslibs\\tzconversion.pyx\u001b[0m in \u001b[0;36mpandas._libs.tslibs.tzconversion.Localizer.__cinit__\u001b[1;34m()\u001b[0m\n",
      "\u001b[1;32mc:\\Users\\henry.gu\\Anaconda3\\envs\\Python\\lib\\site-packages\\pandas\\_libs\\tslibs\\timezones.pyx\u001b[0m in \u001b[0;36mpandas._libs.tslibs.timezones.get_dst_info\u001b[1;34m()\u001b[0m\n",
      "\u001b[1;31mAttributeError\u001b[0m: 'NoneType' object has no attribute 'total_seconds'"
     ]
    },
    {
     "name": "stderr",
     "output_type": "stream",
     "text": [
      "Exception ignored in: 'pandas._libs.tslibs.conversion._localize_tso'\n",
      "Traceback (most recent call last):\n",
      "  File \"pandas\\_libs\\tslibs\\tzconversion.pyx\", line 85, in pandas._libs.tslibs.tzconversion.Localizer.__cinit__\n",
      "  File \"pandas\\_libs\\tslibs\\timezones.pyx\", line 306, in pandas._libs.tslibs.timezones.get_dst_info\n",
      "AttributeError: 'NoneType' object has no attribute 'total_seconds'\n"
     ]
    },
    {
     "ename": "AttributeError",
     "evalue": "'NoneType' object has no attribute 'total_seconds'",
     "output_type": "error",
     "traceback": [
      "\u001b[1;31m---------------------------------------------------------------------------\u001b[0m",
      "\u001b[1;31mAttributeError\u001b[0m                            Traceback (most recent call last)",
      "\u001b[1;32mc:\\Users\\henry.gu\\Anaconda3\\envs\\Python\\lib\\site-packages\\pandas\\_libs\\tslibs\\tzconversion.pyx\u001b[0m in \u001b[0;36mpandas._libs.tslibs.tzconversion.Localizer.__cinit__\u001b[1;34m()\u001b[0m\n",
      "\u001b[1;32mc:\\Users\\henry.gu\\Anaconda3\\envs\\Python\\lib\\site-packages\\pandas\\_libs\\tslibs\\timezones.pyx\u001b[0m in \u001b[0;36mpandas._libs.tslibs.timezones.get_dst_info\u001b[1;34m()\u001b[0m\n",
      "\u001b[1;31mAttributeError\u001b[0m: 'NoneType' object has no attribute 'total_seconds'"
     ]
    },
    {
     "name": "stderr",
     "output_type": "stream",
     "text": [
      "Exception ignored in: 'pandas._libs.tslibs.conversion._localize_tso'\n",
      "Traceback (most recent call last):\n",
      "  File \"pandas\\_libs\\tslibs\\tzconversion.pyx\", line 85, in pandas._libs.tslibs.tzconversion.Localizer.__cinit__\n",
      "  File \"pandas\\_libs\\tslibs\\timezones.pyx\", line 306, in pandas._libs.tslibs.timezones.get_dst_info\n",
      "AttributeError: 'NoneType' object has no attribute 'total_seconds'\n"
     ]
    },
    {
     "ename": "AttributeError",
     "evalue": "'NoneType' object has no attribute 'total_seconds'",
     "output_type": "error",
     "traceback": [
      "\u001b[1;31m---------------------------------------------------------------------------\u001b[0m",
      "\u001b[1;31mAttributeError\u001b[0m                            Traceback (most recent call last)",
      "\u001b[1;32mc:\\Users\\henry.gu\\Anaconda3\\envs\\Python\\lib\\site-packages\\pandas\\_libs\\tslibs\\tzconversion.pyx\u001b[0m in \u001b[0;36mpandas._libs.tslibs.tzconversion.Localizer.__cinit__\u001b[1;34m()\u001b[0m\n",
      "\u001b[1;32mc:\\Users\\henry.gu\\Anaconda3\\envs\\Python\\lib\\site-packages\\pandas\\_libs\\tslibs\\timezones.pyx\u001b[0m in \u001b[0;36mpandas._libs.tslibs.timezones.get_dst_info\u001b[1;34m()\u001b[0m\n",
      "\u001b[1;31mAttributeError\u001b[0m: 'NoneType' object has no attribute 'total_seconds'"
     ]
    },
    {
     "name": "stderr",
     "output_type": "stream",
     "text": [
      "Exception ignored in: 'pandas._libs.tslibs.conversion._localize_tso'\n",
      "Traceback (most recent call last):\n",
      "  File \"pandas\\_libs\\tslibs\\tzconversion.pyx\", line 85, in pandas._libs.tslibs.tzconversion.Localizer.__cinit__\n",
      "  File \"pandas\\_libs\\tslibs\\timezones.pyx\", line 306, in pandas._libs.tslibs.timezones.get_dst_info\n",
      "AttributeError: 'NoneType' object has no attribute 'total_seconds'\n"
     ]
    },
    {
     "ename": "AttributeError",
     "evalue": "'NoneType' object has no attribute 'total_seconds'",
     "output_type": "error",
     "traceback": [
      "\u001b[1;31m---------------------------------------------------------------------------\u001b[0m",
      "\u001b[1;31mAttributeError\u001b[0m                            Traceback (most recent call last)",
      "\u001b[1;32mc:\\Users\\henry.gu\\Anaconda3\\envs\\Python\\lib\\site-packages\\pandas\\_libs\\tslibs\\tzconversion.pyx\u001b[0m in \u001b[0;36mpandas._libs.tslibs.tzconversion.Localizer.__cinit__\u001b[1;34m()\u001b[0m\n",
      "\u001b[1;32mc:\\Users\\henry.gu\\Anaconda3\\envs\\Python\\lib\\site-packages\\pandas\\_libs\\tslibs\\timezones.pyx\u001b[0m in \u001b[0;36mpandas._libs.tslibs.timezones.get_dst_info\u001b[1;34m()\u001b[0m\n",
      "\u001b[1;31mAttributeError\u001b[0m: 'NoneType' object has no attribute 'total_seconds'"
     ]
    },
    {
     "name": "stderr",
     "output_type": "stream",
     "text": [
      "Exception ignored in: 'pandas._libs.tslibs.conversion._localize_tso'\n",
      "Traceback (most recent call last):\n",
      "  File \"pandas\\_libs\\tslibs\\tzconversion.pyx\", line 85, in pandas._libs.tslibs.tzconversion.Localizer.__cinit__\n",
      "  File \"pandas\\_libs\\tslibs\\timezones.pyx\", line 306, in pandas._libs.tslibs.timezones.get_dst_info\n",
      "AttributeError: 'NoneType' object has no attribute 'total_seconds'\n"
     ]
    },
    {
     "ename": "AttributeError",
     "evalue": "'NoneType' object has no attribute 'total_seconds'",
     "output_type": "error",
     "traceback": [
      "\u001b[1;31m---------------------------------------------------------------------------\u001b[0m",
      "\u001b[1;31mAttributeError\u001b[0m                            Traceback (most recent call last)",
      "\u001b[1;32mc:\\Users\\henry.gu\\Anaconda3\\envs\\Python\\lib\\site-packages\\pandas\\_libs\\tslibs\\tzconversion.pyx\u001b[0m in \u001b[0;36mpandas._libs.tslibs.tzconversion.Localizer.__cinit__\u001b[1;34m()\u001b[0m\n",
      "\u001b[1;32mc:\\Users\\henry.gu\\Anaconda3\\envs\\Python\\lib\\site-packages\\pandas\\_libs\\tslibs\\timezones.pyx\u001b[0m in \u001b[0;36mpandas._libs.tslibs.timezones.get_dst_info\u001b[1;34m()\u001b[0m\n",
      "\u001b[1;31mAttributeError\u001b[0m: 'NoneType' object has no attribute 'total_seconds'"
     ]
    },
    {
     "name": "stderr",
     "output_type": "stream",
     "text": [
      "Exception ignored in: 'pandas._libs.tslibs.conversion._localize_tso'\n",
      "Traceback (most recent call last):\n",
      "  File \"pandas\\_libs\\tslibs\\tzconversion.pyx\", line 85, in pandas._libs.tslibs.tzconversion.Localizer.__cinit__\n",
      "  File \"pandas\\_libs\\tslibs\\timezones.pyx\", line 306, in pandas._libs.tslibs.timezones.get_dst_info\n",
      "AttributeError: 'NoneType' object has no attribute 'total_seconds'\n"
     ]
    },
    {
     "ename": "AttributeError",
     "evalue": "'NoneType' object has no attribute 'total_seconds'",
     "output_type": "error",
     "traceback": [
      "\u001b[1;31m---------------------------------------------------------------------------\u001b[0m",
      "\u001b[1;31mAttributeError\u001b[0m                            Traceback (most recent call last)",
      "\u001b[1;32mc:\\Users\\henry.gu\\Anaconda3\\envs\\Python\\lib\\site-packages\\pandas\\_libs\\tslibs\\tzconversion.pyx\u001b[0m in \u001b[0;36mpandas._libs.tslibs.tzconversion.Localizer.__cinit__\u001b[1;34m()\u001b[0m\n",
      "\u001b[1;32mc:\\Users\\henry.gu\\Anaconda3\\envs\\Python\\lib\\site-packages\\pandas\\_libs\\tslibs\\timezones.pyx\u001b[0m in \u001b[0;36mpandas._libs.tslibs.timezones.get_dst_info\u001b[1;34m()\u001b[0m\n",
      "\u001b[1;31mAttributeError\u001b[0m: 'NoneType' object has no attribute 'total_seconds'"
     ]
    },
    {
     "name": "stderr",
     "output_type": "stream",
     "text": [
      "Exception ignored in: 'pandas._libs.tslibs.conversion._localize_tso'\n",
      "Traceback (most recent call last):\n",
      "  File \"pandas\\_libs\\tslibs\\tzconversion.pyx\", line 85, in pandas._libs.tslibs.tzconversion.Localizer.__cinit__\n",
      "  File \"pandas\\_libs\\tslibs\\timezones.pyx\", line 306, in pandas._libs.tslibs.timezones.get_dst_info\n",
      "AttributeError: 'NoneType' object has no attribute 'total_seconds'\n"
     ]
    },
    {
     "ename": "AttributeError",
     "evalue": "'NoneType' object has no attribute 'total_seconds'",
     "output_type": "error",
     "traceback": [
      "\u001b[1;31m---------------------------------------------------------------------------\u001b[0m",
      "\u001b[1;31mAttributeError\u001b[0m                            Traceback (most recent call last)",
      "\u001b[1;32mc:\\Users\\henry.gu\\Anaconda3\\envs\\Python\\lib\\site-packages\\pandas\\_libs\\tslibs\\tzconversion.pyx\u001b[0m in \u001b[0;36mpandas._libs.tslibs.tzconversion.Localizer.__cinit__\u001b[1;34m()\u001b[0m\n",
      "\u001b[1;32mc:\\Users\\henry.gu\\Anaconda3\\envs\\Python\\lib\\site-packages\\pandas\\_libs\\tslibs\\timezones.pyx\u001b[0m in \u001b[0;36mpandas._libs.tslibs.timezones.get_dst_info\u001b[1;34m()\u001b[0m\n",
      "\u001b[1;31mAttributeError\u001b[0m: 'NoneType' object has no attribute 'total_seconds'"
     ]
    },
    {
     "name": "stderr",
     "output_type": "stream",
     "text": [
      "Exception ignored in: 'pandas._libs.tslibs.conversion._localize_tso'\n",
      "Traceback (most recent call last):\n",
      "  File \"pandas\\_libs\\tslibs\\tzconversion.pyx\", line 85, in pandas._libs.tslibs.tzconversion.Localizer.__cinit__\n",
      "  File \"pandas\\_libs\\tslibs\\timezones.pyx\", line 306, in pandas._libs.tslibs.timezones.get_dst_info\n",
      "AttributeError: 'NoneType' object has no attribute 'total_seconds'\n"
     ]
    },
    {
     "ename": "AttributeError",
     "evalue": "'NoneType' object has no attribute 'total_seconds'",
     "output_type": "error",
     "traceback": [
      "\u001b[1;31m---------------------------------------------------------------------------\u001b[0m",
      "\u001b[1;31mAttributeError\u001b[0m                            Traceback (most recent call last)",
      "\u001b[1;32mc:\\Users\\henry.gu\\Anaconda3\\envs\\Python\\lib\\site-packages\\pandas\\_libs\\tslibs\\tzconversion.pyx\u001b[0m in \u001b[0;36mpandas._libs.tslibs.tzconversion.Localizer.__cinit__\u001b[1;34m()\u001b[0m\n",
      "\u001b[1;32mc:\\Users\\henry.gu\\Anaconda3\\envs\\Python\\lib\\site-packages\\pandas\\_libs\\tslibs\\timezones.pyx\u001b[0m in \u001b[0;36mpandas._libs.tslibs.timezones.get_dst_info\u001b[1;34m()\u001b[0m\n",
      "\u001b[1;31mAttributeError\u001b[0m: 'NoneType' object has no attribute 'total_seconds'"
     ]
    },
    {
     "name": "stderr",
     "output_type": "stream",
     "text": [
      "Exception ignored in: 'pandas._libs.tslibs.conversion._localize_tso'\n",
      "Traceback (most recent call last):\n",
      "  File \"pandas\\_libs\\tslibs\\tzconversion.pyx\", line 85, in pandas._libs.tslibs.tzconversion.Localizer.__cinit__\n",
      "  File \"pandas\\_libs\\tslibs\\timezones.pyx\", line 306, in pandas._libs.tslibs.timezones.get_dst_info\n",
      "AttributeError: 'NoneType' object has no attribute 'total_seconds'\n"
     ]
    },
    {
     "ename": "AttributeError",
     "evalue": "'NoneType' object has no attribute 'total_seconds'",
     "output_type": "error",
     "traceback": [
      "\u001b[1;31m---------------------------------------------------------------------------\u001b[0m",
      "\u001b[1;31mAttributeError\u001b[0m                            Traceback (most recent call last)",
      "\u001b[1;32mc:\\Users\\henry.gu\\Anaconda3\\envs\\Python\\lib\\site-packages\\pandas\\_libs\\tslibs\\tzconversion.pyx\u001b[0m in \u001b[0;36mpandas._libs.tslibs.tzconversion.Localizer.__cinit__\u001b[1;34m()\u001b[0m\n",
      "\u001b[1;32mc:\\Users\\henry.gu\\Anaconda3\\envs\\Python\\lib\\site-packages\\pandas\\_libs\\tslibs\\timezones.pyx\u001b[0m in \u001b[0;36mpandas._libs.tslibs.timezones.get_dst_info\u001b[1;34m()\u001b[0m\n",
      "\u001b[1;31mAttributeError\u001b[0m: 'NoneType' object has no attribute 'total_seconds'"
     ]
    },
    {
     "name": "stderr",
     "output_type": "stream",
     "text": [
      "Exception ignored in: 'pandas._libs.tslibs.conversion._localize_tso'\n",
      "Traceback (most recent call last):\n",
      "  File \"pandas\\_libs\\tslibs\\tzconversion.pyx\", line 85, in pandas._libs.tslibs.tzconversion.Localizer.__cinit__\n",
      "  File \"pandas\\_libs\\tslibs\\timezones.pyx\", line 306, in pandas._libs.tslibs.timezones.get_dst_info\n",
      "AttributeError: 'NoneType' object has no attribute 'total_seconds'\n"
     ]
    },
    {
     "ename": "AttributeError",
     "evalue": "'NoneType' object has no attribute 'total_seconds'",
     "output_type": "error",
     "traceback": [
      "\u001b[1;31m---------------------------------------------------------------------------\u001b[0m",
      "\u001b[1;31mAttributeError\u001b[0m                            Traceback (most recent call last)",
      "\u001b[1;32mc:\\Users\\henry.gu\\Anaconda3\\envs\\Python\\lib\\site-packages\\pandas\\_libs\\tslibs\\tzconversion.pyx\u001b[0m in \u001b[0;36mpandas._libs.tslibs.tzconversion.Localizer.__cinit__\u001b[1;34m()\u001b[0m\n",
      "\u001b[1;32mc:\\Users\\henry.gu\\Anaconda3\\envs\\Python\\lib\\site-packages\\pandas\\_libs\\tslibs\\timezones.pyx\u001b[0m in \u001b[0;36mpandas._libs.tslibs.timezones.get_dst_info\u001b[1;34m()\u001b[0m\n",
      "\u001b[1;31mAttributeError\u001b[0m: 'NoneType' object has no attribute 'total_seconds'"
     ]
    },
    {
     "name": "stderr",
     "output_type": "stream",
     "text": [
      "Exception ignored in: 'pandas._libs.tslibs.conversion._localize_tso'\n",
      "Traceback (most recent call last):\n",
      "  File \"pandas\\_libs\\tslibs\\tzconversion.pyx\", line 85, in pandas._libs.tslibs.tzconversion.Localizer.__cinit__\n",
      "  File \"pandas\\_libs\\tslibs\\timezones.pyx\", line 306, in pandas._libs.tslibs.timezones.get_dst_info\n",
      "AttributeError: 'NoneType' object has no attribute 'total_seconds'\n"
     ]
    },
    {
     "ename": "AttributeError",
     "evalue": "'NoneType' object has no attribute 'total_seconds'",
     "output_type": "error",
     "traceback": [
      "\u001b[1;31m---------------------------------------------------------------------------\u001b[0m",
      "\u001b[1;31mAttributeError\u001b[0m                            Traceback (most recent call last)",
      "\u001b[1;32mc:\\Users\\henry.gu\\Anaconda3\\envs\\Python\\lib\\site-packages\\pandas\\_libs\\tslibs\\tzconversion.pyx\u001b[0m in \u001b[0;36mpandas._libs.tslibs.tzconversion.Localizer.__cinit__\u001b[1;34m()\u001b[0m\n",
      "\u001b[1;32mc:\\Users\\henry.gu\\Anaconda3\\envs\\Python\\lib\\site-packages\\pandas\\_libs\\tslibs\\timezones.pyx\u001b[0m in \u001b[0;36mpandas._libs.tslibs.timezones.get_dst_info\u001b[1;34m()\u001b[0m\n",
      "\u001b[1;31mAttributeError\u001b[0m: 'NoneType' object has no attribute 'total_seconds'"
     ]
    },
    {
     "name": "stderr",
     "output_type": "stream",
     "text": [
      "Exception ignored in: 'pandas._libs.tslibs.conversion._localize_tso'\n",
      "Traceback (most recent call last):\n",
      "  File \"pandas\\_libs\\tslibs\\tzconversion.pyx\", line 85, in pandas._libs.tslibs.tzconversion.Localizer.__cinit__\n",
      "  File \"pandas\\_libs\\tslibs\\timezones.pyx\", line 306, in pandas._libs.tslibs.timezones.get_dst_info\n",
      "AttributeError: 'NoneType' object has no attribute 'total_seconds'\n"
     ]
    },
    {
     "ename": "AttributeError",
     "evalue": "'NoneType' object has no attribute 'total_seconds'",
     "output_type": "error",
     "traceback": [
      "\u001b[1;31m---------------------------------------------------------------------------\u001b[0m",
      "\u001b[1;31mAttributeError\u001b[0m                            Traceback (most recent call last)",
      "\u001b[1;32mc:\\Users\\henry.gu\\Anaconda3\\envs\\Python\\lib\\site-packages\\pandas\\_libs\\tslibs\\tzconversion.pyx\u001b[0m in \u001b[0;36mpandas._libs.tslibs.tzconversion.Localizer.__cinit__\u001b[1;34m()\u001b[0m\n",
      "\u001b[1;32mc:\\Users\\henry.gu\\Anaconda3\\envs\\Python\\lib\\site-packages\\pandas\\_libs\\tslibs\\timezones.pyx\u001b[0m in \u001b[0;36mpandas._libs.tslibs.timezones.get_dst_info\u001b[1;34m()\u001b[0m\n",
      "\u001b[1;31mAttributeError\u001b[0m: 'NoneType' object has no attribute 'total_seconds'"
     ]
    },
    {
     "name": "stderr",
     "output_type": "stream",
     "text": [
      "Exception ignored in: 'pandas._libs.tslibs.conversion._localize_tso'\n",
      "Traceback (most recent call last):\n",
      "  File \"pandas\\_libs\\tslibs\\tzconversion.pyx\", line 85, in pandas._libs.tslibs.tzconversion.Localizer.__cinit__\n",
      "  File \"pandas\\_libs\\tslibs\\timezones.pyx\", line 306, in pandas._libs.tslibs.timezones.get_dst_info\n",
      "AttributeError: 'NoneType' object has no attribute 'total_seconds'\n"
     ]
    },
    {
     "ename": "AttributeError",
     "evalue": "'NoneType' object has no attribute 'total_seconds'",
     "output_type": "error",
     "traceback": [
      "\u001b[1;31m---------------------------------------------------------------------------\u001b[0m",
      "\u001b[1;31mAttributeError\u001b[0m                            Traceback (most recent call last)",
      "\u001b[1;32mc:\\Users\\henry.gu\\Anaconda3\\envs\\Python\\lib\\site-packages\\pandas\\_libs\\tslibs\\tzconversion.pyx\u001b[0m in \u001b[0;36mpandas._libs.tslibs.tzconversion.Localizer.__cinit__\u001b[1;34m()\u001b[0m\n",
      "\u001b[1;32mc:\\Users\\henry.gu\\Anaconda3\\envs\\Python\\lib\\site-packages\\pandas\\_libs\\tslibs\\timezones.pyx\u001b[0m in \u001b[0;36mpandas._libs.tslibs.timezones.get_dst_info\u001b[1;34m()\u001b[0m\n",
      "\u001b[1;31mAttributeError\u001b[0m: 'NoneType' object has no attribute 'total_seconds'"
     ]
    },
    {
     "name": "stderr",
     "output_type": "stream",
     "text": [
      "Exception ignored in: 'pandas._libs.tslibs.conversion._localize_tso'\n",
      "Traceback (most recent call last):\n",
      "  File \"pandas\\_libs\\tslibs\\tzconversion.pyx\", line 85, in pandas._libs.tslibs.tzconversion.Localizer.__cinit__\n",
      "  File \"pandas\\_libs\\tslibs\\timezones.pyx\", line 306, in pandas._libs.tslibs.timezones.get_dst_info\n",
      "AttributeError: 'NoneType' object has no attribute 'total_seconds'\n"
     ]
    },
    {
     "ename": "AttributeError",
     "evalue": "'NoneType' object has no attribute 'total_seconds'",
     "output_type": "error",
     "traceback": [
      "\u001b[1;31m---------------------------------------------------------------------------\u001b[0m",
      "\u001b[1;31mAttributeError\u001b[0m                            Traceback (most recent call last)",
      "\u001b[1;32mc:\\Users\\henry.gu\\Anaconda3\\envs\\Python\\lib\\site-packages\\pandas\\_libs\\tslibs\\tzconversion.pyx\u001b[0m in \u001b[0;36mpandas._libs.tslibs.tzconversion.Localizer.__cinit__\u001b[1;34m()\u001b[0m\n",
      "\u001b[1;32mc:\\Users\\henry.gu\\Anaconda3\\envs\\Python\\lib\\site-packages\\pandas\\_libs\\tslibs\\timezones.pyx\u001b[0m in \u001b[0;36mpandas._libs.tslibs.timezones.get_dst_info\u001b[1;34m()\u001b[0m\n",
      "\u001b[1;31mAttributeError\u001b[0m: 'NoneType' object has no attribute 'total_seconds'"
     ]
    },
    {
     "name": "stderr",
     "output_type": "stream",
     "text": [
      "Exception ignored in: 'pandas._libs.tslibs.conversion._localize_tso'\n",
      "Traceback (most recent call last):\n",
      "  File \"pandas\\_libs\\tslibs\\tzconversion.pyx\", line 85, in pandas._libs.tslibs.tzconversion.Localizer.__cinit__\n",
      "  File \"pandas\\_libs\\tslibs\\timezones.pyx\", line 306, in pandas._libs.tslibs.timezones.get_dst_info\n",
      "AttributeError: 'NoneType' object has no attribute 'total_seconds'\n"
     ]
    },
    {
     "ename": "AttributeError",
     "evalue": "'NoneType' object has no attribute 'total_seconds'",
     "output_type": "error",
     "traceback": [
      "\u001b[1;31m---------------------------------------------------------------------------\u001b[0m",
      "\u001b[1;31mAttributeError\u001b[0m                            Traceback (most recent call last)",
      "\u001b[1;32mc:\\Users\\henry.gu\\Anaconda3\\envs\\Python\\lib\\site-packages\\pandas\\_libs\\tslibs\\tzconversion.pyx\u001b[0m in \u001b[0;36mpandas._libs.tslibs.tzconversion.Localizer.__cinit__\u001b[1;34m()\u001b[0m\n",
      "\u001b[1;32mc:\\Users\\henry.gu\\Anaconda3\\envs\\Python\\lib\\site-packages\\pandas\\_libs\\tslibs\\timezones.pyx\u001b[0m in \u001b[0;36mpandas._libs.tslibs.timezones.get_dst_info\u001b[1;34m()\u001b[0m\n",
      "\u001b[1;31mAttributeError\u001b[0m: 'NoneType' object has no attribute 'total_seconds'"
     ]
    },
    {
     "name": "stderr",
     "output_type": "stream",
     "text": [
      "Exception ignored in: 'pandas._libs.tslibs.conversion._localize_tso'\n",
      "Traceback (most recent call last):\n",
      "  File \"pandas\\_libs\\tslibs\\tzconversion.pyx\", line 85, in pandas._libs.tslibs.tzconversion.Localizer.__cinit__\n",
      "  File \"pandas\\_libs\\tslibs\\timezones.pyx\", line 306, in pandas._libs.tslibs.timezones.get_dst_info\n",
      "AttributeError: 'NoneType' object has no attribute 'total_seconds'\n"
     ]
    },
    {
     "ename": "AttributeError",
     "evalue": "'NoneType' object has no attribute 'total_seconds'",
     "output_type": "error",
     "traceback": [
      "\u001b[1;31m---------------------------------------------------------------------------\u001b[0m",
      "\u001b[1;31mAttributeError\u001b[0m                            Traceback (most recent call last)",
      "\u001b[1;32mc:\\Users\\henry.gu\\Anaconda3\\envs\\Python\\lib\\site-packages\\pandas\\_libs\\tslibs\\tzconversion.pyx\u001b[0m in \u001b[0;36mpandas._libs.tslibs.tzconversion.Localizer.__cinit__\u001b[1;34m()\u001b[0m\n",
      "\u001b[1;32mc:\\Users\\henry.gu\\Anaconda3\\envs\\Python\\lib\\site-packages\\pandas\\_libs\\tslibs\\timezones.pyx\u001b[0m in \u001b[0;36mpandas._libs.tslibs.timezones.get_dst_info\u001b[1;34m()\u001b[0m\n",
      "\u001b[1;31mAttributeError\u001b[0m: 'NoneType' object has no attribute 'total_seconds'"
     ]
    },
    {
     "name": "stderr",
     "output_type": "stream",
     "text": [
      "Exception ignored in: 'pandas._libs.tslibs.conversion._localize_tso'\n",
      "Traceback (most recent call last):\n",
      "  File \"pandas\\_libs\\tslibs\\tzconversion.pyx\", line 85, in pandas._libs.tslibs.tzconversion.Localizer.__cinit__\n",
      "  File \"pandas\\_libs\\tslibs\\timezones.pyx\", line 306, in pandas._libs.tslibs.timezones.get_dst_info\n",
      "AttributeError: 'NoneType' object has no attribute 'total_seconds'\n"
     ]
    },
    {
     "ename": "AttributeError",
     "evalue": "'NoneType' object has no attribute 'total_seconds'",
     "output_type": "error",
     "traceback": [
      "\u001b[1;31m---------------------------------------------------------------------------\u001b[0m",
      "\u001b[1;31mAttributeError\u001b[0m                            Traceback (most recent call last)",
      "\u001b[1;32mc:\\Users\\henry.gu\\Anaconda3\\envs\\Python\\lib\\site-packages\\pandas\\_libs\\tslibs\\tzconversion.pyx\u001b[0m in \u001b[0;36mpandas._libs.tslibs.tzconversion.Localizer.__cinit__\u001b[1;34m()\u001b[0m\n",
      "\u001b[1;32mc:\\Users\\henry.gu\\Anaconda3\\envs\\Python\\lib\\site-packages\\pandas\\_libs\\tslibs\\timezones.pyx\u001b[0m in \u001b[0;36mpandas._libs.tslibs.timezones.get_dst_info\u001b[1;34m()\u001b[0m\n",
      "\u001b[1;31mAttributeError\u001b[0m: 'NoneType' object has no attribute 'total_seconds'"
     ]
    },
    {
     "name": "stderr",
     "output_type": "stream",
     "text": [
      "Exception ignored in: 'pandas._libs.tslibs.conversion._localize_tso'\n",
      "Traceback (most recent call last):\n",
      "  File \"pandas\\_libs\\tslibs\\tzconversion.pyx\", line 85, in pandas._libs.tslibs.tzconversion.Localizer.__cinit__\n",
      "  File \"pandas\\_libs\\tslibs\\timezones.pyx\", line 306, in pandas._libs.tslibs.timezones.get_dst_info\n",
      "AttributeError: 'NoneType' object has no attribute 'total_seconds'\n"
     ]
    },
    {
     "ename": "AttributeError",
     "evalue": "'NoneType' object has no attribute 'total_seconds'",
     "output_type": "error",
     "traceback": [
      "\u001b[1;31m---------------------------------------------------------------------------\u001b[0m",
      "\u001b[1;31mAttributeError\u001b[0m                            Traceback (most recent call last)",
      "\u001b[1;32mc:\\Users\\henry.gu\\Anaconda3\\envs\\Python\\lib\\site-packages\\pandas\\_libs\\tslibs\\tzconversion.pyx\u001b[0m in \u001b[0;36mpandas._libs.tslibs.tzconversion.Localizer.__cinit__\u001b[1;34m()\u001b[0m\n",
      "\u001b[1;32mc:\\Users\\henry.gu\\Anaconda3\\envs\\Python\\lib\\site-packages\\pandas\\_libs\\tslibs\\timezones.pyx\u001b[0m in \u001b[0;36mpandas._libs.tslibs.timezones.get_dst_info\u001b[1;34m()\u001b[0m\n",
      "\u001b[1;31mAttributeError\u001b[0m: 'NoneType' object has no attribute 'total_seconds'"
     ]
    },
    {
     "name": "stderr",
     "output_type": "stream",
     "text": [
      "Exception ignored in: 'pandas._libs.tslibs.conversion._localize_tso'\n",
      "Traceback (most recent call last):\n",
      "  File \"pandas\\_libs\\tslibs\\tzconversion.pyx\", line 85, in pandas._libs.tslibs.tzconversion.Localizer.__cinit__\n",
      "  File \"pandas\\_libs\\tslibs\\timezones.pyx\", line 306, in pandas._libs.tslibs.timezones.get_dst_info\n",
      "AttributeError: 'NoneType' object has no attribute 'total_seconds'\n"
     ]
    },
    {
     "ename": "AttributeError",
     "evalue": "'NoneType' object has no attribute 'total_seconds'",
     "output_type": "error",
     "traceback": [
      "\u001b[1;31m---------------------------------------------------------------------------\u001b[0m",
      "\u001b[1;31mAttributeError\u001b[0m                            Traceback (most recent call last)",
      "\u001b[1;32mc:\\Users\\henry.gu\\Anaconda3\\envs\\Python\\lib\\site-packages\\pandas\\_libs\\tslibs\\tzconversion.pyx\u001b[0m in \u001b[0;36mpandas._libs.tslibs.tzconversion.Localizer.__cinit__\u001b[1;34m()\u001b[0m\n",
      "\u001b[1;32mc:\\Users\\henry.gu\\Anaconda3\\envs\\Python\\lib\\site-packages\\pandas\\_libs\\tslibs\\timezones.pyx\u001b[0m in \u001b[0;36mpandas._libs.tslibs.timezones.get_dst_info\u001b[1;34m()\u001b[0m\n",
      "\u001b[1;31mAttributeError\u001b[0m: 'NoneType' object has no attribute 'total_seconds'"
     ]
    },
    {
     "name": "stderr",
     "output_type": "stream",
     "text": [
      "Exception ignored in: 'pandas._libs.tslibs.conversion._localize_tso'\n",
      "Traceback (most recent call last):\n",
      "  File \"pandas\\_libs\\tslibs\\tzconversion.pyx\", line 85, in pandas._libs.tslibs.tzconversion.Localizer.__cinit__\n",
      "  File \"pandas\\_libs\\tslibs\\timezones.pyx\", line 306, in pandas._libs.tslibs.timezones.get_dst_info\n",
      "AttributeError: 'NoneType' object has no attribute 'total_seconds'\n"
     ]
    },
    {
     "ename": "AttributeError",
     "evalue": "'NoneType' object has no attribute 'total_seconds'",
     "output_type": "error",
     "traceback": [
      "\u001b[1;31m---------------------------------------------------------------------------\u001b[0m",
      "\u001b[1;31mAttributeError\u001b[0m                            Traceback (most recent call last)",
      "\u001b[1;32mc:\\Users\\henry.gu\\Anaconda3\\envs\\Python\\lib\\site-packages\\pandas\\_libs\\tslibs\\tzconversion.pyx\u001b[0m in \u001b[0;36mpandas._libs.tslibs.tzconversion.Localizer.__cinit__\u001b[1;34m()\u001b[0m\n",
      "\u001b[1;32mc:\\Users\\henry.gu\\Anaconda3\\envs\\Python\\lib\\site-packages\\pandas\\_libs\\tslibs\\timezones.pyx\u001b[0m in \u001b[0;36mpandas._libs.tslibs.timezones.get_dst_info\u001b[1;34m()\u001b[0m\n",
      "\u001b[1;31mAttributeError\u001b[0m: 'NoneType' object has no attribute 'total_seconds'"
     ]
    },
    {
     "name": "stderr",
     "output_type": "stream",
     "text": [
      "Exception ignored in: 'pandas._libs.tslibs.conversion._localize_tso'\n",
      "Traceback (most recent call last):\n",
      "  File \"pandas\\_libs\\tslibs\\tzconversion.pyx\", line 85, in pandas._libs.tslibs.tzconversion.Localizer.__cinit__\n",
      "  File \"pandas\\_libs\\tslibs\\timezones.pyx\", line 306, in pandas._libs.tslibs.timezones.get_dst_info\n",
      "AttributeError: 'NoneType' object has no attribute 'total_seconds'\n"
     ]
    },
    {
     "ename": "AttributeError",
     "evalue": "'NoneType' object has no attribute 'total_seconds'",
     "output_type": "error",
     "traceback": [
      "\u001b[1;31m---------------------------------------------------------------------------\u001b[0m",
      "\u001b[1;31mAttributeError\u001b[0m                            Traceback (most recent call last)",
      "\u001b[1;32mc:\\Users\\henry.gu\\Anaconda3\\envs\\Python\\lib\\site-packages\\pandas\\_libs\\tslibs\\tzconversion.pyx\u001b[0m in \u001b[0;36mpandas._libs.tslibs.tzconversion.Localizer.__cinit__\u001b[1;34m()\u001b[0m\n",
      "\u001b[1;32mc:\\Users\\henry.gu\\Anaconda3\\envs\\Python\\lib\\site-packages\\pandas\\_libs\\tslibs\\timezones.pyx\u001b[0m in \u001b[0;36mpandas._libs.tslibs.timezones.get_dst_info\u001b[1;34m()\u001b[0m\n",
      "\u001b[1;31mAttributeError\u001b[0m: 'NoneType' object has no attribute 'total_seconds'"
     ]
    },
    {
     "name": "stderr",
     "output_type": "stream",
     "text": [
      "Exception ignored in: 'pandas._libs.tslibs.conversion._localize_tso'\n",
      "Traceback (most recent call last):\n",
      "  File \"pandas\\_libs\\tslibs\\tzconversion.pyx\", line 85, in pandas._libs.tslibs.tzconversion.Localizer.__cinit__\n",
      "  File \"pandas\\_libs\\tslibs\\timezones.pyx\", line 306, in pandas._libs.tslibs.timezones.get_dst_info\n",
      "AttributeError: 'NoneType' object has no attribute 'total_seconds'\n"
     ]
    },
    {
     "ename": "AttributeError",
     "evalue": "'NoneType' object has no attribute 'total_seconds'",
     "output_type": "error",
     "traceback": [
      "\u001b[1;31m---------------------------------------------------------------------------\u001b[0m",
      "\u001b[1;31mAttributeError\u001b[0m                            Traceback (most recent call last)",
      "\u001b[1;32mc:\\Users\\henry.gu\\Anaconda3\\envs\\Python\\lib\\site-packages\\pandas\\_libs\\tslibs\\tzconversion.pyx\u001b[0m in \u001b[0;36mpandas._libs.tslibs.tzconversion.Localizer.__cinit__\u001b[1;34m()\u001b[0m\n",
      "\u001b[1;32mc:\\Users\\henry.gu\\Anaconda3\\envs\\Python\\lib\\site-packages\\pandas\\_libs\\tslibs\\timezones.pyx\u001b[0m in \u001b[0;36mpandas._libs.tslibs.timezones.get_dst_info\u001b[1;34m()\u001b[0m\n",
      "\u001b[1;31mAttributeError\u001b[0m: 'NoneType' object has no attribute 'total_seconds'"
     ]
    },
    {
     "name": "stderr",
     "output_type": "stream",
     "text": [
      "Exception ignored in: 'pandas._libs.tslibs.conversion._localize_tso'\n",
      "Traceback (most recent call last):\n",
      "  File \"pandas\\_libs\\tslibs\\tzconversion.pyx\", line 85, in pandas._libs.tslibs.tzconversion.Localizer.__cinit__\n",
      "  File \"pandas\\_libs\\tslibs\\timezones.pyx\", line 306, in pandas._libs.tslibs.timezones.get_dst_info\n",
      "AttributeError: 'NoneType' object has no attribute 'total_seconds'\n"
     ]
    },
    {
     "ename": "AttributeError",
     "evalue": "'NoneType' object has no attribute 'total_seconds'",
     "output_type": "error",
     "traceback": [
      "\u001b[1;31m---------------------------------------------------------------------------\u001b[0m",
      "\u001b[1;31mAttributeError\u001b[0m                            Traceback (most recent call last)",
      "\u001b[1;32mc:\\Users\\henry.gu\\Anaconda3\\envs\\Python\\lib\\site-packages\\pandas\\_libs\\tslibs\\tzconversion.pyx\u001b[0m in \u001b[0;36mpandas._libs.tslibs.tzconversion.Localizer.__cinit__\u001b[1;34m()\u001b[0m\n",
      "\u001b[1;32mc:\\Users\\henry.gu\\Anaconda3\\envs\\Python\\lib\\site-packages\\pandas\\_libs\\tslibs\\timezones.pyx\u001b[0m in \u001b[0;36mpandas._libs.tslibs.timezones.get_dst_info\u001b[1;34m()\u001b[0m\n",
      "\u001b[1;31mAttributeError\u001b[0m: 'NoneType' object has no attribute 'total_seconds'"
     ]
    },
    {
     "name": "stderr",
     "output_type": "stream",
     "text": [
      "Exception ignored in: 'pandas._libs.tslibs.conversion._localize_tso'\n",
      "Traceback (most recent call last):\n",
      "  File \"pandas\\_libs\\tslibs\\tzconversion.pyx\", line 85, in pandas._libs.tslibs.tzconversion.Localizer.__cinit__\n",
      "  File \"pandas\\_libs\\tslibs\\timezones.pyx\", line 306, in pandas._libs.tslibs.timezones.get_dst_info\n",
      "AttributeError: 'NoneType' object has no attribute 'total_seconds'\n"
     ]
    },
    {
     "ename": "AttributeError",
     "evalue": "'NoneType' object has no attribute 'total_seconds'",
     "output_type": "error",
     "traceback": [
      "\u001b[1;31m---------------------------------------------------------------------------\u001b[0m",
      "\u001b[1;31mAttributeError\u001b[0m                            Traceback (most recent call last)",
      "\u001b[1;32mc:\\Users\\henry.gu\\Anaconda3\\envs\\Python\\lib\\site-packages\\pandas\\_libs\\tslibs\\tzconversion.pyx\u001b[0m in \u001b[0;36mpandas._libs.tslibs.tzconversion.Localizer.__cinit__\u001b[1;34m()\u001b[0m\n",
      "\u001b[1;32mc:\\Users\\henry.gu\\Anaconda3\\envs\\Python\\lib\\site-packages\\pandas\\_libs\\tslibs\\timezones.pyx\u001b[0m in \u001b[0;36mpandas._libs.tslibs.timezones.get_dst_info\u001b[1;34m()\u001b[0m\n",
      "\u001b[1;31mAttributeError\u001b[0m: 'NoneType' object has no attribute 'total_seconds'"
     ]
    },
    {
     "name": "stderr",
     "output_type": "stream",
     "text": [
      "Exception ignored in: 'pandas._libs.tslibs.conversion._localize_tso'\n",
      "Traceback (most recent call last):\n",
      "  File \"pandas\\_libs\\tslibs\\tzconversion.pyx\", line 85, in pandas._libs.tslibs.tzconversion.Localizer.__cinit__\n",
      "  File \"pandas\\_libs\\tslibs\\timezones.pyx\", line 306, in pandas._libs.tslibs.timezones.get_dst_info\n",
      "AttributeError: 'NoneType' object has no attribute 'total_seconds'\n"
     ]
    },
    {
     "ename": "AttributeError",
     "evalue": "'NoneType' object has no attribute 'total_seconds'",
     "output_type": "error",
     "traceback": [
      "\u001b[1;31m---------------------------------------------------------------------------\u001b[0m",
      "\u001b[1;31mAttributeError\u001b[0m                            Traceback (most recent call last)",
      "\u001b[1;32mc:\\Users\\henry.gu\\Anaconda3\\envs\\Python\\lib\\site-packages\\pandas\\_libs\\tslibs\\tzconversion.pyx\u001b[0m in \u001b[0;36mpandas._libs.tslibs.tzconversion.Localizer.__cinit__\u001b[1;34m()\u001b[0m\n",
      "\u001b[1;32mc:\\Users\\henry.gu\\Anaconda3\\envs\\Python\\lib\\site-packages\\pandas\\_libs\\tslibs\\timezones.pyx\u001b[0m in \u001b[0;36mpandas._libs.tslibs.timezones.get_dst_info\u001b[1;34m()\u001b[0m\n",
      "\u001b[1;31mAttributeError\u001b[0m: 'NoneType' object has no attribute 'total_seconds'"
     ]
    },
    {
     "name": "stderr",
     "output_type": "stream",
     "text": [
      "Exception ignored in: 'pandas._libs.tslibs.conversion._localize_tso'\n",
      "Traceback (most recent call last):\n",
      "  File \"pandas\\_libs\\tslibs\\tzconversion.pyx\", line 85, in pandas._libs.tslibs.tzconversion.Localizer.__cinit__\n",
      "  File \"pandas\\_libs\\tslibs\\timezones.pyx\", line 306, in pandas._libs.tslibs.timezones.get_dst_info\n",
      "AttributeError: 'NoneType' object has no attribute 'total_seconds'\n"
     ]
    },
    {
     "ename": "AttributeError",
     "evalue": "'NoneType' object has no attribute 'total_seconds'",
     "output_type": "error",
     "traceback": [
      "\u001b[1;31m---------------------------------------------------------------------------\u001b[0m",
      "\u001b[1;31mAttributeError\u001b[0m                            Traceback (most recent call last)",
      "\u001b[1;32mc:\\Users\\henry.gu\\Anaconda3\\envs\\Python\\lib\\site-packages\\pandas\\_libs\\tslibs\\tzconversion.pyx\u001b[0m in \u001b[0;36mpandas._libs.tslibs.tzconversion.Localizer.__cinit__\u001b[1;34m()\u001b[0m\n",
      "\u001b[1;32mc:\\Users\\henry.gu\\Anaconda3\\envs\\Python\\lib\\site-packages\\pandas\\_libs\\tslibs\\timezones.pyx\u001b[0m in \u001b[0;36mpandas._libs.tslibs.timezones.get_dst_info\u001b[1;34m()\u001b[0m\n",
      "\u001b[1;31mAttributeError\u001b[0m: 'NoneType' object has no attribute 'total_seconds'"
     ]
    },
    {
     "name": "stderr",
     "output_type": "stream",
     "text": [
      "Exception ignored in: 'pandas._libs.tslibs.conversion._localize_tso'\n",
      "Traceback (most recent call last):\n",
      "  File \"pandas\\_libs\\tslibs\\tzconversion.pyx\", line 85, in pandas._libs.tslibs.tzconversion.Localizer.__cinit__\n",
      "  File \"pandas\\_libs\\tslibs\\timezones.pyx\", line 306, in pandas._libs.tslibs.timezones.get_dst_info\n",
      "AttributeError: 'NoneType' object has no attribute 'total_seconds'\n"
     ]
    },
    {
     "ename": "AttributeError",
     "evalue": "'NoneType' object has no attribute 'total_seconds'",
     "output_type": "error",
     "traceback": [
      "\u001b[1;31m---------------------------------------------------------------------------\u001b[0m",
      "\u001b[1;31mAttributeError\u001b[0m                            Traceback (most recent call last)",
      "\u001b[1;32mc:\\Users\\henry.gu\\Anaconda3\\envs\\Python\\lib\\site-packages\\pandas\\_libs\\tslibs\\tzconversion.pyx\u001b[0m in \u001b[0;36mpandas._libs.tslibs.tzconversion.Localizer.__cinit__\u001b[1;34m()\u001b[0m\n",
      "\u001b[1;32mc:\\Users\\henry.gu\\Anaconda3\\envs\\Python\\lib\\site-packages\\pandas\\_libs\\tslibs\\timezones.pyx\u001b[0m in \u001b[0;36mpandas._libs.tslibs.timezones.get_dst_info\u001b[1;34m()\u001b[0m\n",
      "\u001b[1;31mAttributeError\u001b[0m: 'NoneType' object has no attribute 'total_seconds'"
     ]
    },
    {
     "name": "stderr",
     "output_type": "stream",
     "text": [
      "Exception ignored in: 'pandas._libs.tslibs.conversion._localize_tso'\n",
      "Traceback (most recent call last):\n",
      "  File \"pandas\\_libs\\tslibs\\tzconversion.pyx\", line 85, in pandas._libs.tslibs.tzconversion.Localizer.__cinit__\n",
      "  File \"pandas\\_libs\\tslibs\\timezones.pyx\", line 306, in pandas._libs.tslibs.timezones.get_dst_info\n",
      "AttributeError: 'NoneType' object has no attribute 'total_seconds'\n"
     ]
    },
    {
     "ename": "AttributeError",
     "evalue": "'NoneType' object has no attribute 'total_seconds'",
     "output_type": "error",
     "traceback": [
      "\u001b[1;31m---------------------------------------------------------------------------\u001b[0m",
      "\u001b[1;31mAttributeError\u001b[0m                            Traceback (most recent call last)",
      "\u001b[1;32mc:\\Users\\henry.gu\\Anaconda3\\envs\\Python\\lib\\site-packages\\pandas\\_libs\\tslibs\\tzconversion.pyx\u001b[0m in \u001b[0;36mpandas._libs.tslibs.tzconversion.Localizer.__cinit__\u001b[1;34m()\u001b[0m\n",
      "\u001b[1;32mc:\\Users\\henry.gu\\Anaconda3\\envs\\Python\\lib\\site-packages\\pandas\\_libs\\tslibs\\timezones.pyx\u001b[0m in \u001b[0;36mpandas._libs.tslibs.timezones.get_dst_info\u001b[1;34m()\u001b[0m\n",
      "\u001b[1;31mAttributeError\u001b[0m: 'NoneType' object has no attribute 'total_seconds'"
     ]
    },
    {
     "name": "stderr",
     "output_type": "stream",
     "text": [
      "Exception ignored in: 'pandas._libs.tslibs.conversion._localize_tso'\n",
      "Traceback (most recent call last):\n",
      "  File \"pandas\\_libs\\tslibs\\tzconversion.pyx\", line 85, in pandas._libs.tslibs.tzconversion.Localizer.__cinit__\n",
      "  File \"pandas\\_libs\\tslibs\\timezones.pyx\", line 306, in pandas._libs.tslibs.timezones.get_dst_info\n",
      "AttributeError: 'NoneType' object has no attribute 'total_seconds'\n"
     ]
    },
    {
     "ename": "AttributeError",
     "evalue": "'NoneType' object has no attribute 'total_seconds'",
     "output_type": "error",
     "traceback": [
      "\u001b[1;31m---------------------------------------------------------------------------\u001b[0m",
      "\u001b[1;31mAttributeError\u001b[0m                            Traceback (most recent call last)",
      "\u001b[1;32mc:\\Users\\henry.gu\\Anaconda3\\envs\\Python\\lib\\site-packages\\pandas\\_libs\\tslibs\\tzconversion.pyx\u001b[0m in \u001b[0;36mpandas._libs.tslibs.tzconversion.Localizer.__cinit__\u001b[1;34m()\u001b[0m\n",
      "\u001b[1;32mc:\\Users\\henry.gu\\Anaconda3\\envs\\Python\\lib\\site-packages\\pandas\\_libs\\tslibs\\timezones.pyx\u001b[0m in \u001b[0;36mpandas._libs.tslibs.timezones.get_dst_info\u001b[1;34m()\u001b[0m\n",
      "\u001b[1;31mAttributeError\u001b[0m: 'NoneType' object has no attribute 'total_seconds'"
     ]
    },
    {
     "name": "stderr",
     "output_type": "stream",
     "text": [
      "Exception ignored in: 'pandas._libs.tslibs.conversion._localize_tso'\n",
      "Traceback (most recent call last):\n",
      "  File \"pandas\\_libs\\tslibs\\tzconversion.pyx\", line 85, in pandas._libs.tslibs.tzconversion.Localizer.__cinit__\n",
      "  File \"pandas\\_libs\\tslibs\\timezones.pyx\", line 306, in pandas._libs.tslibs.timezones.get_dst_info\n",
      "AttributeError: 'NoneType' object has no attribute 'total_seconds'\n"
     ]
    },
    {
     "ename": "AttributeError",
     "evalue": "'NoneType' object has no attribute 'total_seconds'",
     "output_type": "error",
     "traceback": [
      "\u001b[1;31m---------------------------------------------------------------------------\u001b[0m",
      "\u001b[1;31mAttributeError\u001b[0m                            Traceback (most recent call last)",
      "\u001b[1;32mc:\\Users\\henry.gu\\Anaconda3\\envs\\Python\\lib\\site-packages\\pandas\\_libs\\tslibs\\tzconversion.pyx\u001b[0m in \u001b[0;36mpandas._libs.tslibs.tzconversion.Localizer.__cinit__\u001b[1;34m()\u001b[0m\n",
      "\u001b[1;32mc:\\Users\\henry.gu\\Anaconda3\\envs\\Python\\lib\\site-packages\\pandas\\_libs\\tslibs\\timezones.pyx\u001b[0m in \u001b[0;36mpandas._libs.tslibs.timezones.get_dst_info\u001b[1;34m()\u001b[0m\n",
      "\u001b[1;31mAttributeError\u001b[0m: 'NoneType' object has no attribute 'total_seconds'"
     ]
    },
    {
     "name": "stderr",
     "output_type": "stream",
     "text": [
      "Exception ignored in: 'pandas._libs.tslibs.conversion._localize_tso'\n",
      "Traceback (most recent call last):\n",
      "  File \"pandas\\_libs\\tslibs\\tzconversion.pyx\", line 85, in pandas._libs.tslibs.tzconversion.Localizer.__cinit__\n",
      "  File \"pandas\\_libs\\tslibs\\timezones.pyx\", line 306, in pandas._libs.tslibs.timezones.get_dst_info\n",
      "AttributeError: 'NoneType' object has no attribute 'total_seconds'\n"
     ]
    },
    {
     "ename": "AttributeError",
     "evalue": "'NoneType' object has no attribute 'total_seconds'",
     "output_type": "error",
     "traceback": [
      "\u001b[1;31m---------------------------------------------------------------------------\u001b[0m",
      "\u001b[1;31mAttributeError\u001b[0m                            Traceback (most recent call last)",
      "\u001b[1;32mc:\\Users\\henry.gu\\Anaconda3\\envs\\Python\\lib\\site-packages\\pandas\\_libs\\tslibs\\tzconversion.pyx\u001b[0m in \u001b[0;36mpandas._libs.tslibs.tzconversion.Localizer.__cinit__\u001b[1;34m()\u001b[0m\n",
      "\u001b[1;32mc:\\Users\\henry.gu\\Anaconda3\\envs\\Python\\lib\\site-packages\\pandas\\_libs\\tslibs\\timezones.pyx\u001b[0m in \u001b[0;36mpandas._libs.tslibs.timezones.get_dst_info\u001b[1;34m()\u001b[0m\n",
      "\u001b[1;31mAttributeError\u001b[0m: 'NoneType' object has no attribute 'total_seconds'"
     ]
    },
    {
     "name": "stderr",
     "output_type": "stream",
     "text": [
      "Exception ignored in: 'pandas._libs.tslibs.conversion._localize_tso'\n",
      "Traceback (most recent call last):\n",
      "  File \"pandas\\_libs\\tslibs\\tzconversion.pyx\", line 85, in pandas._libs.tslibs.tzconversion.Localizer.__cinit__\n",
      "  File \"pandas\\_libs\\tslibs\\timezones.pyx\", line 306, in pandas._libs.tslibs.timezones.get_dst_info\n",
      "AttributeError: 'NoneType' object has no attribute 'total_seconds'\n"
     ]
    },
    {
     "ename": "AttributeError",
     "evalue": "'NoneType' object has no attribute 'total_seconds'",
     "output_type": "error",
     "traceback": [
      "\u001b[1;31m---------------------------------------------------------------------------\u001b[0m",
      "\u001b[1;31mAttributeError\u001b[0m                            Traceback (most recent call last)",
      "\u001b[1;32mc:\\Users\\henry.gu\\Anaconda3\\envs\\Python\\lib\\site-packages\\pandas\\_libs\\tslibs\\tzconversion.pyx\u001b[0m in \u001b[0;36mpandas._libs.tslibs.tzconversion.Localizer.__cinit__\u001b[1;34m()\u001b[0m\n",
      "\u001b[1;32mc:\\Users\\henry.gu\\Anaconda3\\envs\\Python\\lib\\site-packages\\pandas\\_libs\\tslibs\\timezones.pyx\u001b[0m in \u001b[0;36mpandas._libs.tslibs.timezones.get_dst_info\u001b[1;34m()\u001b[0m\n",
      "\u001b[1;31mAttributeError\u001b[0m: 'NoneType' object has no attribute 'total_seconds'"
     ]
    },
    {
     "name": "stderr",
     "output_type": "stream",
     "text": [
      "Exception ignored in: 'pandas._libs.tslibs.conversion._localize_tso'\n",
      "Traceback (most recent call last):\n",
      "  File \"pandas\\_libs\\tslibs\\tzconversion.pyx\", line 85, in pandas._libs.tslibs.tzconversion.Localizer.__cinit__\n",
      "  File \"pandas\\_libs\\tslibs\\timezones.pyx\", line 306, in pandas._libs.tslibs.timezones.get_dst_info\n",
      "AttributeError: 'NoneType' object has no attribute 'total_seconds'\n"
     ]
    },
    {
     "ename": "AttributeError",
     "evalue": "'NoneType' object has no attribute 'total_seconds'",
     "output_type": "error",
     "traceback": [
      "\u001b[1;31m---------------------------------------------------------------------------\u001b[0m",
      "\u001b[1;31mAttributeError\u001b[0m                            Traceback (most recent call last)",
      "\u001b[1;32mc:\\Users\\henry.gu\\Anaconda3\\envs\\Python\\lib\\site-packages\\pandas\\_libs\\tslibs\\tzconversion.pyx\u001b[0m in \u001b[0;36mpandas._libs.tslibs.tzconversion.Localizer.__cinit__\u001b[1;34m()\u001b[0m\n",
      "\u001b[1;32mc:\\Users\\henry.gu\\Anaconda3\\envs\\Python\\lib\\site-packages\\pandas\\_libs\\tslibs\\timezones.pyx\u001b[0m in \u001b[0;36mpandas._libs.tslibs.timezones.get_dst_info\u001b[1;34m()\u001b[0m\n",
      "\u001b[1;31mAttributeError\u001b[0m: 'NoneType' object has no attribute 'total_seconds'"
     ]
    },
    {
     "name": "stderr",
     "output_type": "stream",
     "text": [
      "Exception ignored in: 'pandas._libs.tslibs.conversion._localize_tso'\n",
      "Traceback (most recent call last):\n",
      "  File \"pandas\\_libs\\tslibs\\tzconversion.pyx\", line 85, in pandas._libs.tslibs.tzconversion.Localizer.__cinit__\n",
      "  File \"pandas\\_libs\\tslibs\\timezones.pyx\", line 306, in pandas._libs.tslibs.timezones.get_dst_info\n",
      "AttributeError: 'NoneType' object has no attribute 'total_seconds'\n"
     ]
    },
    {
     "ename": "AttributeError",
     "evalue": "'NoneType' object has no attribute 'total_seconds'",
     "output_type": "error",
     "traceback": [
      "\u001b[1;31m---------------------------------------------------------------------------\u001b[0m",
      "\u001b[1;31mAttributeError\u001b[0m                            Traceback (most recent call last)",
      "\u001b[1;32mc:\\Users\\henry.gu\\Anaconda3\\envs\\Python\\lib\\site-packages\\pandas\\_libs\\tslibs\\tzconversion.pyx\u001b[0m in \u001b[0;36mpandas._libs.tslibs.tzconversion.Localizer.__cinit__\u001b[1;34m()\u001b[0m\n",
      "\u001b[1;32mc:\\Users\\henry.gu\\Anaconda3\\envs\\Python\\lib\\site-packages\\pandas\\_libs\\tslibs\\timezones.pyx\u001b[0m in \u001b[0;36mpandas._libs.tslibs.timezones.get_dst_info\u001b[1;34m()\u001b[0m\n",
      "\u001b[1;31mAttributeError\u001b[0m: 'NoneType' object has no attribute 'total_seconds'"
     ]
    },
    {
     "name": "stderr",
     "output_type": "stream",
     "text": [
      "Exception ignored in: 'pandas._libs.tslibs.conversion._localize_tso'\n",
      "Traceback (most recent call last):\n",
      "  File \"pandas\\_libs\\tslibs\\tzconversion.pyx\", line 85, in pandas._libs.tslibs.tzconversion.Localizer.__cinit__\n",
      "  File \"pandas\\_libs\\tslibs\\timezones.pyx\", line 306, in pandas._libs.tslibs.timezones.get_dst_info\n",
      "AttributeError: 'NoneType' object has no attribute 'total_seconds'\n"
     ]
    },
    {
     "ename": "AttributeError",
     "evalue": "'NoneType' object has no attribute 'total_seconds'",
     "output_type": "error",
     "traceback": [
      "\u001b[1;31m---------------------------------------------------------------------------\u001b[0m",
      "\u001b[1;31mAttributeError\u001b[0m                            Traceback (most recent call last)",
      "\u001b[1;32mc:\\Users\\henry.gu\\Anaconda3\\envs\\Python\\lib\\site-packages\\pandas\\_libs\\tslibs\\tzconversion.pyx\u001b[0m in \u001b[0;36mpandas._libs.tslibs.tzconversion.Localizer.__cinit__\u001b[1;34m()\u001b[0m\n",
      "\u001b[1;32mc:\\Users\\henry.gu\\Anaconda3\\envs\\Python\\lib\\site-packages\\pandas\\_libs\\tslibs\\timezones.pyx\u001b[0m in \u001b[0;36mpandas._libs.tslibs.timezones.get_dst_info\u001b[1;34m()\u001b[0m\n",
      "\u001b[1;31mAttributeError\u001b[0m: 'NoneType' object has no attribute 'total_seconds'"
     ]
    },
    {
     "name": "stderr",
     "output_type": "stream",
     "text": [
      "Exception ignored in: 'pandas._libs.tslibs.conversion._localize_tso'\n",
      "Traceback (most recent call last):\n",
      "  File \"pandas\\_libs\\tslibs\\tzconversion.pyx\", line 85, in pandas._libs.tslibs.tzconversion.Localizer.__cinit__\n",
      "  File \"pandas\\_libs\\tslibs\\timezones.pyx\", line 306, in pandas._libs.tslibs.timezones.get_dst_info\n",
      "AttributeError: 'NoneType' object has no attribute 'total_seconds'\n"
     ]
    },
    {
     "ename": "AttributeError",
     "evalue": "'NoneType' object has no attribute 'total_seconds'",
     "output_type": "error",
     "traceback": [
      "\u001b[1;31m---------------------------------------------------------------------------\u001b[0m",
      "\u001b[1;31mAttributeError\u001b[0m                            Traceback (most recent call last)",
      "\u001b[1;32mc:\\Users\\henry.gu\\Anaconda3\\envs\\Python\\lib\\site-packages\\pandas\\_libs\\tslibs\\tzconversion.pyx\u001b[0m in \u001b[0;36mpandas._libs.tslibs.tzconversion.Localizer.__cinit__\u001b[1;34m()\u001b[0m\n",
      "\u001b[1;32mc:\\Users\\henry.gu\\Anaconda3\\envs\\Python\\lib\\site-packages\\pandas\\_libs\\tslibs\\timezones.pyx\u001b[0m in \u001b[0;36mpandas._libs.tslibs.timezones.get_dst_info\u001b[1;34m()\u001b[0m\n",
      "\u001b[1;31mAttributeError\u001b[0m: 'NoneType' object has no attribute 'total_seconds'"
     ]
    },
    {
     "name": "stderr",
     "output_type": "stream",
     "text": [
      "Exception ignored in: 'pandas._libs.tslibs.conversion._localize_tso'\n",
      "Traceback (most recent call last):\n",
      "  File \"pandas\\_libs\\tslibs\\tzconversion.pyx\", line 85, in pandas._libs.tslibs.tzconversion.Localizer.__cinit__\n",
      "  File \"pandas\\_libs\\tslibs\\timezones.pyx\", line 306, in pandas._libs.tslibs.timezones.get_dst_info\n",
      "AttributeError: 'NoneType' object has no attribute 'total_seconds'\n"
     ]
    },
    {
     "ename": "AttributeError",
     "evalue": "'NoneType' object has no attribute 'total_seconds'",
     "output_type": "error",
     "traceback": [
      "\u001b[1;31m---------------------------------------------------------------------------\u001b[0m",
      "\u001b[1;31mAttributeError\u001b[0m                            Traceback (most recent call last)",
      "\u001b[1;32mc:\\Users\\henry.gu\\Anaconda3\\envs\\Python\\lib\\site-packages\\pandas\\_libs\\tslibs\\tzconversion.pyx\u001b[0m in \u001b[0;36mpandas._libs.tslibs.tzconversion.Localizer.__cinit__\u001b[1;34m()\u001b[0m\n",
      "\u001b[1;32mc:\\Users\\henry.gu\\Anaconda3\\envs\\Python\\lib\\site-packages\\pandas\\_libs\\tslibs\\timezones.pyx\u001b[0m in \u001b[0;36mpandas._libs.tslibs.timezones.get_dst_info\u001b[1;34m()\u001b[0m\n",
      "\u001b[1;31mAttributeError\u001b[0m: 'NoneType' object has no attribute 'total_seconds'"
     ]
    },
    {
     "name": "stderr",
     "output_type": "stream",
     "text": [
      "Exception ignored in: 'pandas._libs.tslibs.conversion._localize_tso'\n",
      "Traceback (most recent call last):\n",
      "  File \"pandas\\_libs\\tslibs\\tzconversion.pyx\", line 85, in pandas._libs.tslibs.tzconversion.Localizer.__cinit__\n",
      "  File \"pandas\\_libs\\tslibs\\timezones.pyx\", line 306, in pandas._libs.tslibs.timezones.get_dst_info\n",
      "AttributeError: 'NoneType' object has no attribute 'total_seconds'\n"
     ]
    },
    {
     "ename": "AttributeError",
     "evalue": "'NoneType' object has no attribute 'total_seconds'",
     "output_type": "error",
     "traceback": [
      "\u001b[1;31m---------------------------------------------------------------------------\u001b[0m",
      "\u001b[1;31mAttributeError\u001b[0m                            Traceback (most recent call last)",
      "\u001b[1;32mc:\\Users\\henry.gu\\Anaconda3\\envs\\Python\\lib\\site-packages\\pandas\\_libs\\tslibs\\tzconversion.pyx\u001b[0m in \u001b[0;36mpandas._libs.tslibs.tzconversion.Localizer.__cinit__\u001b[1;34m()\u001b[0m\n",
      "\u001b[1;32mc:\\Users\\henry.gu\\Anaconda3\\envs\\Python\\lib\\site-packages\\pandas\\_libs\\tslibs\\timezones.pyx\u001b[0m in \u001b[0;36mpandas._libs.tslibs.timezones.get_dst_info\u001b[1;34m()\u001b[0m\n",
      "\u001b[1;31mAttributeError\u001b[0m: 'NoneType' object has no attribute 'total_seconds'"
     ]
    },
    {
     "name": "stderr",
     "output_type": "stream",
     "text": [
      "Exception ignored in: 'pandas._libs.tslibs.conversion._localize_tso'\n",
      "Traceback (most recent call last):\n",
      "  File \"pandas\\_libs\\tslibs\\tzconversion.pyx\", line 85, in pandas._libs.tslibs.tzconversion.Localizer.__cinit__\n",
      "  File \"pandas\\_libs\\tslibs\\timezones.pyx\", line 306, in pandas._libs.tslibs.timezones.get_dst_info\n",
      "AttributeError: 'NoneType' object has no attribute 'total_seconds'\n"
     ]
    },
    {
     "ename": "AttributeError",
     "evalue": "'NoneType' object has no attribute 'total_seconds'",
     "output_type": "error",
     "traceback": [
      "\u001b[1;31m---------------------------------------------------------------------------\u001b[0m",
      "\u001b[1;31mAttributeError\u001b[0m                            Traceback (most recent call last)",
      "\u001b[1;32mc:\\Users\\henry.gu\\Anaconda3\\envs\\Python\\lib\\site-packages\\pandas\\_libs\\tslibs\\tzconversion.pyx\u001b[0m in \u001b[0;36mpandas._libs.tslibs.tzconversion.Localizer.__cinit__\u001b[1;34m()\u001b[0m\n",
      "\u001b[1;32mc:\\Users\\henry.gu\\Anaconda3\\envs\\Python\\lib\\site-packages\\pandas\\_libs\\tslibs\\timezones.pyx\u001b[0m in \u001b[0;36mpandas._libs.tslibs.timezones.get_dst_info\u001b[1;34m()\u001b[0m\n",
      "\u001b[1;31mAttributeError\u001b[0m: 'NoneType' object has no attribute 'total_seconds'"
     ]
    },
    {
     "name": "stderr",
     "output_type": "stream",
     "text": [
      "Exception ignored in: 'pandas._libs.tslibs.conversion._localize_tso'\n",
      "Traceback (most recent call last):\n",
      "  File \"pandas\\_libs\\tslibs\\tzconversion.pyx\", line 85, in pandas._libs.tslibs.tzconversion.Localizer.__cinit__\n",
      "  File \"pandas\\_libs\\tslibs\\timezones.pyx\", line 306, in pandas._libs.tslibs.timezones.get_dst_info\n",
      "AttributeError: 'NoneType' object has no attribute 'total_seconds'\n"
     ]
    },
    {
     "ename": "AttributeError",
     "evalue": "'NoneType' object has no attribute 'total_seconds'",
     "output_type": "error",
     "traceback": [
      "\u001b[1;31m---------------------------------------------------------------------------\u001b[0m",
      "\u001b[1;31mAttributeError\u001b[0m                            Traceback (most recent call last)",
      "\u001b[1;32mc:\\Users\\henry.gu\\Anaconda3\\envs\\Python\\lib\\site-packages\\pandas\\_libs\\tslibs\\tzconversion.pyx\u001b[0m in \u001b[0;36mpandas._libs.tslibs.tzconversion.Localizer.__cinit__\u001b[1;34m()\u001b[0m\n",
      "\u001b[1;32mc:\\Users\\henry.gu\\Anaconda3\\envs\\Python\\lib\\site-packages\\pandas\\_libs\\tslibs\\timezones.pyx\u001b[0m in \u001b[0;36mpandas._libs.tslibs.timezones.get_dst_info\u001b[1;34m()\u001b[0m\n",
      "\u001b[1;31mAttributeError\u001b[0m: 'NoneType' object has no attribute 'total_seconds'"
     ]
    },
    {
     "name": "stderr",
     "output_type": "stream",
     "text": [
      "Exception ignored in: 'pandas._libs.tslibs.conversion._localize_tso'\n",
      "Traceback (most recent call last):\n",
      "  File \"pandas\\_libs\\tslibs\\tzconversion.pyx\", line 85, in pandas._libs.tslibs.tzconversion.Localizer.__cinit__\n",
      "  File \"pandas\\_libs\\tslibs\\timezones.pyx\", line 306, in pandas._libs.tslibs.timezones.get_dst_info\n",
      "AttributeError: 'NoneType' object has no attribute 'total_seconds'\n"
     ]
    },
    {
     "ename": "AttributeError",
     "evalue": "'NoneType' object has no attribute 'total_seconds'",
     "output_type": "error",
     "traceback": [
      "\u001b[1;31m---------------------------------------------------------------------------\u001b[0m",
      "\u001b[1;31mAttributeError\u001b[0m                            Traceback (most recent call last)",
      "\u001b[1;32mc:\\Users\\henry.gu\\Anaconda3\\envs\\Python\\lib\\site-packages\\pandas\\_libs\\tslibs\\tzconversion.pyx\u001b[0m in \u001b[0;36mpandas._libs.tslibs.tzconversion.Localizer.__cinit__\u001b[1;34m()\u001b[0m\n",
      "\u001b[1;32mc:\\Users\\henry.gu\\Anaconda3\\envs\\Python\\lib\\site-packages\\pandas\\_libs\\tslibs\\timezones.pyx\u001b[0m in \u001b[0;36mpandas._libs.tslibs.timezones.get_dst_info\u001b[1;34m()\u001b[0m\n",
      "\u001b[1;31mAttributeError\u001b[0m: 'NoneType' object has no attribute 'total_seconds'"
     ]
    },
    {
     "name": "stderr",
     "output_type": "stream",
     "text": [
      "Exception ignored in: 'pandas._libs.tslibs.conversion._localize_tso'\n",
      "Traceback (most recent call last):\n",
      "  File \"pandas\\_libs\\tslibs\\tzconversion.pyx\", line 85, in pandas._libs.tslibs.tzconversion.Localizer.__cinit__\n",
      "  File \"pandas\\_libs\\tslibs\\timezones.pyx\", line 306, in pandas._libs.tslibs.timezones.get_dst_info\n",
      "AttributeError: 'NoneType' object has no attribute 'total_seconds'\n"
     ]
    },
    {
     "ename": "AttributeError",
     "evalue": "'NoneType' object has no attribute 'total_seconds'",
     "output_type": "error",
     "traceback": [
      "\u001b[1;31m---------------------------------------------------------------------------\u001b[0m",
      "\u001b[1;31mAttributeError\u001b[0m                            Traceback (most recent call last)",
      "\u001b[1;32mc:\\Users\\henry.gu\\Anaconda3\\envs\\Python\\lib\\site-packages\\pandas\\_libs\\tslibs\\tzconversion.pyx\u001b[0m in \u001b[0;36mpandas._libs.tslibs.tzconversion.Localizer.__cinit__\u001b[1;34m()\u001b[0m\n",
      "\u001b[1;32mc:\\Users\\henry.gu\\Anaconda3\\envs\\Python\\lib\\site-packages\\pandas\\_libs\\tslibs\\timezones.pyx\u001b[0m in \u001b[0;36mpandas._libs.tslibs.timezones.get_dst_info\u001b[1;34m()\u001b[0m\n",
      "\u001b[1;31mAttributeError\u001b[0m: 'NoneType' object has no attribute 'total_seconds'"
     ]
    },
    {
     "name": "stderr",
     "output_type": "stream",
     "text": [
      "Exception ignored in: 'pandas._libs.tslibs.conversion._localize_tso'\n",
      "Traceback (most recent call last):\n",
      "  File \"pandas\\_libs\\tslibs\\tzconversion.pyx\", line 85, in pandas._libs.tslibs.tzconversion.Localizer.__cinit__\n",
      "  File \"pandas\\_libs\\tslibs\\timezones.pyx\", line 306, in pandas._libs.tslibs.timezones.get_dst_info\n",
      "AttributeError: 'NoneType' object has no attribute 'total_seconds'\n"
     ]
    },
    {
     "ename": "AttributeError",
     "evalue": "'NoneType' object has no attribute 'total_seconds'",
     "output_type": "error",
     "traceback": [
      "\u001b[1;31m---------------------------------------------------------------------------\u001b[0m",
      "\u001b[1;31mAttributeError\u001b[0m                            Traceback (most recent call last)",
      "\u001b[1;32mc:\\Users\\henry.gu\\Anaconda3\\envs\\Python\\lib\\site-packages\\pandas\\_libs\\tslibs\\tzconversion.pyx\u001b[0m in \u001b[0;36mpandas._libs.tslibs.tzconversion.Localizer.__cinit__\u001b[1;34m()\u001b[0m\n",
      "\u001b[1;32mc:\\Users\\henry.gu\\Anaconda3\\envs\\Python\\lib\\site-packages\\pandas\\_libs\\tslibs\\timezones.pyx\u001b[0m in \u001b[0;36mpandas._libs.tslibs.timezones.get_dst_info\u001b[1;34m()\u001b[0m\n",
      "\u001b[1;31mAttributeError\u001b[0m: 'NoneType' object has no attribute 'total_seconds'"
     ]
    },
    {
     "name": "stderr",
     "output_type": "stream",
     "text": [
      "Exception ignored in: 'pandas._libs.tslibs.conversion._localize_tso'\n",
      "Traceback (most recent call last):\n",
      "  File \"pandas\\_libs\\tslibs\\tzconversion.pyx\", line 85, in pandas._libs.tslibs.tzconversion.Localizer.__cinit__\n",
      "  File \"pandas\\_libs\\tslibs\\timezones.pyx\", line 306, in pandas._libs.tslibs.timezones.get_dst_info\n",
      "AttributeError: 'NoneType' object has no attribute 'total_seconds'\n"
     ]
    },
    {
     "ename": "AttributeError",
     "evalue": "'NoneType' object has no attribute 'total_seconds'",
     "output_type": "error",
     "traceback": [
      "\u001b[1;31m---------------------------------------------------------------------------\u001b[0m",
      "\u001b[1;31mAttributeError\u001b[0m                            Traceback (most recent call last)",
      "\u001b[1;32mc:\\Users\\henry.gu\\Anaconda3\\envs\\Python\\lib\\site-packages\\pandas\\_libs\\tslibs\\tzconversion.pyx\u001b[0m in \u001b[0;36mpandas._libs.tslibs.tzconversion.Localizer.__cinit__\u001b[1;34m()\u001b[0m\n",
      "\u001b[1;32mc:\\Users\\henry.gu\\Anaconda3\\envs\\Python\\lib\\site-packages\\pandas\\_libs\\tslibs\\timezones.pyx\u001b[0m in \u001b[0;36mpandas._libs.tslibs.timezones.get_dst_info\u001b[1;34m()\u001b[0m\n",
      "\u001b[1;31mAttributeError\u001b[0m: 'NoneType' object has no attribute 'total_seconds'"
     ]
    },
    {
     "name": "stderr",
     "output_type": "stream",
     "text": [
      "Exception ignored in: 'pandas._libs.tslibs.conversion._localize_tso'\n",
      "Traceback (most recent call last):\n",
      "  File \"pandas\\_libs\\tslibs\\tzconversion.pyx\", line 85, in pandas._libs.tslibs.tzconversion.Localizer.__cinit__\n",
      "  File \"pandas\\_libs\\tslibs\\timezones.pyx\", line 306, in pandas._libs.tslibs.timezones.get_dst_info\n",
      "AttributeError: 'NoneType' object has no attribute 'total_seconds'\n"
     ]
    },
    {
     "ename": "AttributeError",
     "evalue": "'NoneType' object has no attribute 'total_seconds'",
     "output_type": "error",
     "traceback": [
      "\u001b[1;31m---------------------------------------------------------------------------\u001b[0m",
      "\u001b[1;31mAttributeError\u001b[0m                            Traceback (most recent call last)",
      "\u001b[1;32mc:\\Users\\henry.gu\\Anaconda3\\envs\\Python\\lib\\site-packages\\pandas\\_libs\\tslibs\\tzconversion.pyx\u001b[0m in \u001b[0;36mpandas._libs.tslibs.tzconversion.Localizer.__cinit__\u001b[1;34m()\u001b[0m\n",
      "\u001b[1;32mc:\\Users\\henry.gu\\Anaconda3\\envs\\Python\\lib\\site-packages\\pandas\\_libs\\tslibs\\timezones.pyx\u001b[0m in \u001b[0;36mpandas._libs.tslibs.timezones.get_dst_info\u001b[1;34m()\u001b[0m\n",
      "\u001b[1;31mAttributeError\u001b[0m: 'NoneType' object has no attribute 'total_seconds'"
     ]
    },
    {
     "name": "stderr",
     "output_type": "stream",
     "text": [
      "Exception ignored in: 'pandas._libs.tslibs.conversion._localize_tso'\n",
      "Traceback (most recent call last):\n",
      "  File \"pandas\\_libs\\tslibs\\tzconversion.pyx\", line 85, in pandas._libs.tslibs.tzconversion.Localizer.__cinit__\n",
      "  File \"pandas\\_libs\\tslibs\\timezones.pyx\", line 306, in pandas._libs.tslibs.timezones.get_dst_info\n",
      "AttributeError: 'NoneType' object has no attribute 'total_seconds'\n"
     ]
    },
    {
     "ename": "AttributeError",
     "evalue": "'NoneType' object has no attribute 'total_seconds'",
     "output_type": "error",
     "traceback": [
      "\u001b[1;31m---------------------------------------------------------------------------\u001b[0m",
      "\u001b[1;31mAttributeError\u001b[0m                            Traceback (most recent call last)",
      "\u001b[1;32mc:\\Users\\henry.gu\\Anaconda3\\envs\\Python\\lib\\site-packages\\pandas\\_libs\\tslibs\\tzconversion.pyx\u001b[0m in \u001b[0;36mpandas._libs.tslibs.tzconversion.Localizer.__cinit__\u001b[1;34m()\u001b[0m\n",
      "\u001b[1;32mc:\\Users\\henry.gu\\Anaconda3\\envs\\Python\\lib\\site-packages\\pandas\\_libs\\tslibs\\timezones.pyx\u001b[0m in \u001b[0;36mpandas._libs.tslibs.timezones.get_dst_info\u001b[1;34m()\u001b[0m\n",
      "\u001b[1;31mAttributeError\u001b[0m: 'NoneType' object has no attribute 'total_seconds'"
     ]
    },
    {
     "name": "stderr",
     "output_type": "stream",
     "text": [
      "Exception ignored in: 'pandas._libs.tslibs.conversion._localize_tso'\n",
      "Traceback (most recent call last):\n",
      "  File \"pandas\\_libs\\tslibs\\tzconversion.pyx\", line 85, in pandas._libs.tslibs.tzconversion.Localizer.__cinit__\n",
      "  File \"pandas\\_libs\\tslibs\\timezones.pyx\", line 306, in pandas._libs.tslibs.timezones.get_dst_info\n",
      "AttributeError: 'NoneType' object has no attribute 'total_seconds'\n"
     ]
    },
    {
     "ename": "AttributeError",
     "evalue": "'NoneType' object has no attribute 'total_seconds'",
     "output_type": "error",
     "traceback": [
      "\u001b[1;31m---------------------------------------------------------------------------\u001b[0m",
      "\u001b[1;31mAttributeError\u001b[0m                            Traceback (most recent call last)",
      "\u001b[1;32mc:\\Users\\henry.gu\\Anaconda3\\envs\\Python\\lib\\site-packages\\pandas\\_libs\\tslibs\\tzconversion.pyx\u001b[0m in \u001b[0;36mpandas._libs.tslibs.tzconversion.Localizer.__cinit__\u001b[1;34m()\u001b[0m\n",
      "\u001b[1;32mc:\\Users\\henry.gu\\Anaconda3\\envs\\Python\\lib\\site-packages\\pandas\\_libs\\tslibs\\timezones.pyx\u001b[0m in \u001b[0;36mpandas._libs.tslibs.timezones.get_dst_info\u001b[1;34m()\u001b[0m\n",
      "\u001b[1;31mAttributeError\u001b[0m: 'NoneType' object has no attribute 'total_seconds'"
     ]
    },
    {
     "name": "stderr",
     "output_type": "stream",
     "text": [
      "Exception ignored in: 'pandas._libs.tslibs.conversion._localize_tso'\n",
      "Traceback (most recent call last):\n",
      "  File \"pandas\\_libs\\tslibs\\tzconversion.pyx\", line 85, in pandas._libs.tslibs.tzconversion.Localizer.__cinit__\n",
      "  File \"pandas\\_libs\\tslibs\\timezones.pyx\", line 306, in pandas._libs.tslibs.timezones.get_dst_info\n",
      "AttributeError: 'NoneType' object has no attribute 'total_seconds'\n"
     ]
    },
    {
     "ename": "AttributeError",
     "evalue": "'NoneType' object has no attribute 'total_seconds'",
     "output_type": "error",
     "traceback": [
      "\u001b[1;31m---------------------------------------------------------------------------\u001b[0m",
      "\u001b[1;31mAttributeError\u001b[0m                            Traceback (most recent call last)",
      "\u001b[1;32mc:\\Users\\henry.gu\\Anaconda3\\envs\\Python\\lib\\site-packages\\pandas\\_libs\\tslibs\\tzconversion.pyx\u001b[0m in \u001b[0;36mpandas._libs.tslibs.tzconversion.Localizer.__cinit__\u001b[1;34m()\u001b[0m\n",
      "\u001b[1;32mc:\\Users\\henry.gu\\Anaconda3\\envs\\Python\\lib\\site-packages\\pandas\\_libs\\tslibs\\timezones.pyx\u001b[0m in \u001b[0;36mpandas._libs.tslibs.timezones.get_dst_info\u001b[1;34m()\u001b[0m\n",
      "\u001b[1;31mAttributeError\u001b[0m: 'NoneType' object has no attribute 'total_seconds'"
     ]
    },
    {
     "name": "stderr",
     "output_type": "stream",
     "text": [
      "Exception ignored in: 'pandas._libs.tslibs.conversion._localize_tso'\n",
      "Traceback (most recent call last):\n",
      "  File \"pandas\\_libs\\tslibs\\tzconversion.pyx\", line 85, in pandas._libs.tslibs.tzconversion.Localizer.__cinit__\n",
      "  File \"pandas\\_libs\\tslibs\\timezones.pyx\", line 306, in pandas._libs.tslibs.timezones.get_dst_info\n",
      "AttributeError: 'NoneType' object has no attribute 'total_seconds'\n"
     ]
    },
    {
     "ename": "AttributeError",
     "evalue": "'NoneType' object has no attribute 'total_seconds'",
     "output_type": "error",
     "traceback": [
      "\u001b[1;31m---------------------------------------------------------------------------\u001b[0m",
      "\u001b[1;31mAttributeError\u001b[0m                            Traceback (most recent call last)",
      "\u001b[1;32mc:\\Users\\henry.gu\\Anaconda3\\envs\\Python\\lib\\site-packages\\pandas\\_libs\\tslibs\\tzconversion.pyx\u001b[0m in \u001b[0;36mpandas._libs.tslibs.tzconversion.Localizer.__cinit__\u001b[1;34m()\u001b[0m\n",
      "\u001b[1;32mc:\\Users\\henry.gu\\Anaconda3\\envs\\Python\\lib\\site-packages\\pandas\\_libs\\tslibs\\timezones.pyx\u001b[0m in \u001b[0;36mpandas._libs.tslibs.timezones.get_dst_info\u001b[1;34m()\u001b[0m\n",
      "\u001b[1;31mAttributeError\u001b[0m: 'NoneType' object has no attribute 'total_seconds'"
     ]
    },
    {
     "name": "stderr",
     "output_type": "stream",
     "text": [
      "Exception ignored in: 'pandas._libs.tslibs.conversion._localize_tso'\n",
      "Traceback (most recent call last):\n",
      "  File \"pandas\\_libs\\tslibs\\tzconversion.pyx\", line 85, in pandas._libs.tslibs.tzconversion.Localizer.__cinit__\n",
      "  File \"pandas\\_libs\\tslibs\\timezones.pyx\", line 306, in pandas._libs.tslibs.timezones.get_dst_info\n",
      "AttributeError: 'NoneType' object has no attribute 'total_seconds'\n"
     ]
    },
    {
     "ename": "AttributeError",
     "evalue": "'NoneType' object has no attribute 'total_seconds'",
     "output_type": "error",
     "traceback": [
      "\u001b[1;31m---------------------------------------------------------------------------\u001b[0m",
      "\u001b[1;31mAttributeError\u001b[0m                            Traceback (most recent call last)",
      "\u001b[1;32mc:\\Users\\henry.gu\\Anaconda3\\envs\\Python\\lib\\site-packages\\pandas\\_libs\\tslibs\\tzconversion.pyx\u001b[0m in \u001b[0;36mpandas._libs.tslibs.tzconversion.Localizer.__cinit__\u001b[1;34m()\u001b[0m\n",
      "\u001b[1;32mc:\\Users\\henry.gu\\Anaconda3\\envs\\Python\\lib\\site-packages\\pandas\\_libs\\tslibs\\timezones.pyx\u001b[0m in \u001b[0;36mpandas._libs.tslibs.timezones.get_dst_info\u001b[1;34m()\u001b[0m\n",
      "\u001b[1;31mAttributeError\u001b[0m: 'NoneType' object has no attribute 'total_seconds'"
     ]
    },
    {
     "name": "stderr",
     "output_type": "stream",
     "text": [
      "Exception ignored in: 'pandas._libs.tslibs.conversion._localize_tso'\n",
      "Traceback (most recent call last):\n",
      "  File \"pandas\\_libs\\tslibs\\tzconversion.pyx\", line 85, in pandas._libs.tslibs.tzconversion.Localizer.__cinit__\n",
      "  File \"pandas\\_libs\\tslibs\\timezones.pyx\", line 306, in pandas._libs.tslibs.timezones.get_dst_info\n",
      "AttributeError: 'NoneType' object has no attribute 'total_seconds'\n"
     ]
    },
    {
     "ename": "AttributeError",
     "evalue": "'NoneType' object has no attribute 'total_seconds'",
     "output_type": "error",
     "traceback": [
      "\u001b[1;31m---------------------------------------------------------------------------\u001b[0m",
      "\u001b[1;31mAttributeError\u001b[0m                            Traceback (most recent call last)",
      "\u001b[1;32mc:\\Users\\henry.gu\\Anaconda3\\envs\\Python\\lib\\site-packages\\pandas\\_libs\\tslibs\\tzconversion.pyx\u001b[0m in \u001b[0;36mpandas._libs.tslibs.tzconversion.Localizer.__cinit__\u001b[1;34m()\u001b[0m\n",
      "\u001b[1;32mc:\\Users\\henry.gu\\Anaconda3\\envs\\Python\\lib\\site-packages\\pandas\\_libs\\tslibs\\timezones.pyx\u001b[0m in \u001b[0;36mpandas._libs.tslibs.timezones.get_dst_info\u001b[1;34m()\u001b[0m\n",
      "\u001b[1;31mAttributeError\u001b[0m: 'NoneType' object has no attribute 'total_seconds'"
     ]
    },
    {
     "name": "stderr",
     "output_type": "stream",
     "text": [
      "Exception ignored in: 'pandas._libs.tslibs.conversion._localize_tso'\n",
      "Traceback (most recent call last):\n",
      "  File \"pandas\\_libs\\tslibs\\tzconversion.pyx\", line 85, in pandas._libs.tslibs.tzconversion.Localizer.__cinit__\n",
      "  File \"pandas\\_libs\\tslibs\\timezones.pyx\", line 306, in pandas._libs.tslibs.timezones.get_dst_info\n",
      "AttributeError: 'NoneType' object has no attribute 'total_seconds'\n"
     ]
    },
    {
     "ename": "AttributeError",
     "evalue": "'NoneType' object has no attribute 'total_seconds'",
     "output_type": "error",
     "traceback": [
      "\u001b[1;31m---------------------------------------------------------------------------\u001b[0m",
      "\u001b[1;31mAttributeError\u001b[0m                            Traceback (most recent call last)",
      "\u001b[1;32mc:\\Users\\henry.gu\\Anaconda3\\envs\\Python\\lib\\site-packages\\pandas\\_libs\\tslibs\\tzconversion.pyx\u001b[0m in \u001b[0;36mpandas._libs.tslibs.tzconversion.Localizer.__cinit__\u001b[1;34m()\u001b[0m\n",
      "\u001b[1;32mc:\\Users\\henry.gu\\Anaconda3\\envs\\Python\\lib\\site-packages\\pandas\\_libs\\tslibs\\timezones.pyx\u001b[0m in \u001b[0;36mpandas._libs.tslibs.timezones.get_dst_info\u001b[1;34m()\u001b[0m\n",
      "\u001b[1;31mAttributeError\u001b[0m: 'NoneType' object has no attribute 'total_seconds'"
     ]
    },
    {
     "name": "stderr",
     "output_type": "stream",
     "text": [
      "Exception ignored in: 'pandas._libs.tslibs.conversion._localize_tso'\n",
      "Traceback (most recent call last):\n",
      "  File \"pandas\\_libs\\tslibs\\tzconversion.pyx\", line 85, in pandas._libs.tslibs.tzconversion.Localizer.__cinit__\n",
      "  File \"pandas\\_libs\\tslibs\\timezones.pyx\", line 306, in pandas._libs.tslibs.timezones.get_dst_info\n",
      "AttributeError: 'NoneType' object has no attribute 'total_seconds'\n"
     ]
    },
    {
     "ename": "AttributeError",
     "evalue": "'NoneType' object has no attribute 'total_seconds'",
     "output_type": "error",
     "traceback": [
      "\u001b[1;31m---------------------------------------------------------------------------\u001b[0m",
      "\u001b[1;31mAttributeError\u001b[0m                            Traceback (most recent call last)",
      "\u001b[1;32mc:\\Users\\henry.gu\\Anaconda3\\envs\\Python\\lib\\site-packages\\pandas\\_libs\\tslibs\\tzconversion.pyx\u001b[0m in \u001b[0;36mpandas._libs.tslibs.tzconversion.Localizer.__cinit__\u001b[1;34m()\u001b[0m\n",
      "\u001b[1;32mc:\\Users\\henry.gu\\Anaconda3\\envs\\Python\\lib\\site-packages\\pandas\\_libs\\tslibs\\timezones.pyx\u001b[0m in \u001b[0;36mpandas._libs.tslibs.timezones.get_dst_info\u001b[1;34m()\u001b[0m\n",
      "\u001b[1;31mAttributeError\u001b[0m: 'NoneType' object has no attribute 'total_seconds'"
     ]
    },
    {
     "name": "stderr",
     "output_type": "stream",
     "text": [
      "Exception ignored in: 'pandas._libs.tslibs.conversion._localize_tso'\n",
      "Traceback (most recent call last):\n",
      "  File \"pandas\\_libs\\tslibs\\tzconversion.pyx\", line 85, in pandas._libs.tslibs.tzconversion.Localizer.__cinit__\n",
      "  File \"pandas\\_libs\\tslibs\\timezones.pyx\", line 306, in pandas._libs.tslibs.timezones.get_dst_info\n",
      "AttributeError: 'NoneType' object has no attribute 'total_seconds'\n"
     ]
    },
    {
     "ename": "AttributeError",
     "evalue": "'NoneType' object has no attribute 'total_seconds'",
     "output_type": "error",
     "traceback": [
      "\u001b[1;31m---------------------------------------------------------------------------\u001b[0m",
      "\u001b[1;31mAttributeError\u001b[0m                            Traceback (most recent call last)",
      "\u001b[1;32mc:\\Users\\henry.gu\\Anaconda3\\envs\\Python\\lib\\site-packages\\pandas\\_libs\\tslibs\\tzconversion.pyx\u001b[0m in \u001b[0;36mpandas._libs.tslibs.tzconversion.Localizer.__cinit__\u001b[1;34m()\u001b[0m\n",
      "\u001b[1;32mc:\\Users\\henry.gu\\Anaconda3\\envs\\Python\\lib\\site-packages\\pandas\\_libs\\tslibs\\timezones.pyx\u001b[0m in \u001b[0;36mpandas._libs.tslibs.timezones.get_dst_info\u001b[1;34m()\u001b[0m\n",
      "\u001b[1;31mAttributeError\u001b[0m: 'NoneType' object has no attribute 'total_seconds'"
     ]
    },
    {
     "name": "stderr",
     "output_type": "stream",
     "text": [
      "Exception ignored in: 'pandas._libs.tslibs.conversion._localize_tso'\n",
      "Traceback (most recent call last):\n",
      "  File \"pandas\\_libs\\tslibs\\tzconversion.pyx\", line 85, in pandas._libs.tslibs.tzconversion.Localizer.__cinit__\n",
      "  File \"pandas\\_libs\\tslibs\\timezones.pyx\", line 306, in pandas._libs.tslibs.timezones.get_dst_info\n",
      "AttributeError: 'NoneType' object has no attribute 'total_seconds'\n"
     ]
    },
    {
     "ename": "AttributeError",
     "evalue": "'NoneType' object has no attribute 'total_seconds'",
     "output_type": "error",
     "traceback": [
      "\u001b[1;31m---------------------------------------------------------------------------\u001b[0m",
      "\u001b[1;31mAttributeError\u001b[0m                            Traceback (most recent call last)",
      "\u001b[1;32mc:\\Users\\henry.gu\\Anaconda3\\envs\\Python\\lib\\site-packages\\pandas\\_libs\\tslibs\\tzconversion.pyx\u001b[0m in \u001b[0;36mpandas._libs.tslibs.tzconversion.Localizer.__cinit__\u001b[1;34m()\u001b[0m\n",
      "\u001b[1;32mc:\\Users\\henry.gu\\Anaconda3\\envs\\Python\\lib\\site-packages\\pandas\\_libs\\tslibs\\timezones.pyx\u001b[0m in \u001b[0;36mpandas._libs.tslibs.timezones.get_dst_info\u001b[1;34m()\u001b[0m\n",
      "\u001b[1;31mAttributeError\u001b[0m: 'NoneType' object has no attribute 'total_seconds'"
     ]
    },
    {
     "name": "stderr",
     "output_type": "stream",
     "text": [
      "Exception ignored in: 'pandas._libs.tslibs.conversion._localize_tso'\n",
      "Traceback (most recent call last):\n",
      "  File \"pandas\\_libs\\tslibs\\tzconversion.pyx\", line 85, in pandas._libs.tslibs.tzconversion.Localizer.__cinit__\n",
      "  File \"pandas\\_libs\\tslibs\\timezones.pyx\", line 306, in pandas._libs.tslibs.timezones.get_dst_info\n",
      "AttributeError: 'NoneType' object has no attribute 'total_seconds'\n"
     ]
    },
    {
     "ename": "AttributeError",
     "evalue": "'NoneType' object has no attribute 'total_seconds'",
     "output_type": "error",
     "traceback": [
      "\u001b[1;31m---------------------------------------------------------------------------\u001b[0m",
      "\u001b[1;31mAttributeError\u001b[0m                            Traceback (most recent call last)",
      "\u001b[1;32mc:\\Users\\henry.gu\\Anaconda3\\envs\\Python\\lib\\site-packages\\pandas\\_libs\\tslibs\\tzconversion.pyx\u001b[0m in \u001b[0;36mpandas._libs.tslibs.tzconversion.Localizer.__cinit__\u001b[1;34m()\u001b[0m\n",
      "\u001b[1;32mc:\\Users\\henry.gu\\Anaconda3\\envs\\Python\\lib\\site-packages\\pandas\\_libs\\tslibs\\timezones.pyx\u001b[0m in \u001b[0;36mpandas._libs.tslibs.timezones.get_dst_info\u001b[1;34m()\u001b[0m\n",
      "\u001b[1;31mAttributeError\u001b[0m: 'NoneType' object has no attribute 'total_seconds'"
     ]
    },
    {
     "name": "stderr",
     "output_type": "stream",
     "text": [
      "Exception ignored in: 'pandas._libs.tslibs.conversion._localize_tso'\n",
      "Traceback (most recent call last):\n",
      "  File \"pandas\\_libs\\tslibs\\tzconversion.pyx\", line 85, in pandas._libs.tslibs.tzconversion.Localizer.__cinit__\n",
      "  File \"pandas\\_libs\\tslibs\\timezones.pyx\", line 306, in pandas._libs.tslibs.timezones.get_dst_info\n",
      "AttributeError: 'NoneType' object has no attribute 'total_seconds'\n"
     ]
    },
    {
     "ename": "AttributeError",
     "evalue": "'NoneType' object has no attribute 'total_seconds'",
     "output_type": "error",
     "traceback": [
      "\u001b[1;31m---------------------------------------------------------------------------\u001b[0m",
      "\u001b[1;31mAttributeError\u001b[0m                            Traceback (most recent call last)",
      "\u001b[1;32mc:\\Users\\henry.gu\\Anaconda3\\envs\\Python\\lib\\site-packages\\pandas\\_libs\\tslibs\\tzconversion.pyx\u001b[0m in \u001b[0;36mpandas._libs.tslibs.tzconversion.Localizer.__cinit__\u001b[1;34m()\u001b[0m\n",
      "\u001b[1;32mc:\\Users\\henry.gu\\Anaconda3\\envs\\Python\\lib\\site-packages\\pandas\\_libs\\tslibs\\timezones.pyx\u001b[0m in \u001b[0;36mpandas._libs.tslibs.timezones.get_dst_info\u001b[1;34m()\u001b[0m\n",
      "\u001b[1;31mAttributeError\u001b[0m: 'NoneType' object has no attribute 'total_seconds'"
     ]
    },
    {
     "name": "stderr",
     "output_type": "stream",
     "text": [
      "Exception ignored in: 'pandas._libs.tslibs.conversion._localize_tso'\n",
      "Traceback (most recent call last):\n",
      "  File \"pandas\\_libs\\tslibs\\tzconversion.pyx\", line 85, in pandas._libs.tslibs.tzconversion.Localizer.__cinit__\n",
      "  File \"pandas\\_libs\\tslibs\\timezones.pyx\", line 306, in pandas._libs.tslibs.timezones.get_dst_info\n",
      "AttributeError: 'NoneType' object has no attribute 'total_seconds'\n"
     ]
    },
    {
     "ename": "AttributeError",
     "evalue": "'NoneType' object has no attribute 'total_seconds'",
     "output_type": "error",
     "traceback": [
      "\u001b[1;31m---------------------------------------------------------------------------\u001b[0m",
      "\u001b[1;31mAttributeError\u001b[0m                            Traceback (most recent call last)",
      "\u001b[1;32mc:\\Users\\henry.gu\\Anaconda3\\envs\\Python\\lib\\site-packages\\pandas\\_libs\\tslibs\\tzconversion.pyx\u001b[0m in \u001b[0;36mpandas._libs.tslibs.tzconversion.Localizer.__cinit__\u001b[1;34m()\u001b[0m\n",
      "\u001b[1;32mc:\\Users\\henry.gu\\Anaconda3\\envs\\Python\\lib\\site-packages\\pandas\\_libs\\tslibs\\timezones.pyx\u001b[0m in \u001b[0;36mpandas._libs.tslibs.timezones.get_dst_info\u001b[1;34m()\u001b[0m\n",
      "\u001b[1;31mAttributeError\u001b[0m: 'NoneType' object has no attribute 'total_seconds'"
     ]
    },
    {
     "name": "stderr",
     "output_type": "stream",
     "text": [
      "Exception ignored in: 'pandas._libs.tslibs.conversion._localize_tso'\n",
      "Traceback (most recent call last):\n",
      "  File \"pandas\\_libs\\tslibs\\tzconversion.pyx\", line 85, in pandas._libs.tslibs.tzconversion.Localizer.__cinit__\n",
      "  File \"pandas\\_libs\\tslibs\\timezones.pyx\", line 306, in pandas._libs.tslibs.timezones.get_dst_info\n",
      "AttributeError: 'NoneType' object has no attribute 'total_seconds'\n"
     ]
    },
    {
     "ename": "AttributeError",
     "evalue": "'NoneType' object has no attribute 'total_seconds'",
     "output_type": "error",
     "traceback": [
      "\u001b[1;31m---------------------------------------------------------------------------\u001b[0m",
      "\u001b[1;31mAttributeError\u001b[0m                            Traceback (most recent call last)",
      "\u001b[1;32mc:\\Users\\henry.gu\\Anaconda3\\envs\\Python\\lib\\site-packages\\pandas\\_libs\\tslibs\\tzconversion.pyx\u001b[0m in \u001b[0;36mpandas._libs.tslibs.tzconversion.Localizer.__cinit__\u001b[1;34m()\u001b[0m\n",
      "\u001b[1;32mc:\\Users\\henry.gu\\Anaconda3\\envs\\Python\\lib\\site-packages\\pandas\\_libs\\tslibs\\timezones.pyx\u001b[0m in \u001b[0;36mpandas._libs.tslibs.timezones.get_dst_info\u001b[1;34m()\u001b[0m\n",
      "\u001b[1;31mAttributeError\u001b[0m: 'NoneType' object has no attribute 'total_seconds'"
     ]
    },
    {
     "name": "stderr",
     "output_type": "stream",
     "text": [
      "Exception ignored in: 'pandas._libs.tslibs.conversion._localize_tso'\n",
      "Traceback (most recent call last):\n",
      "  File \"pandas\\_libs\\tslibs\\tzconversion.pyx\", line 85, in pandas._libs.tslibs.tzconversion.Localizer.__cinit__\n",
      "  File \"pandas\\_libs\\tslibs\\timezones.pyx\", line 306, in pandas._libs.tslibs.timezones.get_dst_info\n",
      "AttributeError: 'NoneType' object has no attribute 'total_seconds'\n"
     ]
    },
    {
     "ename": "AttributeError",
     "evalue": "'NoneType' object has no attribute 'total_seconds'",
     "output_type": "error",
     "traceback": [
      "\u001b[1;31m---------------------------------------------------------------------------\u001b[0m",
      "\u001b[1;31mAttributeError\u001b[0m                            Traceback (most recent call last)",
      "\u001b[1;32mc:\\Users\\henry.gu\\Anaconda3\\envs\\Python\\lib\\site-packages\\pandas\\_libs\\tslibs\\tzconversion.pyx\u001b[0m in \u001b[0;36mpandas._libs.tslibs.tzconversion.Localizer.__cinit__\u001b[1;34m()\u001b[0m\n",
      "\u001b[1;32mc:\\Users\\henry.gu\\Anaconda3\\envs\\Python\\lib\\site-packages\\pandas\\_libs\\tslibs\\timezones.pyx\u001b[0m in \u001b[0;36mpandas._libs.tslibs.timezones.get_dst_info\u001b[1;34m()\u001b[0m\n",
      "\u001b[1;31mAttributeError\u001b[0m: 'NoneType' object has no attribute 'total_seconds'"
     ]
    },
    {
     "name": "stderr",
     "output_type": "stream",
     "text": [
      "Exception ignored in: 'pandas._libs.tslibs.conversion._localize_tso'\n",
      "Traceback (most recent call last):\n",
      "  File \"pandas\\_libs\\tslibs\\tzconversion.pyx\", line 85, in pandas._libs.tslibs.tzconversion.Localizer.__cinit__\n",
      "  File \"pandas\\_libs\\tslibs\\timezones.pyx\", line 306, in pandas._libs.tslibs.timezones.get_dst_info\n",
      "AttributeError: 'NoneType' object has no attribute 'total_seconds'\n"
     ]
    },
    {
     "ename": "AttributeError",
     "evalue": "'NoneType' object has no attribute 'total_seconds'",
     "output_type": "error",
     "traceback": [
      "\u001b[1;31m---------------------------------------------------------------------------\u001b[0m",
      "\u001b[1;31mAttributeError\u001b[0m                            Traceback (most recent call last)",
      "\u001b[1;32mc:\\Users\\henry.gu\\Anaconda3\\envs\\Python\\lib\\site-packages\\pandas\\_libs\\tslibs\\tzconversion.pyx\u001b[0m in \u001b[0;36mpandas._libs.tslibs.tzconversion.Localizer.__cinit__\u001b[1;34m()\u001b[0m\n",
      "\u001b[1;32mc:\\Users\\henry.gu\\Anaconda3\\envs\\Python\\lib\\site-packages\\pandas\\_libs\\tslibs\\timezones.pyx\u001b[0m in \u001b[0;36mpandas._libs.tslibs.timezones.get_dst_info\u001b[1;34m()\u001b[0m\n",
      "\u001b[1;31mAttributeError\u001b[0m: 'NoneType' object has no attribute 'total_seconds'"
     ]
    },
    {
     "name": "stderr",
     "output_type": "stream",
     "text": [
      "Exception ignored in: 'pandas._libs.tslibs.conversion._localize_tso'\n",
      "Traceback (most recent call last):\n",
      "  File \"pandas\\_libs\\tslibs\\tzconversion.pyx\", line 85, in pandas._libs.tslibs.tzconversion.Localizer.__cinit__\n",
      "  File \"pandas\\_libs\\tslibs\\timezones.pyx\", line 306, in pandas._libs.tslibs.timezones.get_dst_info\n",
      "AttributeError: 'NoneType' object has no attribute 'total_seconds'\n"
     ]
    },
    {
     "ename": "AttributeError",
     "evalue": "'NoneType' object has no attribute 'total_seconds'",
     "output_type": "error",
     "traceback": [
      "\u001b[1;31m---------------------------------------------------------------------------\u001b[0m",
      "\u001b[1;31mAttributeError\u001b[0m                            Traceback (most recent call last)",
      "\u001b[1;32mc:\\Users\\henry.gu\\Anaconda3\\envs\\Python\\lib\\site-packages\\pandas\\_libs\\tslibs\\tzconversion.pyx\u001b[0m in \u001b[0;36mpandas._libs.tslibs.tzconversion.Localizer.__cinit__\u001b[1;34m()\u001b[0m\n",
      "\u001b[1;32mc:\\Users\\henry.gu\\Anaconda3\\envs\\Python\\lib\\site-packages\\pandas\\_libs\\tslibs\\timezones.pyx\u001b[0m in \u001b[0;36mpandas._libs.tslibs.timezones.get_dst_info\u001b[1;34m()\u001b[0m\n",
      "\u001b[1;31mAttributeError\u001b[0m: 'NoneType' object has no attribute 'total_seconds'"
     ]
    },
    {
     "name": "stderr",
     "output_type": "stream",
     "text": [
      "Exception ignored in: 'pandas._libs.tslibs.conversion._localize_tso'\n",
      "Traceback (most recent call last):\n",
      "  File \"pandas\\_libs\\tslibs\\tzconversion.pyx\", line 85, in pandas._libs.tslibs.tzconversion.Localizer.__cinit__\n",
      "  File \"pandas\\_libs\\tslibs\\timezones.pyx\", line 306, in pandas._libs.tslibs.timezones.get_dst_info\n",
      "AttributeError: 'NoneType' object has no attribute 'total_seconds'\n"
     ]
    },
    {
     "ename": "AttributeError",
     "evalue": "'NoneType' object has no attribute 'total_seconds'",
     "output_type": "error",
     "traceback": [
      "\u001b[1;31m---------------------------------------------------------------------------\u001b[0m",
      "\u001b[1;31mAttributeError\u001b[0m                            Traceback (most recent call last)",
      "\u001b[1;32mc:\\Users\\henry.gu\\Anaconda3\\envs\\Python\\lib\\site-packages\\pandas\\_libs\\tslibs\\tzconversion.pyx\u001b[0m in \u001b[0;36mpandas._libs.tslibs.tzconversion.Localizer.__cinit__\u001b[1;34m()\u001b[0m\n",
      "\u001b[1;32mc:\\Users\\henry.gu\\Anaconda3\\envs\\Python\\lib\\site-packages\\pandas\\_libs\\tslibs\\timezones.pyx\u001b[0m in \u001b[0;36mpandas._libs.tslibs.timezones.get_dst_info\u001b[1;34m()\u001b[0m\n",
      "\u001b[1;31mAttributeError\u001b[0m: 'NoneType' object has no attribute 'total_seconds'"
     ]
    },
    {
     "name": "stderr",
     "output_type": "stream",
     "text": [
      "Exception ignored in: 'pandas._libs.tslibs.conversion._localize_tso'\n",
      "Traceback (most recent call last):\n",
      "  File \"pandas\\_libs\\tslibs\\tzconversion.pyx\", line 85, in pandas._libs.tslibs.tzconversion.Localizer.__cinit__\n",
      "  File \"pandas\\_libs\\tslibs\\timezones.pyx\", line 306, in pandas._libs.tslibs.timezones.get_dst_info\n",
      "AttributeError: 'NoneType' object has no attribute 'total_seconds'\n"
     ]
    },
    {
     "ename": "AttributeError",
     "evalue": "'NoneType' object has no attribute 'total_seconds'",
     "output_type": "error",
     "traceback": [
      "\u001b[1;31m---------------------------------------------------------------------------\u001b[0m",
      "\u001b[1;31mAttributeError\u001b[0m                            Traceback (most recent call last)",
      "\u001b[1;32mc:\\Users\\henry.gu\\Anaconda3\\envs\\Python\\lib\\site-packages\\pandas\\_libs\\tslibs\\tzconversion.pyx\u001b[0m in \u001b[0;36mpandas._libs.tslibs.tzconversion.Localizer.__cinit__\u001b[1;34m()\u001b[0m\n",
      "\u001b[1;32mc:\\Users\\henry.gu\\Anaconda3\\envs\\Python\\lib\\site-packages\\pandas\\_libs\\tslibs\\timezones.pyx\u001b[0m in \u001b[0;36mpandas._libs.tslibs.timezones.get_dst_info\u001b[1;34m()\u001b[0m\n",
      "\u001b[1;31mAttributeError\u001b[0m: 'NoneType' object has no attribute 'total_seconds'"
     ]
    },
    {
     "name": "stderr",
     "output_type": "stream",
     "text": [
      "Exception ignored in: 'pandas._libs.tslibs.conversion._localize_tso'\n",
      "Traceback (most recent call last):\n",
      "  File \"pandas\\_libs\\tslibs\\tzconversion.pyx\", line 85, in pandas._libs.tslibs.tzconversion.Localizer.__cinit__\n",
      "  File \"pandas\\_libs\\tslibs\\timezones.pyx\", line 306, in pandas._libs.tslibs.timezones.get_dst_info\n",
      "AttributeError: 'NoneType' object has no attribute 'total_seconds'\n"
     ]
    },
    {
     "ename": "AttributeError",
     "evalue": "'NoneType' object has no attribute 'total_seconds'",
     "output_type": "error",
     "traceback": [
      "\u001b[1;31m---------------------------------------------------------------------------\u001b[0m",
      "\u001b[1;31mAttributeError\u001b[0m                            Traceback (most recent call last)",
      "\u001b[1;32mc:\\Users\\henry.gu\\Anaconda3\\envs\\Python\\lib\\site-packages\\pandas\\_libs\\tslibs\\tzconversion.pyx\u001b[0m in \u001b[0;36mpandas._libs.tslibs.tzconversion.Localizer.__cinit__\u001b[1;34m()\u001b[0m\n",
      "\u001b[1;32mc:\\Users\\henry.gu\\Anaconda3\\envs\\Python\\lib\\site-packages\\pandas\\_libs\\tslibs\\timezones.pyx\u001b[0m in \u001b[0;36mpandas._libs.tslibs.timezones.get_dst_info\u001b[1;34m()\u001b[0m\n",
      "\u001b[1;31mAttributeError\u001b[0m: 'NoneType' object has no attribute 'total_seconds'"
     ]
    },
    {
     "name": "stderr",
     "output_type": "stream",
     "text": [
      "Exception ignored in: 'pandas._libs.tslibs.conversion._localize_tso'\n",
      "Traceback (most recent call last):\n",
      "  File \"pandas\\_libs\\tslibs\\tzconversion.pyx\", line 85, in pandas._libs.tslibs.tzconversion.Localizer.__cinit__\n",
      "  File \"pandas\\_libs\\tslibs\\timezones.pyx\", line 306, in pandas._libs.tslibs.timezones.get_dst_info\n",
      "AttributeError: 'NoneType' object has no attribute 'total_seconds'\n"
     ]
    },
    {
     "ename": "AttributeError",
     "evalue": "'NoneType' object has no attribute 'total_seconds'",
     "output_type": "error",
     "traceback": [
      "\u001b[1;31m---------------------------------------------------------------------------\u001b[0m",
      "\u001b[1;31mAttributeError\u001b[0m                            Traceback (most recent call last)",
      "\u001b[1;32mc:\\Users\\henry.gu\\Anaconda3\\envs\\Python\\lib\\site-packages\\pandas\\_libs\\tslibs\\tzconversion.pyx\u001b[0m in \u001b[0;36mpandas._libs.tslibs.tzconversion.Localizer.__cinit__\u001b[1;34m()\u001b[0m\n",
      "\u001b[1;32mc:\\Users\\henry.gu\\Anaconda3\\envs\\Python\\lib\\site-packages\\pandas\\_libs\\tslibs\\timezones.pyx\u001b[0m in \u001b[0;36mpandas._libs.tslibs.timezones.get_dst_info\u001b[1;34m()\u001b[0m\n",
      "\u001b[1;31mAttributeError\u001b[0m: 'NoneType' object has no attribute 'total_seconds'"
     ]
    },
    {
     "name": "stderr",
     "output_type": "stream",
     "text": [
      "Exception ignored in: 'pandas._libs.tslibs.conversion._localize_tso'\n",
      "Traceback (most recent call last):\n",
      "  File \"pandas\\_libs\\tslibs\\tzconversion.pyx\", line 85, in pandas._libs.tslibs.tzconversion.Localizer.__cinit__\n",
      "  File \"pandas\\_libs\\tslibs\\timezones.pyx\", line 306, in pandas._libs.tslibs.timezones.get_dst_info\n",
      "AttributeError: 'NoneType' object has no attribute 'total_seconds'\n"
     ]
    },
    {
     "ename": "AttributeError",
     "evalue": "'NoneType' object has no attribute 'total_seconds'",
     "output_type": "error",
     "traceback": [
      "\u001b[1;31m---------------------------------------------------------------------------\u001b[0m",
      "\u001b[1;31mAttributeError\u001b[0m                            Traceback (most recent call last)",
      "\u001b[1;32mc:\\Users\\henry.gu\\Anaconda3\\envs\\Python\\lib\\site-packages\\pandas\\_libs\\tslibs\\tzconversion.pyx\u001b[0m in \u001b[0;36mpandas._libs.tslibs.tzconversion.Localizer.__cinit__\u001b[1;34m()\u001b[0m\n",
      "\u001b[1;32mc:\\Users\\henry.gu\\Anaconda3\\envs\\Python\\lib\\site-packages\\pandas\\_libs\\tslibs\\timezones.pyx\u001b[0m in \u001b[0;36mpandas._libs.tslibs.timezones.get_dst_info\u001b[1;34m()\u001b[0m\n",
      "\u001b[1;31mAttributeError\u001b[0m: 'NoneType' object has no attribute 'total_seconds'"
     ]
    },
    {
     "name": "stderr",
     "output_type": "stream",
     "text": [
      "Exception ignored in: 'pandas._libs.tslibs.conversion._localize_tso'\n",
      "Traceback (most recent call last):\n",
      "  File \"pandas\\_libs\\tslibs\\tzconversion.pyx\", line 85, in pandas._libs.tslibs.tzconversion.Localizer.__cinit__\n",
      "  File \"pandas\\_libs\\tslibs\\timezones.pyx\", line 306, in pandas._libs.tslibs.timezones.get_dst_info\n",
      "AttributeError: 'NoneType' object has no attribute 'total_seconds'\n"
     ]
    },
    {
     "ename": "AttributeError",
     "evalue": "'NoneType' object has no attribute 'total_seconds'",
     "output_type": "error",
     "traceback": [
      "\u001b[1;31m---------------------------------------------------------------------------\u001b[0m",
      "\u001b[1;31mAttributeError\u001b[0m                            Traceback (most recent call last)",
      "\u001b[1;32mc:\\Users\\henry.gu\\Anaconda3\\envs\\Python\\lib\\site-packages\\pandas\\_libs\\tslibs\\tzconversion.pyx\u001b[0m in \u001b[0;36mpandas._libs.tslibs.tzconversion.Localizer.__cinit__\u001b[1;34m()\u001b[0m\n",
      "\u001b[1;32mc:\\Users\\henry.gu\\Anaconda3\\envs\\Python\\lib\\site-packages\\pandas\\_libs\\tslibs\\timezones.pyx\u001b[0m in \u001b[0;36mpandas._libs.tslibs.timezones.get_dst_info\u001b[1;34m()\u001b[0m\n",
      "\u001b[1;31mAttributeError\u001b[0m: 'NoneType' object has no attribute 'total_seconds'"
     ]
    },
    {
     "name": "stderr",
     "output_type": "stream",
     "text": [
      "Exception ignored in: 'pandas._libs.tslibs.conversion._localize_tso'\n",
      "Traceback (most recent call last):\n",
      "  File \"pandas\\_libs\\tslibs\\tzconversion.pyx\", line 85, in pandas._libs.tslibs.tzconversion.Localizer.__cinit__\n",
      "  File \"pandas\\_libs\\tslibs\\timezones.pyx\", line 306, in pandas._libs.tslibs.timezones.get_dst_info\n",
      "AttributeError: 'NoneType' object has no attribute 'total_seconds'\n"
     ]
    },
    {
     "ename": "AttributeError",
     "evalue": "'NoneType' object has no attribute 'total_seconds'",
     "output_type": "error",
     "traceback": [
      "\u001b[1;31m---------------------------------------------------------------------------\u001b[0m",
      "\u001b[1;31mAttributeError\u001b[0m                            Traceback (most recent call last)",
      "\u001b[1;32mc:\\Users\\henry.gu\\Anaconda3\\envs\\Python\\lib\\site-packages\\pandas\\_libs\\tslibs\\tzconversion.pyx\u001b[0m in \u001b[0;36mpandas._libs.tslibs.tzconversion.Localizer.__cinit__\u001b[1;34m()\u001b[0m\n",
      "\u001b[1;32mc:\\Users\\henry.gu\\Anaconda3\\envs\\Python\\lib\\site-packages\\pandas\\_libs\\tslibs\\timezones.pyx\u001b[0m in \u001b[0;36mpandas._libs.tslibs.timezones.get_dst_info\u001b[1;34m()\u001b[0m\n",
      "\u001b[1;31mAttributeError\u001b[0m: 'NoneType' object has no attribute 'total_seconds'"
     ]
    },
    {
     "name": "stderr",
     "output_type": "stream",
     "text": [
      "Exception ignored in: 'pandas._libs.tslibs.conversion._localize_tso'\n",
      "Traceback (most recent call last):\n",
      "  File \"pandas\\_libs\\tslibs\\tzconversion.pyx\", line 85, in pandas._libs.tslibs.tzconversion.Localizer.__cinit__\n",
      "  File \"pandas\\_libs\\tslibs\\timezones.pyx\", line 306, in pandas._libs.tslibs.timezones.get_dst_info\n",
      "AttributeError: 'NoneType' object has no attribute 'total_seconds'\n"
     ]
    },
    {
     "ename": "AttributeError",
     "evalue": "'NoneType' object has no attribute 'total_seconds'",
     "output_type": "error",
     "traceback": [
      "\u001b[1;31m---------------------------------------------------------------------------\u001b[0m",
      "\u001b[1;31mAttributeError\u001b[0m                            Traceback (most recent call last)",
      "\u001b[1;32mc:\\Users\\henry.gu\\Anaconda3\\envs\\Python\\lib\\site-packages\\pandas\\_libs\\tslibs\\tzconversion.pyx\u001b[0m in \u001b[0;36mpandas._libs.tslibs.tzconversion.Localizer.__cinit__\u001b[1;34m()\u001b[0m\n",
      "\u001b[1;32mc:\\Users\\henry.gu\\Anaconda3\\envs\\Python\\lib\\site-packages\\pandas\\_libs\\tslibs\\timezones.pyx\u001b[0m in \u001b[0;36mpandas._libs.tslibs.timezones.get_dst_info\u001b[1;34m()\u001b[0m\n",
      "\u001b[1;31mAttributeError\u001b[0m: 'NoneType' object has no attribute 'total_seconds'"
     ]
    },
    {
     "name": "stderr",
     "output_type": "stream",
     "text": [
      "Exception ignored in: 'pandas._libs.tslibs.conversion._localize_tso'\n",
      "Traceback (most recent call last):\n",
      "  File \"pandas\\_libs\\tslibs\\tzconversion.pyx\", line 85, in pandas._libs.tslibs.tzconversion.Localizer.__cinit__\n",
      "  File \"pandas\\_libs\\tslibs\\timezones.pyx\", line 306, in pandas._libs.tslibs.timezones.get_dst_info\n",
      "AttributeError: 'NoneType' object has no attribute 'total_seconds'\n"
     ]
    },
    {
     "ename": "AttributeError",
     "evalue": "'NoneType' object has no attribute 'total_seconds'",
     "output_type": "error",
     "traceback": [
      "\u001b[1;31m---------------------------------------------------------------------------\u001b[0m",
      "\u001b[1;31mAttributeError\u001b[0m                            Traceback (most recent call last)",
      "\u001b[1;32mc:\\Users\\henry.gu\\Anaconda3\\envs\\Python\\lib\\site-packages\\pandas\\_libs\\tslibs\\tzconversion.pyx\u001b[0m in \u001b[0;36mpandas._libs.tslibs.tzconversion.Localizer.__cinit__\u001b[1;34m()\u001b[0m\n",
      "\u001b[1;32mc:\\Users\\henry.gu\\Anaconda3\\envs\\Python\\lib\\site-packages\\pandas\\_libs\\tslibs\\timezones.pyx\u001b[0m in \u001b[0;36mpandas._libs.tslibs.timezones.get_dst_info\u001b[1;34m()\u001b[0m\n",
      "\u001b[1;31mAttributeError\u001b[0m: 'NoneType' object has no attribute 'total_seconds'"
     ]
    },
    {
     "name": "stderr",
     "output_type": "stream",
     "text": [
      "Exception ignored in: 'pandas._libs.tslibs.conversion._localize_tso'\n",
      "Traceback (most recent call last):\n",
      "  File \"pandas\\_libs\\tslibs\\tzconversion.pyx\", line 85, in pandas._libs.tslibs.tzconversion.Localizer.__cinit__\n",
      "  File \"pandas\\_libs\\tslibs\\timezones.pyx\", line 306, in pandas._libs.tslibs.timezones.get_dst_info\n",
      "AttributeError: 'NoneType' object has no attribute 'total_seconds'\n"
     ]
    },
    {
     "ename": "AttributeError",
     "evalue": "'NoneType' object has no attribute 'total_seconds'",
     "output_type": "error",
     "traceback": [
      "\u001b[1;31m---------------------------------------------------------------------------\u001b[0m",
      "\u001b[1;31mAttributeError\u001b[0m                            Traceback (most recent call last)",
      "\u001b[1;32mc:\\Users\\henry.gu\\Anaconda3\\envs\\Python\\lib\\site-packages\\pandas\\_libs\\tslibs\\tzconversion.pyx\u001b[0m in \u001b[0;36mpandas._libs.tslibs.tzconversion.Localizer.__cinit__\u001b[1;34m()\u001b[0m\n",
      "\u001b[1;32mc:\\Users\\henry.gu\\Anaconda3\\envs\\Python\\lib\\site-packages\\pandas\\_libs\\tslibs\\timezones.pyx\u001b[0m in \u001b[0;36mpandas._libs.tslibs.timezones.get_dst_info\u001b[1;34m()\u001b[0m\n",
      "\u001b[1;31mAttributeError\u001b[0m: 'NoneType' object has no attribute 'total_seconds'"
     ]
    },
    {
     "name": "stderr",
     "output_type": "stream",
     "text": [
      "Exception ignored in: 'pandas._libs.tslibs.conversion._localize_tso'\n",
      "Traceback (most recent call last):\n",
      "  File \"pandas\\_libs\\tslibs\\tzconversion.pyx\", line 85, in pandas._libs.tslibs.tzconversion.Localizer.__cinit__\n",
      "  File \"pandas\\_libs\\tslibs\\timezones.pyx\", line 306, in pandas._libs.tslibs.timezones.get_dst_info\n",
      "AttributeError: 'NoneType' object has no attribute 'total_seconds'\n"
     ]
    },
    {
     "ename": "AttributeError",
     "evalue": "'NoneType' object has no attribute 'total_seconds'",
     "output_type": "error",
     "traceback": [
      "\u001b[1;31m---------------------------------------------------------------------------\u001b[0m",
      "\u001b[1;31mAttributeError\u001b[0m                            Traceback (most recent call last)",
      "\u001b[1;32mc:\\Users\\henry.gu\\Anaconda3\\envs\\Python\\lib\\site-packages\\pandas\\_libs\\tslibs\\tzconversion.pyx\u001b[0m in \u001b[0;36mpandas._libs.tslibs.tzconversion.Localizer.__cinit__\u001b[1;34m()\u001b[0m\n",
      "\u001b[1;32mc:\\Users\\henry.gu\\Anaconda3\\envs\\Python\\lib\\site-packages\\pandas\\_libs\\tslibs\\timezones.pyx\u001b[0m in \u001b[0;36mpandas._libs.tslibs.timezones.get_dst_info\u001b[1;34m()\u001b[0m\n",
      "\u001b[1;31mAttributeError\u001b[0m: 'NoneType' object has no attribute 'total_seconds'"
     ]
    },
    {
     "name": "stderr",
     "output_type": "stream",
     "text": [
      "Exception ignored in: 'pandas._libs.tslibs.conversion._localize_tso'\n",
      "Traceback (most recent call last):\n",
      "  File \"pandas\\_libs\\tslibs\\tzconversion.pyx\", line 85, in pandas._libs.tslibs.tzconversion.Localizer.__cinit__\n",
      "  File \"pandas\\_libs\\tslibs\\timezones.pyx\", line 306, in pandas._libs.tslibs.timezones.get_dst_info\n",
      "AttributeError: 'NoneType' object has no attribute 'total_seconds'\n"
     ]
    },
    {
     "ename": "AttributeError",
     "evalue": "'NoneType' object has no attribute 'total_seconds'",
     "output_type": "error",
     "traceback": [
      "\u001b[1;31m---------------------------------------------------------------------------\u001b[0m",
      "\u001b[1;31mAttributeError\u001b[0m                            Traceback (most recent call last)",
      "\u001b[1;32mc:\\Users\\henry.gu\\Anaconda3\\envs\\Python\\lib\\site-packages\\pandas\\_libs\\tslibs\\tzconversion.pyx\u001b[0m in \u001b[0;36mpandas._libs.tslibs.tzconversion.Localizer.__cinit__\u001b[1;34m()\u001b[0m\n",
      "\u001b[1;32mc:\\Users\\henry.gu\\Anaconda3\\envs\\Python\\lib\\site-packages\\pandas\\_libs\\tslibs\\timezones.pyx\u001b[0m in \u001b[0;36mpandas._libs.tslibs.timezones.get_dst_info\u001b[1;34m()\u001b[0m\n",
      "\u001b[1;31mAttributeError\u001b[0m: 'NoneType' object has no attribute 'total_seconds'"
     ]
    },
    {
     "name": "stderr",
     "output_type": "stream",
     "text": [
      "Exception ignored in: 'pandas._libs.tslibs.conversion._localize_tso'\n",
      "Traceback (most recent call last):\n",
      "  File \"pandas\\_libs\\tslibs\\tzconversion.pyx\", line 85, in pandas._libs.tslibs.tzconversion.Localizer.__cinit__\n",
      "  File \"pandas\\_libs\\tslibs\\timezones.pyx\", line 306, in pandas._libs.tslibs.timezones.get_dst_info\n",
      "AttributeError: 'NoneType' object has no attribute 'total_seconds'\n"
     ]
    },
    {
     "ename": "AttributeError",
     "evalue": "'NoneType' object has no attribute 'total_seconds'",
     "output_type": "error",
     "traceback": [
      "\u001b[1;31m---------------------------------------------------------------------------\u001b[0m",
      "\u001b[1;31mAttributeError\u001b[0m                            Traceback (most recent call last)",
      "\u001b[1;32mc:\\Users\\henry.gu\\Anaconda3\\envs\\Python\\lib\\site-packages\\pandas\\_libs\\tslibs\\tzconversion.pyx\u001b[0m in \u001b[0;36mpandas._libs.tslibs.tzconversion.Localizer.__cinit__\u001b[1;34m()\u001b[0m\n",
      "\u001b[1;32mc:\\Users\\henry.gu\\Anaconda3\\envs\\Python\\lib\\site-packages\\pandas\\_libs\\tslibs\\timezones.pyx\u001b[0m in \u001b[0;36mpandas._libs.tslibs.timezones.get_dst_info\u001b[1;34m()\u001b[0m\n",
      "\u001b[1;31mAttributeError\u001b[0m: 'NoneType' object has no attribute 'total_seconds'"
     ]
    },
    {
     "name": "stderr",
     "output_type": "stream",
     "text": [
      "Exception ignored in: 'pandas._libs.tslibs.conversion._localize_tso'\n",
      "Traceback (most recent call last):\n",
      "  File \"pandas\\_libs\\tslibs\\tzconversion.pyx\", line 85, in pandas._libs.tslibs.tzconversion.Localizer.__cinit__\n",
      "  File \"pandas\\_libs\\tslibs\\timezones.pyx\", line 306, in pandas._libs.tslibs.timezones.get_dst_info\n",
      "AttributeError: 'NoneType' object has no attribute 'total_seconds'\n"
     ]
    },
    {
     "ename": "AttributeError",
     "evalue": "'NoneType' object has no attribute 'total_seconds'",
     "output_type": "error",
     "traceback": [
      "\u001b[1;31m---------------------------------------------------------------------------\u001b[0m",
      "\u001b[1;31mAttributeError\u001b[0m                            Traceback (most recent call last)",
      "\u001b[1;32mc:\\Users\\henry.gu\\Anaconda3\\envs\\Python\\lib\\site-packages\\pandas\\_libs\\tslibs\\tzconversion.pyx\u001b[0m in \u001b[0;36mpandas._libs.tslibs.tzconversion.Localizer.__cinit__\u001b[1;34m()\u001b[0m\n",
      "\u001b[1;32mc:\\Users\\henry.gu\\Anaconda3\\envs\\Python\\lib\\site-packages\\pandas\\_libs\\tslibs\\timezones.pyx\u001b[0m in \u001b[0;36mpandas._libs.tslibs.timezones.get_dst_info\u001b[1;34m()\u001b[0m\n",
      "\u001b[1;31mAttributeError\u001b[0m: 'NoneType' object has no attribute 'total_seconds'"
     ]
    },
    {
     "name": "stderr",
     "output_type": "stream",
     "text": [
      "Exception ignored in: 'pandas._libs.tslibs.conversion._localize_tso'\n",
      "Traceback (most recent call last):\n",
      "  File \"pandas\\_libs\\tslibs\\tzconversion.pyx\", line 85, in pandas._libs.tslibs.tzconversion.Localizer.__cinit__\n",
      "  File \"pandas\\_libs\\tslibs\\timezones.pyx\", line 306, in pandas._libs.tslibs.timezones.get_dst_info\n",
      "AttributeError: 'NoneType' object has no attribute 'total_seconds'\n"
     ]
    },
    {
     "ename": "AttributeError",
     "evalue": "'NoneType' object has no attribute 'total_seconds'",
     "output_type": "error",
     "traceback": [
      "\u001b[1;31m---------------------------------------------------------------------------\u001b[0m",
      "\u001b[1;31mAttributeError\u001b[0m                            Traceback (most recent call last)",
      "\u001b[1;32mc:\\Users\\henry.gu\\Anaconda3\\envs\\Python\\lib\\site-packages\\pandas\\_libs\\tslibs\\tzconversion.pyx\u001b[0m in \u001b[0;36mpandas._libs.tslibs.tzconversion.Localizer.__cinit__\u001b[1;34m()\u001b[0m\n",
      "\u001b[1;32mc:\\Users\\henry.gu\\Anaconda3\\envs\\Python\\lib\\site-packages\\pandas\\_libs\\tslibs\\timezones.pyx\u001b[0m in \u001b[0;36mpandas._libs.tslibs.timezones.get_dst_info\u001b[1;34m()\u001b[0m\n",
      "\u001b[1;31mAttributeError\u001b[0m: 'NoneType' object has no attribute 'total_seconds'"
     ]
    },
    {
     "name": "stderr",
     "output_type": "stream",
     "text": [
      "Exception ignored in: 'pandas._libs.tslibs.conversion._localize_tso'\n",
      "Traceback (most recent call last):\n",
      "  File \"pandas\\_libs\\tslibs\\tzconversion.pyx\", line 85, in pandas._libs.tslibs.tzconversion.Localizer.__cinit__\n",
      "  File \"pandas\\_libs\\tslibs\\timezones.pyx\", line 306, in pandas._libs.tslibs.timezones.get_dst_info\n",
      "AttributeError: 'NoneType' object has no attribute 'total_seconds'\n"
     ]
    },
    {
     "ename": "AttributeError",
     "evalue": "'NoneType' object has no attribute 'total_seconds'",
     "output_type": "error",
     "traceback": [
      "\u001b[1;31m---------------------------------------------------------------------------\u001b[0m",
      "\u001b[1;31mAttributeError\u001b[0m                            Traceback (most recent call last)",
      "\u001b[1;32mc:\\Users\\henry.gu\\Anaconda3\\envs\\Python\\lib\\site-packages\\pandas\\_libs\\tslibs\\tzconversion.pyx\u001b[0m in \u001b[0;36mpandas._libs.tslibs.tzconversion.Localizer.__cinit__\u001b[1;34m()\u001b[0m\n",
      "\u001b[1;32mc:\\Users\\henry.gu\\Anaconda3\\envs\\Python\\lib\\site-packages\\pandas\\_libs\\tslibs\\timezones.pyx\u001b[0m in \u001b[0;36mpandas._libs.tslibs.timezones.get_dst_info\u001b[1;34m()\u001b[0m\n",
      "\u001b[1;31mAttributeError\u001b[0m: 'NoneType' object has no attribute 'total_seconds'"
     ]
    },
    {
     "name": "stderr",
     "output_type": "stream",
     "text": [
      "Exception ignored in: 'pandas._libs.tslibs.conversion._localize_tso'\n",
      "Traceback (most recent call last):\n",
      "  File \"pandas\\_libs\\tslibs\\tzconversion.pyx\", line 85, in pandas._libs.tslibs.tzconversion.Localizer.__cinit__\n",
      "  File \"pandas\\_libs\\tslibs\\timezones.pyx\", line 306, in pandas._libs.tslibs.timezones.get_dst_info\n",
      "AttributeError: 'NoneType' object has no attribute 'total_seconds'\n"
     ]
    },
    {
     "ename": "AttributeError",
     "evalue": "'NoneType' object has no attribute 'total_seconds'",
     "output_type": "error",
     "traceback": [
      "\u001b[1;31m---------------------------------------------------------------------------\u001b[0m",
      "\u001b[1;31mAttributeError\u001b[0m                            Traceback (most recent call last)",
      "\u001b[1;32mc:\\Users\\henry.gu\\Anaconda3\\envs\\Python\\lib\\site-packages\\pandas\\_libs\\tslibs\\tzconversion.pyx\u001b[0m in \u001b[0;36mpandas._libs.tslibs.tzconversion.Localizer.__cinit__\u001b[1;34m()\u001b[0m\n",
      "\u001b[1;32mc:\\Users\\henry.gu\\Anaconda3\\envs\\Python\\lib\\site-packages\\pandas\\_libs\\tslibs\\timezones.pyx\u001b[0m in \u001b[0;36mpandas._libs.tslibs.timezones.get_dst_info\u001b[1;34m()\u001b[0m\n",
      "\u001b[1;31mAttributeError\u001b[0m: 'NoneType' object has no attribute 'total_seconds'"
     ]
    },
    {
     "name": "stderr",
     "output_type": "stream",
     "text": [
      "Exception ignored in: 'pandas._libs.tslibs.conversion._localize_tso'\n",
      "Traceback (most recent call last):\n",
      "  File \"pandas\\_libs\\tslibs\\tzconversion.pyx\", line 85, in pandas._libs.tslibs.tzconversion.Localizer.__cinit__\n",
      "  File \"pandas\\_libs\\tslibs\\timezones.pyx\", line 306, in pandas._libs.tslibs.timezones.get_dst_info\n",
      "AttributeError: 'NoneType' object has no attribute 'total_seconds'\n"
     ]
    },
    {
     "ename": "AttributeError",
     "evalue": "'NoneType' object has no attribute 'total_seconds'",
     "output_type": "error",
     "traceback": [
      "\u001b[1;31m---------------------------------------------------------------------------\u001b[0m",
      "\u001b[1;31mAttributeError\u001b[0m                            Traceback (most recent call last)",
      "\u001b[1;32mc:\\Users\\henry.gu\\Anaconda3\\envs\\Python\\lib\\site-packages\\pandas\\_libs\\tslibs\\tzconversion.pyx\u001b[0m in \u001b[0;36mpandas._libs.tslibs.tzconversion.Localizer.__cinit__\u001b[1;34m()\u001b[0m\n",
      "\u001b[1;32mc:\\Users\\henry.gu\\Anaconda3\\envs\\Python\\lib\\site-packages\\pandas\\_libs\\tslibs\\timezones.pyx\u001b[0m in \u001b[0;36mpandas._libs.tslibs.timezones.get_dst_info\u001b[1;34m()\u001b[0m\n",
      "\u001b[1;31mAttributeError\u001b[0m: 'NoneType' object has no attribute 'total_seconds'"
     ]
    },
    {
     "name": "stderr",
     "output_type": "stream",
     "text": [
      "Exception ignored in: 'pandas._libs.tslibs.conversion._localize_tso'\n",
      "Traceback (most recent call last):\n",
      "  File \"pandas\\_libs\\tslibs\\tzconversion.pyx\", line 85, in pandas._libs.tslibs.tzconversion.Localizer.__cinit__\n",
      "  File \"pandas\\_libs\\tslibs\\timezones.pyx\", line 306, in pandas._libs.tslibs.timezones.get_dst_info\n",
      "AttributeError: 'NoneType' object has no attribute 'total_seconds'\n"
     ]
    },
    {
     "ename": "AttributeError",
     "evalue": "'NoneType' object has no attribute 'total_seconds'",
     "output_type": "error",
     "traceback": [
      "\u001b[1;31m---------------------------------------------------------------------------\u001b[0m",
      "\u001b[1;31mAttributeError\u001b[0m                            Traceback (most recent call last)",
      "\u001b[1;32mc:\\Users\\henry.gu\\Anaconda3\\envs\\Python\\lib\\site-packages\\pandas\\_libs\\tslibs\\tzconversion.pyx\u001b[0m in \u001b[0;36mpandas._libs.tslibs.tzconversion.Localizer.__cinit__\u001b[1;34m()\u001b[0m\n",
      "\u001b[1;32mc:\\Users\\henry.gu\\Anaconda3\\envs\\Python\\lib\\site-packages\\pandas\\_libs\\tslibs\\timezones.pyx\u001b[0m in \u001b[0;36mpandas._libs.tslibs.timezones.get_dst_info\u001b[1;34m()\u001b[0m\n",
      "\u001b[1;31mAttributeError\u001b[0m: 'NoneType' object has no attribute 'total_seconds'"
     ]
    },
    {
     "name": "stderr",
     "output_type": "stream",
     "text": [
      "Exception ignored in: 'pandas._libs.tslibs.conversion._localize_tso'\n",
      "Traceback (most recent call last):\n",
      "  File \"pandas\\_libs\\tslibs\\tzconversion.pyx\", line 85, in pandas._libs.tslibs.tzconversion.Localizer.__cinit__\n",
      "  File \"pandas\\_libs\\tslibs\\timezones.pyx\", line 306, in pandas._libs.tslibs.timezones.get_dst_info\n",
      "AttributeError: 'NoneType' object has no attribute 'total_seconds'\n"
     ]
    },
    {
     "ename": "AttributeError",
     "evalue": "'NoneType' object has no attribute 'total_seconds'",
     "output_type": "error",
     "traceback": [
      "\u001b[1;31m---------------------------------------------------------------------------\u001b[0m",
      "\u001b[1;31mAttributeError\u001b[0m                            Traceback (most recent call last)",
      "\u001b[1;32mc:\\Users\\henry.gu\\Anaconda3\\envs\\Python\\lib\\site-packages\\pandas\\_libs\\tslibs\\tzconversion.pyx\u001b[0m in \u001b[0;36mpandas._libs.tslibs.tzconversion.Localizer.__cinit__\u001b[1;34m()\u001b[0m\n",
      "\u001b[1;32mc:\\Users\\henry.gu\\Anaconda3\\envs\\Python\\lib\\site-packages\\pandas\\_libs\\tslibs\\timezones.pyx\u001b[0m in \u001b[0;36mpandas._libs.tslibs.timezones.get_dst_info\u001b[1;34m()\u001b[0m\n",
      "\u001b[1;31mAttributeError\u001b[0m: 'NoneType' object has no attribute 'total_seconds'"
     ]
    },
    {
     "name": "stderr",
     "output_type": "stream",
     "text": [
      "Exception ignored in: 'pandas._libs.tslibs.conversion._localize_tso'\n",
      "Traceback (most recent call last):\n",
      "  File \"pandas\\_libs\\tslibs\\tzconversion.pyx\", line 85, in pandas._libs.tslibs.tzconversion.Localizer.__cinit__\n",
      "  File \"pandas\\_libs\\tslibs\\timezones.pyx\", line 306, in pandas._libs.tslibs.timezones.get_dst_info\n",
      "AttributeError: 'NoneType' object has no attribute 'total_seconds'\n"
     ]
    },
    {
     "ename": "AttributeError",
     "evalue": "'NoneType' object has no attribute 'total_seconds'",
     "output_type": "error",
     "traceback": [
      "\u001b[1;31m---------------------------------------------------------------------------\u001b[0m",
      "\u001b[1;31mAttributeError\u001b[0m                            Traceback (most recent call last)",
      "\u001b[1;32mc:\\Users\\henry.gu\\Anaconda3\\envs\\Python\\lib\\site-packages\\pandas\\_libs\\tslibs\\tzconversion.pyx\u001b[0m in \u001b[0;36mpandas._libs.tslibs.tzconversion.Localizer.__cinit__\u001b[1;34m()\u001b[0m\n",
      "\u001b[1;32mc:\\Users\\henry.gu\\Anaconda3\\envs\\Python\\lib\\site-packages\\pandas\\_libs\\tslibs\\timezones.pyx\u001b[0m in \u001b[0;36mpandas._libs.tslibs.timezones.get_dst_info\u001b[1;34m()\u001b[0m\n",
      "\u001b[1;31mAttributeError\u001b[0m: 'NoneType' object has no attribute 'total_seconds'"
     ]
    },
    {
     "name": "stderr",
     "output_type": "stream",
     "text": [
      "Exception ignored in: 'pandas._libs.tslibs.conversion._localize_tso'\n",
      "Traceback (most recent call last):\n",
      "  File \"pandas\\_libs\\tslibs\\tzconversion.pyx\", line 85, in pandas._libs.tslibs.tzconversion.Localizer.__cinit__\n",
      "  File \"pandas\\_libs\\tslibs\\timezones.pyx\", line 306, in pandas._libs.tslibs.timezones.get_dst_info\n",
      "AttributeError: 'NoneType' object has no attribute 'total_seconds'\n"
     ]
    },
    {
     "ename": "AttributeError",
     "evalue": "'NoneType' object has no attribute 'total_seconds'",
     "output_type": "error",
     "traceback": [
      "\u001b[1;31m---------------------------------------------------------------------------\u001b[0m",
      "\u001b[1;31mAttributeError\u001b[0m                            Traceback (most recent call last)",
      "\u001b[1;32mc:\\Users\\henry.gu\\Anaconda3\\envs\\Python\\lib\\site-packages\\pandas\\_libs\\tslibs\\tzconversion.pyx\u001b[0m in \u001b[0;36mpandas._libs.tslibs.tzconversion.Localizer.__cinit__\u001b[1;34m()\u001b[0m\n",
      "\u001b[1;32mc:\\Users\\henry.gu\\Anaconda3\\envs\\Python\\lib\\site-packages\\pandas\\_libs\\tslibs\\timezones.pyx\u001b[0m in \u001b[0;36mpandas._libs.tslibs.timezones.get_dst_info\u001b[1;34m()\u001b[0m\n",
      "\u001b[1;31mAttributeError\u001b[0m: 'NoneType' object has no attribute 'total_seconds'"
     ]
    },
    {
     "name": "stderr",
     "output_type": "stream",
     "text": [
      "Exception ignored in: 'pandas._libs.tslibs.conversion._localize_tso'\n",
      "Traceback (most recent call last):\n",
      "  File \"pandas\\_libs\\tslibs\\tzconversion.pyx\", line 85, in pandas._libs.tslibs.tzconversion.Localizer.__cinit__\n",
      "  File \"pandas\\_libs\\tslibs\\timezones.pyx\", line 306, in pandas._libs.tslibs.timezones.get_dst_info\n",
      "AttributeError: 'NoneType' object has no attribute 'total_seconds'\n"
     ]
    },
    {
     "ename": "AttributeError",
     "evalue": "'NoneType' object has no attribute 'total_seconds'",
     "output_type": "error",
     "traceback": [
      "\u001b[1;31m---------------------------------------------------------------------------\u001b[0m",
      "\u001b[1;31mAttributeError\u001b[0m                            Traceback (most recent call last)",
      "\u001b[1;32mc:\\Users\\henry.gu\\Anaconda3\\envs\\Python\\lib\\site-packages\\pandas\\_libs\\tslibs\\tzconversion.pyx\u001b[0m in \u001b[0;36mpandas._libs.tslibs.tzconversion.Localizer.__cinit__\u001b[1;34m()\u001b[0m\n",
      "\u001b[1;32mc:\\Users\\henry.gu\\Anaconda3\\envs\\Python\\lib\\site-packages\\pandas\\_libs\\tslibs\\timezones.pyx\u001b[0m in \u001b[0;36mpandas._libs.tslibs.timezones.get_dst_info\u001b[1;34m()\u001b[0m\n",
      "\u001b[1;31mAttributeError\u001b[0m: 'NoneType' object has no attribute 'total_seconds'"
     ]
    },
    {
     "name": "stderr",
     "output_type": "stream",
     "text": [
      "Exception ignored in: 'pandas._libs.tslibs.conversion._localize_tso'\n",
      "Traceback (most recent call last):\n",
      "  File \"pandas\\_libs\\tslibs\\tzconversion.pyx\", line 85, in pandas._libs.tslibs.tzconversion.Localizer.__cinit__\n",
      "  File \"pandas\\_libs\\tslibs\\timezones.pyx\", line 306, in pandas._libs.tslibs.timezones.get_dst_info\n",
      "AttributeError: 'NoneType' object has no attribute 'total_seconds'\n"
     ]
    },
    {
     "ename": "AttributeError",
     "evalue": "'NoneType' object has no attribute 'total_seconds'",
     "output_type": "error",
     "traceback": [
      "\u001b[1;31m---------------------------------------------------------------------------\u001b[0m",
      "\u001b[1;31mAttributeError\u001b[0m                            Traceback (most recent call last)",
      "\u001b[1;32mc:\\Users\\henry.gu\\Anaconda3\\envs\\Python\\lib\\site-packages\\pandas\\_libs\\tslibs\\tzconversion.pyx\u001b[0m in \u001b[0;36mpandas._libs.tslibs.tzconversion.Localizer.__cinit__\u001b[1;34m()\u001b[0m\n",
      "\u001b[1;32mc:\\Users\\henry.gu\\Anaconda3\\envs\\Python\\lib\\site-packages\\pandas\\_libs\\tslibs\\timezones.pyx\u001b[0m in \u001b[0;36mpandas._libs.tslibs.timezones.get_dst_info\u001b[1;34m()\u001b[0m\n",
      "\u001b[1;31mAttributeError\u001b[0m: 'NoneType' object has no attribute 'total_seconds'"
     ]
    },
    {
     "name": "stderr",
     "output_type": "stream",
     "text": [
      "Exception ignored in: 'pandas._libs.tslibs.conversion._localize_tso'\n",
      "Traceback (most recent call last):\n",
      "  File \"pandas\\_libs\\tslibs\\tzconversion.pyx\", line 85, in pandas._libs.tslibs.tzconversion.Localizer.__cinit__\n",
      "  File \"pandas\\_libs\\tslibs\\timezones.pyx\", line 306, in pandas._libs.tslibs.timezones.get_dst_info\n",
      "AttributeError: 'NoneType' object has no attribute 'total_seconds'\n"
     ]
    },
    {
     "ename": "AttributeError",
     "evalue": "'NoneType' object has no attribute 'total_seconds'",
     "output_type": "error",
     "traceback": [
      "\u001b[1;31m---------------------------------------------------------------------------\u001b[0m",
      "\u001b[1;31mAttributeError\u001b[0m                            Traceback (most recent call last)",
      "\u001b[1;32mc:\\Users\\henry.gu\\Anaconda3\\envs\\Python\\lib\\site-packages\\pandas\\_libs\\tslibs\\tzconversion.pyx\u001b[0m in \u001b[0;36mpandas._libs.tslibs.tzconversion.Localizer.__cinit__\u001b[1;34m()\u001b[0m\n",
      "\u001b[1;32mc:\\Users\\henry.gu\\Anaconda3\\envs\\Python\\lib\\site-packages\\pandas\\_libs\\tslibs\\timezones.pyx\u001b[0m in \u001b[0;36mpandas._libs.tslibs.timezones.get_dst_info\u001b[1;34m()\u001b[0m\n",
      "\u001b[1;31mAttributeError\u001b[0m: 'NoneType' object has no attribute 'total_seconds'"
     ]
    },
    {
     "name": "stderr",
     "output_type": "stream",
     "text": [
      "Exception ignored in: 'pandas._libs.tslibs.conversion._localize_tso'\n",
      "Traceback (most recent call last):\n",
      "  File \"pandas\\_libs\\tslibs\\tzconversion.pyx\", line 85, in pandas._libs.tslibs.tzconversion.Localizer.__cinit__\n",
      "  File \"pandas\\_libs\\tslibs\\timezones.pyx\", line 306, in pandas._libs.tslibs.timezones.get_dst_info\n",
      "AttributeError: 'NoneType' object has no attribute 'total_seconds'\n"
     ]
    },
    {
     "ename": "AttributeError",
     "evalue": "'NoneType' object has no attribute 'total_seconds'",
     "output_type": "error",
     "traceback": [
      "\u001b[1;31m---------------------------------------------------------------------------\u001b[0m",
      "\u001b[1;31mAttributeError\u001b[0m                            Traceback (most recent call last)",
      "\u001b[1;32mc:\\Users\\henry.gu\\Anaconda3\\envs\\Python\\lib\\site-packages\\pandas\\_libs\\tslibs\\tzconversion.pyx\u001b[0m in \u001b[0;36mpandas._libs.tslibs.tzconversion.Localizer.__cinit__\u001b[1;34m()\u001b[0m\n",
      "\u001b[1;32mc:\\Users\\henry.gu\\Anaconda3\\envs\\Python\\lib\\site-packages\\pandas\\_libs\\tslibs\\timezones.pyx\u001b[0m in \u001b[0;36mpandas._libs.tslibs.timezones.get_dst_info\u001b[1;34m()\u001b[0m\n",
      "\u001b[1;31mAttributeError\u001b[0m: 'NoneType' object has no attribute 'total_seconds'"
     ]
    },
    {
     "name": "stderr",
     "output_type": "stream",
     "text": [
      "Exception ignored in: 'pandas._libs.tslibs.conversion._localize_tso'\n",
      "Traceback (most recent call last):\n",
      "  File \"pandas\\_libs\\tslibs\\tzconversion.pyx\", line 85, in pandas._libs.tslibs.tzconversion.Localizer.__cinit__\n",
      "  File \"pandas\\_libs\\tslibs\\timezones.pyx\", line 306, in pandas._libs.tslibs.timezones.get_dst_info\n",
      "AttributeError: 'NoneType' object has no attribute 'total_seconds'\n"
     ]
    },
    {
     "ename": "AttributeError",
     "evalue": "'NoneType' object has no attribute 'total_seconds'",
     "output_type": "error",
     "traceback": [
      "\u001b[1;31m---------------------------------------------------------------------------\u001b[0m",
      "\u001b[1;31mAttributeError\u001b[0m                            Traceback (most recent call last)",
      "\u001b[1;32mc:\\Users\\henry.gu\\Anaconda3\\envs\\Python\\lib\\site-packages\\pandas\\_libs\\tslibs\\tzconversion.pyx\u001b[0m in \u001b[0;36mpandas._libs.tslibs.tzconversion.Localizer.__cinit__\u001b[1;34m()\u001b[0m\n",
      "\u001b[1;32mc:\\Users\\henry.gu\\Anaconda3\\envs\\Python\\lib\\site-packages\\pandas\\_libs\\tslibs\\timezones.pyx\u001b[0m in \u001b[0;36mpandas._libs.tslibs.timezones.get_dst_info\u001b[1;34m()\u001b[0m\n",
      "\u001b[1;31mAttributeError\u001b[0m: 'NoneType' object has no attribute 'total_seconds'"
     ]
    },
    {
     "name": "stderr",
     "output_type": "stream",
     "text": [
      "Exception ignored in: 'pandas._libs.tslibs.conversion._localize_tso'\n",
      "Traceback (most recent call last):\n",
      "  File \"pandas\\_libs\\tslibs\\tzconversion.pyx\", line 85, in pandas._libs.tslibs.tzconversion.Localizer.__cinit__\n",
      "  File \"pandas\\_libs\\tslibs\\timezones.pyx\", line 306, in pandas._libs.tslibs.timezones.get_dst_info\n",
      "AttributeError: 'NoneType' object has no attribute 'total_seconds'\n"
     ]
    },
    {
     "ename": "AttributeError",
     "evalue": "'NoneType' object has no attribute 'total_seconds'",
     "output_type": "error",
     "traceback": [
      "\u001b[1;31m---------------------------------------------------------------------------\u001b[0m",
      "\u001b[1;31mAttributeError\u001b[0m                            Traceback (most recent call last)",
      "\u001b[1;32mc:\\Users\\henry.gu\\Anaconda3\\envs\\Python\\lib\\site-packages\\pandas\\_libs\\tslibs\\tzconversion.pyx\u001b[0m in \u001b[0;36mpandas._libs.tslibs.tzconversion.Localizer.__cinit__\u001b[1;34m()\u001b[0m\n",
      "\u001b[1;32mc:\\Users\\henry.gu\\Anaconda3\\envs\\Python\\lib\\site-packages\\pandas\\_libs\\tslibs\\timezones.pyx\u001b[0m in \u001b[0;36mpandas._libs.tslibs.timezones.get_dst_info\u001b[1;34m()\u001b[0m\n",
      "\u001b[1;31mAttributeError\u001b[0m: 'NoneType' object has no attribute 'total_seconds'"
     ]
    },
    {
     "name": "stderr",
     "output_type": "stream",
     "text": [
      "Exception ignored in: 'pandas._libs.tslibs.conversion._localize_tso'\n",
      "Traceback (most recent call last):\n",
      "  File \"pandas\\_libs\\tslibs\\tzconversion.pyx\", line 85, in pandas._libs.tslibs.tzconversion.Localizer.__cinit__\n",
      "  File \"pandas\\_libs\\tslibs\\timezones.pyx\", line 306, in pandas._libs.tslibs.timezones.get_dst_info\n",
      "AttributeError: 'NoneType' object has no attribute 'total_seconds'\n"
     ]
    },
    {
     "ename": "AttributeError",
     "evalue": "'NoneType' object has no attribute 'total_seconds'",
     "output_type": "error",
     "traceback": [
      "\u001b[1;31m---------------------------------------------------------------------------\u001b[0m",
      "\u001b[1;31mAttributeError\u001b[0m                            Traceback (most recent call last)",
      "\u001b[1;32mc:\\Users\\henry.gu\\Anaconda3\\envs\\Python\\lib\\site-packages\\pandas\\_libs\\tslibs\\tzconversion.pyx\u001b[0m in \u001b[0;36mpandas._libs.tslibs.tzconversion.Localizer.__cinit__\u001b[1;34m()\u001b[0m\n",
      "\u001b[1;32mc:\\Users\\henry.gu\\Anaconda3\\envs\\Python\\lib\\site-packages\\pandas\\_libs\\tslibs\\timezones.pyx\u001b[0m in \u001b[0;36mpandas._libs.tslibs.timezones.get_dst_info\u001b[1;34m()\u001b[0m\n",
      "\u001b[1;31mAttributeError\u001b[0m: 'NoneType' object has no attribute 'total_seconds'"
     ]
    },
    {
     "name": "stderr",
     "output_type": "stream",
     "text": [
      "Exception ignored in: 'pandas._libs.tslibs.conversion._localize_tso'\n",
      "Traceback (most recent call last):\n",
      "  File \"pandas\\_libs\\tslibs\\tzconversion.pyx\", line 85, in pandas._libs.tslibs.tzconversion.Localizer.__cinit__\n",
      "  File \"pandas\\_libs\\tslibs\\timezones.pyx\", line 306, in pandas._libs.tslibs.timezones.get_dst_info\n",
      "AttributeError: 'NoneType' object has no attribute 'total_seconds'\n"
     ]
    },
    {
     "ename": "AttributeError",
     "evalue": "'NoneType' object has no attribute 'total_seconds'",
     "output_type": "error",
     "traceback": [
      "\u001b[1;31m---------------------------------------------------------------------------\u001b[0m",
      "\u001b[1;31mAttributeError\u001b[0m                            Traceback (most recent call last)",
      "\u001b[1;32mc:\\Users\\henry.gu\\Anaconda3\\envs\\Python\\lib\\site-packages\\pandas\\_libs\\tslibs\\tzconversion.pyx\u001b[0m in \u001b[0;36mpandas._libs.tslibs.tzconversion.Localizer.__cinit__\u001b[1;34m()\u001b[0m\n",
      "\u001b[1;32mc:\\Users\\henry.gu\\Anaconda3\\envs\\Python\\lib\\site-packages\\pandas\\_libs\\tslibs\\timezones.pyx\u001b[0m in \u001b[0;36mpandas._libs.tslibs.timezones.get_dst_info\u001b[1;34m()\u001b[0m\n",
      "\u001b[1;31mAttributeError\u001b[0m: 'NoneType' object has no attribute 'total_seconds'"
     ]
    },
    {
     "name": "stderr",
     "output_type": "stream",
     "text": [
      "Exception ignored in: 'pandas._libs.tslibs.conversion._localize_tso'\n",
      "Traceback (most recent call last):\n",
      "  File \"pandas\\_libs\\tslibs\\tzconversion.pyx\", line 85, in pandas._libs.tslibs.tzconversion.Localizer.__cinit__\n",
      "  File \"pandas\\_libs\\tslibs\\timezones.pyx\", line 306, in pandas._libs.tslibs.timezones.get_dst_info\n",
      "AttributeError: 'NoneType' object has no attribute 'total_seconds'\n"
     ]
    },
    {
     "ename": "AttributeError",
     "evalue": "'NoneType' object has no attribute 'total_seconds'",
     "output_type": "error",
     "traceback": [
      "\u001b[1;31m---------------------------------------------------------------------------\u001b[0m",
      "\u001b[1;31mAttributeError\u001b[0m                            Traceback (most recent call last)",
      "\u001b[1;32mc:\\Users\\henry.gu\\Anaconda3\\envs\\Python\\lib\\site-packages\\pandas\\_libs\\tslibs\\tzconversion.pyx\u001b[0m in \u001b[0;36mpandas._libs.tslibs.tzconversion.Localizer.__cinit__\u001b[1;34m()\u001b[0m\n",
      "\u001b[1;32mc:\\Users\\henry.gu\\Anaconda3\\envs\\Python\\lib\\site-packages\\pandas\\_libs\\tslibs\\timezones.pyx\u001b[0m in \u001b[0;36mpandas._libs.tslibs.timezones.get_dst_info\u001b[1;34m()\u001b[0m\n",
      "\u001b[1;31mAttributeError\u001b[0m: 'NoneType' object has no attribute 'total_seconds'"
     ]
    },
    {
     "name": "stderr",
     "output_type": "stream",
     "text": [
      "Exception ignored in: 'pandas._libs.tslibs.conversion._localize_tso'\n",
      "Traceback (most recent call last):\n",
      "  File \"pandas\\_libs\\tslibs\\tzconversion.pyx\", line 85, in pandas._libs.tslibs.tzconversion.Localizer.__cinit__\n",
      "  File \"pandas\\_libs\\tslibs\\timezones.pyx\", line 306, in pandas._libs.tslibs.timezones.get_dst_info\n",
      "AttributeError: 'NoneType' object has no attribute 'total_seconds'\n"
     ]
    },
    {
     "ename": "AttributeError",
     "evalue": "'NoneType' object has no attribute 'total_seconds'",
     "output_type": "error",
     "traceback": [
      "\u001b[1;31m---------------------------------------------------------------------------\u001b[0m",
      "\u001b[1;31mAttributeError\u001b[0m                            Traceback (most recent call last)",
      "\u001b[1;32mc:\\Users\\henry.gu\\Anaconda3\\envs\\Python\\lib\\site-packages\\pandas\\_libs\\tslibs\\tzconversion.pyx\u001b[0m in \u001b[0;36mpandas._libs.tslibs.tzconversion.Localizer.__cinit__\u001b[1;34m()\u001b[0m\n",
      "\u001b[1;32mc:\\Users\\henry.gu\\Anaconda3\\envs\\Python\\lib\\site-packages\\pandas\\_libs\\tslibs\\timezones.pyx\u001b[0m in \u001b[0;36mpandas._libs.tslibs.timezones.get_dst_info\u001b[1;34m()\u001b[0m\n",
      "\u001b[1;31mAttributeError\u001b[0m: 'NoneType' object has no attribute 'total_seconds'"
     ]
    },
    {
     "name": "stderr",
     "output_type": "stream",
     "text": [
      "Exception ignored in: 'pandas._libs.tslibs.conversion._localize_tso'\n",
      "Traceback (most recent call last):\n",
      "  File \"pandas\\_libs\\tslibs\\tzconversion.pyx\", line 85, in pandas._libs.tslibs.tzconversion.Localizer.__cinit__\n",
      "  File \"pandas\\_libs\\tslibs\\timezones.pyx\", line 306, in pandas._libs.tslibs.timezones.get_dst_info\n",
      "AttributeError: 'NoneType' object has no attribute 'total_seconds'\n"
     ]
    },
    {
     "ename": "AttributeError",
     "evalue": "'NoneType' object has no attribute 'total_seconds'",
     "output_type": "error",
     "traceback": [
      "\u001b[1;31m---------------------------------------------------------------------------\u001b[0m",
      "\u001b[1;31mAttributeError\u001b[0m                            Traceback (most recent call last)",
      "\u001b[1;32mc:\\Users\\henry.gu\\Anaconda3\\envs\\Python\\lib\\site-packages\\pandas\\_libs\\tslibs\\tzconversion.pyx\u001b[0m in \u001b[0;36mpandas._libs.tslibs.tzconversion.Localizer.__cinit__\u001b[1;34m()\u001b[0m\n",
      "\u001b[1;32mc:\\Users\\henry.gu\\Anaconda3\\envs\\Python\\lib\\site-packages\\pandas\\_libs\\tslibs\\timezones.pyx\u001b[0m in \u001b[0;36mpandas._libs.tslibs.timezones.get_dst_info\u001b[1;34m()\u001b[0m\n",
      "\u001b[1;31mAttributeError\u001b[0m: 'NoneType' object has no attribute 'total_seconds'"
     ]
    },
    {
     "name": "stderr",
     "output_type": "stream",
     "text": [
      "Exception ignored in: 'pandas._libs.tslibs.conversion._localize_tso'\n",
      "Traceback (most recent call last):\n",
      "  File \"pandas\\_libs\\tslibs\\tzconversion.pyx\", line 85, in pandas._libs.tslibs.tzconversion.Localizer.__cinit__\n",
      "  File \"pandas\\_libs\\tslibs\\timezones.pyx\", line 306, in pandas._libs.tslibs.timezones.get_dst_info\n",
      "AttributeError: 'NoneType' object has no attribute 'total_seconds'\n"
     ]
    },
    {
     "ename": "AttributeError",
     "evalue": "'NoneType' object has no attribute 'total_seconds'",
     "output_type": "error",
     "traceback": [
      "\u001b[1;31m---------------------------------------------------------------------------\u001b[0m",
      "\u001b[1;31mAttributeError\u001b[0m                            Traceback (most recent call last)",
      "\u001b[1;32mc:\\Users\\henry.gu\\Anaconda3\\envs\\Python\\lib\\site-packages\\pandas\\_libs\\tslibs\\tzconversion.pyx\u001b[0m in \u001b[0;36mpandas._libs.tslibs.tzconversion.Localizer.__cinit__\u001b[1;34m()\u001b[0m\n",
      "\u001b[1;32mc:\\Users\\henry.gu\\Anaconda3\\envs\\Python\\lib\\site-packages\\pandas\\_libs\\tslibs\\timezones.pyx\u001b[0m in \u001b[0;36mpandas._libs.tslibs.timezones.get_dst_info\u001b[1;34m()\u001b[0m\n",
      "\u001b[1;31mAttributeError\u001b[0m: 'NoneType' object has no attribute 'total_seconds'"
     ]
    },
    {
     "name": "stderr",
     "output_type": "stream",
     "text": [
      "Exception ignored in: 'pandas._libs.tslibs.conversion._localize_tso'\n",
      "Traceback (most recent call last):\n",
      "  File \"pandas\\_libs\\tslibs\\tzconversion.pyx\", line 85, in pandas._libs.tslibs.tzconversion.Localizer.__cinit__\n",
      "  File \"pandas\\_libs\\tslibs\\timezones.pyx\", line 306, in pandas._libs.tslibs.timezones.get_dst_info\n",
      "AttributeError: 'NoneType' object has no attribute 'total_seconds'\n"
     ]
    },
    {
     "ename": "AttributeError",
     "evalue": "'NoneType' object has no attribute 'total_seconds'",
     "output_type": "error",
     "traceback": [
      "\u001b[1;31m---------------------------------------------------------------------------\u001b[0m",
      "\u001b[1;31mAttributeError\u001b[0m                            Traceback (most recent call last)",
      "\u001b[1;32mc:\\Users\\henry.gu\\Anaconda3\\envs\\Python\\lib\\site-packages\\pandas\\_libs\\tslibs\\tzconversion.pyx\u001b[0m in \u001b[0;36mpandas._libs.tslibs.tzconversion.Localizer.__cinit__\u001b[1;34m()\u001b[0m\n",
      "\u001b[1;32mc:\\Users\\henry.gu\\Anaconda3\\envs\\Python\\lib\\site-packages\\pandas\\_libs\\tslibs\\timezones.pyx\u001b[0m in \u001b[0;36mpandas._libs.tslibs.timezones.get_dst_info\u001b[1;34m()\u001b[0m\n",
      "\u001b[1;31mAttributeError\u001b[0m: 'NoneType' object has no attribute 'total_seconds'"
     ]
    },
    {
     "name": "stderr",
     "output_type": "stream",
     "text": [
      "Exception ignored in: 'pandas._libs.tslibs.conversion._localize_tso'\n",
      "Traceback (most recent call last):\n",
      "  File \"pandas\\_libs\\tslibs\\tzconversion.pyx\", line 85, in pandas._libs.tslibs.tzconversion.Localizer.__cinit__\n",
      "  File \"pandas\\_libs\\tslibs\\timezones.pyx\", line 306, in pandas._libs.tslibs.timezones.get_dst_info\n",
      "AttributeError: 'NoneType' object has no attribute 'total_seconds'\n"
     ]
    },
    {
     "ename": "AttributeError",
     "evalue": "'NoneType' object has no attribute 'total_seconds'",
     "output_type": "error",
     "traceback": [
      "\u001b[1;31m---------------------------------------------------------------------------\u001b[0m",
      "\u001b[1;31mAttributeError\u001b[0m                            Traceback (most recent call last)",
      "\u001b[1;32mc:\\Users\\henry.gu\\Anaconda3\\envs\\Python\\lib\\site-packages\\pandas\\_libs\\tslibs\\tzconversion.pyx\u001b[0m in \u001b[0;36mpandas._libs.tslibs.tzconversion.Localizer.__cinit__\u001b[1;34m()\u001b[0m\n",
      "\u001b[1;32mc:\\Users\\henry.gu\\Anaconda3\\envs\\Python\\lib\\site-packages\\pandas\\_libs\\tslibs\\timezones.pyx\u001b[0m in \u001b[0;36mpandas._libs.tslibs.timezones.get_dst_info\u001b[1;34m()\u001b[0m\n",
      "\u001b[1;31mAttributeError\u001b[0m: 'NoneType' object has no attribute 'total_seconds'"
     ]
    },
    {
     "name": "stderr",
     "output_type": "stream",
     "text": [
      "Exception ignored in: 'pandas._libs.tslibs.conversion._localize_tso'\n",
      "Traceback (most recent call last):\n",
      "  File \"pandas\\_libs\\tslibs\\tzconversion.pyx\", line 85, in pandas._libs.tslibs.tzconversion.Localizer.__cinit__\n",
      "  File \"pandas\\_libs\\tslibs\\timezones.pyx\", line 306, in pandas._libs.tslibs.timezones.get_dst_info\n",
      "AttributeError: 'NoneType' object has no attribute 'total_seconds'\n"
     ]
    },
    {
     "ename": "AttributeError",
     "evalue": "'NoneType' object has no attribute 'total_seconds'",
     "output_type": "error",
     "traceback": [
      "\u001b[1;31m---------------------------------------------------------------------------\u001b[0m",
      "\u001b[1;31mAttributeError\u001b[0m                            Traceback (most recent call last)",
      "\u001b[1;32mc:\\Users\\henry.gu\\Anaconda3\\envs\\Python\\lib\\site-packages\\pandas\\_libs\\tslibs\\tzconversion.pyx\u001b[0m in \u001b[0;36mpandas._libs.tslibs.tzconversion.Localizer.__cinit__\u001b[1;34m()\u001b[0m\n",
      "\u001b[1;32mc:\\Users\\henry.gu\\Anaconda3\\envs\\Python\\lib\\site-packages\\pandas\\_libs\\tslibs\\timezones.pyx\u001b[0m in \u001b[0;36mpandas._libs.tslibs.timezones.get_dst_info\u001b[1;34m()\u001b[0m\n",
      "\u001b[1;31mAttributeError\u001b[0m: 'NoneType' object has no attribute 'total_seconds'"
     ]
    },
    {
     "name": "stderr",
     "output_type": "stream",
     "text": [
      "Exception ignored in: 'pandas._libs.tslibs.conversion._localize_tso'\n",
      "Traceback (most recent call last):\n",
      "  File \"pandas\\_libs\\tslibs\\tzconversion.pyx\", line 85, in pandas._libs.tslibs.tzconversion.Localizer.__cinit__\n",
      "  File \"pandas\\_libs\\tslibs\\timezones.pyx\", line 306, in pandas._libs.tslibs.timezones.get_dst_info\n",
      "AttributeError: 'NoneType' object has no attribute 'total_seconds'\n"
     ]
    },
    {
     "ename": "AttributeError",
     "evalue": "'NoneType' object has no attribute 'total_seconds'",
     "output_type": "error",
     "traceback": [
      "\u001b[1;31m---------------------------------------------------------------------------\u001b[0m",
      "\u001b[1;31mAttributeError\u001b[0m                            Traceback (most recent call last)",
      "\u001b[1;32mc:\\Users\\henry.gu\\Anaconda3\\envs\\Python\\lib\\site-packages\\pandas\\_libs\\tslibs\\tzconversion.pyx\u001b[0m in \u001b[0;36mpandas._libs.tslibs.tzconversion.Localizer.__cinit__\u001b[1;34m()\u001b[0m\n",
      "\u001b[1;32mc:\\Users\\henry.gu\\Anaconda3\\envs\\Python\\lib\\site-packages\\pandas\\_libs\\tslibs\\timezones.pyx\u001b[0m in \u001b[0;36mpandas._libs.tslibs.timezones.get_dst_info\u001b[1;34m()\u001b[0m\n",
      "\u001b[1;31mAttributeError\u001b[0m: 'NoneType' object has no attribute 'total_seconds'"
     ]
    },
    {
     "name": "stderr",
     "output_type": "stream",
     "text": [
      "Exception ignored in: 'pandas._libs.tslibs.conversion._localize_tso'\n",
      "Traceback (most recent call last):\n",
      "  File \"pandas\\_libs\\tslibs\\tzconversion.pyx\", line 85, in pandas._libs.tslibs.tzconversion.Localizer.__cinit__\n",
      "  File \"pandas\\_libs\\tslibs\\timezones.pyx\", line 306, in pandas._libs.tslibs.timezones.get_dst_info\n",
      "AttributeError: 'NoneType' object has no attribute 'total_seconds'\n"
     ]
    },
    {
     "ename": "AttributeError",
     "evalue": "'NoneType' object has no attribute 'total_seconds'",
     "output_type": "error",
     "traceback": [
      "\u001b[1;31m---------------------------------------------------------------------------\u001b[0m",
      "\u001b[1;31mAttributeError\u001b[0m                            Traceback (most recent call last)",
      "\u001b[1;32mc:\\Users\\henry.gu\\Anaconda3\\envs\\Python\\lib\\site-packages\\pandas\\_libs\\tslibs\\tzconversion.pyx\u001b[0m in \u001b[0;36mpandas._libs.tslibs.tzconversion.Localizer.__cinit__\u001b[1;34m()\u001b[0m\n",
      "\u001b[1;32mc:\\Users\\henry.gu\\Anaconda3\\envs\\Python\\lib\\site-packages\\pandas\\_libs\\tslibs\\timezones.pyx\u001b[0m in \u001b[0;36mpandas._libs.tslibs.timezones.get_dst_info\u001b[1;34m()\u001b[0m\n",
      "\u001b[1;31mAttributeError\u001b[0m: 'NoneType' object has no attribute 'total_seconds'"
     ]
    },
    {
     "name": "stderr",
     "output_type": "stream",
     "text": [
      "Exception ignored in: 'pandas._libs.tslibs.conversion._localize_tso'\n",
      "Traceback (most recent call last):\n",
      "  File \"pandas\\_libs\\tslibs\\tzconversion.pyx\", line 85, in pandas._libs.tslibs.tzconversion.Localizer.__cinit__\n",
      "  File \"pandas\\_libs\\tslibs\\timezones.pyx\", line 306, in pandas._libs.tslibs.timezones.get_dst_info\n",
      "AttributeError: 'NoneType' object has no attribute 'total_seconds'\n"
     ]
    },
    {
     "ename": "AttributeError",
     "evalue": "'NoneType' object has no attribute 'total_seconds'",
     "output_type": "error",
     "traceback": [
      "\u001b[1;31m---------------------------------------------------------------------------\u001b[0m",
      "\u001b[1;31mAttributeError\u001b[0m                            Traceback (most recent call last)",
      "\u001b[1;32mc:\\Users\\henry.gu\\Anaconda3\\envs\\Python\\lib\\site-packages\\pandas\\_libs\\tslibs\\tzconversion.pyx\u001b[0m in \u001b[0;36mpandas._libs.tslibs.tzconversion.Localizer.__cinit__\u001b[1;34m()\u001b[0m\n",
      "\u001b[1;32mc:\\Users\\henry.gu\\Anaconda3\\envs\\Python\\lib\\site-packages\\pandas\\_libs\\tslibs\\timezones.pyx\u001b[0m in \u001b[0;36mpandas._libs.tslibs.timezones.get_dst_info\u001b[1;34m()\u001b[0m\n",
      "\u001b[1;31mAttributeError\u001b[0m: 'NoneType' object has no attribute 'total_seconds'"
     ]
    },
    {
     "name": "stderr",
     "output_type": "stream",
     "text": [
      "Exception ignored in: 'pandas._libs.tslibs.conversion._localize_tso'\n",
      "Traceback (most recent call last):\n",
      "  File \"pandas\\_libs\\tslibs\\tzconversion.pyx\", line 85, in pandas._libs.tslibs.tzconversion.Localizer.__cinit__\n",
      "  File \"pandas\\_libs\\tslibs\\timezones.pyx\", line 306, in pandas._libs.tslibs.timezones.get_dst_info\n",
      "AttributeError: 'NoneType' object has no attribute 'total_seconds'\n"
     ]
    },
    {
     "ename": "AttributeError",
     "evalue": "'NoneType' object has no attribute 'total_seconds'",
     "output_type": "error",
     "traceback": [
      "\u001b[1;31m---------------------------------------------------------------------------\u001b[0m",
      "\u001b[1;31mAttributeError\u001b[0m                            Traceback (most recent call last)",
      "\u001b[1;32mc:\\Users\\henry.gu\\Anaconda3\\envs\\Python\\lib\\site-packages\\pandas\\_libs\\tslibs\\tzconversion.pyx\u001b[0m in \u001b[0;36mpandas._libs.tslibs.tzconversion.Localizer.__cinit__\u001b[1;34m()\u001b[0m\n",
      "\u001b[1;32mc:\\Users\\henry.gu\\Anaconda3\\envs\\Python\\lib\\site-packages\\pandas\\_libs\\tslibs\\timezones.pyx\u001b[0m in \u001b[0;36mpandas._libs.tslibs.timezones.get_dst_info\u001b[1;34m()\u001b[0m\n",
      "\u001b[1;31mAttributeError\u001b[0m: 'NoneType' object has no attribute 'total_seconds'"
     ]
    },
    {
     "name": "stderr",
     "output_type": "stream",
     "text": [
      "Exception ignored in: 'pandas._libs.tslibs.conversion._localize_tso'\n",
      "Traceback (most recent call last):\n",
      "  File \"pandas\\_libs\\tslibs\\tzconversion.pyx\", line 85, in pandas._libs.tslibs.tzconversion.Localizer.__cinit__\n",
      "  File \"pandas\\_libs\\tslibs\\timezones.pyx\", line 306, in pandas._libs.tslibs.timezones.get_dst_info\n",
      "AttributeError: 'NoneType' object has no attribute 'total_seconds'\n"
     ]
    },
    {
     "ename": "AttributeError",
     "evalue": "'NoneType' object has no attribute 'total_seconds'",
     "output_type": "error",
     "traceback": [
      "\u001b[1;31m---------------------------------------------------------------------------\u001b[0m",
      "\u001b[1;31mAttributeError\u001b[0m                            Traceback (most recent call last)",
      "\u001b[1;32mc:\\Users\\henry.gu\\Anaconda3\\envs\\Python\\lib\\site-packages\\pandas\\_libs\\tslibs\\tzconversion.pyx\u001b[0m in \u001b[0;36mpandas._libs.tslibs.tzconversion.Localizer.__cinit__\u001b[1;34m()\u001b[0m\n",
      "\u001b[1;32mc:\\Users\\henry.gu\\Anaconda3\\envs\\Python\\lib\\site-packages\\pandas\\_libs\\tslibs\\timezones.pyx\u001b[0m in \u001b[0;36mpandas._libs.tslibs.timezones.get_dst_info\u001b[1;34m()\u001b[0m\n",
      "\u001b[1;31mAttributeError\u001b[0m: 'NoneType' object has no attribute 'total_seconds'"
     ]
    },
    {
     "name": "stderr",
     "output_type": "stream",
     "text": [
      "Exception ignored in: 'pandas._libs.tslibs.conversion._localize_tso'\n",
      "Traceback (most recent call last):\n",
      "  File \"pandas\\_libs\\tslibs\\tzconversion.pyx\", line 85, in pandas._libs.tslibs.tzconversion.Localizer.__cinit__\n",
      "  File \"pandas\\_libs\\tslibs\\timezones.pyx\", line 306, in pandas._libs.tslibs.timezones.get_dst_info\n",
      "AttributeError: 'NoneType' object has no attribute 'total_seconds'\n"
     ]
    },
    {
     "ename": "AttributeError",
     "evalue": "'NoneType' object has no attribute 'total_seconds'",
     "output_type": "error",
     "traceback": [
      "\u001b[1;31m---------------------------------------------------------------------------\u001b[0m",
      "\u001b[1;31mAttributeError\u001b[0m                            Traceback (most recent call last)",
      "\u001b[1;32mc:\\Users\\henry.gu\\Anaconda3\\envs\\Python\\lib\\site-packages\\pandas\\_libs\\tslibs\\tzconversion.pyx\u001b[0m in \u001b[0;36mpandas._libs.tslibs.tzconversion.Localizer.__cinit__\u001b[1;34m()\u001b[0m\n",
      "\u001b[1;32mc:\\Users\\henry.gu\\Anaconda3\\envs\\Python\\lib\\site-packages\\pandas\\_libs\\tslibs\\timezones.pyx\u001b[0m in \u001b[0;36mpandas._libs.tslibs.timezones.get_dst_info\u001b[1;34m()\u001b[0m\n",
      "\u001b[1;31mAttributeError\u001b[0m: 'NoneType' object has no attribute 'total_seconds'"
     ]
    },
    {
     "name": "stderr",
     "output_type": "stream",
     "text": [
      "Exception ignored in: 'pandas._libs.tslibs.conversion._localize_tso'\n",
      "Traceback (most recent call last):\n",
      "  File \"pandas\\_libs\\tslibs\\tzconversion.pyx\", line 85, in pandas._libs.tslibs.tzconversion.Localizer.__cinit__\n",
      "  File \"pandas\\_libs\\tslibs\\timezones.pyx\", line 306, in pandas._libs.tslibs.timezones.get_dst_info\n",
      "AttributeError: 'NoneType' object has no attribute 'total_seconds'\n"
     ]
    },
    {
     "ename": "AttributeError",
     "evalue": "'NoneType' object has no attribute 'total_seconds'",
     "output_type": "error",
     "traceback": [
      "\u001b[1;31m---------------------------------------------------------------------------\u001b[0m",
      "\u001b[1;31mAttributeError\u001b[0m                            Traceback (most recent call last)",
      "\u001b[1;32mc:\\Users\\henry.gu\\Anaconda3\\envs\\Python\\lib\\site-packages\\pandas\\_libs\\tslibs\\tzconversion.pyx\u001b[0m in \u001b[0;36mpandas._libs.tslibs.tzconversion.Localizer.__cinit__\u001b[1;34m()\u001b[0m\n",
      "\u001b[1;32mc:\\Users\\henry.gu\\Anaconda3\\envs\\Python\\lib\\site-packages\\pandas\\_libs\\tslibs\\timezones.pyx\u001b[0m in \u001b[0;36mpandas._libs.tslibs.timezones.get_dst_info\u001b[1;34m()\u001b[0m\n",
      "\u001b[1;31mAttributeError\u001b[0m: 'NoneType' object has no attribute 'total_seconds'"
     ]
    },
    {
     "name": "stderr",
     "output_type": "stream",
     "text": [
      "Exception ignored in: 'pandas._libs.tslibs.conversion._localize_tso'\n",
      "Traceback (most recent call last):\n",
      "  File \"pandas\\_libs\\tslibs\\tzconversion.pyx\", line 85, in pandas._libs.tslibs.tzconversion.Localizer.__cinit__\n",
      "  File \"pandas\\_libs\\tslibs\\timezones.pyx\", line 306, in pandas._libs.tslibs.timezones.get_dst_info\n",
      "AttributeError: 'NoneType' object has no attribute 'total_seconds'\n"
     ]
    },
    {
     "ename": "AttributeError",
     "evalue": "'NoneType' object has no attribute 'total_seconds'",
     "output_type": "error",
     "traceback": [
      "\u001b[1;31m---------------------------------------------------------------------------\u001b[0m",
      "\u001b[1;31mAttributeError\u001b[0m                            Traceback (most recent call last)",
      "\u001b[1;32mc:\\Users\\henry.gu\\Anaconda3\\envs\\Python\\lib\\site-packages\\pandas\\_libs\\tslibs\\tzconversion.pyx\u001b[0m in \u001b[0;36mpandas._libs.tslibs.tzconversion.Localizer.__cinit__\u001b[1;34m()\u001b[0m\n",
      "\u001b[1;32mc:\\Users\\henry.gu\\Anaconda3\\envs\\Python\\lib\\site-packages\\pandas\\_libs\\tslibs\\timezones.pyx\u001b[0m in \u001b[0;36mpandas._libs.tslibs.timezones.get_dst_info\u001b[1;34m()\u001b[0m\n",
      "\u001b[1;31mAttributeError\u001b[0m: 'NoneType' object has no attribute 'total_seconds'"
     ]
    },
    {
     "name": "stderr",
     "output_type": "stream",
     "text": [
      "Exception ignored in: 'pandas._libs.tslibs.conversion._localize_tso'\n",
      "Traceback (most recent call last):\n",
      "  File \"pandas\\_libs\\tslibs\\tzconversion.pyx\", line 85, in pandas._libs.tslibs.tzconversion.Localizer.__cinit__\n",
      "  File \"pandas\\_libs\\tslibs\\timezones.pyx\", line 306, in pandas._libs.tslibs.timezones.get_dst_info\n",
      "AttributeError: 'NoneType' object has no attribute 'total_seconds'\n"
     ]
    },
    {
     "ename": "AttributeError",
     "evalue": "'NoneType' object has no attribute 'total_seconds'",
     "output_type": "error",
     "traceback": [
      "\u001b[1;31m---------------------------------------------------------------------------\u001b[0m",
      "\u001b[1;31mAttributeError\u001b[0m                            Traceback (most recent call last)",
      "\u001b[1;32mc:\\Users\\henry.gu\\Anaconda3\\envs\\Python\\lib\\site-packages\\pandas\\_libs\\tslibs\\tzconversion.pyx\u001b[0m in \u001b[0;36mpandas._libs.tslibs.tzconversion.Localizer.__cinit__\u001b[1;34m()\u001b[0m\n",
      "\u001b[1;32mc:\\Users\\henry.gu\\Anaconda3\\envs\\Python\\lib\\site-packages\\pandas\\_libs\\tslibs\\timezones.pyx\u001b[0m in \u001b[0;36mpandas._libs.tslibs.timezones.get_dst_info\u001b[1;34m()\u001b[0m\n",
      "\u001b[1;31mAttributeError\u001b[0m: 'NoneType' object has no attribute 'total_seconds'"
     ]
    },
    {
     "name": "stderr",
     "output_type": "stream",
     "text": [
      "Exception ignored in: 'pandas._libs.tslibs.conversion._localize_tso'\n",
      "Traceback (most recent call last):\n",
      "  File \"pandas\\_libs\\tslibs\\tzconversion.pyx\", line 85, in pandas._libs.tslibs.tzconversion.Localizer.__cinit__\n",
      "  File \"pandas\\_libs\\tslibs\\timezones.pyx\", line 306, in pandas._libs.tslibs.timezones.get_dst_info\n",
      "AttributeError: 'NoneType' object has no attribute 'total_seconds'\n"
     ]
    },
    {
     "ename": "AttributeError",
     "evalue": "'NoneType' object has no attribute 'total_seconds'",
     "output_type": "error",
     "traceback": [
      "\u001b[1;31m---------------------------------------------------------------------------\u001b[0m",
      "\u001b[1;31mAttributeError\u001b[0m                            Traceback (most recent call last)",
      "\u001b[1;32mc:\\Users\\henry.gu\\Anaconda3\\envs\\Python\\lib\\site-packages\\pandas\\_libs\\tslibs\\tzconversion.pyx\u001b[0m in \u001b[0;36mpandas._libs.tslibs.tzconversion.Localizer.__cinit__\u001b[1;34m()\u001b[0m\n",
      "\u001b[1;32mc:\\Users\\henry.gu\\Anaconda3\\envs\\Python\\lib\\site-packages\\pandas\\_libs\\tslibs\\timezones.pyx\u001b[0m in \u001b[0;36mpandas._libs.tslibs.timezones.get_dst_info\u001b[1;34m()\u001b[0m\n",
      "\u001b[1;31mAttributeError\u001b[0m: 'NoneType' object has no attribute 'total_seconds'"
     ]
    },
    {
     "name": "stderr",
     "output_type": "stream",
     "text": [
      "Exception ignored in: 'pandas._libs.tslibs.conversion._localize_tso'\n",
      "Traceback (most recent call last):\n",
      "  File \"pandas\\_libs\\tslibs\\tzconversion.pyx\", line 85, in pandas._libs.tslibs.tzconversion.Localizer.__cinit__\n",
      "  File \"pandas\\_libs\\tslibs\\timezones.pyx\", line 306, in pandas._libs.tslibs.timezones.get_dst_info\n",
      "AttributeError: 'NoneType' object has no attribute 'total_seconds'\n"
     ]
    },
    {
     "ename": "AttributeError",
     "evalue": "'NoneType' object has no attribute 'total_seconds'",
     "output_type": "error",
     "traceback": [
      "\u001b[1;31m---------------------------------------------------------------------------\u001b[0m",
      "\u001b[1;31mAttributeError\u001b[0m                            Traceback (most recent call last)",
      "\u001b[1;32mc:\\Users\\henry.gu\\Anaconda3\\envs\\Python\\lib\\site-packages\\pandas\\_libs\\tslibs\\tzconversion.pyx\u001b[0m in \u001b[0;36mpandas._libs.tslibs.tzconversion.Localizer.__cinit__\u001b[1;34m()\u001b[0m\n",
      "\u001b[1;32mc:\\Users\\henry.gu\\Anaconda3\\envs\\Python\\lib\\site-packages\\pandas\\_libs\\tslibs\\timezones.pyx\u001b[0m in \u001b[0;36mpandas._libs.tslibs.timezones.get_dst_info\u001b[1;34m()\u001b[0m\n",
      "\u001b[1;31mAttributeError\u001b[0m: 'NoneType' object has no attribute 'total_seconds'"
     ]
    },
    {
     "name": "stderr",
     "output_type": "stream",
     "text": [
      "Exception ignored in: 'pandas._libs.tslibs.conversion._localize_tso'\n",
      "Traceback (most recent call last):\n",
      "  File \"pandas\\_libs\\tslibs\\tzconversion.pyx\", line 85, in pandas._libs.tslibs.tzconversion.Localizer.__cinit__\n",
      "  File \"pandas\\_libs\\tslibs\\timezones.pyx\", line 306, in pandas._libs.tslibs.timezones.get_dst_info\n",
      "AttributeError: 'NoneType' object has no attribute 'total_seconds'\n"
     ]
    },
    {
     "ename": "AttributeError",
     "evalue": "'NoneType' object has no attribute 'total_seconds'",
     "output_type": "error",
     "traceback": [
      "\u001b[1;31m---------------------------------------------------------------------------\u001b[0m",
      "\u001b[1;31mAttributeError\u001b[0m                            Traceback (most recent call last)",
      "\u001b[1;32mc:\\Users\\henry.gu\\Anaconda3\\envs\\Python\\lib\\site-packages\\pandas\\_libs\\tslibs\\tzconversion.pyx\u001b[0m in \u001b[0;36mpandas._libs.tslibs.tzconversion.Localizer.__cinit__\u001b[1;34m()\u001b[0m\n",
      "\u001b[1;32mc:\\Users\\henry.gu\\Anaconda3\\envs\\Python\\lib\\site-packages\\pandas\\_libs\\tslibs\\timezones.pyx\u001b[0m in \u001b[0;36mpandas._libs.tslibs.timezones.get_dst_info\u001b[1;34m()\u001b[0m\n",
      "\u001b[1;31mAttributeError\u001b[0m: 'NoneType' object has no attribute 'total_seconds'"
     ]
    },
    {
     "name": "stderr",
     "output_type": "stream",
     "text": [
      "Exception ignored in: 'pandas._libs.tslibs.conversion._localize_tso'\n",
      "Traceback (most recent call last):\n",
      "  File \"pandas\\_libs\\tslibs\\tzconversion.pyx\", line 85, in pandas._libs.tslibs.tzconversion.Localizer.__cinit__\n",
      "  File \"pandas\\_libs\\tslibs\\timezones.pyx\", line 306, in pandas._libs.tslibs.timezones.get_dst_info\n",
      "AttributeError: 'NoneType' object has no attribute 'total_seconds'\n"
     ]
    },
    {
     "ename": "AttributeError",
     "evalue": "'NoneType' object has no attribute 'total_seconds'",
     "output_type": "error",
     "traceback": [
      "\u001b[1;31m---------------------------------------------------------------------------\u001b[0m",
      "\u001b[1;31mAttributeError\u001b[0m                            Traceback (most recent call last)",
      "\u001b[1;32mc:\\Users\\henry.gu\\Anaconda3\\envs\\Python\\lib\\site-packages\\pandas\\_libs\\tslibs\\tzconversion.pyx\u001b[0m in \u001b[0;36mpandas._libs.tslibs.tzconversion.Localizer.__cinit__\u001b[1;34m()\u001b[0m\n",
      "\u001b[1;32mc:\\Users\\henry.gu\\Anaconda3\\envs\\Python\\lib\\site-packages\\pandas\\_libs\\tslibs\\timezones.pyx\u001b[0m in \u001b[0;36mpandas._libs.tslibs.timezones.get_dst_info\u001b[1;34m()\u001b[0m\n",
      "\u001b[1;31mAttributeError\u001b[0m: 'NoneType' object has no attribute 'total_seconds'"
     ]
    },
    {
     "name": "stderr",
     "output_type": "stream",
     "text": [
      "Exception ignored in: 'pandas._libs.tslibs.conversion._localize_tso'\n",
      "Traceback (most recent call last):\n",
      "  File \"pandas\\_libs\\tslibs\\tzconversion.pyx\", line 85, in pandas._libs.tslibs.tzconversion.Localizer.__cinit__\n",
      "  File \"pandas\\_libs\\tslibs\\timezones.pyx\", line 306, in pandas._libs.tslibs.timezones.get_dst_info\n",
      "AttributeError: 'NoneType' object has no attribute 'total_seconds'\n"
     ]
    },
    {
     "ename": "AttributeError",
     "evalue": "'NoneType' object has no attribute 'total_seconds'",
     "output_type": "error",
     "traceback": [
      "\u001b[1;31m---------------------------------------------------------------------------\u001b[0m",
      "\u001b[1;31mAttributeError\u001b[0m                            Traceback (most recent call last)",
      "\u001b[1;32mc:\\Users\\henry.gu\\Anaconda3\\envs\\Python\\lib\\site-packages\\pandas\\_libs\\tslibs\\tzconversion.pyx\u001b[0m in \u001b[0;36mpandas._libs.tslibs.tzconversion.Localizer.__cinit__\u001b[1;34m()\u001b[0m\n",
      "\u001b[1;32mc:\\Users\\henry.gu\\Anaconda3\\envs\\Python\\lib\\site-packages\\pandas\\_libs\\tslibs\\timezones.pyx\u001b[0m in \u001b[0;36mpandas._libs.tslibs.timezones.get_dst_info\u001b[1;34m()\u001b[0m\n",
      "\u001b[1;31mAttributeError\u001b[0m: 'NoneType' object has no attribute 'total_seconds'"
     ]
    },
    {
     "name": "stderr",
     "output_type": "stream",
     "text": [
      "Exception ignored in: 'pandas._libs.tslibs.conversion._localize_tso'\n",
      "Traceback (most recent call last):\n",
      "  File \"pandas\\_libs\\tslibs\\tzconversion.pyx\", line 85, in pandas._libs.tslibs.tzconversion.Localizer.__cinit__\n",
      "  File \"pandas\\_libs\\tslibs\\timezones.pyx\", line 306, in pandas._libs.tslibs.timezones.get_dst_info\n",
      "AttributeError: 'NoneType' object has no attribute 'total_seconds'\n"
     ]
    },
    {
     "ename": "AttributeError",
     "evalue": "'NoneType' object has no attribute 'total_seconds'",
     "output_type": "error",
     "traceback": [
      "\u001b[1;31m---------------------------------------------------------------------------\u001b[0m",
      "\u001b[1;31mAttributeError\u001b[0m                            Traceback (most recent call last)",
      "\u001b[1;32mc:\\Users\\henry.gu\\Anaconda3\\envs\\Python\\lib\\site-packages\\pandas\\_libs\\tslibs\\tzconversion.pyx\u001b[0m in \u001b[0;36mpandas._libs.tslibs.tzconversion.Localizer.__cinit__\u001b[1;34m()\u001b[0m\n",
      "\u001b[1;32mc:\\Users\\henry.gu\\Anaconda3\\envs\\Python\\lib\\site-packages\\pandas\\_libs\\tslibs\\timezones.pyx\u001b[0m in \u001b[0;36mpandas._libs.tslibs.timezones.get_dst_info\u001b[1;34m()\u001b[0m\n",
      "\u001b[1;31mAttributeError\u001b[0m: 'NoneType' object has no attribute 'total_seconds'"
     ]
    },
    {
     "name": "stderr",
     "output_type": "stream",
     "text": [
      "Exception ignored in: 'pandas._libs.tslibs.conversion._localize_tso'\n",
      "Traceback (most recent call last):\n",
      "  File \"pandas\\_libs\\tslibs\\tzconversion.pyx\", line 85, in pandas._libs.tslibs.tzconversion.Localizer.__cinit__\n",
      "  File \"pandas\\_libs\\tslibs\\timezones.pyx\", line 306, in pandas._libs.tslibs.timezones.get_dst_info\n",
      "AttributeError: 'NoneType' object has no attribute 'total_seconds'\n"
     ]
    },
    {
     "ename": "AttributeError",
     "evalue": "'NoneType' object has no attribute 'total_seconds'",
     "output_type": "error",
     "traceback": [
      "\u001b[1;31m---------------------------------------------------------------------------\u001b[0m",
      "\u001b[1;31mAttributeError\u001b[0m                            Traceback (most recent call last)",
      "\u001b[1;32mc:\\Users\\henry.gu\\Anaconda3\\envs\\Python\\lib\\site-packages\\pandas\\_libs\\tslibs\\tzconversion.pyx\u001b[0m in \u001b[0;36mpandas._libs.tslibs.tzconversion.Localizer.__cinit__\u001b[1;34m()\u001b[0m\n",
      "\u001b[1;32mc:\\Users\\henry.gu\\Anaconda3\\envs\\Python\\lib\\site-packages\\pandas\\_libs\\tslibs\\timezones.pyx\u001b[0m in \u001b[0;36mpandas._libs.tslibs.timezones.get_dst_info\u001b[1;34m()\u001b[0m\n",
      "\u001b[1;31mAttributeError\u001b[0m: 'NoneType' object has no attribute 'total_seconds'"
     ]
    },
    {
     "name": "stderr",
     "output_type": "stream",
     "text": [
      "Exception ignored in: 'pandas._libs.tslibs.conversion._localize_tso'\n",
      "Traceback (most recent call last):\n",
      "  File \"pandas\\_libs\\tslibs\\tzconversion.pyx\", line 85, in pandas._libs.tslibs.tzconversion.Localizer.__cinit__\n",
      "  File \"pandas\\_libs\\tslibs\\timezones.pyx\", line 306, in pandas._libs.tslibs.timezones.get_dst_info\n",
      "AttributeError: 'NoneType' object has no attribute 'total_seconds'\n"
     ]
    },
    {
     "ename": "AttributeError",
     "evalue": "'NoneType' object has no attribute 'total_seconds'",
     "output_type": "error",
     "traceback": [
      "\u001b[1;31m---------------------------------------------------------------------------\u001b[0m",
      "\u001b[1;31mAttributeError\u001b[0m                            Traceback (most recent call last)",
      "\u001b[1;32mc:\\Users\\henry.gu\\Anaconda3\\envs\\Python\\lib\\site-packages\\pandas\\_libs\\tslibs\\tzconversion.pyx\u001b[0m in \u001b[0;36mpandas._libs.tslibs.tzconversion.Localizer.__cinit__\u001b[1;34m()\u001b[0m\n",
      "\u001b[1;32mc:\\Users\\henry.gu\\Anaconda3\\envs\\Python\\lib\\site-packages\\pandas\\_libs\\tslibs\\timezones.pyx\u001b[0m in \u001b[0;36mpandas._libs.tslibs.timezones.get_dst_info\u001b[1;34m()\u001b[0m\n",
      "\u001b[1;31mAttributeError\u001b[0m: 'NoneType' object has no attribute 'total_seconds'"
     ]
    },
    {
     "name": "stderr",
     "output_type": "stream",
     "text": [
      "Exception ignored in: 'pandas._libs.tslibs.conversion._localize_tso'\n",
      "Traceback (most recent call last):\n",
      "  File \"pandas\\_libs\\tslibs\\tzconversion.pyx\", line 85, in pandas._libs.tslibs.tzconversion.Localizer.__cinit__\n",
      "  File \"pandas\\_libs\\tslibs\\timezones.pyx\", line 306, in pandas._libs.tslibs.timezones.get_dst_info\n",
      "AttributeError: 'NoneType' object has no attribute 'total_seconds'\n"
     ]
    },
    {
     "ename": "AttributeError",
     "evalue": "'NoneType' object has no attribute 'total_seconds'",
     "output_type": "error",
     "traceback": [
      "\u001b[1;31m---------------------------------------------------------------------------\u001b[0m",
      "\u001b[1;31mAttributeError\u001b[0m                            Traceback (most recent call last)",
      "\u001b[1;32mc:\\Users\\henry.gu\\Anaconda3\\envs\\Python\\lib\\site-packages\\pandas\\_libs\\tslibs\\tzconversion.pyx\u001b[0m in \u001b[0;36mpandas._libs.tslibs.tzconversion.Localizer.__cinit__\u001b[1;34m()\u001b[0m\n",
      "\u001b[1;32mc:\\Users\\henry.gu\\Anaconda3\\envs\\Python\\lib\\site-packages\\pandas\\_libs\\tslibs\\timezones.pyx\u001b[0m in \u001b[0;36mpandas._libs.tslibs.timezones.get_dst_info\u001b[1;34m()\u001b[0m\n",
      "\u001b[1;31mAttributeError\u001b[0m: 'NoneType' object has no attribute 'total_seconds'"
     ]
    },
    {
     "name": "stderr",
     "output_type": "stream",
     "text": [
      "Exception ignored in: 'pandas._libs.tslibs.conversion._localize_tso'\n",
      "Traceback (most recent call last):\n",
      "  File \"pandas\\_libs\\tslibs\\tzconversion.pyx\", line 85, in pandas._libs.tslibs.tzconversion.Localizer.__cinit__\n",
      "  File \"pandas\\_libs\\tslibs\\timezones.pyx\", line 306, in pandas._libs.tslibs.timezones.get_dst_info\n",
      "AttributeError: 'NoneType' object has no attribute 'total_seconds'\n"
     ]
    },
    {
     "ename": "AttributeError",
     "evalue": "'NoneType' object has no attribute 'total_seconds'",
     "output_type": "error",
     "traceback": [
      "\u001b[1;31m---------------------------------------------------------------------------\u001b[0m",
      "\u001b[1;31mAttributeError\u001b[0m                            Traceback (most recent call last)",
      "\u001b[1;32mc:\\Users\\henry.gu\\Anaconda3\\envs\\Python\\lib\\site-packages\\pandas\\_libs\\tslibs\\tzconversion.pyx\u001b[0m in \u001b[0;36mpandas._libs.tslibs.tzconversion.Localizer.__cinit__\u001b[1;34m()\u001b[0m\n",
      "\u001b[1;32mc:\\Users\\henry.gu\\Anaconda3\\envs\\Python\\lib\\site-packages\\pandas\\_libs\\tslibs\\timezones.pyx\u001b[0m in \u001b[0;36mpandas._libs.tslibs.timezones.get_dst_info\u001b[1;34m()\u001b[0m\n",
      "\u001b[1;31mAttributeError\u001b[0m: 'NoneType' object has no attribute 'total_seconds'"
     ]
    },
    {
     "name": "stderr",
     "output_type": "stream",
     "text": [
      "Exception ignored in: 'pandas._libs.tslibs.conversion._localize_tso'\n",
      "Traceback (most recent call last):\n",
      "  File \"pandas\\_libs\\tslibs\\tzconversion.pyx\", line 85, in pandas._libs.tslibs.tzconversion.Localizer.__cinit__\n",
      "  File \"pandas\\_libs\\tslibs\\timezones.pyx\", line 306, in pandas._libs.tslibs.timezones.get_dst_info\n",
      "AttributeError: 'NoneType' object has no attribute 'total_seconds'\n"
     ]
    },
    {
     "ename": "AttributeError",
     "evalue": "'NoneType' object has no attribute 'total_seconds'",
     "output_type": "error",
     "traceback": [
      "\u001b[1;31m---------------------------------------------------------------------------\u001b[0m",
      "\u001b[1;31mAttributeError\u001b[0m                            Traceback (most recent call last)",
      "\u001b[1;32mc:\\Users\\henry.gu\\Anaconda3\\envs\\Python\\lib\\site-packages\\pandas\\_libs\\tslibs\\tzconversion.pyx\u001b[0m in \u001b[0;36mpandas._libs.tslibs.tzconversion.Localizer.__cinit__\u001b[1;34m()\u001b[0m\n",
      "\u001b[1;32mc:\\Users\\henry.gu\\Anaconda3\\envs\\Python\\lib\\site-packages\\pandas\\_libs\\tslibs\\timezones.pyx\u001b[0m in \u001b[0;36mpandas._libs.tslibs.timezones.get_dst_info\u001b[1;34m()\u001b[0m\n",
      "\u001b[1;31mAttributeError\u001b[0m: 'NoneType' object has no attribute 'total_seconds'"
     ]
    },
    {
     "name": "stderr",
     "output_type": "stream",
     "text": [
      "Exception ignored in: 'pandas._libs.tslibs.conversion._localize_tso'\n",
      "Traceback (most recent call last):\n",
      "  File \"pandas\\_libs\\tslibs\\tzconversion.pyx\", line 85, in pandas._libs.tslibs.tzconversion.Localizer.__cinit__\n",
      "  File \"pandas\\_libs\\tslibs\\timezones.pyx\", line 306, in pandas._libs.tslibs.timezones.get_dst_info\n",
      "AttributeError: 'NoneType' object has no attribute 'total_seconds'\n"
     ]
    },
    {
     "ename": "AttributeError",
     "evalue": "'NoneType' object has no attribute 'total_seconds'",
     "output_type": "error",
     "traceback": [
      "\u001b[1;31m---------------------------------------------------------------------------\u001b[0m",
      "\u001b[1;31mAttributeError\u001b[0m                            Traceback (most recent call last)",
      "\u001b[1;32mc:\\Users\\henry.gu\\Anaconda3\\envs\\Python\\lib\\site-packages\\pandas\\_libs\\tslibs\\tzconversion.pyx\u001b[0m in \u001b[0;36mpandas._libs.tslibs.tzconversion.Localizer.__cinit__\u001b[1;34m()\u001b[0m\n",
      "\u001b[1;32mc:\\Users\\henry.gu\\Anaconda3\\envs\\Python\\lib\\site-packages\\pandas\\_libs\\tslibs\\timezones.pyx\u001b[0m in \u001b[0;36mpandas._libs.tslibs.timezones.get_dst_info\u001b[1;34m()\u001b[0m\n",
      "\u001b[1;31mAttributeError\u001b[0m: 'NoneType' object has no attribute 'total_seconds'"
     ]
    },
    {
     "name": "stderr",
     "output_type": "stream",
     "text": [
      "Exception ignored in: 'pandas._libs.tslibs.conversion._localize_tso'\n",
      "Traceback (most recent call last):\n",
      "  File \"pandas\\_libs\\tslibs\\tzconversion.pyx\", line 85, in pandas._libs.tslibs.tzconversion.Localizer.__cinit__\n",
      "  File \"pandas\\_libs\\tslibs\\timezones.pyx\", line 306, in pandas._libs.tslibs.timezones.get_dst_info\n",
      "AttributeError: 'NoneType' object has no attribute 'total_seconds'\n"
     ]
    },
    {
     "ename": "AttributeError",
     "evalue": "'NoneType' object has no attribute 'total_seconds'",
     "output_type": "error",
     "traceback": [
      "\u001b[1;31m---------------------------------------------------------------------------\u001b[0m",
      "\u001b[1;31mAttributeError\u001b[0m                            Traceback (most recent call last)",
      "\u001b[1;32mc:\\Users\\henry.gu\\Anaconda3\\envs\\Python\\lib\\site-packages\\pandas\\_libs\\tslibs\\tzconversion.pyx\u001b[0m in \u001b[0;36mpandas._libs.tslibs.tzconversion.Localizer.__cinit__\u001b[1;34m()\u001b[0m\n",
      "\u001b[1;32mc:\\Users\\henry.gu\\Anaconda3\\envs\\Python\\lib\\site-packages\\pandas\\_libs\\tslibs\\timezones.pyx\u001b[0m in \u001b[0;36mpandas._libs.tslibs.timezones.get_dst_info\u001b[1;34m()\u001b[0m\n",
      "\u001b[1;31mAttributeError\u001b[0m: 'NoneType' object has no attribute 'total_seconds'"
     ]
    },
    {
     "name": "stderr",
     "output_type": "stream",
     "text": [
      "Exception ignored in: 'pandas._libs.tslibs.conversion._localize_tso'\n",
      "Traceback (most recent call last):\n",
      "  File \"pandas\\_libs\\tslibs\\tzconversion.pyx\", line 85, in pandas._libs.tslibs.tzconversion.Localizer.__cinit__\n",
      "  File \"pandas\\_libs\\tslibs\\timezones.pyx\", line 306, in pandas._libs.tslibs.timezones.get_dst_info\n",
      "AttributeError: 'NoneType' object has no attribute 'total_seconds'\n"
     ]
    },
    {
     "ename": "AttributeError",
     "evalue": "'NoneType' object has no attribute 'total_seconds'",
     "output_type": "error",
     "traceback": [
      "\u001b[1;31m---------------------------------------------------------------------------\u001b[0m",
      "\u001b[1;31mAttributeError\u001b[0m                            Traceback (most recent call last)",
      "\u001b[1;32mc:\\Users\\henry.gu\\Anaconda3\\envs\\Python\\lib\\site-packages\\pandas\\_libs\\tslibs\\tzconversion.pyx\u001b[0m in \u001b[0;36mpandas._libs.tslibs.tzconversion.Localizer.__cinit__\u001b[1;34m()\u001b[0m\n",
      "\u001b[1;32mc:\\Users\\henry.gu\\Anaconda3\\envs\\Python\\lib\\site-packages\\pandas\\_libs\\tslibs\\timezones.pyx\u001b[0m in \u001b[0;36mpandas._libs.tslibs.timezones.get_dst_info\u001b[1;34m()\u001b[0m\n",
      "\u001b[1;31mAttributeError\u001b[0m: 'NoneType' object has no attribute 'total_seconds'"
     ]
    },
    {
     "name": "stderr",
     "output_type": "stream",
     "text": [
      "Exception ignored in: 'pandas._libs.tslibs.conversion._localize_tso'\n",
      "Traceback (most recent call last):\n",
      "  File \"pandas\\_libs\\tslibs\\tzconversion.pyx\", line 85, in pandas._libs.tslibs.tzconversion.Localizer.__cinit__\n",
      "  File \"pandas\\_libs\\tslibs\\timezones.pyx\", line 306, in pandas._libs.tslibs.timezones.get_dst_info\n",
      "AttributeError: 'NoneType' object has no attribute 'total_seconds'\n"
     ]
    },
    {
     "ename": "AttributeError",
     "evalue": "'NoneType' object has no attribute 'total_seconds'",
     "output_type": "error",
     "traceback": [
      "\u001b[1;31m---------------------------------------------------------------------------\u001b[0m",
      "\u001b[1;31mAttributeError\u001b[0m                            Traceback (most recent call last)",
      "\u001b[1;32mc:\\Users\\henry.gu\\Anaconda3\\envs\\Python\\lib\\site-packages\\pandas\\_libs\\tslibs\\tzconversion.pyx\u001b[0m in \u001b[0;36mpandas._libs.tslibs.tzconversion.Localizer.__cinit__\u001b[1;34m()\u001b[0m\n",
      "\u001b[1;32mc:\\Users\\henry.gu\\Anaconda3\\envs\\Python\\lib\\site-packages\\pandas\\_libs\\tslibs\\timezones.pyx\u001b[0m in \u001b[0;36mpandas._libs.tslibs.timezones.get_dst_info\u001b[1;34m()\u001b[0m\n",
      "\u001b[1;31mAttributeError\u001b[0m: 'NoneType' object has no attribute 'total_seconds'"
     ]
    },
    {
     "name": "stderr",
     "output_type": "stream",
     "text": [
      "Exception ignored in: 'pandas._libs.tslibs.conversion._localize_tso'\n",
      "Traceback (most recent call last):\n",
      "  File \"pandas\\_libs\\tslibs\\tzconversion.pyx\", line 85, in pandas._libs.tslibs.tzconversion.Localizer.__cinit__\n",
      "  File \"pandas\\_libs\\tslibs\\timezones.pyx\", line 306, in pandas._libs.tslibs.timezones.get_dst_info\n",
      "AttributeError: 'NoneType' object has no attribute 'total_seconds'\n"
     ]
    },
    {
     "ename": "AttributeError",
     "evalue": "'NoneType' object has no attribute 'total_seconds'",
     "output_type": "error",
     "traceback": [
      "\u001b[1;31m---------------------------------------------------------------------------\u001b[0m",
      "\u001b[1;31mAttributeError\u001b[0m                            Traceback (most recent call last)",
      "\u001b[1;32mc:\\Users\\henry.gu\\Anaconda3\\envs\\Python\\lib\\site-packages\\pandas\\_libs\\tslibs\\tzconversion.pyx\u001b[0m in \u001b[0;36mpandas._libs.tslibs.tzconversion.Localizer.__cinit__\u001b[1;34m()\u001b[0m\n",
      "\u001b[1;32mc:\\Users\\henry.gu\\Anaconda3\\envs\\Python\\lib\\site-packages\\pandas\\_libs\\tslibs\\timezones.pyx\u001b[0m in \u001b[0;36mpandas._libs.tslibs.timezones.get_dst_info\u001b[1;34m()\u001b[0m\n",
      "\u001b[1;31mAttributeError\u001b[0m: 'NoneType' object has no attribute 'total_seconds'"
     ]
    },
    {
     "name": "stderr",
     "output_type": "stream",
     "text": [
      "Exception ignored in: 'pandas._libs.tslibs.conversion._localize_tso'\n",
      "Traceback (most recent call last):\n",
      "  File \"pandas\\_libs\\tslibs\\tzconversion.pyx\", line 85, in pandas._libs.tslibs.tzconversion.Localizer.__cinit__\n",
      "  File \"pandas\\_libs\\tslibs\\timezones.pyx\", line 306, in pandas._libs.tslibs.timezones.get_dst_info\n",
      "AttributeError: 'NoneType' object has no attribute 'total_seconds'\n"
     ]
    },
    {
     "ename": "AttributeError",
     "evalue": "'NoneType' object has no attribute 'total_seconds'",
     "output_type": "error",
     "traceback": [
      "\u001b[1;31m---------------------------------------------------------------------------\u001b[0m",
      "\u001b[1;31mAttributeError\u001b[0m                            Traceback (most recent call last)",
      "\u001b[1;32mc:\\Users\\henry.gu\\Anaconda3\\envs\\Python\\lib\\site-packages\\pandas\\_libs\\tslibs\\tzconversion.pyx\u001b[0m in \u001b[0;36mpandas._libs.tslibs.tzconversion.Localizer.__cinit__\u001b[1;34m()\u001b[0m\n",
      "\u001b[1;32mc:\\Users\\henry.gu\\Anaconda3\\envs\\Python\\lib\\site-packages\\pandas\\_libs\\tslibs\\timezones.pyx\u001b[0m in \u001b[0;36mpandas._libs.tslibs.timezones.get_dst_info\u001b[1;34m()\u001b[0m\n",
      "\u001b[1;31mAttributeError\u001b[0m: 'NoneType' object has no attribute 'total_seconds'"
     ]
    },
    {
     "name": "stderr",
     "output_type": "stream",
     "text": [
      "Exception ignored in: 'pandas._libs.tslibs.conversion._localize_tso'\n",
      "Traceback (most recent call last):\n",
      "  File \"pandas\\_libs\\tslibs\\tzconversion.pyx\", line 85, in pandas._libs.tslibs.tzconversion.Localizer.__cinit__\n",
      "  File \"pandas\\_libs\\tslibs\\timezones.pyx\", line 306, in pandas._libs.tslibs.timezones.get_dst_info\n",
      "AttributeError: 'NoneType' object has no attribute 'total_seconds'\n"
     ]
    },
    {
     "ename": "AttributeError",
     "evalue": "'NoneType' object has no attribute 'total_seconds'",
     "output_type": "error",
     "traceback": [
      "\u001b[1;31m---------------------------------------------------------------------------\u001b[0m",
      "\u001b[1;31mAttributeError\u001b[0m                            Traceback (most recent call last)",
      "\u001b[1;32mc:\\Users\\henry.gu\\Anaconda3\\envs\\Python\\lib\\site-packages\\pandas\\_libs\\tslibs\\tzconversion.pyx\u001b[0m in \u001b[0;36mpandas._libs.tslibs.tzconversion.Localizer.__cinit__\u001b[1;34m()\u001b[0m\n",
      "\u001b[1;32mc:\\Users\\henry.gu\\Anaconda3\\envs\\Python\\lib\\site-packages\\pandas\\_libs\\tslibs\\timezones.pyx\u001b[0m in \u001b[0;36mpandas._libs.tslibs.timezones.get_dst_info\u001b[1;34m()\u001b[0m\n",
      "\u001b[1;31mAttributeError\u001b[0m: 'NoneType' object has no attribute 'total_seconds'"
     ]
    },
    {
     "name": "stderr",
     "output_type": "stream",
     "text": [
      "Exception ignored in: 'pandas._libs.tslibs.conversion._localize_tso'\n",
      "Traceback (most recent call last):\n",
      "  File \"pandas\\_libs\\tslibs\\tzconversion.pyx\", line 85, in pandas._libs.tslibs.tzconversion.Localizer.__cinit__\n",
      "  File \"pandas\\_libs\\tslibs\\timezones.pyx\", line 306, in pandas._libs.tslibs.timezones.get_dst_info\n",
      "AttributeError: 'NoneType' object has no attribute 'total_seconds'\n"
     ]
    },
    {
     "ename": "AttributeError",
     "evalue": "'NoneType' object has no attribute 'total_seconds'",
     "output_type": "error",
     "traceback": [
      "\u001b[1;31m---------------------------------------------------------------------------\u001b[0m",
      "\u001b[1;31mAttributeError\u001b[0m                            Traceback (most recent call last)",
      "\u001b[1;32mc:\\Users\\henry.gu\\Anaconda3\\envs\\Python\\lib\\site-packages\\pandas\\_libs\\tslibs\\tzconversion.pyx\u001b[0m in \u001b[0;36mpandas._libs.tslibs.tzconversion.Localizer.__cinit__\u001b[1;34m()\u001b[0m\n",
      "\u001b[1;32mc:\\Users\\henry.gu\\Anaconda3\\envs\\Python\\lib\\site-packages\\pandas\\_libs\\tslibs\\timezones.pyx\u001b[0m in \u001b[0;36mpandas._libs.tslibs.timezones.get_dst_info\u001b[1;34m()\u001b[0m\n",
      "\u001b[1;31mAttributeError\u001b[0m: 'NoneType' object has no attribute 'total_seconds'"
     ]
    },
    {
     "name": "stderr",
     "output_type": "stream",
     "text": [
      "Exception ignored in: 'pandas._libs.tslibs.conversion._localize_tso'\n",
      "Traceback (most recent call last):\n",
      "  File \"pandas\\_libs\\tslibs\\tzconversion.pyx\", line 85, in pandas._libs.tslibs.tzconversion.Localizer.__cinit__\n",
      "  File \"pandas\\_libs\\tslibs\\timezones.pyx\", line 306, in pandas._libs.tslibs.timezones.get_dst_info\n",
      "AttributeError: 'NoneType' object has no attribute 'total_seconds'\n"
     ]
    },
    {
     "ename": "AttributeError",
     "evalue": "'NoneType' object has no attribute 'total_seconds'",
     "output_type": "error",
     "traceback": [
      "\u001b[1;31m---------------------------------------------------------------------------\u001b[0m",
      "\u001b[1;31mAttributeError\u001b[0m                            Traceback (most recent call last)",
      "\u001b[1;32mc:\\Users\\henry.gu\\Anaconda3\\envs\\Python\\lib\\site-packages\\pandas\\_libs\\tslibs\\tzconversion.pyx\u001b[0m in \u001b[0;36mpandas._libs.tslibs.tzconversion.Localizer.__cinit__\u001b[1;34m()\u001b[0m\n",
      "\u001b[1;32mc:\\Users\\henry.gu\\Anaconda3\\envs\\Python\\lib\\site-packages\\pandas\\_libs\\tslibs\\timezones.pyx\u001b[0m in \u001b[0;36mpandas._libs.tslibs.timezones.get_dst_info\u001b[1;34m()\u001b[0m\n",
      "\u001b[1;31mAttributeError\u001b[0m: 'NoneType' object has no attribute 'total_seconds'"
     ]
    },
    {
     "name": "stderr",
     "output_type": "stream",
     "text": [
      "Exception ignored in: 'pandas._libs.tslibs.conversion._localize_tso'\n",
      "Traceback (most recent call last):\n",
      "  File \"pandas\\_libs\\tslibs\\tzconversion.pyx\", line 85, in pandas._libs.tslibs.tzconversion.Localizer.__cinit__\n",
      "  File \"pandas\\_libs\\tslibs\\timezones.pyx\", line 306, in pandas._libs.tslibs.timezones.get_dst_info\n",
      "AttributeError: 'NoneType' object has no attribute 'total_seconds'\n"
     ]
    },
    {
     "ename": "AttributeError",
     "evalue": "'NoneType' object has no attribute 'total_seconds'",
     "output_type": "error",
     "traceback": [
      "\u001b[1;31m---------------------------------------------------------------------------\u001b[0m",
      "\u001b[1;31mAttributeError\u001b[0m                            Traceback (most recent call last)",
      "\u001b[1;32mc:\\Users\\henry.gu\\Anaconda3\\envs\\Python\\lib\\site-packages\\pandas\\_libs\\tslibs\\tzconversion.pyx\u001b[0m in \u001b[0;36mpandas._libs.tslibs.tzconversion.Localizer.__cinit__\u001b[1;34m()\u001b[0m\n",
      "\u001b[1;32mc:\\Users\\henry.gu\\Anaconda3\\envs\\Python\\lib\\site-packages\\pandas\\_libs\\tslibs\\timezones.pyx\u001b[0m in \u001b[0;36mpandas._libs.tslibs.timezones.get_dst_info\u001b[1;34m()\u001b[0m\n",
      "\u001b[1;31mAttributeError\u001b[0m: 'NoneType' object has no attribute 'total_seconds'"
     ]
    },
    {
     "name": "stderr",
     "output_type": "stream",
     "text": [
      "Exception ignored in: 'pandas._libs.tslibs.conversion._localize_tso'\n",
      "Traceback (most recent call last):\n",
      "  File \"pandas\\_libs\\tslibs\\tzconversion.pyx\", line 85, in pandas._libs.tslibs.tzconversion.Localizer.__cinit__\n",
      "  File \"pandas\\_libs\\tslibs\\timezones.pyx\", line 306, in pandas._libs.tslibs.timezones.get_dst_info\n",
      "AttributeError: 'NoneType' object has no attribute 'total_seconds'\n"
     ]
    },
    {
     "ename": "AttributeError",
     "evalue": "'NoneType' object has no attribute 'total_seconds'",
     "output_type": "error",
     "traceback": [
      "\u001b[1;31m---------------------------------------------------------------------------\u001b[0m",
      "\u001b[1;31mAttributeError\u001b[0m                            Traceback (most recent call last)",
      "\u001b[1;32mc:\\Users\\henry.gu\\Anaconda3\\envs\\Python\\lib\\site-packages\\pandas\\_libs\\tslibs\\tzconversion.pyx\u001b[0m in \u001b[0;36mpandas._libs.tslibs.tzconversion.Localizer.__cinit__\u001b[1;34m()\u001b[0m\n",
      "\u001b[1;32mc:\\Users\\henry.gu\\Anaconda3\\envs\\Python\\lib\\site-packages\\pandas\\_libs\\tslibs\\timezones.pyx\u001b[0m in \u001b[0;36mpandas._libs.tslibs.timezones.get_dst_info\u001b[1;34m()\u001b[0m\n",
      "\u001b[1;31mAttributeError\u001b[0m: 'NoneType' object has no attribute 'total_seconds'"
     ]
    },
    {
     "name": "stderr",
     "output_type": "stream",
     "text": [
      "Exception ignored in: 'pandas._libs.tslibs.conversion._localize_tso'\n",
      "Traceback (most recent call last):\n",
      "  File \"pandas\\_libs\\tslibs\\tzconversion.pyx\", line 85, in pandas._libs.tslibs.tzconversion.Localizer.__cinit__\n",
      "  File \"pandas\\_libs\\tslibs\\timezones.pyx\", line 306, in pandas._libs.tslibs.timezones.get_dst_info\n",
      "AttributeError: 'NoneType' object has no attribute 'total_seconds'\n"
     ]
    },
    {
     "ename": "AttributeError",
     "evalue": "'NoneType' object has no attribute 'total_seconds'",
     "output_type": "error",
     "traceback": [
      "\u001b[1;31m---------------------------------------------------------------------------\u001b[0m",
      "\u001b[1;31mAttributeError\u001b[0m                            Traceback (most recent call last)",
      "\u001b[1;32mc:\\Users\\henry.gu\\Anaconda3\\envs\\Python\\lib\\site-packages\\pandas\\_libs\\tslibs\\tzconversion.pyx\u001b[0m in \u001b[0;36mpandas._libs.tslibs.tzconversion.Localizer.__cinit__\u001b[1;34m()\u001b[0m\n",
      "\u001b[1;32mc:\\Users\\henry.gu\\Anaconda3\\envs\\Python\\lib\\site-packages\\pandas\\_libs\\tslibs\\timezones.pyx\u001b[0m in \u001b[0;36mpandas._libs.tslibs.timezones.get_dst_info\u001b[1;34m()\u001b[0m\n",
      "\u001b[1;31mAttributeError\u001b[0m: 'NoneType' object has no attribute 'total_seconds'"
     ]
    },
    {
     "name": "stderr",
     "output_type": "stream",
     "text": [
      "Exception ignored in: 'pandas._libs.tslibs.conversion._localize_tso'\n",
      "Traceback (most recent call last):\n",
      "  File \"pandas\\_libs\\tslibs\\tzconversion.pyx\", line 85, in pandas._libs.tslibs.tzconversion.Localizer.__cinit__\n",
      "  File \"pandas\\_libs\\tslibs\\timezones.pyx\", line 306, in pandas._libs.tslibs.timezones.get_dst_info\n",
      "AttributeError: 'NoneType' object has no attribute 'total_seconds'\n"
     ]
    },
    {
     "ename": "AttributeError",
     "evalue": "'NoneType' object has no attribute 'total_seconds'",
     "output_type": "error",
     "traceback": [
      "\u001b[1;31m---------------------------------------------------------------------------\u001b[0m",
      "\u001b[1;31mAttributeError\u001b[0m                            Traceback (most recent call last)",
      "\u001b[1;32mc:\\Users\\henry.gu\\Anaconda3\\envs\\Python\\lib\\site-packages\\pandas\\_libs\\tslibs\\tzconversion.pyx\u001b[0m in \u001b[0;36mpandas._libs.tslibs.tzconversion.Localizer.__cinit__\u001b[1;34m()\u001b[0m\n",
      "\u001b[1;32mc:\\Users\\henry.gu\\Anaconda3\\envs\\Python\\lib\\site-packages\\pandas\\_libs\\tslibs\\timezones.pyx\u001b[0m in \u001b[0;36mpandas._libs.tslibs.timezones.get_dst_info\u001b[1;34m()\u001b[0m\n",
      "\u001b[1;31mAttributeError\u001b[0m: 'NoneType' object has no attribute 'total_seconds'"
     ]
    },
    {
     "name": "stderr",
     "output_type": "stream",
     "text": [
      "Exception ignored in: 'pandas._libs.tslibs.conversion._localize_tso'\n",
      "Traceback (most recent call last):\n",
      "  File \"pandas\\_libs\\tslibs\\tzconversion.pyx\", line 85, in pandas._libs.tslibs.tzconversion.Localizer.__cinit__\n",
      "  File \"pandas\\_libs\\tslibs\\timezones.pyx\", line 306, in pandas._libs.tslibs.timezones.get_dst_info\n",
      "AttributeError: 'NoneType' object has no attribute 'total_seconds'\n"
     ]
    },
    {
     "ename": "AttributeError",
     "evalue": "'NoneType' object has no attribute 'total_seconds'",
     "output_type": "error",
     "traceback": [
      "\u001b[1;31m---------------------------------------------------------------------------\u001b[0m",
      "\u001b[1;31mAttributeError\u001b[0m                            Traceback (most recent call last)",
      "\u001b[1;32mc:\\Users\\henry.gu\\Anaconda3\\envs\\Python\\lib\\site-packages\\pandas\\_libs\\tslibs\\tzconversion.pyx\u001b[0m in \u001b[0;36mpandas._libs.tslibs.tzconversion.Localizer.__cinit__\u001b[1;34m()\u001b[0m\n",
      "\u001b[1;32mc:\\Users\\henry.gu\\Anaconda3\\envs\\Python\\lib\\site-packages\\pandas\\_libs\\tslibs\\timezones.pyx\u001b[0m in \u001b[0;36mpandas._libs.tslibs.timezones.get_dst_info\u001b[1;34m()\u001b[0m\n",
      "\u001b[1;31mAttributeError\u001b[0m: 'NoneType' object has no attribute 'total_seconds'"
     ]
    },
    {
     "name": "stderr",
     "output_type": "stream",
     "text": [
      "Exception ignored in: 'pandas._libs.tslibs.conversion._localize_tso'\n",
      "Traceback (most recent call last):\n",
      "  File \"pandas\\_libs\\tslibs\\tzconversion.pyx\", line 85, in pandas._libs.tslibs.tzconversion.Localizer.__cinit__\n",
      "  File \"pandas\\_libs\\tslibs\\timezones.pyx\", line 306, in pandas._libs.tslibs.timezones.get_dst_info\n",
      "AttributeError: 'NoneType' object has no attribute 'total_seconds'\n"
     ]
    },
    {
     "ename": "AttributeError",
     "evalue": "'NoneType' object has no attribute 'total_seconds'",
     "output_type": "error",
     "traceback": [
      "\u001b[1;31m---------------------------------------------------------------------------\u001b[0m",
      "\u001b[1;31mAttributeError\u001b[0m                            Traceback (most recent call last)",
      "\u001b[1;32mc:\\Users\\henry.gu\\Anaconda3\\envs\\Python\\lib\\site-packages\\pandas\\_libs\\tslibs\\tzconversion.pyx\u001b[0m in \u001b[0;36mpandas._libs.tslibs.tzconversion.Localizer.__cinit__\u001b[1;34m()\u001b[0m\n",
      "\u001b[1;32mc:\\Users\\henry.gu\\Anaconda3\\envs\\Python\\lib\\site-packages\\pandas\\_libs\\tslibs\\timezones.pyx\u001b[0m in \u001b[0;36mpandas._libs.tslibs.timezones.get_dst_info\u001b[1;34m()\u001b[0m\n",
      "\u001b[1;31mAttributeError\u001b[0m: 'NoneType' object has no attribute 'total_seconds'"
     ]
    },
    {
     "name": "stderr",
     "output_type": "stream",
     "text": [
      "Exception ignored in: 'pandas._libs.tslibs.conversion._localize_tso'\n",
      "Traceback (most recent call last):\n",
      "  File \"pandas\\_libs\\tslibs\\tzconversion.pyx\", line 85, in pandas._libs.tslibs.tzconversion.Localizer.__cinit__\n",
      "  File \"pandas\\_libs\\tslibs\\timezones.pyx\", line 306, in pandas._libs.tslibs.timezones.get_dst_info\n",
      "AttributeError: 'NoneType' object has no attribute 'total_seconds'\n"
     ]
    },
    {
     "ename": "AttributeError",
     "evalue": "'NoneType' object has no attribute 'total_seconds'",
     "output_type": "error",
     "traceback": [
      "\u001b[1;31m---------------------------------------------------------------------------\u001b[0m",
      "\u001b[1;31mAttributeError\u001b[0m                            Traceback (most recent call last)",
      "\u001b[1;32mc:\\Users\\henry.gu\\Anaconda3\\envs\\Python\\lib\\site-packages\\pandas\\_libs\\tslibs\\tzconversion.pyx\u001b[0m in \u001b[0;36mpandas._libs.tslibs.tzconversion.Localizer.__cinit__\u001b[1;34m()\u001b[0m\n",
      "\u001b[1;32mc:\\Users\\henry.gu\\Anaconda3\\envs\\Python\\lib\\site-packages\\pandas\\_libs\\tslibs\\timezones.pyx\u001b[0m in \u001b[0;36mpandas._libs.tslibs.timezones.get_dst_info\u001b[1;34m()\u001b[0m\n",
      "\u001b[1;31mAttributeError\u001b[0m: 'NoneType' object has no attribute 'total_seconds'"
     ]
    },
    {
     "name": "stderr",
     "output_type": "stream",
     "text": [
      "Exception ignored in: 'pandas._libs.tslibs.conversion._localize_tso'\n",
      "Traceback (most recent call last):\n",
      "  File \"pandas\\_libs\\tslibs\\tzconversion.pyx\", line 85, in pandas._libs.tslibs.tzconversion.Localizer.__cinit__\n",
      "  File \"pandas\\_libs\\tslibs\\timezones.pyx\", line 306, in pandas._libs.tslibs.timezones.get_dst_info\n",
      "AttributeError: 'NoneType' object has no attribute 'total_seconds'\n"
     ]
    },
    {
     "ename": "AttributeError",
     "evalue": "'NoneType' object has no attribute 'total_seconds'",
     "output_type": "error",
     "traceback": [
      "\u001b[1;31m---------------------------------------------------------------------------\u001b[0m",
      "\u001b[1;31mAttributeError\u001b[0m                            Traceback (most recent call last)",
      "\u001b[1;32mc:\\Users\\henry.gu\\Anaconda3\\envs\\Python\\lib\\site-packages\\pandas\\_libs\\tslibs\\tzconversion.pyx\u001b[0m in \u001b[0;36mpandas._libs.tslibs.tzconversion.Localizer.__cinit__\u001b[1;34m()\u001b[0m\n",
      "\u001b[1;32mc:\\Users\\henry.gu\\Anaconda3\\envs\\Python\\lib\\site-packages\\pandas\\_libs\\tslibs\\timezones.pyx\u001b[0m in \u001b[0;36mpandas._libs.tslibs.timezones.get_dst_info\u001b[1;34m()\u001b[0m\n",
      "\u001b[1;31mAttributeError\u001b[0m: 'NoneType' object has no attribute 'total_seconds'"
     ]
    },
    {
     "name": "stderr",
     "output_type": "stream",
     "text": [
      "Exception ignored in: 'pandas._libs.tslibs.conversion._localize_tso'\n",
      "Traceback (most recent call last):\n",
      "  File \"pandas\\_libs\\tslibs\\tzconversion.pyx\", line 85, in pandas._libs.tslibs.tzconversion.Localizer.__cinit__\n",
      "  File \"pandas\\_libs\\tslibs\\timezones.pyx\", line 306, in pandas._libs.tslibs.timezones.get_dst_info\n",
      "AttributeError: 'NoneType' object has no attribute 'total_seconds'\n"
     ]
    },
    {
     "ename": "AttributeError",
     "evalue": "'NoneType' object has no attribute 'total_seconds'",
     "output_type": "error",
     "traceback": [
      "\u001b[1;31m---------------------------------------------------------------------------\u001b[0m",
      "\u001b[1;31mAttributeError\u001b[0m                            Traceback (most recent call last)",
      "\u001b[1;32mc:\\Users\\henry.gu\\Anaconda3\\envs\\Python\\lib\\site-packages\\pandas\\_libs\\tslibs\\tzconversion.pyx\u001b[0m in \u001b[0;36mpandas._libs.tslibs.tzconversion.Localizer.__cinit__\u001b[1;34m()\u001b[0m\n",
      "\u001b[1;32mc:\\Users\\henry.gu\\Anaconda3\\envs\\Python\\lib\\site-packages\\pandas\\_libs\\tslibs\\timezones.pyx\u001b[0m in \u001b[0;36mpandas._libs.tslibs.timezones.get_dst_info\u001b[1;34m()\u001b[0m\n",
      "\u001b[1;31mAttributeError\u001b[0m: 'NoneType' object has no attribute 'total_seconds'"
     ]
    },
    {
     "name": "stderr",
     "output_type": "stream",
     "text": [
      "Exception ignored in: 'pandas._libs.tslibs.conversion._localize_tso'\n",
      "Traceback (most recent call last):\n",
      "  File \"pandas\\_libs\\tslibs\\tzconversion.pyx\", line 85, in pandas._libs.tslibs.tzconversion.Localizer.__cinit__\n",
      "  File \"pandas\\_libs\\tslibs\\timezones.pyx\", line 306, in pandas._libs.tslibs.timezones.get_dst_info\n",
      "AttributeError: 'NoneType' object has no attribute 'total_seconds'\n"
     ]
    },
    {
     "ename": "AttributeError",
     "evalue": "'NoneType' object has no attribute 'total_seconds'",
     "output_type": "error",
     "traceback": [
      "\u001b[1;31m---------------------------------------------------------------------------\u001b[0m",
      "\u001b[1;31mAttributeError\u001b[0m                            Traceback (most recent call last)",
      "\u001b[1;32mc:\\Users\\henry.gu\\Anaconda3\\envs\\Python\\lib\\site-packages\\pandas\\_libs\\tslibs\\tzconversion.pyx\u001b[0m in \u001b[0;36mpandas._libs.tslibs.tzconversion.Localizer.__cinit__\u001b[1;34m()\u001b[0m\n",
      "\u001b[1;32mc:\\Users\\henry.gu\\Anaconda3\\envs\\Python\\lib\\site-packages\\pandas\\_libs\\tslibs\\timezones.pyx\u001b[0m in \u001b[0;36mpandas._libs.tslibs.timezones.get_dst_info\u001b[1;34m()\u001b[0m\n",
      "\u001b[1;31mAttributeError\u001b[0m: 'NoneType' object has no attribute 'total_seconds'"
     ]
    },
    {
     "name": "stderr",
     "output_type": "stream",
     "text": [
      "Exception ignored in: 'pandas._libs.tslibs.conversion._localize_tso'\n",
      "Traceback (most recent call last):\n",
      "  File \"pandas\\_libs\\tslibs\\tzconversion.pyx\", line 85, in pandas._libs.tslibs.tzconversion.Localizer.__cinit__\n",
      "  File \"pandas\\_libs\\tslibs\\timezones.pyx\", line 306, in pandas._libs.tslibs.timezones.get_dst_info\n",
      "AttributeError: 'NoneType' object has no attribute 'total_seconds'\n"
     ]
    },
    {
     "ename": "AttributeError",
     "evalue": "'NoneType' object has no attribute 'total_seconds'",
     "output_type": "error",
     "traceback": [
      "\u001b[1;31m---------------------------------------------------------------------------\u001b[0m",
      "\u001b[1;31mAttributeError\u001b[0m                            Traceback (most recent call last)",
      "\u001b[1;32mc:\\Users\\henry.gu\\Anaconda3\\envs\\Python\\lib\\site-packages\\pandas\\_libs\\tslibs\\tzconversion.pyx\u001b[0m in \u001b[0;36mpandas._libs.tslibs.tzconversion.Localizer.__cinit__\u001b[1;34m()\u001b[0m\n",
      "\u001b[1;32mc:\\Users\\henry.gu\\Anaconda3\\envs\\Python\\lib\\site-packages\\pandas\\_libs\\tslibs\\timezones.pyx\u001b[0m in \u001b[0;36mpandas._libs.tslibs.timezones.get_dst_info\u001b[1;34m()\u001b[0m\n",
      "\u001b[1;31mAttributeError\u001b[0m: 'NoneType' object has no attribute 'total_seconds'"
     ]
    },
    {
     "name": "stderr",
     "output_type": "stream",
     "text": [
      "Exception ignored in: 'pandas._libs.tslibs.conversion._localize_tso'\n",
      "Traceback (most recent call last):\n",
      "  File \"pandas\\_libs\\tslibs\\tzconversion.pyx\", line 85, in pandas._libs.tslibs.tzconversion.Localizer.__cinit__\n",
      "  File \"pandas\\_libs\\tslibs\\timezones.pyx\", line 306, in pandas._libs.tslibs.timezones.get_dst_info\n",
      "AttributeError: 'NoneType' object has no attribute 'total_seconds'\n"
     ]
    },
    {
     "ename": "AttributeError",
     "evalue": "'NoneType' object has no attribute 'total_seconds'",
     "output_type": "error",
     "traceback": [
      "\u001b[1;31m---------------------------------------------------------------------------\u001b[0m",
      "\u001b[1;31mAttributeError\u001b[0m                            Traceback (most recent call last)",
      "\u001b[1;32mc:\\Users\\henry.gu\\Anaconda3\\envs\\Python\\lib\\site-packages\\pandas\\_libs\\tslibs\\tzconversion.pyx\u001b[0m in \u001b[0;36mpandas._libs.tslibs.tzconversion.Localizer.__cinit__\u001b[1;34m()\u001b[0m\n",
      "\u001b[1;32mc:\\Users\\henry.gu\\Anaconda3\\envs\\Python\\lib\\site-packages\\pandas\\_libs\\tslibs\\timezones.pyx\u001b[0m in \u001b[0;36mpandas._libs.tslibs.timezones.get_dst_info\u001b[1;34m()\u001b[0m\n",
      "\u001b[1;31mAttributeError\u001b[0m: 'NoneType' object has no attribute 'total_seconds'"
     ]
    },
    {
     "name": "stderr",
     "output_type": "stream",
     "text": [
      "Exception ignored in: 'pandas._libs.tslibs.conversion._localize_tso'\n",
      "Traceback (most recent call last):\n",
      "  File \"pandas\\_libs\\tslibs\\tzconversion.pyx\", line 85, in pandas._libs.tslibs.tzconversion.Localizer.__cinit__\n",
      "  File \"pandas\\_libs\\tslibs\\timezones.pyx\", line 306, in pandas._libs.tslibs.timezones.get_dst_info\n",
      "AttributeError: 'NoneType' object has no attribute 'total_seconds'\n"
     ]
    },
    {
     "ename": "AttributeError",
     "evalue": "'NoneType' object has no attribute 'total_seconds'",
     "output_type": "error",
     "traceback": [
      "\u001b[1;31m---------------------------------------------------------------------------\u001b[0m",
      "\u001b[1;31mAttributeError\u001b[0m                            Traceback (most recent call last)",
      "\u001b[1;32mc:\\Users\\henry.gu\\Anaconda3\\envs\\Python\\lib\\site-packages\\pandas\\_libs\\tslibs\\tzconversion.pyx\u001b[0m in \u001b[0;36mpandas._libs.tslibs.tzconversion.Localizer.__cinit__\u001b[1;34m()\u001b[0m\n",
      "\u001b[1;32mc:\\Users\\henry.gu\\Anaconda3\\envs\\Python\\lib\\site-packages\\pandas\\_libs\\tslibs\\timezones.pyx\u001b[0m in \u001b[0;36mpandas._libs.tslibs.timezones.get_dst_info\u001b[1;34m()\u001b[0m\n",
      "\u001b[1;31mAttributeError\u001b[0m: 'NoneType' object has no attribute 'total_seconds'"
     ]
    },
    {
     "name": "stderr",
     "output_type": "stream",
     "text": [
      "Exception ignored in: 'pandas._libs.tslibs.conversion._localize_tso'\n",
      "Traceback (most recent call last):\n",
      "  File \"pandas\\_libs\\tslibs\\tzconversion.pyx\", line 85, in pandas._libs.tslibs.tzconversion.Localizer.__cinit__\n",
      "  File \"pandas\\_libs\\tslibs\\timezones.pyx\", line 306, in pandas._libs.tslibs.timezones.get_dst_info\n",
      "AttributeError: 'NoneType' object has no attribute 'total_seconds'\n"
     ]
    },
    {
     "ename": "AttributeError",
     "evalue": "'NoneType' object has no attribute 'total_seconds'",
     "output_type": "error",
     "traceback": [
      "\u001b[1;31m---------------------------------------------------------------------------\u001b[0m",
      "\u001b[1;31mAttributeError\u001b[0m                            Traceback (most recent call last)",
      "\u001b[1;32mc:\\Users\\henry.gu\\Anaconda3\\envs\\Python\\lib\\site-packages\\pandas\\_libs\\tslibs\\tzconversion.pyx\u001b[0m in \u001b[0;36mpandas._libs.tslibs.tzconversion.Localizer.__cinit__\u001b[1;34m()\u001b[0m\n",
      "\u001b[1;32mc:\\Users\\henry.gu\\Anaconda3\\envs\\Python\\lib\\site-packages\\pandas\\_libs\\tslibs\\timezones.pyx\u001b[0m in \u001b[0;36mpandas._libs.tslibs.timezones.get_dst_info\u001b[1;34m()\u001b[0m\n",
      "\u001b[1;31mAttributeError\u001b[0m: 'NoneType' object has no attribute 'total_seconds'"
     ]
    },
    {
     "name": "stderr",
     "output_type": "stream",
     "text": [
      "Exception ignored in: 'pandas._libs.tslibs.conversion._localize_tso'\n",
      "Traceback (most recent call last):\n",
      "  File \"pandas\\_libs\\tslibs\\tzconversion.pyx\", line 85, in pandas._libs.tslibs.tzconversion.Localizer.__cinit__\n",
      "  File \"pandas\\_libs\\tslibs\\timezones.pyx\", line 306, in pandas._libs.tslibs.timezones.get_dst_info\n",
      "AttributeError: 'NoneType' object has no attribute 'total_seconds'\n"
     ]
    },
    {
     "ename": "AttributeError",
     "evalue": "'NoneType' object has no attribute 'total_seconds'",
     "output_type": "error",
     "traceback": [
      "\u001b[1;31m---------------------------------------------------------------------------\u001b[0m",
      "\u001b[1;31mAttributeError\u001b[0m                            Traceback (most recent call last)",
      "\u001b[1;32mc:\\Users\\henry.gu\\Anaconda3\\envs\\Python\\lib\\site-packages\\pandas\\_libs\\tslibs\\tzconversion.pyx\u001b[0m in \u001b[0;36mpandas._libs.tslibs.tzconversion.Localizer.__cinit__\u001b[1;34m()\u001b[0m\n",
      "\u001b[1;32mc:\\Users\\henry.gu\\Anaconda3\\envs\\Python\\lib\\site-packages\\pandas\\_libs\\tslibs\\timezones.pyx\u001b[0m in \u001b[0;36mpandas._libs.tslibs.timezones.get_dst_info\u001b[1;34m()\u001b[0m\n",
      "\u001b[1;31mAttributeError\u001b[0m: 'NoneType' object has no attribute 'total_seconds'"
     ]
    },
    {
     "name": "stderr",
     "output_type": "stream",
     "text": [
      "Exception ignored in: 'pandas._libs.tslibs.conversion._localize_tso'\n",
      "Traceback (most recent call last):\n",
      "  File \"pandas\\_libs\\tslibs\\tzconversion.pyx\", line 85, in pandas._libs.tslibs.tzconversion.Localizer.__cinit__\n",
      "  File \"pandas\\_libs\\tslibs\\timezones.pyx\", line 306, in pandas._libs.tslibs.timezones.get_dst_info\n",
      "AttributeError: 'NoneType' object has no attribute 'total_seconds'\n"
     ]
    },
    {
     "ename": "AttributeError",
     "evalue": "'NoneType' object has no attribute 'total_seconds'",
     "output_type": "error",
     "traceback": [
      "\u001b[1;31m---------------------------------------------------------------------------\u001b[0m",
      "\u001b[1;31mAttributeError\u001b[0m                            Traceback (most recent call last)",
      "\u001b[1;32mc:\\Users\\henry.gu\\Anaconda3\\envs\\Python\\lib\\site-packages\\pandas\\_libs\\tslibs\\tzconversion.pyx\u001b[0m in \u001b[0;36mpandas._libs.tslibs.tzconversion.Localizer.__cinit__\u001b[1;34m()\u001b[0m\n",
      "\u001b[1;32mc:\\Users\\henry.gu\\Anaconda3\\envs\\Python\\lib\\site-packages\\pandas\\_libs\\tslibs\\timezones.pyx\u001b[0m in \u001b[0;36mpandas._libs.tslibs.timezones.get_dst_info\u001b[1;34m()\u001b[0m\n",
      "\u001b[1;31mAttributeError\u001b[0m: 'NoneType' object has no attribute 'total_seconds'"
     ]
    },
    {
     "name": "stderr",
     "output_type": "stream",
     "text": [
      "Exception ignored in: 'pandas._libs.tslibs.conversion._localize_tso'\n",
      "Traceback (most recent call last):\n",
      "  File \"pandas\\_libs\\tslibs\\tzconversion.pyx\", line 85, in pandas._libs.tslibs.tzconversion.Localizer.__cinit__\n",
      "  File \"pandas\\_libs\\tslibs\\timezones.pyx\", line 306, in pandas._libs.tslibs.timezones.get_dst_info\n",
      "AttributeError: 'NoneType' object has no attribute 'total_seconds'\n"
     ]
    },
    {
     "ename": "AttributeError",
     "evalue": "'NoneType' object has no attribute 'total_seconds'",
     "output_type": "error",
     "traceback": [
      "\u001b[1;31m---------------------------------------------------------------------------\u001b[0m",
      "\u001b[1;31mAttributeError\u001b[0m                            Traceback (most recent call last)",
      "\u001b[1;32mc:\\Users\\henry.gu\\Anaconda3\\envs\\Python\\lib\\site-packages\\pandas\\_libs\\tslibs\\tzconversion.pyx\u001b[0m in \u001b[0;36mpandas._libs.tslibs.tzconversion.Localizer.__cinit__\u001b[1;34m()\u001b[0m\n",
      "\u001b[1;32mc:\\Users\\henry.gu\\Anaconda3\\envs\\Python\\lib\\site-packages\\pandas\\_libs\\tslibs\\timezones.pyx\u001b[0m in \u001b[0;36mpandas._libs.tslibs.timezones.get_dst_info\u001b[1;34m()\u001b[0m\n",
      "\u001b[1;31mAttributeError\u001b[0m: 'NoneType' object has no attribute 'total_seconds'"
     ]
    },
    {
     "name": "stderr",
     "output_type": "stream",
     "text": [
      "Exception ignored in: 'pandas._libs.tslibs.conversion._localize_tso'\n",
      "Traceback (most recent call last):\n",
      "  File \"pandas\\_libs\\tslibs\\tzconversion.pyx\", line 85, in pandas._libs.tslibs.tzconversion.Localizer.__cinit__\n",
      "  File \"pandas\\_libs\\tslibs\\timezones.pyx\", line 306, in pandas._libs.tslibs.timezones.get_dst_info\n",
      "AttributeError: 'NoneType' object has no attribute 'total_seconds'\n"
     ]
    },
    {
     "ename": "AttributeError",
     "evalue": "'NoneType' object has no attribute 'total_seconds'",
     "output_type": "error",
     "traceback": [
      "\u001b[1;31m---------------------------------------------------------------------------\u001b[0m",
      "\u001b[1;31mAttributeError\u001b[0m                            Traceback (most recent call last)",
      "\u001b[1;32mc:\\Users\\henry.gu\\Anaconda3\\envs\\Python\\lib\\site-packages\\pandas\\_libs\\tslibs\\tzconversion.pyx\u001b[0m in \u001b[0;36mpandas._libs.tslibs.tzconversion.Localizer.__cinit__\u001b[1;34m()\u001b[0m\n",
      "\u001b[1;32mc:\\Users\\henry.gu\\Anaconda3\\envs\\Python\\lib\\site-packages\\pandas\\_libs\\tslibs\\timezones.pyx\u001b[0m in \u001b[0;36mpandas._libs.tslibs.timezones.get_dst_info\u001b[1;34m()\u001b[0m\n",
      "\u001b[1;31mAttributeError\u001b[0m: 'NoneType' object has no attribute 'total_seconds'"
     ]
    },
    {
     "name": "stderr",
     "output_type": "stream",
     "text": [
      "Exception ignored in: 'pandas._libs.tslibs.conversion._localize_tso'\n",
      "Traceback (most recent call last):\n",
      "  File \"pandas\\_libs\\tslibs\\tzconversion.pyx\", line 85, in pandas._libs.tslibs.tzconversion.Localizer.__cinit__\n",
      "  File \"pandas\\_libs\\tslibs\\timezones.pyx\", line 306, in pandas._libs.tslibs.timezones.get_dst_info\n",
      "AttributeError: 'NoneType' object has no attribute 'total_seconds'\n"
     ]
    },
    {
     "ename": "AttributeError",
     "evalue": "'NoneType' object has no attribute 'total_seconds'",
     "output_type": "error",
     "traceback": [
      "\u001b[1;31m---------------------------------------------------------------------------\u001b[0m",
      "\u001b[1;31mAttributeError\u001b[0m                            Traceback (most recent call last)",
      "\u001b[1;32mc:\\Users\\henry.gu\\Anaconda3\\envs\\Python\\lib\\site-packages\\pandas\\_libs\\tslibs\\tzconversion.pyx\u001b[0m in \u001b[0;36mpandas._libs.tslibs.tzconversion.Localizer.__cinit__\u001b[1;34m()\u001b[0m\n",
      "\u001b[1;32mc:\\Users\\henry.gu\\Anaconda3\\envs\\Python\\lib\\site-packages\\pandas\\_libs\\tslibs\\timezones.pyx\u001b[0m in \u001b[0;36mpandas._libs.tslibs.timezones.get_dst_info\u001b[1;34m()\u001b[0m\n",
      "\u001b[1;31mAttributeError\u001b[0m: 'NoneType' object has no attribute 'total_seconds'"
     ]
    },
    {
     "name": "stderr",
     "output_type": "stream",
     "text": [
      "Exception ignored in: 'pandas._libs.tslibs.conversion._localize_tso'\n",
      "Traceback (most recent call last):\n",
      "  File \"pandas\\_libs\\tslibs\\tzconversion.pyx\", line 85, in pandas._libs.tslibs.tzconversion.Localizer.__cinit__\n",
      "  File \"pandas\\_libs\\tslibs\\timezones.pyx\", line 306, in pandas._libs.tslibs.timezones.get_dst_info\n",
      "AttributeError: 'NoneType' object has no attribute 'total_seconds'\n"
     ]
    },
    {
     "ename": "AttributeError",
     "evalue": "'NoneType' object has no attribute 'total_seconds'",
     "output_type": "error",
     "traceback": [
      "\u001b[1;31m---------------------------------------------------------------------------\u001b[0m",
      "\u001b[1;31mAttributeError\u001b[0m                            Traceback (most recent call last)",
      "\u001b[1;32mc:\\Users\\henry.gu\\Anaconda3\\envs\\Python\\lib\\site-packages\\pandas\\_libs\\tslibs\\tzconversion.pyx\u001b[0m in \u001b[0;36mpandas._libs.tslibs.tzconversion.Localizer.__cinit__\u001b[1;34m()\u001b[0m\n",
      "\u001b[1;32mc:\\Users\\henry.gu\\Anaconda3\\envs\\Python\\lib\\site-packages\\pandas\\_libs\\tslibs\\timezones.pyx\u001b[0m in \u001b[0;36mpandas._libs.tslibs.timezones.get_dst_info\u001b[1;34m()\u001b[0m\n",
      "\u001b[1;31mAttributeError\u001b[0m: 'NoneType' object has no attribute 'total_seconds'"
     ]
    },
    {
     "name": "stderr",
     "output_type": "stream",
     "text": [
      "Exception ignored in: 'pandas._libs.tslibs.conversion._localize_tso'\n",
      "Traceback (most recent call last):\n",
      "  File \"pandas\\_libs\\tslibs\\tzconversion.pyx\", line 85, in pandas._libs.tslibs.tzconversion.Localizer.__cinit__\n",
      "  File \"pandas\\_libs\\tslibs\\timezones.pyx\", line 306, in pandas._libs.tslibs.timezones.get_dst_info\n",
      "AttributeError: 'NoneType' object has no attribute 'total_seconds'\n"
     ]
    },
    {
     "ename": "AttributeError",
     "evalue": "'NoneType' object has no attribute 'total_seconds'",
     "output_type": "error",
     "traceback": [
      "\u001b[1;31m---------------------------------------------------------------------------\u001b[0m",
      "\u001b[1;31mAttributeError\u001b[0m                            Traceback (most recent call last)",
      "\u001b[1;32mc:\\Users\\henry.gu\\Anaconda3\\envs\\Python\\lib\\site-packages\\pandas\\_libs\\tslibs\\tzconversion.pyx\u001b[0m in \u001b[0;36mpandas._libs.tslibs.tzconversion.Localizer.__cinit__\u001b[1;34m()\u001b[0m\n",
      "\u001b[1;32mc:\\Users\\henry.gu\\Anaconda3\\envs\\Python\\lib\\site-packages\\pandas\\_libs\\tslibs\\timezones.pyx\u001b[0m in \u001b[0;36mpandas._libs.tslibs.timezones.get_dst_info\u001b[1;34m()\u001b[0m\n",
      "\u001b[1;31mAttributeError\u001b[0m: 'NoneType' object has no attribute 'total_seconds'"
     ]
    },
    {
     "name": "stderr",
     "output_type": "stream",
     "text": [
      "Exception ignored in: 'pandas._libs.tslibs.conversion._localize_tso'\n",
      "Traceback (most recent call last):\n",
      "  File \"pandas\\_libs\\tslibs\\tzconversion.pyx\", line 85, in pandas._libs.tslibs.tzconversion.Localizer.__cinit__\n",
      "  File \"pandas\\_libs\\tslibs\\timezones.pyx\", line 306, in pandas._libs.tslibs.timezones.get_dst_info\n",
      "AttributeError: 'NoneType' object has no attribute 'total_seconds'\n"
     ]
    },
    {
     "ename": "AttributeError",
     "evalue": "'NoneType' object has no attribute 'total_seconds'",
     "output_type": "error",
     "traceback": [
      "\u001b[1;31m---------------------------------------------------------------------------\u001b[0m",
      "\u001b[1;31mAttributeError\u001b[0m                            Traceback (most recent call last)",
      "\u001b[1;32mc:\\Users\\henry.gu\\Anaconda3\\envs\\Python\\lib\\site-packages\\pandas\\_libs\\tslibs\\tzconversion.pyx\u001b[0m in \u001b[0;36mpandas._libs.tslibs.tzconversion.Localizer.__cinit__\u001b[1;34m()\u001b[0m\n",
      "\u001b[1;32mc:\\Users\\henry.gu\\Anaconda3\\envs\\Python\\lib\\site-packages\\pandas\\_libs\\tslibs\\timezones.pyx\u001b[0m in \u001b[0;36mpandas._libs.tslibs.timezones.get_dst_info\u001b[1;34m()\u001b[0m\n",
      "\u001b[1;31mAttributeError\u001b[0m: 'NoneType' object has no attribute 'total_seconds'"
     ]
    },
    {
     "name": "stderr",
     "output_type": "stream",
     "text": [
      "Exception ignored in: 'pandas._libs.tslibs.conversion._localize_tso'\n",
      "Traceback (most recent call last):\n",
      "  File \"pandas\\_libs\\tslibs\\tzconversion.pyx\", line 85, in pandas._libs.tslibs.tzconversion.Localizer.__cinit__\n",
      "  File \"pandas\\_libs\\tslibs\\timezones.pyx\", line 306, in pandas._libs.tslibs.timezones.get_dst_info\n",
      "AttributeError: 'NoneType' object has no attribute 'total_seconds'\n"
     ]
    },
    {
     "ename": "AttributeError",
     "evalue": "'NoneType' object has no attribute 'total_seconds'",
     "output_type": "error",
     "traceback": [
      "\u001b[1;31m---------------------------------------------------------------------------\u001b[0m",
      "\u001b[1;31mAttributeError\u001b[0m                            Traceback (most recent call last)",
      "\u001b[1;32mc:\\Users\\henry.gu\\Anaconda3\\envs\\Python\\lib\\site-packages\\pandas\\_libs\\tslibs\\tzconversion.pyx\u001b[0m in \u001b[0;36mpandas._libs.tslibs.tzconversion.Localizer.__cinit__\u001b[1;34m()\u001b[0m\n",
      "\u001b[1;32mc:\\Users\\henry.gu\\Anaconda3\\envs\\Python\\lib\\site-packages\\pandas\\_libs\\tslibs\\timezones.pyx\u001b[0m in \u001b[0;36mpandas._libs.tslibs.timezones.get_dst_info\u001b[1;34m()\u001b[0m\n",
      "\u001b[1;31mAttributeError\u001b[0m: 'NoneType' object has no attribute 'total_seconds'"
     ]
    },
    {
     "name": "stderr",
     "output_type": "stream",
     "text": [
      "Exception ignored in: 'pandas._libs.tslibs.conversion._localize_tso'\n",
      "Traceback (most recent call last):\n",
      "  File \"pandas\\_libs\\tslibs\\tzconversion.pyx\", line 85, in pandas._libs.tslibs.tzconversion.Localizer.__cinit__\n",
      "  File \"pandas\\_libs\\tslibs\\timezones.pyx\", line 306, in pandas._libs.tslibs.timezones.get_dst_info\n",
      "AttributeError: 'NoneType' object has no attribute 'total_seconds'\n"
     ]
    },
    {
     "ename": "AttributeError",
     "evalue": "'NoneType' object has no attribute 'total_seconds'",
     "output_type": "error",
     "traceback": [
      "\u001b[1;31m---------------------------------------------------------------------------\u001b[0m",
      "\u001b[1;31mAttributeError\u001b[0m                            Traceback (most recent call last)",
      "\u001b[1;32mc:\\Users\\henry.gu\\Anaconda3\\envs\\Python\\lib\\site-packages\\pandas\\_libs\\tslibs\\tzconversion.pyx\u001b[0m in \u001b[0;36mpandas._libs.tslibs.tzconversion.Localizer.__cinit__\u001b[1;34m()\u001b[0m\n",
      "\u001b[1;32mc:\\Users\\henry.gu\\Anaconda3\\envs\\Python\\lib\\site-packages\\pandas\\_libs\\tslibs\\timezones.pyx\u001b[0m in \u001b[0;36mpandas._libs.tslibs.timezones.get_dst_info\u001b[1;34m()\u001b[0m\n",
      "\u001b[1;31mAttributeError\u001b[0m: 'NoneType' object has no attribute 'total_seconds'"
     ]
    },
    {
     "name": "stderr",
     "output_type": "stream",
     "text": [
      "Exception ignored in: 'pandas._libs.tslibs.conversion._localize_tso'\n",
      "Traceback (most recent call last):\n",
      "  File \"pandas\\_libs\\tslibs\\tzconversion.pyx\", line 85, in pandas._libs.tslibs.tzconversion.Localizer.__cinit__\n",
      "  File \"pandas\\_libs\\tslibs\\timezones.pyx\", line 306, in pandas._libs.tslibs.timezones.get_dst_info\n",
      "AttributeError: 'NoneType' object has no attribute 'total_seconds'\n"
     ]
    },
    {
     "ename": "AttributeError",
     "evalue": "'NoneType' object has no attribute 'total_seconds'",
     "output_type": "error",
     "traceback": [
      "\u001b[1;31m---------------------------------------------------------------------------\u001b[0m",
      "\u001b[1;31mAttributeError\u001b[0m                            Traceback (most recent call last)",
      "\u001b[1;32mc:\\Users\\henry.gu\\Anaconda3\\envs\\Python\\lib\\site-packages\\pandas\\_libs\\tslibs\\tzconversion.pyx\u001b[0m in \u001b[0;36mpandas._libs.tslibs.tzconversion.Localizer.__cinit__\u001b[1;34m()\u001b[0m\n",
      "\u001b[1;32mc:\\Users\\henry.gu\\Anaconda3\\envs\\Python\\lib\\site-packages\\pandas\\_libs\\tslibs\\timezones.pyx\u001b[0m in \u001b[0;36mpandas._libs.tslibs.timezones.get_dst_info\u001b[1;34m()\u001b[0m\n",
      "\u001b[1;31mAttributeError\u001b[0m: 'NoneType' object has no attribute 'total_seconds'"
     ]
    },
    {
     "name": "stderr",
     "output_type": "stream",
     "text": [
      "Exception ignored in: 'pandas._libs.tslibs.conversion._localize_tso'\n",
      "Traceback (most recent call last):\n",
      "  File \"pandas\\_libs\\tslibs\\tzconversion.pyx\", line 85, in pandas._libs.tslibs.tzconversion.Localizer.__cinit__\n",
      "  File \"pandas\\_libs\\tslibs\\timezones.pyx\", line 306, in pandas._libs.tslibs.timezones.get_dst_info\n",
      "AttributeError: 'NoneType' object has no attribute 'total_seconds'\n"
     ]
    },
    {
     "ename": "AttributeError",
     "evalue": "'NoneType' object has no attribute 'total_seconds'",
     "output_type": "error",
     "traceback": [
      "\u001b[1;31m---------------------------------------------------------------------------\u001b[0m",
      "\u001b[1;31mAttributeError\u001b[0m                            Traceback (most recent call last)",
      "\u001b[1;32mc:\\Users\\henry.gu\\Anaconda3\\envs\\Python\\lib\\site-packages\\pandas\\_libs\\tslibs\\tzconversion.pyx\u001b[0m in \u001b[0;36mpandas._libs.tslibs.tzconversion.Localizer.__cinit__\u001b[1;34m()\u001b[0m\n",
      "\u001b[1;32mc:\\Users\\henry.gu\\Anaconda3\\envs\\Python\\lib\\site-packages\\pandas\\_libs\\tslibs\\timezones.pyx\u001b[0m in \u001b[0;36mpandas._libs.tslibs.timezones.get_dst_info\u001b[1;34m()\u001b[0m\n",
      "\u001b[1;31mAttributeError\u001b[0m: 'NoneType' object has no attribute 'total_seconds'"
     ]
    },
    {
     "name": "stderr",
     "output_type": "stream",
     "text": [
      "Exception ignored in: 'pandas._libs.tslibs.conversion._localize_tso'\n",
      "Traceback (most recent call last):\n",
      "  File \"pandas\\_libs\\tslibs\\tzconversion.pyx\", line 85, in pandas._libs.tslibs.tzconversion.Localizer.__cinit__\n",
      "  File \"pandas\\_libs\\tslibs\\timezones.pyx\", line 306, in pandas._libs.tslibs.timezones.get_dst_info\n",
      "AttributeError: 'NoneType' object has no attribute 'total_seconds'\n"
     ]
    },
    {
     "ename": "AttributeError",
     "evalue": "'NoneType' object has no attribute 'total_seconds'",
     "output_type": "error",
     "traceback": [
      "\u001b[1;31m---------------------------------------------------------------------------\u001b[0m",
      "\u001b[1;31mAttributeError\u001b[0m                            Traceback (most recent call last)",
      "\u001b[1;32mc:\\Users\\henry.gu\\Anaconda3\\envs\\Python\\lib\\site-packages\\pandas\\_libs\\tslibs\\tzconversion.pyx\u001b[0m in \u001b[0;36mpandas._libs.tslibs.tzconversion.Localizer.__cinit__\u001b[1;34m()\u001b[0m\n",
      "\u001b[1;32mc:\\Users\\henry.gu\\Anaconda3\\envs\\Python\\lib\\site-packages\\pandas\\_libs\\tslibs\\timezones.pyx\u001b[0m in \u001b[0;36mpandas._libs.tslibs.timezones.get_dst_info\u001b[1;34m()\u001b[0m\n",
      "\u001b[1;31mAttributeError\u001b[0m: 'NoneType' object has no attribute 'total_seconds'"
     ]
    },
    {
     "name": "stderr",
     "output_type": "stream",
     "text": [
      "Exception ignored in: 'pandas._libs.tslibs.conversion._localize_tso'\n",
      "Traceback (most recent call last):\n",
      "  File \"pandas\\_libs\\tslibs\\tzconversion.pyx\", line 85, in pandas._libs.tslibs.tzconversion.Localizer.__cinit__\n",
      "  File \"pandas\\_libs\\tslibs\\timezones.pyx\", line 306, in pandas._libs.tslibs.timezones.get_dst_info\n",
      "AttributeError: 'NoneType' object has no attribute 'total_seconds'\n"
     ]
    },
    {
     "ename": "AttributeError",
     "evalue": "'NoneType' object has no attribute 'total_seconds'",
     "output_type": "error",
     "traceback": [
      "\u001b[1;31m---------------------------------------------------------------------------\u001b[0m",
      "\u001b[1;31mAttributeError\u001b[0m                            Traceback (most recent call last)",
      "\u001b[1;32mc:\\Users\\henry.gu\\Anaconda3\\envs\\Python\\lib\\site-packages\\pandas\\_libs\\tslibs\\tzconversion.pyx\u001b[0m in \u001b[0;36mpandas._libs.tslibs.tzconversion.Localizer.__cinit__\u001b[1;34m()\u001b[0m\n",
      "\u001b[1;32mc:\\Users\\henry.gu\\Anaconda3\\envs\\Python\\lib\\site-packages\\pandas\\_libs\\tslibs\\timezones.pyx\u001b[0m in \u001b[0;36mpandas._libs.tslibs.timezones.get_dst_info\u001b[1;34m()\u001b[0m\n",
      "\u001b[1;31mAttributeError\u001b[0m: 'NoneType' object has no attribute 'total_seconds'"
     ]
    },
    {
     "name": "stderr",
     "output_type": "stream",
     "text": [
      "Exception ignored in: 'pandas._libs.tslibs.conversion._localize_tso'\n",
      "Traceback (most recent call last):\n",
      "  File \"pandas\\_libs\\tslibs\\tzconversion.pyx\", line 85, in pandas._libs.tslibs.tzconversion.Localizer.__cinit__\n",
      "  File \"pandas\\_libs\\tslibs\\timezones.pyx\", line 306, in pandas._libs.tslibs.timezones.get_dst_info\n",
      "AttributeError: 'NoneType' object has no attribute 'total_seconds'\n"
     ]
    },
    {
     "ename": "AttributeError",
     "evalue": "'NoneType' object has no attribute 'total_seconds'",
     "output_type": "error",
     "traceback": [
      "\u001b[1;31m---------------------------------------------------------------------------\u001b[0m",
      "\u001b[1;31mAttributeError\u001b[0m                            Traceback (most recent call last)",
      "\u001b[1;32mc:\\Users\\henry.gu\\Anaconda3\\envs\\Python\\lib\\site-packages\\pandas\\_libs\\tslibs\\tzconversion.pyx\u001b[0m in \u001b[0;36mpandas._libs.tslibs.tzconversion.Localizer.__cinit__\u001b[1;34m()\u001b[0m\n",
      "\u001b[1;32mc:\\Users\\henry.gu\\Anaconda3\\envs\\Python\\lib\\site-packages\\pandas\\_libs\\tslibs\\timezones.pyx\u001b[0m in \u001b[0;36mpandas._libs.tslibs.timezones.get_dst_info\u001b[1;34m()\u001b[0m\n",
      "\u001b[1;31mAttributeError\u001b[0m: 'NoneType' object has no attribute 'total_seconds'"
     ]
    },
    {
     "name": "stderr",
     "output_type": "stream",
     "text": [
      "Exception ignored in: 'pandas._libs.tslibs.conversion._localize_tso'\n",
      "Traceback (most recent call last):\n",
      "  File \"pandas\\_libs\\tslibs\\tzconversion.pyx\", line 85, in pandas._libs.tslibs.tzconversion.Localizer.__cinit__\n",
      "  File \"pandas\\_libs\\tslibs\\timezones.pyx\", line 306, in pandas._libs.tslibs.timezones.get_dst_info\n",
      "AttributeError: 'NoneType' object has no attribute 'total_seconds'\n"
     ]
    },
    {
     "ename": "AttributeError",
     "evalue": "'NoneType' object has no attribute 'total_seconds'",
     "output_type": "error",
     "traceback": [
      "\u001b[1;31m---------------------------------------------------------------------------\u001b[0m",
      "\u001b[1;31mAttributeError\u001b[0m                            Traceback (most recent call last)",
      "\u001b[1;32mc:\\Users\\henry.gu\\Anaconda3\\envs\\Python\\lib\\site-packages\\pandas\\_libs\\tslibs\\tzconversion.pyx\u001b[0m in \u001b[0;36mpandas._libs.tslibs.tzconversion.Localizer.__cinit__\u001b[1;34m()\u001b[0m\n",
      "\u001b[1;32mc:\\Users\\henry.gu\\Anaconda3\\envs\\Python\\lib\\site-packages\\pandas\\_libs\\tslibs\\timezones.pyx\u001b[0m in \u001b[0;36mpandas._libs.tslibs.timezones.get_dst_info\u001b[1;34m()\u001b[0m\n",
      "\u001b[1;31mAttributeError\u001b[0m: 'NoneType' object has no attribute 'total_seconds'"
     ]
    },
    {
     "name": "stderr",
     "output_type": "stream",
     "text": [
      "Exception ignored in: 'pandas._libs.tslibs.conversion._localize_tso'\n",
      "Traceback (most recent call last):\n",
      "  File \"pandas\\_libs\\tslibs\\tzconversion.pyx\", line 85, in pandas._libs.tslibs.tzconversion.Localizer.__cinit__\n",
      "  File \"pandas\\_libs\\tslibs\\timezones.pyx\", line 306, in pandas._libs.tslibs.timezones.get_dst_info\n",
      "AttributeError: 'NoneType' object has no attribute 'total_seconds'\n"
     ]
    },
    {
     "ename": "AttributeError",
     "evalue": "'NoneType' object has no attribute 'total_seconds'",
     "output_type": "error",
     "traceback": [
      "\u001b[1;31m---------------------------------------------------------------------------\u001b[0m",
      "\u001b[1;31mAttributeError\u001b[0m                            Traceback (most recent call last)",
      "\u001b[1;32mc:\\Users\\henry.gu\\Anaconda3\\envs\\Python\\lib\\site-packages\\pandas\\_libs\\tslibs\\tzconversion.pyx\u001b[0m in \u001b[0;36mpandas._libs.tslibs.tzconversion.Localizer.__cinit__\u001b[1;34m()\u001b[0m\n",
      "\u001b[1;32mc:\\Users\\henry.gu\\Anaconda3\\envs\\Python\\lib\\site-packages\\pandas\\_libs\\tslibs\\timezones.pyx\u001b[0m in \u001b[0;36mpandas._libs.tslibs.timezones.get_dst_info\u001b[1;34m()\u001b[0m\n",
      "\u001b[1;31mAttributeError\u001b[0m: 'NoneType' object has no attribute 'total_seconds'"
     ]
    },
    {
     "name": "stderr",
     "output_type": "stream",
     "text": [
      "Exception ignored in: 'pandas._libs.tslibs.conversion._localize_tso'\n",
      "Traceback (most recent call last):\n",
      "  File \"pandas\\_libs\\tslibs\\tzconversion.pyx\", line 85, in pandas._libs.tslibs.tzconversion.Localizer.__cinit__\n",
      "  File \"pandas\\_libs\\tslibs\\timezones.pyx\", line 306, in pandas._libs.tslibs.timezones.get_dst_info\n",
      "AttributeError: 'NoneType' object has no attribute 'total_seconds'\n"
     ]
    },
    {
     "ename": "AttributeError",
     "evalue": "'NoneType' object has no attribute 'total_seconds'",
     "output_type": "error",
     "traceback": [
      "\u001b[1;31m---------------------------------------------------------------------------\u001b[0m",
      "\u001b[1;31mAttributeError\u001b[0m                            Traceback (most recent call last)",
      "\u001b[1;32mc:\\Users\\henry.gu\\Anaconda3\\envs\\Python\\lib\\site-packages\\pandas\\_libs\\tslibs\\tzconversion.pyx\u001b[0m in \u001b[0;36mpandas._libs.tslibs.tzconversion.Localizer.__cinit__\u001b[1;34m()\u001b[0m\n",
      "\u001b[1;32mc:\\Users\\henry.gu\\Anaconda3\\envs\\Python\\lib\\site-packages\\pandas\\_libs\\tslibs\\timezones.pyx\u001b[0m in \u001b[0;36mpandas._libs.tslibs.timezones.get_dst_info\u001b[1;34m()\u001b[0m\n",
      "\u001b[1;31mAttributeError\u001b[0m: 'NoneType' object has no attribute 'total_seconds'"
     ]
    },
    {
     "name": "stderr",
     "output_type": "stream",
     "text": [
      "Exception ignored in: 'pandas._libs.tslibs.conversion._localize_tso'\n",
      "Traceback (most recent call last):\n",
      "  File \"pandas\\_libs\\tslibs\\tzconversion.pyx\", line 85, in pandas._libs.tslibs.tzconversion.Localizer.__cinit__\n",
      "  File \"pandas\\_libs\\tslibs\\timezones.pyx\", line 306, in pandas._libs.tslibs.timezones.get_dst_info\n",
      "AttributeError: 'NoneType' object has no attribute 'total_seconds'\n"
     ]
    },
    {
     "ename": "AttributeError",
     "evalue": "'NoneType' object has no attribute 'total_seconds'",
     "output_type": "error",
     "traceback": [
      "\u001b[1;31m---------------------------------------------------------------------------\u001b[0m",
      "\u001b[1;31mAttributeError\u001b[0m                            Traceback (most recent call last)",
      "\u001b[1;32mc:\\Users\\henry.gu\\Anaconda3\\envs\\Python\\lib\\site-packages\\pandas\\_libs\\tslibs\\tzconversion.pyx\u001b[0m in \u001b[0;36mpandas._libs.tslibs.tzconversion.Localizer.__cinit__\u001b[1;34m()\u001b[0m\n",
      "\u001b[1;32mc:\\Users\\henry.gu\\Anaconda3\\envs\\Python\\lib\\site-packages\\pandas\\_libs\\tslibs\\timezones.pyx\u001b[0m in \u001b[0;36mpandas._libs.tslibs.timezones.get_dst_info\u001b[1;34m()\u001b[0m\n",
      "\u001b[1;31mAttributeError\u001b[0m: 'NoneType' object has no attribute 'total_seconds'"
     ]
    },
    {
     "name": "stderr",
     "output_type": "stream",
     "text": [
      "Exception ignored in: 'pandas._libs.tslibs.conversion._localize_tso'\n",
      "Traceback (most recent call last):\n",
      "  File \"pandas\\_libs\\tslibs\\tzconversion.pyx\", line 85, in pandas._libs.tslibs.tzconversion.Localizer.__cinit__\n",
      "  File \"pandas\\_libs\\tslibs\\timezones.pyx\", line 306, in pandas._libs.tslibs.timezones.get_dst_info\n",
      "AttributeError: 'NoneType' object has no attribute 'total_seconds'\n"
     ]
    },
    {
     "ename": "AttributeError",
     "evalue": "'NoneType' object has no attribute 'total_seconds'",
     "output_type": "error",
     "traceback": [
      "\u001b[1;31m---------------------------------------------------------------------------\u001b[0m",
      "\u001b[1;31mAttributeError\u001b[0m                            Traceback (most recent call last)",
      "\u001b[1;32mc:\\Users\\henry.gu\\Anaconda3\\envs\\Python\\lib\\site-packages\\pandas\\_libs\\tslibs\\tzconversion.pyx\u001b[0m in \u001b[0;36mpandas._libs.tslibs.tzconversion.Localizer.__cinit__\u001b[1;34m()\u001b[0m\n",
      "\u001b[1;32mc:\\Users\\henry.gu\\Anaconda3\\envs\\Python\\lib\\site-packages\\pandas\\_libs\\tslibs\\timezones.pyx\u001b[0m in \u001b[0;36mpandas._libs.tslibs.timezones.get_dst_info\u001b[1;34m()\u001b[0m\n",
      "\u001b[1;31mAttributeError\u001b[0m: 'NoneType' object has no attribute 'total_seconds'"
     ]
    },
    {
     "name": "stderr",
     "output_type": "stream",
     "text": [
      "Exception ignored in: 'pandas._libs.tslibs.conversion._localize_tso'\n",
      "Traceback (most recent call last):\n",
      "  File \"pandas\\_libs\\tslibs\\tzconversion.pyx\", line 85, in pandas._libs.tslibs.tzconversion.Localizer.__cinit__\n",
      "  File \"pandas\\_libs\\tslibs\\timezones.pyx\", line 306, in pandas._libs.tslibs.timezones.get_dst_info\n",
      "AttributeError: 'NoneType' object has no attribute 'total_seconds'\n"
     ]
    },
    {
     "ename": "AttributeError",
     "evalue": "'NoneType' object has no attribute 'total_seconds'",
     "output_type": "error",
     "traceback": [
      "\u001b[1;31m---------------------------------------------------------------------------\u001b[0m",
      "\u001b[1;31mAttributeError\u001b[0m                            Traceback (most recent call last)",
      "\u001b[1;32mc:\\Users\\henry.gu\\Anaconda3\\envs\\Python\\lib\\site-packages\\pandas\\_libs\\tslibs\\tzconversion.pyx\u001b[0m in \u001b[0;36mpandas._libs.tslibs.tzconversion.Localizer.__cinit__\u001b[1;34m()\u001b[0m\n",
      "\u001b[1;32mc:\\Users\\henry.gu\\Anaconda3\\envs\\Python\\lib\\site-packages\\pandas\\_libs\\tslibs\\timezones.pyx\u001b[0m in \u001b[0;36mpandas._libs.tslibs.timezones.get_dst_info\u001b[1;34m()\u001b[0m\n",
      "\u001b[1;31mAttributeError\u001b[0m: 'NoneType' object has no attribute 'total_seconds'"
     ]
    },
    {
     "name": "stderr",
     "output_type": "stream",
     "text": [
      "Exception ignored in: 'pandas._libs.tslibs.conversion._localize_tso'\n",
      "Traceback (most recent call last):\n",
      "  File \"pandas\\_libs\\tslibs\\tzconversion.pyx\", line 85, in pandas._libs.tslibs.tzconversion.Localizer.__cinit__\n",
      "  File \"pandas\\_libs\\tslibs\\timezones.pyx\", line 306, in pandas._libs.tslibs.timezones.get_dst_info\n",
      "AttributeError: 'NoneType' object has no attribute 'total_seconds'\n"
     ]
    },
    {
     "ename": "AttributeError",
     "evalue": "'NoneType' object has no attribute 'total_seconds'",
     "output_type": "error",
     "traceback": [
      "\u001b[1;31m---------------------------------------------------------------------------\u001b[0m",
      "\u001b[1;31mAttributeError\u001b[0m                            Traceback (most recent call last)",
      "\u001b[1;32mc:\\Users\\henry.gu\\Anaconda3\\envs\\Python\\lib\\site-packages\\pandas\\_libs\\tslibs\\tzconversion.pyx\u001b[0m in \u001b[0;36mpandas._libs.tslibs.tzconversion.Localizer.__cinit__\u001b[1;34m()\u001b[0m\n",
      "\u001b[1;32mc:\\Users\\henry.gu\\Anaconda3\\envs\\Python\\lib\\site-packages\\pandas\\_libs\\tslibs\\timezones.pyx\u001b[0m in \u001b[0;36mpandas._libs.tslibs.timezones.get_dst_info\u001b[1;34m()\u001b[0m\n",
      "\u001b[1;31mAttributeError\u001b[0m: 'NoneType' object has no attribute 'total_seconds'"
     ]
    },
    {
     "name": "stderr",
     "output_type": "stream",
     "text": [
      "Exception ignored in: 'pandas._libs.tslibs.conversion._localize_tso'\n",
      "Traceback (most recent call last):\n",
      "  File \"pandas\\_libs\\tslibs\\tzconversion.pyx\", line 85, in pandas._libs.tslibs.tzconversion.Localizer.__cinit__\n",
      "  File \"pandas\\_libs\\tslibs\\timezones.pyx\", line 306, in pandas._libs.tslibs.timezones.get_dst_info\n",
      "AttributeError: 'NoneType' object has no attribute 'total_seconds'\n"
     ]
    },
    {
     "ename": "AttributeError",
     "evalue": "'NoneType' object has no attribute 'total_seconds'",
     "output_type": "error",
     "traceback": [
      "\u001b[1;31m---------------------------------------------------------------------------\u001b[0m",
      "\u001b[1;31mAttributeError\u001b[0m                            Traceback (most recent call last)",
      "\u001b[1;32mc:\\Users\\henry.gu\\Anaconda3\\envs\\Python\\lib\\site-packages\\pandas\\_libs\\tslibs\\tzconversion.pyx\u001b[0m in \u001b[0;36mpandas._libs.tslibs.tzconversion.Localizer.__cinit__\u001b[1;34m()\u001b[0m\n",
      "\u001b[1;32mc:\\Users\\henry.gu\\Anaconda3\\envs\\Python\\lib\\site-packages\\pandas\\_libs\\tslibs\\timezones.pyx\u001b[0m in \u001b[0;36mpandas._libs.tslibs.timezones.get_dst_info\u001b[1;34m()\u001b[0m\n",
      "\u001b[1;31mAttributeError\u001b[0m: 'NoneType' object has no attribute 'total_seconds'"
     ]
    },
    {
     "name": "stderr",
     "output_type": "stream",
     "text": [
      "Exception ignored in: 'pandas._libs.tslibs.conversion._localize_tso'\n",
      "Traceback (most recent call last):\n",
      "  File \"pandas\\_libs\\tslibs\\tzconversion.pyx\", line 85, in pandas._libs.tslibs.tzconversion.Localizer.__cinit__\n",
      "  File \"pandas\\_libs\\tslibs\\timezones.pyx\", line 306, in pandas._libs.tslibs.timezones.get_dst_info\n",
      "AttributeError: 'NoneType' object has no attribute 'total_seconds'\n"
     ]
    },
    {
     "ename": "AttributeError",
     "evalue": "'NoneType' object has no attribute 'total_seconds'",
     "output_type": "error",
     "traceback": [
      "\u001b[1;31m---------------------------------------------------------------------------\u001b[0m",
      "\u001b[1;31mAttributeError\u001b[0m                            Traceback (most recent call last)",
      "\u001b[1;32mc:\\Users\\henry.gu\\Anaconda3\\envs\\Python\\lib\\site-packages\\pandas\\_libs\\tslibs\\tzconversion.pyx\u001b[0m in \u001b[0;36mpandas._libs.tslibs.tzconversion.Localizer.__cinit__\u001b[1;34m()\u001b[0m\n",
      "\u001b[1;32mc:\\Users\\henry.gu\\Anaconda3\\envs\\Python\\lib\\site-packages\\pandas\\_libs\\tslibs\\timezones.pyx\u001b[0m in \u001b[0;36mpandas._libs.tslibs.timezones.get_dst_info\u001b[1;34m()\u001b[0m\n",
      "\u001b[1;31mAttributeError\u001b[0m: 'NoneType' object has no attribute 'total_seconds'"
     ]
    },
    {
     "name": "stderr",
     "output_type": "stream",
     "text": [
      "Exception ignored in: 'pandas._libs.tslibs.conversion._localize_tso'\n",
      "Traceback (most recent call last):\n",
      "  File \"pandas\\_libs\\tslibs\\tzconversion.pyx\", line 85, in pandas._libs.tslibs.tzconversion.Localizer.__cinit__\n",
      "  File \"pandas\\_libs\\tslibs\\timezones.pyx\", line 306, in pandas._libs.tslibs.timezones.get_dst_info\n",
      "AttributeError: 'NoneType' object has no attribute 'total_seconds'\n"
     ]
    },
    {
     "ename": "AttributeError",
     "evalue": "'NoneType' object has no attribute 'total_seconds'",
     "output_type": "error",
     "traceback": [
      "\u001b[1;31m---------------------------------------------------------------------------\u001b[0m",
      "\u001b[1;31mAttributeError\u001b[0m                            Traceback (most recent call last)",
      "\u001b[1;32mc:\\Users\\henry.gu\\Anaconda3\\envs\\Python\\lib\\site-packages\\pandas\\_libs\\tslibs\\tzconversion.pyx\u001b[0m in \u001b[0;36mpandas._libs.tslibs.tzconversion.Localizer.__cinit__\u001b[1;34m()\u001b[0m\n",
      "\u001b[1;32mc:\\Users\\henry.gu\\Anaconda3\\envs\\Python\\lib\\site-packages\\pandas\\_libs\\tslibs\\timezones.pyx\u001b[0m in \u001b[0;36mpandas._libs.tslibs.timezones.get_dst_info\u001b[1;34m()\u001b[0m\n",
      "\u001b[1;31mAttributeError\u001b[0m: 'NoneType' object has no attribute 'total_seconds'"
     ]
    },
    {
     "name": "stderr",
     "output_type": "stream",
     "text": [
      "Exception ignored in: 'pandas._libs.tslibs.conversion._localize_tso'\n",
      "Traceback (most recent call last):\n",
      "  File \"pandas\\_libs\\tslibs\\tzconversion.pyx\", line 85, in pandas._libs.tslibs.tzconversion.Localizer.__cinit__\n",
      "  File \"pandas\\_libs\\tslibs\\timezones.pyx\", line 306, in pandas._libs.tslibs.timezones.get_dst_info\n",
      "AttributeError: 'NoneType' object has no attribute 'total_seconds'\n"
     ]
    },
    {
     "ename": "AttributeError",
     "evalue": "'NoneType' object has no attribute 'total_seconds'",
     "output_type": "error",
     "traceback": [
      "\u001b[1;31m---------------------------------------------------------------------------\u001b[0m",
      "\u001b[1;31mAttributeError\u001b[0m                            Traceback (most recent call last)",
      "\u001b[1;32mc:\\Users\\henry.gu\\Anaconda3\\envs\\Python\\lib\\site-packages\\pandas\\_libs\\tslibs\\tzconversion.pyx\u001b[0m in \u001b[0;36mpandas._libs.tslibs.tzconversion.Localizer.__cinit__\u001b[1;34m()\u001b[0m\n",
      "\u001b[1;32mc:\\Users\\henry.gu\\Anaconda3\\envs\\Python\\lib\\site-packages\\pandas\\_libs\\tslibs\\timezones.pyx\u001b[0m in \u001b[0;36mpandas._libs.tslibs.timezones.get_dst_info\u001b[1;34m()\u001b[0m\n",
      "\u001b[1;31mAttributeError\u001b[0m: 'NoneType' object has no attribute 'total_seconds'"
     ]
    },
    {
     "name": "stderr",
     "output_type": "stream",
     "text": [
      "Exception ignored in: 'pandas._libs.tslibs.conversion._localize_tso'\n",
      "Traceback (most recent call last):\n",
      "  File \"pandas\\_libs\\tslibs\\tzconversion.pyx\", line 85, in pandas._libs.tslibs.tzconversion.Localizer.__cinit__\n",
      "  File \"pandas\\_libs\\tslibs\\timezones.pyx\", line 306, in pandas._libs.tslibs.timezones.get_dst_info\n",
      "AttributeError: 'NoneType' object has no attribute 'total_seconds'\n"
     ]
    },
    {
     "ename": "AttributeError",
     "evalue": "'NoneType' object has no attribute 'total_seconds'",
     "output_type": "error",
     "traceback": [
      "\u001b[1;31m---------------------------------------------------------------------------\u001b[0m",
      "\u001b[1;31mAttributeError\u001b[0m                            Traceback (most recent call last)",
      "\u001b[1;32mc:\\Users\\henry.gu\\Anaconda3\\envs\\Python\\lib\\site-packages\\pandas\\_libs\\tslibs\\tzconversion.pyx\u001b[0m in \u001b[0;36mpandas._libs.tslibs.tzconversion.Localizer.__cinit__\u001b[1;34m()\u001b[0m\n",
      "\u001b[1;32mc:\\Users\\henry.gu\\Anaconda3\\envs\\Python\\lib\\site-packages\\pandas\\_libs\\tslibs\\timezones.pyx\u001b[0m in \u001b[0;36mpandas._libs.tslibs.timezones.get_dst_info\u001b[1;34m()\u001b[0m\n",
      "\u001b[1;31mAttributeError\u001b[0m: 'NoneType' object has no attribute 'total_seconds'"
     ]
    },
    {
     "name": "stderr",
     "output_type": "stream",
     "text": [
      "Exception ignored in: 'pandas._libs.tslibs.conversion._localize_tso'\n",
      "Traceback (most recent call last):\n",
      "  File \"pandas\\_libs\\tslibs\\tzconversion.pyx\", line 85, in pandas._libs.tslibs.tzconversion.Localizer.__cinit__\n",
      "  File \"pandas\\_libs\\tslibs\\timezones.pyx\", line 306, in pandas._libs.tslibs.timezones.get_dst_info\n",
      "AttributeError: 'NoneType' object has no attribute 'total_seconds'\n"
     ]
    },
    {
     "ename": "AttributeError",
     "evalue": "'NoneType' object has no attribute 'total_seconds'",
     "output_type": "error",
     "traceback": [
      "\u001b[1;31m---------------------------------------------------------------------------\u001b[0m",
      "\u001b[1;31mAttributeError\u001b[0m                            Traceback (most recent call last)",
      "\u001b[1;32mc:\\Users\\henry.gu\\Anaconda3\\envs\\Python\\lib\\site-packages\\pandas\\_libs\\tslibs\\tzconversion.pyx\u001b[0m in \u001b[0;36mpandas._libs.tslibs.tzconversion.Localizer.__cinit__\u001b[1;34m()\u001b[0m\n",
      "\u001b[1;32mc:\\Users\\henry.gu\\Anaconda3\\envs\\Python\\lib\\site-packages\\pandas\\_libs\\tslibs\\timezones.pyx\u001b[0m in \u001b[0;36mpandas._libs.tslibs.timezones.get_dst_info\u001b[1;34m()\u001b[0m\n",
      "\u001b[1;31mAttributeError\u001b[0m: 'NoneType' object has no attribute 'total_seconds'"
     ]
    },
    {
     "name": "stderr",
     "output_type": "stream",
     "text": [
      "Exception ignored in: 'pandas._libs.tslibs.conversion._localize_tso'\n",
      "Traceback (most recent call last):\n",
      "  File \"pandas\\_libs\\tslibs\\tzconversion.pyx\", line 85, in pandas._libs.tslibs.tzconversion.Localizer.__cinit__\n",
      "  File \"pandas\\_libs\\tslibs\\timezones.pyx\", line 306, in pandas._libs.tslibs.timezones.get_dst_info\n",
      "AttributeError: 'NoneType' object has no attribute 'total_seconds'\n"
     ]
    },
    {
     "ename": "AttributeError",
     "evalue": "'NoneType' object has no attribute 'total_seconds'",
     "output_type": "error",
     "traceback": [
      "\u001b[1;31m---------------------------------------------------------------------------\u001b[0m",
      "\u001b[1;31mAttributeError\u001b[0m                            Traceback (most recent call last)",
      "\u001b[1;32mc:\\Users\\henry.gu\\Anaconda3\\envs\\Python\\lib\\site-packages\\pandas\\_libs\\tslibs\\tzconversion.pyx\u001b[0m in \u001b[0;36mpandas._libs.tslibs.tzconversion.Localizer.__cinit__\u001b[1;34m()\u001b[0m\n",
      "\u001b[1;32mc:\\Users\\henry.gu\\Anaconda3\\envs\\Python\\lib\\site-packages\\pandas\\_libs\\tslibs\\timezones.pyx\u001b[0m in \u001b[0;36mpandas._libs.tslibs.timezones.get_dst_info\u001b[1;34m()\u001b[0m\n",
      "\u001b[1;31mAttributeError\u001b[0m: 'NoneType' object has no attribute 'total_seconds'"
     ]
    },
    {
     "name": "stderr",
     "output_type": "stream",
     "text": [
      "Exception ignored in: 'pandas._libs.tslibs.conversion._localize_tso'\n",
      "Traceback (most recent call last):\n",
      "  File \"pandas\\_libs\\tslibs\\tzconversion.pyx\", line 85, in pandas._libs.tslibs.tzconversion.Localizer.__cinit__\n",
      "  File \"pandas\\_libs\\tslibs\\timezones.pyx\", line 306, in pandas._libs.tslibs.timezones.get_dst_info\n",
      "AttributeError: 'NoneType' object has no attribute 'total_seconds'\n"
     ]
    },
    {
     "ename": "AttributeError",
     "evalue": "'NoneType' object has no attribute 'total_seconds'",
     "output_type": "error",
     "traceback": [
      "\u001b[1;31m---------------------------------------------------------------------------\u001b[0m",
      "\u001b[1;31mAttributeError\u001b[0m                            Traceback (most recent call last)",
      "\u001b[1;32mc:\\Users\\henry.gu\\Anaconda3\\envs\\Python\\lib\\site-packages\\pandas\\_libs\\tslibs\\tzconversion.pyx\u001b[0m in \u001b[0;36mpandas._libs.tslibs.tzconversion.Localizer.__cinit__\u001b[1;34m()\u001b[0m\n",
      "\u001b[1;32mc:\\Users\\henry.gu\\Anaconda3\\envs\\Python\\lib\\site-packages\\pandas\\_libs\\tslibs\\timezones.pyx\u001b[0m in \u001b[0;36mpandas._libs.tslibs.timezones.get_dst_info\u001b[1;34m()\u001b[0m\n",
      "\u001b[1;31mAttributeError\u001b[0m: 'NoneType' object has no attribute 'total_seconds'"
     ]
    },
    {
     "name": "stderr",
     "output_type": "stream",
     "text": [
      "Exception ignored in: 'pandas._libs.tslibs.conversion._localize_tso'\n",
      "Traceback (most recent call last):\n",
      "  File \"pandas\\_libs\\tslibs\\tzconversion.pyx\", line 85, in pandas._libs.tslibs.tzconversion.Localizer.__cinit__\n",
      "  File \"pandas\\_libs\\tslibs\\timezones.pyx\", line 306, in pandas._libs.tslibs.timezones.get_dst_info\n",
      "AttributeError: 'NoneType' object has no attribute 'total_seconds'\n"
     ]
    },
    {
     "ename": "AttributeError",
     "evalue": "'NoneType' object has no attribute 'total_seconds'",
     "output_type": "error",
     "traceback": [
      "\u001b[1;31m---------------------------------------------------------------------------\u001b[0m",
      "\u001b[1;31mAttributeError\u001b[0m                            Traceback (most recent call last)",
      "\u001b[1;32mc:\\Users\\henry.gu\\Anaconda3\\envs\\Python\\lib\\site-packages\\pandas\\_libs\\tslibs\\tzconversion.pyx\u001b[0m in \u001b[0;36mpandas._libs.tslibs.tzconversion.Localizer.__cinit__\u001b[1;34m()\u001b[0m\n",
      "\u001b[1;32mc:\\Users\\henry.gu\\Anaconda3\\envs\\Python\\lib\\site-packages\\pandas\\_libs\\tslibs\\timezones.pyx\u001b[0m in \u001b[0;36mpandas._libs.tslibs.timezones.get_dst_info\u001b[1;34m()\u001b[0m\n",
      "\u001b[1;31mAttributeError\u001b[0m: 'NoneType' object has no attribute 'total_seconds'"
     ]
    },
    {
     "name": "stderr",
     "output_type": "stream",
     "text": [
      "Exception ignored in: 'pandas._libs.tslibs.conversion._localize_tso'\n",
      "Traceback (most recent call last):\n",
      "  File \"pandas\\_libs\\tslibs\\tzconversion.pyx\", line 85, in pandas._libs.tslibs.tzconversion.Localizer.__cinit__\n",
      "  File \"pandas\\_libs\\tslibs\\timezones.pyx\", line 306, in pandas._libs.tslibs.timezones.get_dst_info\n",
      "AttributeError: 'NoneType' object has no attribute 'total_seconds'\n"
     ]
    },
    {
     "ename": "AttributeError",
     "evalue": "'NoneType' object has no attribute 'total_seconds'",
     "output_type": "error",
     "traceback": [
      "\u001b[1;31m---------------------------------------------------------------------------\u001b[0m",
      "\u001b[1;31mAttributeError\u001b[0m                            Traceback (most recent call last)",
      "\u001b[1;32mc:\\Users\\henry.gu\\Anaconda3\\envs\\Python\\lib\\site-packages\\pandas\\_libs\\tslibs\\tzconversion.pyx\u001b[0m in \u001b[0;36mpandas._libs.tslibs.tzconversion.Localizer.__cinit__\u001b[1;34m()\u001b[0m\n",
      "\u001b[1;32mc:\\Users\\henry.gu\\Anaconda3\\envs\\Python\\lib\\site-packages\\pandas\\_libs\\tslibs\\timezones.pyx\u001b[0m in \u001b[0;36mpandas._libs.tslibs.timezones.get_dst_info\u001b[1;34m()\u001b[0m\n",
      "\u001b[1;31mAttributeError\u001b[0m: 'NoneType' object has no attribute 'total_seconds'"
     ]
    },
    {
     "name": "stderr",
     "output_type": "stream",
     "text": [
      "Exception ignored in: 'pandas._libs.tslibs.conversion._localize_tso'\n",
      "Traceback (most recent call last):\n",
      "  File \"pandas\\_libs\\tslibs\\tzconversion.pyx\", line 85, in pandas._libs.tslibs.tzconversion.Localizer.__cinit__\n",
      "  File \"pandas\\_libs\\tslibs\\timezones.pyx\", line 306, in pandas._libs.tslibs.timezones.get_dst_info\n",
      "AttributeError: 'NoneType' object has no attribute 'total_seconds'\n"
     ]
    },
    {
     "ename": "AttributeError",
     "evalue": "'NoneType' object has no attribute 'total_seconds'",
     "output_type": "error",
     "traceback": [
      "\u001b[1;31m---------------------------------------------------------------------------\u001b[0m",
      "\u001b[1;31mAttributeError\u001b[0m                            Traceback (most recent call last)",
      "\u001b[1;32mc:\\Users\\henry.gu\\Anaconda3\\envs\\Python\\lib\\site-packages\\pandas\\_libs\\tslibs\\tzconversion.pyx\u001b[0m in \u001b[0;36mpandas._libs.tslibs.tzconversion.Localizer.__cinit__\u001b[1;34m()\u001b[0m\n",
      "\u001b[1;32mc:\\Users\\henry.gu\\Anaconda3\\envs\\Python\\lib\\site-packages\\pandas\\_libs\\tslibs\\timezones.pyx\u001b[0m in \u001b[0;36mpandas._libs.tslibs.timezones.get_dst_info\u001b[1;34m()\u001b[0m\n",
      "\u001b[1;31mAttributeError\u001b[0m: 'NoneType' object has no attribute 'total_seconds'"
     ]
    },
    {
     "name": "stderr",
     "output_type": "stream",
     "text": [
      "Exception ignored in: 'pandas._libs.tslibs.conversion._localize_tso'\n",
      "Traceback (most recent call last):\n",
      "  File \"pandas\\_libs\\tslibs\\tzconversion.pyx\", line 85, in pandas._libs.tslibs.tzconversion.Localizer.__cinit__\n",
      "  File \"pandas\\_libs\\tslibs\\timezones.pyx\", line 306, in pandas._libs.tslibs.timezones.get_dst_info\n",
      "AttributeError: 'NoneType' object has no attribute 'total_seconds'\n"
     ]
    },
    {
     "ename": "AttributeError",
     "evalue": "'NoneType' object has no attribute 'total_seconds'",
     "output_type": "error",
     "traceback": [
      "\u001b[1;31m---------------------------------------------------------------------------\u001b[0m",
      "\u001b[1;31mAttributeError\u001b[0m                            Traceback (most recent call last)",
      "\u001b[1;32mc:\\Users\\henry.gu\\Anaconda3\\envs\\Python\\lib\\site-packages\\pandas\\_libs\\tslibs\\tzconversion.pyx\u001b[0m in \u001b[0;36mpandas._libs.tslibs.tzconversion.Localizer.__cinit__\u001b[1;34m()\u001b[0m\n",
      "\u001b[1;32mc:\\Users\\henry.gu\\Anaconda3\\envs\\Python\\lib\\site-packages\\pandas\\_libs\\tslibs\\timezones.pyx\u001b[0m in \u001b[0;36mpandas._libs.tslibs.timezones.get_dst_info\u001b[1;34m()\u001b[0m\n",
      "\u001b[1;31mAttributeError\u001b[0m: 'NoneType' object has no attribute 'total_seconds'"
     ]
    },
    {
     "name": "stderr",
     "output_type": "stream",
     "text": [
      "Exception ignored in: 'pandas._libs.tslibs.conversion._localize_tso'\n",
      "Traceback (most recent call last):\n",
      "  File \"pandas\\_libs\\tslibs\\tzconversion.pyx\", line 85, in pandas._libs.tslibs.tzconversion.Localizer.__cinit__\n",
      "  File \"pandas\\_libs\\tslibs\\timezones.pyx\", line 306, in pandas._libs.tslibs.timezones.get_dst_info\n",
      "AttributeError: 'NoneType' object has no attribute 'total_seconds'\n"
     ]
    },
    {
     "ename": "AttributeError",
     "evalue": "'NoneType' object has no attribute 'total_seconds'",
     "output_type": "error",
     "traceback": [
      "\u001b[1;31m---------------------------------------------------------------------------\u001b[0m",
      "\u001b[1;31mAttributeError\u001b[0m                            Traceback (most recent call last)",
      "\u001b[1;32mc:\\Users\\henry.gu\\Anaconda3\\envs\\Python\\lib\\site-packages\\pandas\\_libs\\tslibs\\tzconversion.pyx\u001b[0m in \u001b[0;36mpandas._libs.tslibs.tzconversion.Localizer.__cinit__\u001b[1;34m()\u001b[0m\n",
      "\u001b[1;32mc:\\Users\\henry.gu\\Anaconda3\\envs\\Python\\lib\\site-packages\\pandas\\_libs\\tslibs\\timezones.pyx\u001b[0m in \u001b[0;36mpandas._libs.tslibs.timezones.get_dst_info\u001b[1;34m()\u001b[0m\n",
      "\u001b[1;31mAttributeError\u001b[0m: 'NoneType' object has no attribute 'total_seconds'"
     ]
    },
    {
     "name": "stderr",
     "output_type": "stream",
     "text": [
      "Exception ignored in: 'pandas._libs.tslibs.conversion._localize_tso'\n",
      "Traceback (most recent call last):\n",
      "  File \"pandas\\_libs\\tslibs\\tzconversion.pyx\", line 85, in pandas._libs.tslibs.tzconversion.Localizer.__cinit__\n",
      "  File \"pandas\\_libs\\tslibs\\timezones.pyx\", line 306, in pandas._libs.tslibs.timezones.get_dst_info\n",
      "AttributeError: 'NoneType' object has no attribute 'total_seconds'\n"
     ]
    },
    {
     "ename": "AttributeError",
     "evalue": "'NoneType' object has no attribute 'total_seconds'",
     "output_type": "error",
     "traceback": [
      "\u001b[1;31m---------------------------------------------------------------------------\u001b[0m",
      "\u001b[1;31mAttributeError\u001b[0m                            Traceback (most recent call last)",
      "\u001b[1;32mc:\\Users\\henry.gu\\Anaconda3\\envs\\Python\\lib\\site-packages\\pandas\\_libs\\tslibs\\tzconversion.pyx\u001b[0m in \u001b[0;36mpandas._libs.tslibs.tzconversion.Localizer.__cinit__\u001b[1;34m()\u001b[0m\n",
      "\u001b[1;32mc:\\Users\\henry.gu\\Anaconda3\\envs\\Python\\lib\\site-packages\\pandas\\_libs\\tslibs\\timezones.pyx\u001b[0m in \u001b[0;36mpandas._libs.tslibs.timezones.get_dst_info\u001b[1;34m()\u001b[0m\n",
      "\u001b[1;31mAttributeError\u001b[0m: 'NoneType' object has no attribute 'total_seconds'"
     ]
    },
    {
     "name": "stderr",
     "output_type": "stream",
     "text": [
      "Exception ignored in: 'pandas._libs.tslibs.conversion._localize_tso'\n",
      "Traceback (most recent call last):\n",
      "  File \"pandas\\_libs\\tslibs\\tzconversion.pyx\", line 85, in pandas._libs.tslibs.tzconversion.Localizer.__cinit__\n",
      "  File \"pandas\\_libs\\tslibs\\timezones.pyx\", line 306, in pandas._libs.tslibs.timezones.get_dst_info\n",
      "AttributeError: 'NoneType' object has no attribute 'total_seconds'\n"
     ]
    },
    {
     "ename": "AttributeError",
     "evalue": "'NoneType' object has no attribute 'total_seconds'",
     "output_type": "error",
     "traceback": [
      "\u001b[1;31m---------------------------------------------------------------------------\u001b[0m",
      "\u001b[1;31mAttributeError\u001b[0m                            Traceback (most recent call last)",
      "\u001b[1;32mc:\\Users\\henry.gu\\Anaconda3\\envs\\Python\\lib\\site-packages\\pandas\\_libs\\tslibs\\tzconversion.pyx\u001b[0m in \u001b[0;36mpandas._libs.tslibs.tzconversion.Localizer.__cinit__\u001b[1;34m()\u001b[0m\n",
      "\u001b[1;32mc:\\Users\\henry.gu\\Anaconda3\\envs\\Python\\lib\\site-packages\\pandas\\_libs\\tslibs\\timezones.pyx\u001b[0m in \u001b[0;36mpandas._libs.tslibs.timezones.get_dst_info\u001b[1;34m()\u001b[0m\n",
      "\u001b[1;31mAttributeError\u001b[0m: 'NoneType' object has no attribute 'total_seconds'"
     ]
    },
    {
     "name": "stderr",
     "output_type": "stream",
     "text": [
      "Exception ignored in: 'pandas._libs.tslibs.conversion._localize_tso'\n",
      "Traceback (most recent call last):\n",
      "  File \"pandas\\_libs\\tslibs\\tzconversion.pyx\", line 85, in pandas._libs.tslibs.tzconversion.Localizer.__cinit__\n",
      "  File \"pandas\\_libs\\tslibs\\timezones.pyx\", line 306, in pandas._libs.tslibs.timezones.get_dst_info\n",
      "AttributeError: 'NoneType' object has no attribute 'total_seconds'\n"
     ]
    },
    {
     "ename": "AttributeError",
     "evalue": "'NoneType' object has no attribute 'total_seconds'",
     "output_type": "error",
     "traceback": [
      "\u001b[1;31m---------------------------------------------------------------------------\u001b[0m",
      "\u001b[1;31mAttributeError\u001b[0m                            Traceback (most recent call last)",
      "\u001b[1;32mc:\\Users\\henry.gu\\Anaconda3\\envs\\Python\\lib\\site-packages\\pandas\\_libs\\tslibs\\tzconversion.pyx\u001b[0m in \u001b[0;36mpandas._libs.tslibs.tzconversion.Localizer.__cinit__\u001b[1;34m()\u001b[0m\n",
      "\u001b[1;32mc:\\Users\\henry.gu\\Anaconda3\\envs\\Python\\lib\\site-packages\\pandas\\_libs\\tslibs\\timezones.pyx\u001b[0m in \u001b[0;36mpandas._libs.tslibs.timezones.get_dst_info\u001b[1;34m()\u001b[0m\n",
      "\u001b[1;31mAttributeError\u001b[0m: 'NoneType' object has no attribute 'total_seconds'"
     ]
    },
    {
     "name": "stderr",
     "output_type": "stream",
     "text": [
      "Exception ignored in: 'pandas._libs.tslibs.conversion._localize_tso'\n",
      "Traceback (most recent call last):\n",
      "  File \"pandas\\_libs\\tslibs\\tzconversion.pyx\", line 85, in pandas._libs.tslibs.tzconversion.Localizer.__cinit__\n",
      "  File \"pandas\\_libs\\tslibs\\timezones.pyx\", line 306, in pandas._libs.tslibs.timezones.get_dst_info\n",
      "AttributeError: 'NoneType' object has no attribute 'total_seconds'\n"
     ]
    },
    {
     "ename": "AttributeError",
     "evalue": "'NoneType' object has no attribute 'total_seconds'",
     "output_type": "error",
     "traceback": [
      "\u001b[1;31m---------------------------------------------------------------------------\u001b[0m",
      "\u001b[1;31mAttributeError\u001b[0m                            Traceback (most recent call last)",
      "\u001b[1;32mc:\\Users\\henry.gu\\Anaconda3\\envs\\Python\\lib\\site-packages\\pandas\\_libs\\tslibs\\tzconversion.pyx\u001b[0m in \u001b[0;36mpandas._libs.tslibs.tzconversion.Localizer.__cinit__\u001b[1;34m()\u001b[0m\n",
      "\u001b[1;32mc:\\Users\\henry.gu\\Anaconda3\\envs\\Python\\lib\\site-packages\\pandas\\_libs\\tslibs\\timezones.pyx\u001b[0m in \u001b[0;36mpandas._libs.tslibs.timezones.get_dst_info\u001b[1;34m()\u001b[0m\n",
      "\u001b[1;31mAttributeError\u001b[0m: 'NoneType' object has no attribute 'total_seconds'"
     ]
    },
    {
     "name": "stderr",
     "output_type": "stream",
     "text": [
      "Exception ignored in: 'pandas._libs.tslibs.conversion._localize_tso'\n",
      "Traceback (most recent call last):\n",
      "  File \"pandas\\_libs\\tslibs\\tzconversion.pyx\", line 85, in pandas._libs.tslibs.tzconversion.Localizer.__cinit__\n",
      "  File \"pandas\\_libs\\tslibs\\timezones.pyx\", line 306, in pandas._libs.tslibs.timezones.get_dst_info\n",
      "AttributeError: 'NoneType' object has no attribute 'total_seconds'\n"
     ]
    },
    {
     "ename": "AttributeError",
     "evalue": "'NoneType' object has no attribute 'total_seconds'",
     "output_type": "error",
     "traceback": [
      "\u001b[1;31m---------------------------------------------------------------------------\u001b[0m",
      "\u001b[1;31mAttributeError\u001b[0m                            Traceback (most recent call last)",
      "\u001b[1;32mc:\\Users\\henry.gu\\Anaconda3\\envs\\Python\\lib\\site-packages\\pandas\\_libs\\tslibs\\tzconversion.pyx\u001b[0m in \u001b[0;36mpandas._libs.tslibs.tzconversion.Localizer.__cinit__\u001b[1;34m()\u001b[0m\n",
      "\u001b[1;32mc:\\Users\\henry.gu\\Anaconda3\\envs\\Python\\lib\\site-packages\\pandas\\_libs\\tslibs\\timezones.pyx\u001b[0m in \u001b[0;36mpandas._libs.tslibs.timezones.get_dst_info\u001b[1;34m()\u001b[0m\n",
      "\u001b[1;31mAttributeError\u001b[0m: 'NoneType' object has no attribute 'total_seconds'"
     ]
    },
    {
     "name": "stderr",
     "output_type": "stream",
     "text": [
      "Exception ignored in: 'pandas._libs.tslibs.conversion._localize_tso'\n",
      "Traceback (most recent call last):\n",
      "  File \"pandas\\_libs\\tslibs\\tzconversion.pyx\", line 85, in pandas._libs.tslibs.tzconversion.Localizer.__cinit__\n",
      "  File \"pandas\\_libs\\tslibs\\timezones.pyx\", line 306, in pandas._libs.tslibs.timezones.get_dst_info\n",
      "AttributeError: 'NoneType' object has no attribute 'total_seconds'\n"
     ]
    },
    {
     "ename": "AttributeError",
     "evalue": "'NoneType' object has no attribute 'total_seconds'",
     "output_type": "error",
     "traceback": [
      "\u001b[1;31m---------------------------------------------------------------------------\u001b[0m",
      "\u001b[1;31mAttributeError\u001b[0m                            Traceback (most recent call last)",
      "\u001b[1;32mc:\\Users\\henry.gu\\Anaconda3\\envs\\Python\\lib\\site-packages\\pandas\\_libs\\tslibs\\tzconversion.pyx\u001b[0m in \u001b[0;36mpandas._libs.tslibs.tzconversion.Localizer.__cinit__\u001b[1;34m()\u001b[0m\n",
      "\u001b[1;32mc:\\Users\\henry.gu\\Anaconda3\\envs\\Python\\lib\\site-packages\\pandas\\_libs\\tslibs\\timezones.pyx\u001b[0m in \u001b[0;36mpandas._libs.tslibs.timezones.get_dst_info\u001b[1;34m()\u001b[0m\n",
      "\u001b[1;31mAttributeError\u001b[0m: 'NoneType' object has no attribute 'total_seconds'"
     ]
    },
    {
     "name": "stderr",
     "output_type": "stream",
     "text": [
      "Exception ignored in: 'pandas._libs.tslibs.conversion._localize_tso'\n",
      "Traceback (most recent call last):\n",
      "  File \"pandas\\_libs\\tslibs\\tzconversion.pyx\", line 85, in pandas._libs.tslibs.tzconversion.Localizer.__cinit__\n",
      "  File \"pandas\\_libs\\tslibs\\timezones.pyx\", line 306, in pandas._libs.tslibs.timezones.get_dst_info\n",
      "AttributeError: 'NoneType' object has no attribute 'total_seconds'\n"
     ]
    },
    {
     "ename": "AttributeError",
     "evalue": "'NoneType' object has no attribute 'total_seconds'",
     "output_type": "error",
     "traceback": [
      "\u001b[1;31m---------------------------------------------------------------------------\u001b[0m",
      "\u001b[1;31mAttributeError\u001b[0m                            Traceback (most recent call last)",
      "\u001b[1;32mc:\\Users\\henry.gu\\Anaconda3\\envs\\Python\\lib\\site-packages\\pandas\\_libs\\tslibs\\tzconversion.pyx\u001b[0m in \u001b[0;36mpandas._libs.tslibs.tzconversion.Localizer.__cinit__\u001b[1;34m()\u001b[0m\n",
      "\u001b[1;32mc:\\Users\\henry.gu\\Anaconda3\\envs\\Python\\lib\\site-packages\\pandas\\_libs\\tslibs\\timezones.pyx\u001b[0m in \u001b[0;36mpandas._libs.tslibs.timezones.get_dst_info\u001b[1;34m()\u001b[0m\n",
      "\u001b[1;31mAttributeError\u001b[0m: 'NoneType' object has no attribute 'total_seconds'"
     ]
    },
    {
     "name": "stderr",
     "output_type": "stream",
     "text": [
      "Exception ignored in: 'pandas._libs.tslibs.conversion._localize_tso'\n",
      "Traceback (most recent call last):\n",
      "  File \"pandas\\_libs\\tslibs\\tzconversion.pyx\", line 85, in pandas._libs.tslibs.tzconversion.Localizer.__cinit__\n",
      "  File \"pandas\\_libs\\tslibs\\timezones.pyx\", line 306, in pandas._libs.tslibs.timezones.get_dst_info\n",
      "AttributeError: 'NoneType' object has no attribute 'total_seconds'\n"
     ]
    },
    {
     "ename": "AttributeError",
     "evalue": "'NoneType' object has no attribute 'total_seconds'",
     "output_type": "error",
     "traceback": [
      "\u001b[1;31m---------------------------------------------------------------------------\u001b[0m",
      "\u001b[1;31mAttributeError\u001b[0m                            Traceback (most recent call last)",
      "\u001b[1;32mc:\\Users\\henry.gu\\Anaconda3\\envs\\Python\\lib\\site-packages\\pandas\\_libs\\tslibs\\tzconversion.pyx\u001b[0m in \u001b[0;36mpandas._libs.tslibs.tzconversion.Localizer.__cinit__\u001b[1;34m()\u001b[0m\n",
      "\u001b[1;32mc:\\Users\\henry.gu\\Anaconda3\\envs\\Python\\lib\\site-packages\\pandas\\_libs\\tslibs\\timezones.pyx\u001b[0m in \u001b[0;36mpandas._libs.tslibs.timezones.get_dst_info\u001b[1;34m()\u001b[0m\n",
      "\u001b[1;31mAttributeError\u001b[0m: 'NoneType' object has no attribute 'total_seconds'"
     ]
    },
    {
     "name": "stderr",
     "output_type": "stream",
     "text": [
      "Exception ignored in: 'pandas._libs.tslibs.conversion._localize_tso'\n",
      "Traceback (most recent call last):\n",
      "  File \"pandas\\_libs\\tslibs\\tzconversion.pyx\", line 85, in pandas._libs.tslibs.tzconversion.Localizer.__cinit__\n",
      "  File \"pandas\\_libs\\tslibs\\timezones.pyx\", line 306, in pandas._libs.tslibs.timezones.get_dst_info\n",
      "AttributeError: 'NoneType' object has no attribute 'total_seconds'\n"
     ]
    },
    {
     "ename": "AttributeError",
     "evalue": "'NoneType' object has no attribute 'total_seconds'",
     "output_type": "error",
     "traceback": [
      "\u001b[1;31m---------------------------------------------------------------------------\u001b[0m",
      "\u001b[1;31mAttributeError\u001b[0m                            Traceback (most recent call last)",
      "\u001b[1;32mc:\\Users\\henry.gu\\Anaconda3\\envs\\Python\\lib\\site-packages\\pandas\\_libs\\tslibs\\tzconversion.pyx\u001b[0m in \u001b[0;36mpandas._libs.tslibs.tzconversion.Localizer.__cinit__\u001b[1;34m()\u001b[0m\n",
      "\u001b[1;32mc:\\Users\\henry.gu\\Anaconda3\\envs\\Python\\lib\\site-packages\\pandas\\_libs\\tslibs\\timezones.pyx\u001b[0m in \u001b[0;36mpandas._libs.tslibs.timezones.get_dst_info\u001b[1;34m()\u001b[0m\n",
      "\u001b[1;31mAttributeError\u001b[0m: 'NoneType' object has no attribute 'total_seconds'"
     ]
    },
    {
     "name": "stderr",
     "output_type": "stream",
     "text": [
      "Exception ignored in: 'pandas._libs.tslibs.conversion._localize_tso'\n",
      "Traceback (most recent call last):\n",
      "  File \"pandas\\_libs\\tslibs\\tzconversion.pyx\", line 85, in pandas._libs.tslibs.tzconversion.Localizer.__cinit__\n",
      "  File \"pandas\\_libs\\tslibs\\timezones.pyx\", line 306, in pandas._libs.tslibs.timezones.get_dst_info\n",
      "AttributeError: 'NoneType' object has no attribute 'total_seconds'\n"
     ]
    },
    {
     "ename": "AttributeError",
     "evalue": "'NoneType' object has no attribute 'total_seconds'",
     "output_type": "error",
     "traceback": [
      "\u001b[1;31m---------------------------------------------------------------------------\u001b[0m",
      "\u001b[1;31mAttributeError\u001b[0m                            Traceback (most recent call last)",
      "\u001b[1;32mc:\\Users\\henry.gu\\Anaconda3\\envs\\Python\\lib\\site-packages\\pandas\\_libs\\tslibs\\tzconversion.pyx\u001b[0m in \u001b[0;36mpandas._libs.tslibs.tzconversion.Localizer.__cinit__\u001b[1;34m()\u001b[0m\n",
      "\u001b[1;32mc:\\Users\\henry.gu\\Anaconda3\\envs\\Python\\lib\\site-packages\\pandas\\_libs\\tslibs\\timezones.pyx\u001b[0m in \u001b[0;36mpandas._libs.tslibs.timezones.get_dst_info\u001b[1;34m()\u001b[0m\n",
      "\u001b[1;31mAttributeError\u001b[0m: 'NoneType' object has no attribute 'total_seconds'"
     ]
    },
    {
     "name": "stderr",
     "output_type": "stream",
     "text": [
      "Exception ignored in: 'pandas._libs.tslibs.conversion._localize_tso'\n",
      "Traceback (most recent call last):\n",
      "  File \"pandas\\_libs\\tslibs\\tzconversion.pyx\", line 85, in pandas._libs.tslibs.tzconversion.Localizer.__cinit__\n",
      "  File \"pandas\\_libs\\tslibs\\timezones.pyx\", line 306, in pandas._libs.tslibs.timezones.get_dst_info\n",
      "AttributeError: 'NoneType' object has no attribute 'total_seconds'\n"
     ]
    },
    {
     "ename": "AttributeError",
     "evalue": "'NoneType' object has no attribute 'total_seconds'",
     "output_type": "error",
     "traceback": [
      "\u001b[1;31m---------------------------------------------------------------------------\u001b[0m",
      "\u001b[1;31mAttributeError\u001b[0m                            Traceback (most recent call last)",
      "\u001b[1;32mc:\\Users\\henry.gu\\Anaconda3\\envs\\Python\\lib\\site-packages\\pandas\\_libs\\tslibs\\tzconversion.pyx\u001b[0m in \u001b[0;36mpandas._libs.tslibs.tzconversion.Localizer.__cinit__\u001b[1;34m()\u001b[0m\n",
      "\u001b[1;32mc:\\Users\\henry.gu\\Anaconda3\\envs\\Python\\lib\\site-packages\\pandas\\_libs\\tslibs\\timezones.pyx\u001b[0m in \u001b[0;36mpandas._libs.tslibs.timezones.get_dst_info\u001b[1;34m()\u001b[0m\n",
      "\u001b[1;31mAttributeError\u001b[0m: 'NoneType' object has no attribute 'total_seconds'"
     ]
    },
    {
     "name": "stderr",
     "output_type": "stream",
     "text": [
      "Exception ignored in: 'pandas._libs.tslibs.conversion._localize_tso'\n",
      "Traceback (most recent call last):\n",
      "  File \"pandas\\_libs\\tslibs\\tzconversion.pyx\", line 85, in pandas._libs.tslibs.tzconversion.Localizer.__cinit__\n",
      "  File \"pandas\\_libs\\tslibs\\timezones.pyx\", line 306, in pandas._libs.tslibs.timezones.get_dst_info\n",
      "AttributeError: 'NoneType' object has no attribute 'total_seconds'\n"
     ]
    },
    {
     "ename": "AttributeError",
     "evalue": "'NoneType' object has no attribute 'total_seconds'",
     "output_type": "error",
     "traceback": [
      "\u001b[1;31m---------------------------------------------------------------------------\u001b[0m",
      "\u001b[1;31mAttributeError\u001b[0m                            Traceback (most recent call last)",
      "\u001b[1;32mc:\\Users\\henry.gu\\Anaconda3\\envs\\Python\\lib\\site-packages\\pandas\\_libs\\tslibs\\tzconversion.pyx\u001b[0m in \u001b[0;36mpandas._libs.tslibs.tzconversion.Localizer.__cinit__\u001b[1;34m()\u001b[0m\n",
      "\u001b[1;32mc:\\Users\\henry.gu\\Anaconda3\\envs\\Python\\lib\\site-packages\\pandas\\_libs\\tslibs\\timezones.pyx\u001b[0m in \u001b[0;36mpandas._libs.tslibs.timezones.get_dst_info\u001b[1;34m()\u001b[0m\n",
      "\u001b[1;31mAttributeError\u001b[0m: 'NoneType' object has no attribute 'total_seconds'"
     ]
    },
    {
     "name": "stderr",
     "output_type": "stream",
     "text": [
      "Exception ignored in: 'pandas._libs.tslibs.conversion._localize_tso'\n",
      "Traceback (most recent call last):\n",
      "  File \"pandas\\_libs\\tslibs\\tzconversion.pyx\", line 85, in pandas._libs.tslibs.tzconversion.Localizer.__cinit__\n",
      "  File \"pandas\\_libs\\tslibs\\timezones.pyx\", line 306, in pandas._libs.tslibs.timezones.get_dst_info\n",
      "AttributeError: 'NoneType' object has no attribute 'total_seconds'\n"
     ]
    },
    {
     "ename": "AttributeError",
     "evalue": "'NoneType' object has no attribute 'total_seconds'",
     "output_type": "error",
     "traceback": [
      "\u001b[1;31m---------------------------------------------------------------------------\u001b[0m",
      "\u001b[1;31mAttributeError\u001b[0m                            Traceback (most recent call last)",
      "\u001b[1;32mc:\\Users\\henry.gu\\Anaconda3\\envs\\Python\\lib\\site-packages\\pandas\\_libs\\tslibs\\tzconversion.pyx\u001b[0m in \u001b[0;36mpandas._libs.tslibs.tzconversion.Localizer.__cinit__\u001b[1;34m()\u001b[0m\n",
      "\u001b[1;32mc:\\Users\\henry.gu\\Anaconda3\\envs\\Python\\lib\\site-packages\\pandas\\_libs\\tslibs\\timezones.pyx\u001b[0m in \u001b[0;36mpandas._libs.tslibs.timezones.get_dst_info\u001b[1;34m()\u001b[0m\n",
      "\u001b[1;31mAttributeError\u001b[0m: 'NoneType' object has no attribute 'total_seconds'"
     ]
    },
    {
     "name": "stderr",
     "output_type": "stream",
     "text": [
      "Exception ignored in: 'pandas._libs.tslibs.conversion._localize_tso'\n",
      "Traceback (most recent call last):\n",
      "  File \"pandas\\_libs\\tslibs\\tzconversion.pyx\", line 85, in pandas._libs.tslibs.tzconversion.Localizer.__cinit__\n",
      "  File \"pandas\\_libs\\tslibs\\timezones.pyx\", line 306, in pandas._libs.tslibs.timezones.get_dst_info\n",
      "AttributeError: 'NoneType' object has no attribute 'total_seconds'\n"
     ]
    },
    {
     "ename": "AttributeError",
     "evalue": "'NoneType' object has no attribute 'total_seconds'",
     "output_type": "error",
     "traceback": [
      "\u001b[1;31m---------------------------------------------------------------------------\u001b[0m",
      "\u001b[1;31mAttributeError\u001b[0m                            Traceback (most recent call last)",
      "\u001b[1;32mc:\\Users\\henry.gu\\Anaconda3\\envs\\Python\\lib\\site-packages\\pandas\\_libs\\tslibs\\tzconversion.pyx\u001b[0m in \u001b[0;36mpandas._libs.tslibs.tzconversion.Localizer.__cinit__\u001b[1;34m()\u001b[0m\n",
      "\u001b[1;32mc:\\Users\\henry.gu\\Anaconda3\\envs\\Python\\lib\\site-packages\\pandas\\_libs\\tslibs\\timezones.pyx\u001b[0m in \u001b[0;36mpandas._libs.tslibs.timezones.get_dst_info\u001b[1;34m()\u001b[0m\n",
      "\u001b[1;31mAttributeError\u001b[0m: 'NoneType' object has no attribute 'total_seconds'"
     ]
    },
    {
     "name": "stderr",
     "output_type": "stream",
     "text": [
      "Exception ignored in: 'pandas._libs.tslibs.conversion._localize_tso'\n",
      "Traceback (most recent call last):\n",
      "  File \"pandas\\_libs\\tslibs\\tzconversion.pyx\", line 85, in pandas._libs.tslibs.tzconversion.Localizer.__cinit__\n",
      "  File \"pandas\\_libs\\tslibs\\timezones.pyx\", line 306, in pandas._libs.tslibs.timezones.get_dst_info\n",
      "AttributeError: 'NoneType' object has no attribute 'total_seconds'\n"
     ]
    },
    {
     "ename": "AttributeError",
     "evalue": "'NoneType' object has no attribute 'total_seconds'",
     "output_type": "error",
     "traceback": [
      "\u001b[1;31m---------------------------------------------------------------------------\u001b[0m",
      "\u001b[1;31mAttributeError\u001b[0m                            Traceback (most recent call last)",
      "\u001b[1;32mc:\\Users\\henry.gu\\Anaconda3\\envs\\Python\\lib\\site-packages\\pandas\\_libs\\tslibs\\tzconversion.pyx\u001b[0m in \u001b[0;36mpandas._libs.tslibs.tzconversion.Localizer.__cinit__\u001b[1;34m()\u001b[0m\n",
      "\u001b[1;32mc:\\Users\\henry.gu\\Anaconda3\\envs\\Python\\lib\\site-packages\\pandas\\_libs\\tslibs\\timezones.pyx\u001b[0m in \u001b[0;36mpandas._libs.tslibs.timezones.get_dst_info\u001b[1;34m()\u001b[0m\n",
      "\u001b[1;31mAttributeError\u001b[0m: 'NoneType' object has no attribute 'total_seconds'"
     ]
    },
    {
     "name": "stderr",
     "output_type": "stream",
     "text": [
      "Exception ignored in: 'pandas._libs.tslibs.conversion._localize_tso'\n",
      "Traceback (most recent call last):\n",
      "  File \"pandas\\_libs\\tslibs\\tzconversion.pyx\", line 85, in pandas._libs.tslibs.tzconversion.Localizer.__cinit__\n",
      "  File \"pandas\\_libs\\tslibs\\timezones.pyx\", line 306, in pandas._libs.tslibs.timezones.get_dst_info\n",
      "AttributeError: 'NoneType' object has no attribute 'total_seconds'\n"
     ]
    },
    {
     "ename": "AttributeError",
     "evalue": "'NoneType' object has no attribute 'total_seconds'",
     "output_type": "error",
     "traceback": [
      "\u001b[1;31m---------------------------------------------------------------------------\u001b[0m",
      "\u001b[1;31mAttributeError\u001b[0m                            Traceback (most recent call last)",
      "\u001b[1;32mc:\\Users\\henry.gu\\Anaconda3\\envs\\Python\\lib\\site-packages\\pandas\\_libs\\tslibs\\tzconversion.pyx\u001b[0m in \u001b[0;36mpandas._libs.tslibs.tzconversion.Localizer.__cinit__\u001b[1;34m()\u001b[0m\n",
      "\u001b[1;32mc:\\Users\\henry.gu\\Anaconda3\\envs\\Python\\lib\\site-packages\\pandas\\_libs\\tslibs\\timezones.pyx\u001b[0m in \u001b[0;36mpandas._libs.tslibs.timezones.get_dst_info\u001b[1;34m()\u001b[0m\n",
      "\u001b[1;31mAttributeError\u001b[0m: 'NoneType' object has no attribute 'total_seconds'"
     ]
    },
    {
     "name": "stderr",
     "output_type": "stream",
     "text": [
      "Exception ignored in: 'pandas._libs.tslibs.conversion._localize_tso'\n",
      "Traceback (most recent call last):\n",
      "  File \"pandas\\_libs\\tslibs\\tzconversion.pyx\", line 85, in pandas._libs.tslibs.tzconversion.Localizer.__cinit__\n",
      "  File \"pandas\\_libs\\tslibs\\timezones.pyx\", line 306, in pandas._libs.tslibs.timezones.get_dst_info\n",
      "AttributeError: 'NoneType' object has no attribute 'total_seconds'\n"
     ]
    },
    {
     "ename": "AttributeError",
     "evalue": "'NoneType' object has no attribute 'total_seconds'",
     "output_type": "error",
     "traceback": [
      "\u001b[1;31m---------------------------------------------------------------------------\u001b[0m",
      "\u001b[1;31mAttributeError\u001b[0m                            Traceback (most recent call last)",
      "\u001b[1;32mc:\\Users\\henry.gu\\Anaconda3\\envs\\Python\\lib\\site-packages\\pandas\\_libs\\tslibs\\tzconversion.pyx\u001b[0m in \u001b[0;36mpandas._libs.tslibs.tzconversion.Localizer.__cinit__\u001b[1;34m()\u001b[0m\n",
      "\u001b[1;32mc:\\Users\\henry.gu\\Anaconda3\\envs\\Python\\lib\\site-packages\\pandas\\_libs\\tslibs\\timezones.pyx\u001b[0m in \u001b[0;36mpandas._libs.tslibs.timezones.get_dst_info\u001b[1;34m()\u001b[0m\n",
      "\u001b[1;31mAttributeError\u001b[0m: 'NoneType' object has no attribute 'total_seconds'"
     ]
    },
    {
     "name": "stderr",
     "output_type": "stream",
     "text": [
      "Exception ignored in: 'pandas._libs.tslibs.conversion._localize_tso'\n",
      "Traceback (most recent call last):\n",
      "  File \"pandas\\_libs\\tslibs\\tzconversion.pyx\", line 85, in pandas._libs.tslibs.tzconversion.Localizer.__cinit__\n",
      "  File \"pandas\\_libs\\tslibs\\timezones.pyx\", line 306, in pandas._libs.tslibs.timezones.get_dst_info\n",
      "AttributeError: 'NoneType' object has no attribute 'total_seconds'\n"
     ]
    },
    {
     "ename": "AttributeError",
     "evalue": "'NoneType' object has no attribute 'total_seconds'",
     "output_type": "error",
     "traceback": [
      "\u001b[1;31m---------------------------------------------------------------------------\u001b[0m",
      "\u001b[1;31mAttributeError\u001b[0m                            Traceback (most recent call last)",
      "\u001b[1;32mc:\\Users\\henry.gu\\Anaconda3\\envs\\Python\\lib\\site-packages\\pandas\\_libs\\tslibs\\tzconversion.pyx\u001b[0m in \u001b[0;36mpandas._libs.tslibs.tzconversion.Localizer.__cinit__\u001b[1;34m()\u001b[0m\n",
      "\u001b[1;32mc:\\Users\\henry.gu\\Anaconda3\\envs\\Python\\lib\\site-packages\\pandas\\_libs\\tslibs\\timezones.pyx\u001b[0m in \u001b[0;36mpandas._libs.tslibs.timezones.get_dst_info\u001b[1;34m()\u001b[0m\n",
      "\u001b[1;31mAttributeError\u001b[0m: 'NoneType' object has no attribute 'total_seconds'"
     ]
    },
    {
     "name": "stderr",
     "output_type": "stream",
     "text": [
      "Exception ignored in: 'pandas._libs.tslibs.conversion._localize_tso'\n",
      "Traceback (most recent call last):\n",
      "  File \"pandas\\_libs\\tslibs\\tzconversion.pyx\", line 85, in pandas._libs.tslibs.tzconversion.Localizer.__cinit__\n",
      "  File \"pandas\\_libs\\tslibs\\timezones.pyx\", line 306, in pandas._libs.tslibs.timezones.get_dst_info\n",
      "AttributeError: 'NoneType' object has no attribute 'total_seconds'\n"
     ]
    },
    {
     "ename": "AttributeError",
     "evalue": "'NoneType' object has no attribute 'total_seconds'",
     "output_type": "error",
     "traceback": [
      "\u001b[1;31m---------------------------------------------------------------------------\u001b[0m",
      "\u001b[1;31mAttributeError\u001b[0m                            Traceback (most recent call last)",
      "\u001b[1;32mc:\\Users\\henry.gu\\Anaconda3\\envs\\Python\\lib\\site-packages\\pandas\\_libs\\tslibs\\tzconversion.pyx\u001b[0m in \u001b[0;36mpandas._libs.tslibs.tzconversion.Localizer.__cinit__\u001b[1;34m()\u001b[0m\n",
      "\u001b[1;32mc:\\Users\\henry.gu\\Anaconda3\\envs\\Python\\lib\\site-packages\\pandas\\_libs\\tslibs\\timezones.pyx\u001b[0m in \u001b[0;36mpandas._libs.tslibs.timezones.get_dst_info\u001b[1;34m()\u001b[0m\n",
      "\u001b[1;31mAttributeError\u001b[0m: 'NoneType' object has no attribute 'total_seconds'"
     ]
    },
    {
     "name": "stderr",
     "output_type": "stream",
     "text": [
      "Exception ignored in: 'pandas._libs.tslibs.conversion._localize_tso'\n",
      "Traceback (most recent call last):\n",
      "  File \"pandas\\_libs\\tslibs\\tzconversion.pyx\", line 85, in pandas._libs.tslibs.tzconversion.Localizer.__cinit__\n",
      "  File \"pandas\\_libs\\tslibs\\timezones.pyx\", line 306, in pandas._libs.tslibs.timezones.get_dst_info\n",
      "AttributeError: 'NoneType' object has no attribute 'total_seconds'\n"
     ]
    },
    {
     "ename": "AttributeError",
     "evalue": "'NoneType' object has no attribute 'total_seconds'",
     "output_type": "error",
     "traceback": [
      "\u001b[1;31m---------------------------------------------------------------------------\u001b[0m",
      "\u001b[1;31mAttributeError\u001b[0m                            Traceback (most recent call last)",
      "\u001b[1;32mc:\\Users\\henry.gu\\Anaconda3\\envs\\Python\\lib\\site-packages\\pandas\\_libs\\tslibs\\tzconversion.pyx\u001b[0m in \u001b[0;36mpandas._libs.tslibs.tzconversion.Localizer.__cinit__\u001b[1;34m()\u001b[0m\n",
      "\u001b[1;32mc:\\Users\\henry.gu\\Anaconda3\\envs\\Python\\lib\\site-packages\\pandas\\_libs\\tslibs\\timezones.pyx\u001b[0m in \u001b[0;36mpandas._libs.tslibs.timezones.get_dst_info\u001b[1;34m()\u001b[0m\n",
      "\u001b[1;31mAttributeError\u001b[0m: 'NoneType' object has no attribute 'total_seconds'"
     ]
    },
    {
     "name": "stderr",
     "output_type": "stream",
     "text": [
      "Exception ignored in: 'pandas._libs.tslibs.conversion._localize_tso'\n",
      "Traceback (most recent call last):\n",
      "  File \"pandas\\_libs\\tslibs\\tzconversion.pyx\", line 85, in pandas._libs.tslibs.tzconversion.Localizer.__cinit__\n",
      "  File \"pandas\\_libs\\tslibs\\timezones.pyx\", line 306, in pandas._libs.tslibs.timezones.get_dst_info\n",
      "AttributeError: 'NoneType' object has no attribute 'total_seconds'\n"
     ]
    },
    {
     "ename": "AttributeError",
     "evalue": "'NoneType' object has no attribute 'total_seconds'",
     "output_type": "error",
     "traceback": [
      "\u001b[1;31m---------------------------------------------------------------------------\u001b[0m",
      "\u001b[1;31mAttributeError\u001b[0m                            Traceback (most recent call last)",
      "\u001b[1;32mc:\\Users\\henry.gu\\Anaconda3\\envs\\Python\\lib\\site-packages\\pandas\\_libs\\tslibs\\tzconversion.pyx\u001b[0m in \u001b[0;36mpandas._libs.tslibs.tzconversion.Localizer.__cinit__\u001b[1;34m()\u001b[0m\n",
      "\u001b[1;32mc:\\Users\\henry.gu\\Anaconda3\\envs\\Python\\lib\\site-packages\\pandas\\_libs\\tslibs\\timezones.pyx\u001b[0m in \u001b[0;36mpandas._libs.tslibs.timezones.get_dst_info\u001b[1;34m()\u001b[0m\n",
      "\u001b[1;31mAttributeError\u001b[0m: 'NoneType' object has no attribute 'total_seconds'"
     ]
    },
    {
     "name": "stderr",
     "output_type": "stream",
     "text": [
      "Exception ignored in: 'pandas._libs.tslibs.conversion._localize_tso'\n",
      "Traceback (most recent call last):\n",
      "  File \"pandas\\_libs\\tslibs\\tzconversion.pyx\", line 85, in pandas._libs.tslibs.tzconversion.Localizer.__cinit__\n",
      "  File \"pandas\\_libs\\tslibs\\timezones.pyx\", line 306, in pandas._libs.tslibs.timezones.get_dst_info\n",
      "AttributeError: 'NoneType' object has no attribute 'total_seconds'\n"
     ]
    },
    {
     "ename": "AttributeError",
     "evalue": "'NoneType' object has no attribute 'total_seconds'",
     "output_type": "error",
     "traceback": [
      "\u001b[1;31m---------------------------------------------------------------------------\u001b[0m",
      "\u001b[1;31mAttributeError\u001b[0m                            Traceback (most recent call last)",
      "\u001b[1;32mc:\\Users\\henry.gu\\Anaconda3\\envs\\Python\\lib\\site-packages\\pandas\\_libs\\tslibs\\tzconversion.pyx\u001b[0m in \u001b[0;36mpandas._libs.tslibs.tzconversion.Localizer.__cinit__\u001b[1;34m()\u001b[0m\n",
      "\u001b[1;32mc:\\Users\\henry.gu\\Anaconda3\\envs\\Python\\lib\\site-packages\\pandas\\_libs\\tslibs\\timezones.pyx\u001b[0m in \u001b[0;36mpandas._libs.tslibs.timezones.get_dst_info\u001b[1;34m()\u001b[0m\n",
      "\u001b[1;31mAttributeError\u001b[0m: 'NoneType' object has no attribute 'total_seconds'"
     ]
    },
    {
     "name": "stderr",
     "output_type": "stream",
     "text": [
      "Exception ignored in: 'pandas._libs.tslibs.conversion._localize_tso'\n",
      "Traceback (most recent call last):\n",
      "  File \"pandas\\_libs\\tslibs\\tzconversion.pyx\", line 85, in pandas._libs.tslibs.tzconversion.Localizer.__cinit__\n",
      "  File \"pandas\\_libs\\tslibs\\timezones.pyx\", line 306, in pandas._libs.tslibs.timezones.get_dst_info\n",
      "AttributeError: 'NoneType' object has no attribute 'total_seconds'\n"
     ]
    },
    {
     "ename": "AttributeError",
     "evalue": "'NoneType' object has no attribute 'total_seconds'",
     "output_type": "error",
     "traceback": [
      "\u001b[1;31m---------------------------------------------------------------------------\u001b[0m",
      "\u001b[1;31mAttributeError\u001b[0m                            Traceback (most recent call last)",
      "\u001b[1;32mc:\\Users\\henry.gu\\Anaconda3\\envs\\Python\\lib\\site-packages\\pandas\\_libs\\tslibs\\tzconversion.pyx\u001b[0m in \u001b[0;36mpandas._libs.tslibs.tzconversion.Localizer.__cinit__\u001b[1;34m()\u001b[0m\n",
      "\u001b[1;32mc:\\Users\\henry.gu\\Anaconda3\\envs\\Python\\lib\\site-packages\\pandas\\_libs\\tslibs\\timezones.pyx\u001b[0m in \u001b[0;36mpandas._libs.tslibs.timezones.get_dst_info\u001b[1;34m()\u001b[0m\n",
      "\u001b[1;31mAttributeError\u001b[0m: 'NoneType' object has no attribute 'total_seconds'"
     ]
    },
    {
     "name": "stderr",
     "output_type": "stream",
     "text": [
      "Exception ignored in: 'pandas._libs.tslibs.conversion._localize_tso'\n",
      "Traceback (most recent call last):\n",
      "  File \"pandas\\_libs\\tslibs\\tzconversion.pyx\", line 85, in pandas._libs.tslibs.tzconversion.Localizer.__cinit__\n",
      "  File \"pandas\\_libs\\tslibs\\timezones.pyx\", line 306, in pandas._libs.tslibs.timezones.get_dst_info\n",
      "AttributeError: 'NoneType' object has no attribute 'total_seconds'\n"
     ]
    },
    {
     "ename": "AttributeError",
     "evalue": "'NoneType' object has no attribute 'total_seconds'",
     "output_type": "error",
     "traceback": [
      "\u001b[1;31m---------------------------------------------------------------------------\u001b[0m",
      "\u001b[1;31mAttributeError\u001b[0m                            Traceback (most recent call last)",
      "\u001b[1;32mc:\\Users\\henry.gu\\Anaconda3\\envs\\Python\\lib\\site-packages\\pandas\\_libs\\tslibs\\tzconversion.pyx\u001b[0m in \u001b[0;36mpandas._libs.tslibs.tzconversion.Localizer.__cinit__\u001b[1;34m()\u001b[0m\n",
      "\u001b[1;32mc:\\Users\\henry.gu\\Anaconda3\\envs\\Python\\lib\\site-packages\\pandas\\_libs\\tslibs\\timezones.pyx\u001b[0m in \u001b[0;36mpandas._libs.tslibs.timezones.get_dst_info\u001b[1;34m()\u001b[0m\n",
      "\u001b[1;31mAttributeError\u001b[0m: 'NoneType' object has no attribute 'total_seconds'"
     ]
    },
    {
     "name": "stderr",
     "output_type": "stream",
     "text": [
      "Exception ignored in: 'pandas._libs.tslibs.conversion._localize_tso'\n",
      "Traceback (most recent call last):\n",
      "  File \"pandas\\_libs\\tslibs\\tzconversion.pyx\", line 85, in pandas._libs.tslibs.tzconversion.Localizer.__cinit__\n",
      "  File \"pandas\\_libs\\tslibs\\timezones.pyx\", line 306, in pandas._libs.tslibs.timezones.get_dst_info\n",
      "AttributeError: 'NoneType' object has no attribute 'total_seconds'\n"
     ]
    },
    {
     "ename": "AttributeError",
     "evalue": "'NoneType' object has no attribute 'total_seconds'",
     "output_type": "error",
     "traceback": [
      "\u001b[1;31m---------------------------------------------------------------------------\u001b[0m",
      "\u001b[1;31mAttributeError\u001b[0m                            Traceback (most recent call last)",
      "\u001b[1;32mc:\\Users\\henry.gu\\Anaconda3\\envs\\Python\\lib\\site-packages\\pandas\\_libs\\tslibs\\tzconversion.pyx\u001b[0m in \u001b[0;36mpandas._libs.tslibs.tzconversion.Localizer.__cinit__\u001b[1;34m()\u001b[0m\n",
      "\u001b[1;32mc:\\Users\\henry.gu\\Anaconda3\\envs\\Python\\lib\\site-packages\\pandas\\_libs\\tslibs\\timezones.pyx\u001b[0m in \u001b[0;36mpandas._libs.tslibs.timezones.get_dst_info\u001b[1;34m()\u001b[0m\n",
      "\u001b[1;31mAttributeError\u001b[0m: 'NoneType' object has no attribute 'total_seconds'"
     ]
    },
    {
     "name": "stderr",
     "output_type": "stream",
     "text": [
      "Exception ignored in: 'pandas._libs.tslibs.conversion._localize_tso'\n",
      "Traceback (most recent call last):\n",
      "  File \"pandas\\_libs\\tslibs\\tzconversion.pyx\", line 85, in pandas._libs.tslibs.tzconversion.Localizer.__cinit__\n",
      "  File \"pandas\\_libs\\tslibs\\timezones.pyx\", line 306, in pandas._libs.tslibs.timezones.get_dst_info\n",
      "AttributeError: 'NoneType' object has no attribute 'total_seconds'\n"
     ]
    },
    {
     "ename": "AttributeError",
     "evalue": "'NoneType' object has no attribute 'total_seconds'",
     "output_type": "error",
     "traceback": [
      "\u001b[1;31m---------------------------------------------------------------------------\u001b[0m",
      "\u001b[1;31mAttributeError\u001b[0m                            Traceback (most recent call last)",
      "\u001b[1;32mc:\\Users\\henry.gu\\Anaconda3\\envs\\Python\\lib\\site-packages\\pandas\\_libs\\tslibs\\tzconversion.pyx\u001b[0m in \u001b[0;36mpandas._libs.tslibs.tzconversion.Localizer.__cinit__\u001b[1;34m()\u001b[0m\n",
      "\u001b[1;32mc:\\Users\\henry.gu\\Anaconda3\\envs\\Python\\lib\\site-packages\\pandas\\_libs\\tslibs\\timezones.pyx\u001b[0m in \u001b[0;36mpandas._libs.tslibs.timezones.get_dst_info\u001b[1;34m()\u001b[0m\n",
      "\u001b[1;31mAttributeError\u001b[0m: 'NoneType' object has no attribute 'total_seconds'"
     ]
    },
    {
     "name": "stderr",
     "output_type": "stream",
     "text": [
      "Exception ignored in: 'pandas._libs.tslibs.conversion._localize_tso'\n",
      "Traceback (most recent call last):\n",
      "  File \"pandas\\_libs\\tslibs\\tzconversion.pyx\", line 85, in pandas._libs.tslibs.tzconversion.Localizer.__cinit__\n",
      "  File \"pandas\\_libs\\tslibs\\timezones.pyx\", line 306, in pandas._libs.tslibs.timezones.get_dst_info\n",
      "AttributeError: 'NoneType' object has no attribute 'total_seconds'\n"
     ]
    },
    {
     "ename": "AttributeError",
     "evalue": "'NoneType' object has no attribute 'total_seconds'",
     "output_type": "error",
     "traceback": [
      "\u001b[1;31m---------------------------------------------------------------------------\u001b[0m",
      "\u001b[1;31mAttributeError\u001b[0m                            Traceback (most recent call last)",
      "\u001b[1;32mc:\\Users\\henry.gu\\Anaconda3\\envs\\Python\\lib\\site-packages\\pandas\\_libs\\tslibs\\tzconversion.pyx\u001b[0m in \u001b[0;36mpandas._libs.tslibs.tzconversion.Localizer.__cinit__\u001b[1;34m()\u001b[0m\n",
      "\u001b[1;32mc:\\Users\\henry.gu\\Anaconda3\\envs\\Python\\lib\\site-packages\\pandas\\_libs\\tslibs\\timezones.pyx\u001b[0m in \u001b[0;36mpandas._libs.tslibs.timezones.get_dst_info\u001b[1;34m()\u001b[0m\n",
      "\u001b[1;31mAttributeError\u001b[0m: 'NoneType' object has no attribute 'total_seconds'"
     ]
    },
    {
     "name": "stderr",
     "output_type": "stream",
     "text": [
      "Exception ignored in: 'pandas._libs.tslibs.conversion._localize_tso'\n",
      "Traceback (most recent call last):\n",
      "  File \"pandas\\_libs\\tslibs\\tzconversion.pyx\", line 85, in pandas._libs.tslibs.tzconversion.Localizer.__cinit__\n",
      "  File \"pandas\\_libs\\tslibs\\timezones.pyx\", line 306, in pandas._libs.tslibs.timezones.get_dst_info\n",
      "AttributeError: 'NoneType' object has no attribute 'total_seconds'\n"
     ]
    },
    {
     "ename": "AttributeError",
     "evalue": "'NoneType' object has no attribute 'total_seconds'",
     "output_type": "error",
     "traceback": [
      "\u001b[1;31m---------------------------------------------------------------------------\u001b[0m",
      "\u001b[1;31mAttributeError\u001b[0m                            Traceback (most recent call last)",
      "\u001b[1;32mc:\\Users\\henry.gu\\Anaconda3\\envs\\Python\\lib\\site-packages\\pandas\\_libs\\tslibs\\tzconversion.pyx\u001b[0m in \u001b[0;36mpandas._libs.tslibs.tzconversion.Localizer.__cinit__\u001b[1;34m()\u001b[0m\n",
      "\u001b[1;32mc:\\Users\\henry.gu\\Anaconda3\\envs\\Python\\lib\\site-packages\\pandas\\_libs\\tslibs\\timezones.pyx\u001b[0m in \u001b[0;36mpandas._libs.tslibs.timezones.get_dst_info\u001b[1;34m()\u001b[0m\n",
      "\u001b[1;31mAttributeError\u001b[0m: 'NoneType' object has no attribute 'total_seconds'"
     ]
    },
    {
     "name": "stderr",
     "output_type": "stream",
     "text": [
      "Exception ignored in: 'pandas._libs.tslibs.conversion._localize_tso'\n",
      "Traceback (most recent call last):\n",
      "  File \"pandas\\_libs\\tslibs\\tzconversion.pyx\", line 85, in pandas._libs.tslibs.tzconversion.Localizer.__cinit__\n",
      "  File \"pandas\\_libs\\tslibs\\timezones.pyx\", line 306, in pandas._libs.tslibs.timezones.get_dst_info\n",
      "AttributeError: 'NoneType' object has no attribute 'total_seconds'\n"
     ]
    },
    {
     "ename": "AttributeError",
     "evalue": "'NoneType' object has no attribute 'total_seconds'",
     "output_type": "error",
     "traceback": [
      "\u001b[1;31m---------------------------------------------------------------------------\u001b[0m",
      "\u001b[1;31mAttributeError\u001b[0m                            Traceback (most recent call last)",
      "\u001b[1;32mc:\\Users\\henry.gu\\Anaconda3\\envs\\Python\\lib\\site-packages\\pandas\\_libs\\tslibs\\tzconversion.pyx\u001b[0m in \u001b[0;36mpandas._libs.tslibs.tzconversion.Localizer.__cinit__\u001b[1;34m()\u001b[0m\n",
      "\u001b[1;32mc:\\Users\\henry.gu\\Anaconda3\\envs\\Python\\lib\\site-packages\\pandas\\_libs\\tslibs\\timezones.pyx\u001b[0m in \u001b[0;36mpandas._libs.tslibs.timezones.get_dst_info\u001b[1;34m()\u001b[0m\n",
      "\u001b[1;31mAttributeError\u001b[0m: 'NoneType' object has no attribute 'total_seconds'"
     ]
    },
    {
     "name": "stderr",
     "output_type": "stream",
     "text": [
      "Exception ignored in: 'pandas._libs.tslibs.conversion._localize_tso'\n",
      "Traceback (most recent call last):\n",
      "  File \"pandas\\_libs\\tslibs\\tzconversion.pyx\", line 85, in pandas._libs.tslibs.tzconversion.Localizer.__cinit__\n",
      "  File \"pandas\\_libs\\tslibs\\timezones.pyx\", line 306, in pandas._libs.tslibs.timezones.get_dst_info\n",
      "AttributeError: 'NoneType' object has no attribute 'total_seconds'\n"
     ]
    },
    {
     "ename": "AttributeError",
     "evalue": "'NoneType' object has no attribute 'total_seconds'",
     "output_type": "error",
     "traceback": [
      "\u001b[1;31m---------------------------------------------------------------------------\u001b[0m",
      "\u001b[1;31mAttributeError\u001b[0m                            Traceback (most recent call last)",
      "\u001b[1;32mc:\\Users\\henry.gu\\Anaconda3\\envs\\Python\\lib\\site-packages\\pandas\\_libs\\tslibs\\tzconversion.pyx\u001b[0m in \u001b[0;36mpandas._libs.tslibs.tzconversion.Localizer.__cinit__\u001b[1;34m()\u001b[0m\n",
      "\u001b[1;32mc:\\Users\\henry.gu\\Anaconda3\\envs\\Python\\lib\\site-packages\\pandas\\_libs\\tslibs\\timezones.pyx\u001b[0m in \u001b[0;36mpandas._libs.tslibs.timezones.get_dst_info\u001b[1;34m()\u001b[0m\n",
      "\u001b[1;31mAttributeError\u001b[0m: 'NoneType' object has no attribute 'total_seconds'"
     ]
    },
    {
     "name": "stderr",
     "output_type": "stream",
     "text": [
      "Exception ignored in: 'pandas._libs.tslibs.conversion._localize_tso'\n",
      "Traceback (most recent call last):\n",
      "  File \"pandas\\_libs\\tslibs\\tzconversion.pyx\", line 85, in pandas._libs.tslibs.tzconversion.Localizer.__cinit__\n",
      "  File \"pandas\\_libs\\tslibs\\timezones.pyx\", line 306, in pandas._libs.tslibs.timezones.get_dst_info\n",
      "AttributeError: 'NoneType' object has no attribute 'total_seconds'\n"
     ]
    },
    {
     "ename": "AttributeError",
     "evalue": "'NoneType' object has no attribute 'total_seconds'",
     "output_type": "error",
     "traceback": [
      "\u001b[1;31m---------------------------------------------------------------------------\u001b[0m",
      "\u001b[1;31mAttributeError\u001b[0m                            Traceback (most recent call last)",
      "\u001b[1;32mc:\\Users\\henry.gu\\Anaconda3\\envs\\Python\\lib\\site-packages\\pandas\\_libs\\tslibs\\tzconversion.pyx\u001b[0m in \u001b[0;36mpandas._libs.tslibs.tzconversion.Localizer.__cinit__\u001b[1;34m()\u001b[0m\n",
      "\u001b[1;32mc:\\Users\\henry.gu\\Anaconda3\\envs\\Python\\lib\\site-packages\\pandas\\_libs\\tslibs\\timezones.pyx\u001b[0m in \u001b[0;36mpandas._libs.tslibs.timezones.get_dst_info\u001b[1;34m()\u001b[0m\n",
      "\u001b[1;31mAttributeError\u001b[0m: 'NoneType' object has no attribute 'total_seconds'"
     ]
    },
    {
     "name": "stderr",
     "output_type": "stream",
     "text": [
      "Exception ignored in: 'pandas._libs.tslibs.conversion._localize_tso'\n",
      "Traceback (most recent call last):\n",
      "  File \"pandas\\_libs\\tslibs\\tzconversion.pyx\", line 85, in pandas._libs.tslibs.tzconversion.Localizer.__cinit__\n",
      "  File \"pandas\\_libs\\tslibs\\timezones.pyx\", line 306, in pandas._libs.tslibs.timezones.get_dst_info\n",
      "AttributeError: 'NoneType' object has no attribute 'total_seconds'\n"
     ]
    },
    {
     "ename": "AttributeError",
     "evalue": "'NoneType' object has no attribute 'total_seconds'",
     "output_type": "error",
     "traceback": [
      "\u001b[1;31m---------------------------------------------------------------------------\u001b[0m",
      "\u001b[1;31mAttributeError\u001b[0m                            Traceback (most recent call last)",
      "\u001b[1;32mc:\\Users\\henry.gu\\Anaconda3\\envs\\Python\\lib\\site-packages\\pandas\\_libs\\tslibs\\tzconversion.pyx\u001b[0m in \u001b[0;36mpandas._libs.tslibs.tzconversion.Localizer.__cinit__\u001b[1;34m()\u001b[0m\n",
      "\u001b[1;32mc:\\Users\\henry.gu\\Anaconda3\\envs\\Python\\lib\\site-packages\\pandas\\_libs\\tslibs\\timezones.pyx\u001b[0m in \u001b[0;36mpandas._libs.tslibs.timezones.get_dst_info\u001b[1;34m()\u001b[0m\n",
      "\u001b[1;31mAttributeError\u001b[0m: 'NoneType' object has no attribute 'total_seconds'"
     ]
    },
    {
     "name": "stderr",
     "output_type": "stream",
     "text": [
      "Exception ignored in: 'pandas._libs.tslibs.conversion._localize_tso'\n",
      "Traceback (most recent call last):\n",
      "  File \"pandas\\_libs\\tslibs\\tzconversion.pyx\", line 85, in pandas._libs.tslibs.tzconversion.Localizer.__cinit__\n",
      "  File \"pandas\\_libs\\tslibs\\timezones.pyx\", line 306, in pandas._libs.tslibs.timezones.get_dst_info\n",
      "AttributeError: 'NoneType' object has no attribute 'total_seconds'\n"
     ]
    },
    {
     "ename": "AttributeError",
     "evalue": "'NoneType' object has no attribute 'total_seconds'",
     "output_type": "error",
     "traceback": [
      "\u001b[1;31m---------------------------------------------------------------------------\u001b[0m",
      "\u001b[1;31mAttributeError\u001b[0m                            Traceback (most recent call last)",
      "\u001b[1;32mc:\\Users\\henry.gu\\Anaconda3\\envs\\Python\\lib\\site-packages\\pandas\\_libs\\tslibs\\tzconversion.pyx\u001b[0m in \u001b[0;36mpandas._libs.tslibs.tzconversion.Localizer.__cinit__\u001b[1;34m()\u001b[0m\n",
      "\u001b[1;32mc:\\Users\\henry.gu\\Anaconda3\\envs\\Python\\lib\\site-packages\\pandas\\_libs\\tslibs\\timezones.pyx\u001b[0m in \u001b[0;36mpandas._libs.tslibs.timezones.get_dst_info\u001b[1;34m()\u001b[0m\n",
      "\u001b[1;31mAttributeError\u001b[0m: 'NoneType' object has no attribute 'total_seconds'"
     ]
    },
    {
     "name": "stderr",
     "output_type": "stream",
     "text": [
      "Exception ignored in: 'pandas._libs.tslibs.conversion._localize_tso'\n",
      "Traceback (most recent call last):\n",
      "  File \"pandas\\_libs\\tslibs\\tzconversion.pyx\", line 85, in pandas._libs.tslibs.tzconversion.Localizer.__cinit__\n",
      "  File \"pandas\\_libs\\tslibs\\timezones.pyx\", line 306, in pandas._libs.tslibs.timezones.get_dst_info\n",
      "AttributeError: 'NoneType' object has no attribute 'total_seconds'\n"
     ]
    },
    {
     "ename": "AttributeError",
     "evalue": "'NoneType' object has no attribute 'total_seconds'",
     "output_type": "error",
     "traceback": [
      "\u001b[1;31m---------------------------------------------------------------------------\u001b[0m",
      "\u001b[1;31mAttributeError\u001b[0m                            Traceback (most recent call last)",
      "\u001b[1;32mc:\\Users\\henry.gu\\Anaconda3\\envs\\Python\\lib\\site-packages\\pandas\\_libs\\tslibs\\tzconversion.pyx\u001b[0m in \u001b[0;36mpandas._libs.tslibs.tzconversion.Localizer.__cinit__\u001b[1;34m()\u001b[0m\n",
      "\u001b[1;32mc:\\Users\\henry.gu\\Anaconda3\\envs\\Python\\lib\\site-packages\\pandas\\_libs\\tslibs\\timezones.pyx\u001b[0m in \u001b[0;36mpandas._libs.tslibs.timezones.get_dst_info\u001b[1;34m()\u001b[0m\n",
      "\u001b[1;31mAttributeError\u001b[0m: 'NoneType' object has no attribute 'total_seconds'"
     ]
    },
    {
     "name": "stderr",
     "output_type": "stream",
     "text": [
      "Exception ignored in: 'pandas._libs.tslibs.conversion._localize_tso'\n",
      "Traceback (most recent call last):\n",
      "  File \"pandas\\_libs\\tslibs\\tzconversion.pyx\", line 85, in pandas._libs.tslibs.tzconversion.Localizer.__cinit__\n",
      "  File \"pandas\\_libs\\tslibs\\timezones.pyx\", line 306, in pandas._libs.tslibs.timezones.get_dst_info\n",
      "AttributeError: 'NoneType' object has no attribute 'total_seconds'\n"
     ]
    },
    {
     "ename": "AttributeError",
     "evalue": "'NoneType' object has no attribute 'total_seconds'",
     "output_type": "error",
     "traceback": [
      "\u001b[1;31m---------------------------------------------------------------------------\u001b[0m",
      "\u001b[1;31mAttributeError\u001b[0m                            Traceback (most recent call last)",
      "\u001b[1;32mc:\\Users\\henry.gu\\Anaconda3\\envs\\Python\\lib\\site-packages\\pandas\\_libs\\tslibs\\tzconversion.pyx\u001b[0m in \u001b[0;36mpandas._libs.tslibs.tzconversion.Localizer.__cinit__\u001b[1;34m()\u001b[0m\n",
      "\u001b[1;32mc:\\Users\\henry.gu\\Anaconda3\\envs\\Python\\lib\\site-packages\\pandas\\_libs\\tslibs\\timezones.pyx\u001b[0m in \u001b[0;36mpandas._libs.tslibs.timezones.get_dst_info\u001b[1;34m()\u001b[0m\n",
      "\u001b[1;31mAttributeError\u001b[0m: 'NoneType' object has no attribute 'total_seconds'"
     ]
    },
    {
     "name": "stderr",
     "output_type": "stream",
     "text": [
      "Exception ignored in: 'pandas._libs.tslibs.conversion._localize_tso'\n",
      "Traceback (most recent call last):\n",
      "  File \"pandas\\_libs\\tslibs\\tzconversion.pyx\", line 85, in pandas._libs.tslibs.tzconversion.Localizer.__cinit__\n",
      "  File \"pandas\\_libs\\tslibs\\timezones.pyx\", line 306, in pandas._libs.tslibs.timezones.get_dst_info\n",
      "AttributeError: 'NoneType' object has no attribute 'total_seconds'\n"
     ]
    },
    {
     "ename": "AttributeError",
     "evalue": "'NoneType' object has no attribute 'total_seconds'",
     "output_type": "error",
     "traceback": [
      "\u001b[1;31m---------------------------------------------------------------------------\u001b[0m",
      "\u001b[1;31mAttributeError\u001b[0m                            Traceback (most recent call last)",
      "\u001b[1;32mc:\\Users\\henry.gu\\Anaconda3\\envs\\Python\\lib\\site-packages\\pandas\\_libs\\tslibs\\tzconversion.pyx\u001b[0m in \u001b[0;36mpandas._libs.tslibs.tzconversion.Localizer.__cinit__\u001b[1;34m()\u001b[0m\n",
      "\u001b[1;32mc:\\Users\\henry.gu\\Anaconda3\\envs\\Python\\lib\\site-packages\\pandas\\_libs\\tslibs\\timezones.pyx\u001b[0m in \u001b[0;36mpandas._libs.tslibs.timezones.get_dst_info\u001b[1;34m()\u001b[0m\n",
      "\u001b[1;31mAttributeError\u001b[0m: 'NoneType' object has no attribute 'total_seconds'"
     ]
    },
    {
     "name": "stderr",
     "output_type": "stream",
     "text": [
      "Exception ignored in: 'pandas._libs.tslibs.conversion._localize_tso'\n",
      "Traceback (most recent call last):\n",
      "  File \"pandas\\_libs\\tslibs\\tzconversion.pyx\", line 85, in pandas._libs.tslibs.tzconversion.Localizer.__cinit__\n",
      "  File \"pandas\\_libs\\tslibs\\timezones.pyx\", line 306, in pandas._libs.tslibs.timezones.get_dst_info\n",
      "AttributeError: 'NoneType' object has no attribute 'total_seconds'\n"
     ]
    },
    {
     "ename": "AttributeError",
     "evalue": "'NoneType' object has no attribute 'total_seconds'",
     "output_type": "error",
     "traceback": [
      "\u001b[1;31m---------------------------------------------------------------------------\u001b[0m",
      "\u001b[1;31mAttributeError\u001b[0m                            Traceback (most recent call last)",
      "\u001b[1;32mc:\\Users\\henry.gu\\Anaconda3\\envs\\Python\\lib\\site-packages\\pandas\\_libs\\tslibs\\tzconversion.pyx\u001b[0m in \u001b[0;36mpandas._libs.tslibs.tzconversion.Localizer.__cinit__\u001b[1;34m()\u001b[0m\n",
      "\u001b[1;32mc:\\Users\\henry.gu\\Anaconda3\\envs\\Python\\lib\\site-packages\\pandas\\_libs\\tslibs\\timezones.pyx\u001b[0m in \u001b[0;36mpandas._libs.tslibs.timezones.get_dst_info\u001b[1;34m()\u001b[0m\n",
      "\u001b[1;31mAttributeError\u001b[0m: 'NoneType' object has no attribute 'total_seconds'"
     ]
    },
    {
     "name": "stderr",
     "output_type": "stream",
     "text": [
      "Exception ignored in: 'pandas._libs.tslibs.conversion._localize_tso'\n",
      "Traceback (most recent call last):\n",
      "  File \"pandas\\_libs\\tslibs\\tzconversion.pyx\", line 85, in pandas._libs.tslibs.tzconversion.Localizer.__cinit__\n",
      "  File \"pandas\\_libs\\tslibs\\timezones.pyx\", line 306, in pandas._libs.tslibs.timezones.get_dst_info\n",
      "AttributeError: 'NoneType' object has no attribute 'total_seconds'\n"
     ]
    },
    {
     "ename": "AttributeError",
     "evalue": "'NoneType' object has no attribute 'total_seconds'",
     "output_type": "error",
     "traceback": [
      "\u001b[1;31m---------------------------------------------------------------------------\u001b[0m",
      "\u001b[1;31mAttributeError\u001b[0m                            Traceback (most recent call last)",
      "\u001b[1;32mc:\\Users\\henry.gu\\Anaconda3\\envs\\Python\\lib\\site-packages\\pandas\\_libs\\tslibs\\tzconversion.pyx\u001b[0m in \u001b[0;36mpandas._libs.tslibs.tzconversion.Localizer.__cinit__\u001b[1;34m()\u001b[0m\n",
      "\u001b[1;32mc:\\Users\\henry.gu\\Anaconda3\\envs\\Python\\lib\\site-packages\\pandas\\_libs\\tslibs\\timezones.pyx\u001b[0m in \u001b[0;36mpandas._libs.tslibs.timezones.get_dst_info\u001b[1;34m()\u001b[0m\n",
      "\u001b[1;31mAttributeError\u001b[0m: 'NoneType' object has no attribute 'total_seconds'"
     ]
    },
    {
     "name": "stderr",
     "output_type": "stream",
     "text": [
      "Exception ignored in: 'pandas._libs.tslibs.conversion._localize_tso'\n",
      "Traceback (most recent call last):\n",
      "  File \"pandas\\_libs\\tslibs\\tzconversion.pyx\", line 85, in pandas._libs.tslibs.tzconversion.Localizer.__cinit__\n",
      "  File \"pandas\\_libs\\tslibs\\timezones.pyx\", line 306, in pandas._libs.tslibs.timezones.get_dst_info\n",
      "AttributeError: 'NoneType' object has no attribute 'total_seconds'\n"
     ]
    },
    {
     "ename": "AttributeError",
     "evalue": "'NoneType' object has no attribute 'total_seconds'",
     "output_type": "error",
     "traceback": [
      "\u001b[1;31m---------------------------------------------------------------------------\u001b[0m",
      "\u001b[1;31mAttributeError\u001b[0m                            Traceback (most recent call last)",
      "\u001b[1;32mc:\\Users\\henry.gu\\Anaconda3\\envs\\Python\\lib\\site-packages\\pandas\\_libs\\tslibs\\tzconversion.pyx\u001b[0m in \u001b[0;36mpandas._libs.tslibs.tzconversion.Localizer.__cinit__\u001b[1;34m()\u001b[0m\n",
      "\u001b[1;32mc:\\Users\\henry.gu\\Anaconda3\\envs\\Python\\lib\\site-packages\\pandas\\_libs\\tslibs\\timezones.pyx\u001b[0m in \u001b[0;36mpandas._libs.tslibs.timezones.get_dst_info\u001b[1;34m()\u001b[0m\n",
      "\u001b[1;31mAttributeError\u001b[0m: 'NoneType' object has no attribute 'total_seconds'"
     ]
    },
    {
     "name": "stderr",
     "output_type": "stream",
     "text": [
      "Exception ignored in: 'pandas._libs.tslibs.conversion._localize_tso'\n",
      "Traceback (most recent call last):\n",
      "  File \"pandas\\_libs\\tslibs\\tzconversion.pyx\", line 85, in pandas._libs.tslibs.tzconversion.Localizer.__cinit__\n",
      "  File \"pandas\\_libs\\tslibs\\timezones.pyx\", line 306, in pandas._libs.tslibs.timezones.get_dst_info\n",
      "AttributeError: 'NoneType' object has no attribute 'total_seconds'\n"
     ]
    },
    {
     "ename": "AttributeError",
     "evalue": "'NoneType' object has no attribute 'total_seconds'",
     "output_type": "error",
     "traceback": [
      "\u001b[1;31m---------------------------------------------------------------------------\u001b[0m",
      "\u001b[1;31mAttributeError\u001b[0m                            Traceback (most recent call last)",
      "\u001b[1;32mc:\\Users\\henry.gu\\Anaconda3\\envs\\Python\\lib\\site-packages\\pandas\\_libs\\tslibs\\tzconversion.pyx\u001b[0m in \u001b[0;36mpandas._libs.tslibs.tzconversion.Localizer.__cinit__\u001b[1;34m()\u001b[0m\n",
      "\u001b[1;32mc:\\Users\\henry.gu\\Anaconda3\\envs\\Python\\lib\\site-packages\\pandas\\_libs\\tslibs\\timezones.pyx\u001b[0m in \u001b[0;36mpandas._libs.tslibs.timezones.get_dst_info\u001b[1;34m()\u001b[0m\n",
      "\u001b[1;31mAttributeError\u001b[0m: 'NoneType' object has no attribute 'total_seconds'"
     ]
    },
    {
     "name": "stderr",
     "output_type": "stream",
     "text": [
      "Exception ignored in: 'pandas._libs.tslibs.conversion._localize_tso'\n",
      "Traceback (most recent call last):\n",
      "  File \"pandas\\_libs\\tslibs\\tzconversion.pyx\", line 85, in pandas._libs.tslibs.tzconversion.Localizer.__cinit__\n",
      "  File \"pandas\\_libs\\tslibs\\timezones.pyx\", line 306, in pandas._libs.tslibs.timezones.get_dst_info\n",
      "AttributeError: 'NoneType' object has no attribute 'total_seconds'\n"
     ]
    },
    {
     "ename": "AttributeError",
     "evalue": "'NoneType' object has no attribute 'total_seconds'",
     "output_type": "error",
     "traceback": [
      "\u001b[1;31m---------------------------------------------------------------------------\u001b[0m",
      "\u001b[1;31mAttributeError\u001b[0m                            Traceback (most recent call last)",
      "\u001b[1;32mc:\\Users\\henry.gu\\Anaconda3\\envs\\Python\\lib\\site-packages\\pandas\\_libs\\tslibs\\tzconversion.pyx\u001b[0m in \u001b[0;36mpandas._libs.tslibs.tzconversion.Localizer.__cinit__\u001b[1;34m()\u001b[0m\n",
      "\u001b[1;32mc:\\Users\\henry.gu\\Anaconda3\\envs\\Python\\lib\\site-packages\\pandas\\_libs\\tslibs\\timezones.pyx\u001b[0m in \u001b[0;36mpandas._libs.tslibs.timezones.get_dst_info\u001b[1;34m()\u001b[0m\n",
      "\u001b[1;31mAttributeError\u001b[0m: 'NoneType' object has no attribute 'total_seconds'"
     ]
    },
    {
     "name": "stderr",
     "output_type": "stream",
     "text": [
      "Exception ignored in: 'pandas._libs.tslibs.conversion._localize_tso'\n",
      "Traceback (most recent call last):\n",
      "  File \"pandas\\_libs\\tslibs\\tzconversion.pyx\", line 85, in pandas._libs.tslibs.tzconversion.Localizer.__cinit__\n",
      "  File \"pandas\\_libs\\tslibs\\timezones.pyx\", line 306, in pandas._libs.tslibs.timezones.get_dst_info\n",
      "AttributeError: 'NoneType' object has no attribute 'total_seconds'\n"
     ]
    },
    {
     "ename": "AttributeError",
     "evalue": "'NoneType' object has no attribute 'total_seconds'",
     "output_type": "error",
     "traceback": [
      "\u001b[1;31m---------------------------------------------------------------------------\u001b[0m",
      "\u001b[1;31mAttributeError\u001b[0m                            Traceback (most recent call last)",
      "\u001b[1;32mc:\\Users\\henry.gu\\Anaconda3\\envs\\Python\\lib\\site-packages\\pandas\\_libs\\tslibs\\tzconversion.pyx\u001b[0m in \u001b[0;36mpandas._libs.tslibs.tzconversion.Localizer.__cinit__\u001b[1;34m()\u001b[0m\n",
      "\u001b[1;32mc:\\Users\\henry.gu\\Anaconda3\\envs\\Python\\lib\\site-packages\\pandas\\_libs\\tslibs\\timezones.pyx\u001b[0m in \u001b[0;36mpandas._libs.tslibs.timezones.get_dst_info\u001b[1;34m()\u001b[0m\n",
      "\u001b[1;31mAttributeError\u001b[0m: 'NoneType' object has no attribute 'total_seconds'"
     ]
    },
    {
     "name": "stderr",
     "output_type": "stream",
     "text": [
      "Exception ignored in: 'pandas._libs.tslibs.conversion._localize_tso'\n",
      "Traceback (most recent call last):\n",
      "  File \"pandas\\_libs\\tslibs\\tzconversion.pyx\", line 85, in pandas._libs.tslibs.tzconversion.Localizer.__cinit__\n",
      "  File \"pandas\\_libs\\tslibs\\timezones.pyx\", line 306, in pandas._libs.tslibs.timezones.get_dst_info\n",
      "AttributeError: 'NoneType' object has no attribute 'total_seconds'\n"
     ]
    },
    {
     "ename": "AttributeError",
     "evalue": "'NoneType' object has no attribute 'total_seconds'",
     "output_type": "error",
     "traceback": [
      "\u001b[1;31m---------------------------------------------------------------------------\u001b[0m",
      "\u001b[1;31mAttributeError\u001b[0m                            Traceback (most recent call last)",
      "\u001b[1;32mc:\\Users\\henry.gu\\Anaconda3\\envs\\Python\\lib\\site-packages\\pandas\\_libs\\tslibs\\tzconversion.pyx\u001b[0m in \u001b[0;36mpandas._libs.tslibs.tzconversion.Localizer.__cinit__\u001b[1;34m()\u001b[0m\n",
      "\u001b[1;32mc:\\Users\\henry.gu\\Anaconda3\\envs\\Python\\lib\\site-packages\\pandas\\_libs\\tslibs\\timezones.pyx\u001b[0m in \u001b[0;36mpandas._libs.tslibs.timezones.get_dst_info\u001b[1;34m()\u001b[0m\n",
      "\u001b[1;31mAttributeError\u001b[0m: 'NoneType' object has no attribute 'total_seconds'"
     ]
    },
    {
     "name": "stderr",
     "output_type": "stream",
     "text": [
      "Exception ignored in: 'pandas._libs.tslibs.conversion._localize_tso'\n",
      "Traceback (most recent call last):\n",
      "  File \"pandas\\_libs\\tslibs\\tzconversion.pyx\", line 85, in pandas._libs.tslibs.tzconversion.Localizer.__cinit__\n",
      "  File \"pandas\\_libs\\tslibs\\timezones.pyx\", line 306, in pandas._libs.tslibs.timezones.get_dst_info\n",
      "AttributeError: 'NoneType' object has no attribute 'total_seconds'\n"
     ]
    },
    {
     "ename": "AttributeError",
     "evalue": "'NoneType' object has no attribute 'total_seconds'",
     "output_type": "error",
     "traceback": [
      "\u001b[1;31m---------------------------------------------------------------------------\u001b[0m",
      "\u001b[1;31mAttributeError\u001b[0m                            Traceback (most recent call last)",
      "\u001b[1;32mc:\\Users\\henry.gu\\Anaconda3\\envs\\Python\\lib\\site-packages\\pandas\\_libs\\tslibs\\tzconversion.pyx\u001b[0m in \u001b[0;36mpandas._libs.tslibs.tzconversion.Localizer.__cinit__\u001b[1;34m()\u001b[0m\n",
      "\u001b[1;32mc:\\Users\\henry.gu\\Anaconda3\\envs\\Python\\lib\\site-packages\\pandas\\_libs\\tslibs\\timezones.pyx\u001b[0m in \u001b[0;36mpandas._libs.tslibs.timezones.get_dst_info\u001b[1;34m()\u001b[0m\n",
      "\u001b[1;31mAttributeError\u001b[0m: 'NoneType' object has no attribute 'total_seconds'"
     ]
    },
    {
     "name": "stderr",
     "output_type": "stream",
     "text": [
      "Exception ignored in: 'pandas._libs.tslibs.conversion._localize_tso'\n",
      "Traceback (most recent call last):\n",
      "  File \"pandas\\_libs\\tslibs\\tzconversion.pyx\", line 85, in pandas._libs.tslibs.tzconversion.Localizer.__cinit__\n",
      "  File \"pandas\\_libs\\tslibs\\timezones.pyx\", line 306, in pandas._libs.tslibs.timezones.get_dst_info\n",
      "AttributeError: 'NoneType' object has no attribute 'total_seconds'\n"
     ]
    },
    {
     "ename": "AttributeError",
     "evalue": "'NoneType' object has no attribute 'total_seconds'",
     "output_type": "error",
     "traceback": [
      "\u001b[1;31m---------------------------------------------------------------------------\u001b[0m",
      "\u001b[1;31mAttributeError\u001b[0m                            Traceback (most recent call last)",
      "\u001b[1;32mc:\\Users\\henry.gu\\Anaconda3\\envs\\Python\\lib\\site-packages\\pandas\\_libs\\tslibs\\tzconversion.pyx\u001b[0m in \u001b[0;36mpandas._libs.tslibs.tzconversion.Localizer.__cinit__\u001b[1;34m()\u001b[0m\n",
      "\u001b[1;32mc:\\Users\\henry.gu\\Anaconda3\\envs\\Python\\lib\\site-packages\\pandas\\_libs\\tslibs\\timezones.pyx\u001b[0m in \u001b[0;36mpandas._libs.tslibs.timezones.get_dst_info\u001b[1;34m()\u001b[0m\n",
      "\u001b[1;31mAttributeError\u001b[0m: 'NoneType' object has no attribute 'total_seconds'"
     ]
    },
    {
     "name": "stderr",
     "output_type": "stream",
     "text": [
      "Exception ignored in: 'pandas._libs.tslibs.conversion._localize_tso'\n",
      "Traceback (most recent call last):\n",
      "  File \"pandas\\_libs\\tslibs\\tzconversion.pyx\", line 85, in pandas._libs.tslibs.tzconversion.Localizer.__cinit__\n",
      "  File \"pandas\\_libs\\tslibs\\timezones.pyx\", line 306, in pandas._libs.tslibs.timezones.get_dst_info\n",
      "AttributeError: 'NoneType' object has no attribute 'total_seconds'\n"
     ]
    },
    {
     "ename": "AttributeError",
     "evalue": "'NoneType' object has no attribute 'total_seconds'",
     "output_type": "error",
     "traceback": [
      "\u001b[1;31m---------------------------------------------------------------------------\u001b[0m",
      "\u001b[1;31mAttributeError\u001b[0m                            Traceback (most recent call last)",
      "\u001b[1;32mc:\\Users\\henry.gu\\Anaconda3\\envs\\Python\\lib\\site-packages\\pandas\\_libs\\tslibs\\tzconversion.pyx\u001b[0m in \u001b[0;36mpandas._libs.tslibs.tzconversion.Localizer.__cinit__\u001b[1;34m()\u001b[0m\n",
      "\u001b[1;32mc:\\Users\\henry.gu\\Anaconda3\\envs\\Python\\lib\\site-packages\\pandas\\_libs\\tslibs\\timezones.pyx\u001b[0m in \u001b[0;36mpandas._libs.tslibs.timezones.get_dst_info\u001b[1;34m()\u001b[0m\n",
      "\u001b[1;31mAttributeError\u001b[0m: 'NoneType' object has no attribute 'total_seconds'"
     ]
    },
    {
     "name": "stderr",
     "output_type": "stream",
     "text": [
      "Exception ignored in: 'pandas._libs.tslibs.conversion._localize_tso'\n",
      "Traceback (most recent call last):\n",
      "  File \"pandas\\_libs\\tslibs\\tzconversion.pyx\", line 85, in pandas._libs.tslibs.tzconversion.Localizer.__cinit__\n",
      "  File \"pandas\\_libs\\tslibs\\timezones.pyx\", line 306, in pandas._libs.tslibs.timezones.get_dst_info\n",
      "AttributeError: 'NoneType' object has no attribute 'total_seconds'\n"
     ]
    },
    {
     "ename": "AttributeError",
     "evalue": "'NoneType' object has no attribute 'total_seconds'",
     "output_type": "error",
     "traceback": [
      "\u001b[1;31m---------------------------------------------------------------------------\u001b[0m",
      "\u001b[1;31mAttributeError\u001b[0m                            Traceback (most recent call last)",
      "\u001b[1;32mc:\\Users\\henry.gu\\Anaconda3\\envs\\Python\\lib\\site-packages\\pandas\\_libs\\tslibs\\tzconversion.pyx\u001b[0m in \u001b[0;36mpandas._libs.tslibs.tzconversion.Localizer.__cinit__\u001b[1;34m()\u001b[0m\n",
      "\u001b[1;32mc:\\Users\\henry.gu\\Anaconda3\\envs\\Python\\lib\\site-packages\\pandas\\_libs\\tslibs\\timezones.pyx\u001b[0m in \u001b[0;36mpandas._libs.tslibs.timezones.get_dst_info\u001b[1;34m()\u001b[0m\n",
      "\u001b[1;31mAttributeError\u001b[0m: 'NoneType' object has no attribute 'total_seconds'"
     ]
    },
    {
     "name": "stderr",
     "output_type": "stream",
     "text": [
      "Exception ignored in: 'pandas._libs.tslibs.conversion._localize_tso'\n",
      "Traceback (most recent call last):\n",
      "  File \"pandas\\_libs\\tslibs\\tzconversion.pyx\", line 85, in pandas._libs.tslibs.tzconversion.Localizer.__cinit__\n",
      "  File \"pandas\\_libs\\tslibs\\timezones.pyx\", line 306, in pandas._libs.tslibs.timezones.get_dst_info\n",
      "AttributeError: 'NoneType' object has no attribute 'total_seconds'\n"
     ]
    },
    {
     "ename": "AttributeError",
     "evalue": "'NoneType' object has no attribute 'total_seconds'",
     "output_type": "error",
     "traceback": [
      "\u001b[1;31m---------------------------------------------------------------------------\u001b[0m",
      "\u001b[1;31mAttributeError\u001b[0m                            Traceback (most recent call last)",
      "\u001b[1;32mc:\\Users\\henry.gu\\Anaconda3\\envs\\Python\\lib\\site-packages\\pandas\\_libs\\tslibs\\tzconversion.pyx\u001b[0m in \u001b[0;36mpandas._libs.tslibs.tzconversion.Localizer.__cinit__\u001b[1;34m()\u001b[0m\n",
      "\u001b[1;32mc:\\Users\\henry.gu\\Anaconda3\\envs\\Python\\lib\\site-packages\\pandas\\_libs\\tslibs\\timezones.pyx\u001b[0m in \u001b[0;36mpandas._libs.tslibs.timezones.get_dst_info\u001b[1;34m()\u001b[0m\n",
      "\u001b[1;31mAttributeError\u001b[0m: 'NoneType' object has no attribute 'total_seconds'"
     ]
    },
    {
     "name": "stderr",
     "output_type": "stream",
     "text": [
      "Exception ignored in: 'pandas._libs.tslibs.conversion._localize_tso'\n",
      "Traceback (most recent call last):\n",
      "  File \"pandas\\_libs\\tslibs\\tzconversion.pyx\", line 85, in pandas._libs.tslibs.tzconversion.Localizer.__cinit__\n",
      "  File \"pandas\\_libs\\tslibs\\timezones.pyx\", line 306, in pandas._libs.tslibs.timezones.get_dst_info\n",
      "AttributeError: 'NoneType' object has no attribute 'total_seconds'\n"
     ]
    },
    {
     "ename": "AttributeError",
     "evalue": "'NoneType' object has no attribute 'total_seconds'",
     "output_type": "error",
     "traceback": [
      "\u001b[1;31m---------------------------------------------------------------------------\u001b[0m",
      "\u001b[1;31mAttributeError\u001b[0m                            Traceback (most recent call last)",
      "\u001b[1;32mc:\\Users\\henry.gu\\Anaconda3\\envs\\Python\\lib\\site-packages\\pandas\\_libs\\tslibs\\tzconversion.pyx\u001b[0m in \u001b[0;36mpandas._libs.tslibs.tzconversion.Localizer.__cinit__\u001b[1;34m()\u001b[0m\n",
      "\u001b[1;32mc:\\Users\\henry.gu\\Anaconda3\\envs\\Python\\lib\\site-packages\\pandas\\_libs\\tslibs\\timezones.pyx\u001b[0m in \u001b[0;36mpandas._libs.tslibs.timezones.get_dst_info\u001b[1;34m()\u001b[0m\n",
      "\u001b[1;31mAttributeError\u001b[0m: 'NoneType' object has no attribute 'total_seconds'"
     ]
    },
    {
     "name": "stderr",
     "output_type": "stream",
     "text": [
      "Exception ignored in: 'pandas._libs.tslibs.conversion._localize_tso'\n",
      "Traceback (most recent call last):\n",
      "  File \"pandas\\_libs\\tslibs\\tzconversion.pyx\", line 85, in pandas._libs.tslibs.tzconversion.Localizer.__cinit__\n",
      "  File \"pandas\\_libs\\tslibs\\timezones.pyx\", line 306, in pandas._libs.tslibs.timezones.get_dst_info\n",
      "AttributeError: 'NoneType' object has no attribute 'total_seconds'\n"
     ]
    },
    {
     "ename": "AttributeError",
     "evalue": "'NoneType' object has no attribute 'total_seconds'",
     "output_type": "error",
     "traceback": [
      "\u001b[1;31m---------------------------------------------------------------------------\u001b[0m",
      "\u001b[1;31mAttributeError\u001b[0m                            Traceback (most recent call last)",
      "\u001b[1;32mc:\\Users\\henry.gu\\Anaconda3\\envs\\Python\\lib\\site-packages\\pandas\\_libs\\tslibs\\tzconversion.pyx\u001b[0m in \u001b[0;36mpandas._libs.tslibs.tzconversion.Localizer.__cinit__\u001b[1;34m()\u001b[0m\n",
      "\u001b[1;32mc:\\Users\\henry.gu\\Anaconda3\\envs\\Python\\lib\\site-packages\\pandas\\_libs\\tslibs\\timezones.pyx\u001b[0m in \u001b[0;36mpandas._libs.tslibs.timezones.get_dst_info\u001b[1;34m()\u001b[0m\n",
      "\u001b[1;31mAttributeError\u001b[0m: 'NoneType' object has no attribute 'total_seconds'"
     ]
    },
    {
     "name": "stderr",
     "output_type": "stream",
     "text": [
      "Exception ignored in: 'pandas._libs.tslibs.conversion._localize_tso'\n",
      "Traceback (most recent call last):\n",
      "  File \"pandas\\_libs\\tslibs\\tzconversion.pyx\", line 85, in pandas._libs.tslibs.tzconversion.Localizer.__cinit__\n",
      "  File \"pandas\\_libs\\tslibs\\timezones.pyx\", line 306, in pandas._libs.tslibs.timezones.get_dst_info\n",
      "AttributeError: 'NoneType' object has no attribute 'total_seconds'\n"
     ]
    },
    {
     "ename": "AttributeError",
     "evalue": "'NoneType' object has no attribute 'total_seconds'",
     "output_type": "error",
     "traceback": [
      "\u001b[1;31m---------------------------------------------------------------------------\u001b[0m",
      "\u001b[1;31mAttributeError\u001b[0m                            Traceback (most recent call last)",
      "\u001b[1;32mc:\\Users\\henry.gu\\Anaconda3\\envs\\Python\\lib\\site-packages\\pandas\\_libs\\tslibs\\tzconversion.pyx\u001b[0m in \u001b[0;36mpandas._libs.tslibs.tzconversion.Localizer.__cinit__\u001b[1;34m()\u001b[0m\n",
      "\u001b[1;32mc:\\Users\\henry.gu\\Anaconda3\\envs\\Python\\lib\\site-packages\\pandas\\_libs\\tslibs\\timezones.pyx\u001b[0m in \u001b[0;36mpandas._libs.tslibs.timezones.get_dst_info\u001b[1;34m()\u001b[0m\n",
      "\u001b[1;31mAttributeError\u001b[0m: 'NoneType' object has no attribute 'total_seconds'"
     ]
    },
    {
     "name": "stderr",
     "output_type": "stream",
     "text": [
      "Exception ignored in: 'pandas._libs.tslibs.conversion._localize_tso'\n",
      "Traceback (most recent call last):\n",
      "  File \"pandas\\_libs\\tslibs\\tzconversion.pyx\", line 85, in pandas._libs.tslibs.tzconversion.Localizer.__cinit__\n",
      "  File \"pandas\\_libs\\tslibs\\timezones.pyx\", line 306, in pandas._libs.tslibs.timezones.get_dst_info\n",
      "AttributeError: 'NoneType' object has no attribute 'total_seconds'\n"
     ]
    },
    {
     "ename": "AttributeError",
     "evalue": "'NoneType' object has no attribute 'total_seconds'",
     "output_type": "error",
     "traceback": [
      "\u001b[1;31m---------------------------------------------------------------------------\u001b[0m",
      "\u001b[1;31mAttributeError\u001b[0m                            Traceback (most recent call last)",
      "\u001b[1;32mc:\\Users\\henry.gu\\Anaconda3\\envs\\Python\\lib\\site-packages\\pandas\\_libs\\tslibs\\tzconversion.pyx\u001b[0m in \u001b[0;36mpandas._libs.tslibs.tzconversion.Localizer.__cinit__\u001b[1;34m()\u001b[0m\n",
      "\u001b[1;32mc:\\Users\\henry.gu\\Anaconda3\\envs\\Python\\lib\\site-packages\\pandas\\_libs\\tslibs\\timezones.pyx\u001b[0m in \u001b[0;36mpandas._libs.tslibs.timezones.get_dst_info\u001b[1;34m()\u001b[0m\n",
      "\u001b[1;31mAttributeError\u001b[0m: 'NoneType' object has no attribute 'total_seconds'"
     ]
    },
    {
     "name": "stderr",
     "output_type": "stream",
     "text": [
      "Exception ignored in: 'pandas._libs.tslibs.conversion._localize_tso'\n",
      "Traceback (most recent call last):\n",
      "  File \"pandas\\_libs\\tslibs\\tzconversion.pyx\", line 85, in pandas._libs.tslibs.tzconversion.Localizer.__cinit__\n",
      "  File \"pandas\\_libs\\tslibs\\timezones.pyx\", line 306, in pandas._libs.tslibs.timezones.get_dst_info\n",
      "AttributeError: 'NoneType' object has no attribute 'total_seconds'\n"
     ]
    },
    {
     "ename": "AttributeError",
     "evalue": "'NoneType' object has no attribute 'total_seconds'",
     "output_type": "error",
     "traceback": [
      "\u001b[1;31m---------------------------------------------------------------------------\u001b[0m",
      "\u001b[1;31mAttributeError\u001b[0m                            Traceback (most recent call last)",
      "\u001b[1;32mc:\\Users\\henry.gu\\Anaconda3\\envs\\Python\\lib\\site-packages\\pandas\\_libs\\tslibs\\tzconversion.pyx\u001b[0m in \u001b[0;36mpandas._libs.tslibs.tzconversion.Localizer.__cinit__\u001b[1;34m()\u001b[0m\n",
      "\u001b[1;32mc:\\Users\\henry.gu\\Anaconda3\\envs\\Python\\lib\\site-packages\\pandas\\_libs\\tslibs\\timezones.pyx\u001b[0m in \u001b[0;36mpandas._libs.tslibs.timezones.get_dst_info\u001b[1;34m()\u001b[0m\n",
      "\u001b[1;31mAttributeError\u001b[0m: 'NoneType' object has no attribute 'total_seconds'"
     ]
    },
    {
     "name": "stderr",
     "output_type": "stream",
     "text": [
      "Exception ignored in: 'pandas._libs.tslibs.conversion._localize_tso'\n",
      "Traceback (most recent call last):\n",
      "  File \"pandas\\_libs\\tslibs\\tzconversion.pyx\", line 85, in pandas._libs.tslibs.tzconversion.Localizer.__cinit__\n",
      "  File \"pandas\\_libs\\tslibs\\timezones.pyx\", line 306, in pandas._libs.tslibs.timezones.get_dst_info\n",
      "AttributeError: 'NoneType' object has no attribute 'total_seconds'\n"
     ]
    },
    {
     "ename": "AttributeError",
     "evalue": "'NoneType' object has no attribute 'total_seconds'",
     "output_type": "error",
     "traceback": [
      "\u001b[1;31m---------------------------------------------------------------------------\u001b[0m",
      "\u001b[1;31mAttributeError\u001b[0m                            Traceback (most recent call last)",
      "\u001b[1;32mc:\\Users\\henry.gu\\Anaconda3\\envs\\Python\\lib\\site-packages\\pandas\\_libs\\tslibs\\tzconversion.pyx\u001b[0m in \u001b[0;36mpandas._libs.tslibs.tzconversion.Localizer.__cinit__\u001b[1;34m()\u001b[0m\n",
      "\u001b[1;32mc:\\Users\\henry.gu\\Anaconda3\\envs\\Python\\lib\\site-packages\\pandas\\_libs\\tslibs\\timezones.pyx\u001b[0m in \u001b[0;36mpandas._libs.tslibs.timezones.get_dst_info\u001b[1;34m()\u001b[0m\n",
      "\u001b[1;31mAttributeError\u001b[0m: 'NoneType' object has no attribute 'total_seconds'"
     ]
    },
    {
     "name": "stderr",
     "output_type": "stream",
     "text": [
      "Exception ignored in: 'pandas._libs.tslibs.conversion._localize_tso'\n",
      "Traceback (most recent call last):\n",
      "  File \"pandas\\_libs\\tslibs\\tzconversion.pyx\", line 85, in pandas._libs.tslibs.tzconversion.Localizer.__cinit__\n",
      "  File \"pandas\\_libs\\tslibs\\timezones.pyx\", line 306, in pandas._libs.tslibs.timezones.get_dst_info\n",
      "AttributeError: 'NoneType' object has no attribute 'total_seconds'\n"
     ]
    },
    {
     "ename": "AttributeError",
     "evalue": "'NoneType' object has no attribute 'total_seconds'",
     "output_type": "error",
     "traceback": [
      "\u001b[1;31m---------------------------------------------------------------------------\u001b[0m",
      "\u001b[1;31mAttributeError\u001b[0m                            Traceback (most recent call last)",
      "\u001b[1;32mc:\\Users\\henry.gu\\Anaconda3\\envs\\Python\\lib\\site-packages\\pandas\\_libs\\tslibs\\tzconversion.pyx\u001b[0m in \u001b[0;36mpandas._libs.tslibs.tzconversion.Localizer.__cinit__\u001b[1;34m()\u001b[0m\n",
      "\u001b[1;32mc:\\Users\\henry.gu\\Anaconda3\\envs\\Python\\lib\\site-packages\\pandas\\_libs\\tslibs\\timezones.pyx\u001b[0m in \u001b[0;36mpandas._libs.tslibs.timezones.get_dst_info\u001b[1;34m()\u001b[0m\n",
      "\u001b[1;31mAttributeError\u001b[0m: 'NoneType' object has no attribute 'total_seconds'"
     ]
    },
    {
     "name": "stderr",
     "output_type": "stream",
     "text": [
      "Exception ignored in: 'pandas._libs.tslibs.conversion._localize_tso'\n",
      "Traceback (most recent call last):\n",
      "  File \"pandas\\_libs\\tslibs\\tzconversion.pyx\", line 85, in pandas._libs.tslibs.tzconversion.Localizer.__cinit__\n",
      "  File \"pandas\\_libs\\tslibs\\timezones.pyx\", line 306, in pandas._libs.tslibs.timezones.get_dst_info\n",
      "AttributeError: 'NoneType' object has no attribute 'total_seconds'\n"
     ]
    },
    {
     "ename": "AttributeError",
     "evalue": "'NoneType' object has no attribute 'total_seconds'",
     "output_type": "error",
     "traceback": [
      "\u001b[1;31m---------------------------------------------------------------------------\u001b[0m",
      "\u001b[1;31mAttributeError\u001b[0m                            Traceback (most recent call last)",
      "\u001b[1;32mc:\\Users\\henry.gu\\Anaconda3\\envs\\Python\\lib\\site-packages\\pandas\\_libs\\tslibs\\tzconversion.pyx\u001b[0m in \u001b[0;36mpandas._libs.tslibs.tzconversion.Localizer.__cinit__\u001b[1;34m()\u001b[0m\n",
      "\u001b[1;32mc:\\Users\\henry.gu\\Anaconda3\\envs\\Python\\lib\\site-packages\\pandas\\_libs\\tslibs\\timezones.pyx\u001b[0m in \u001b[0;36mpandas._libs.tslibs.timezones.get_dst_info\u001b[1;34m()\u001b[0m\n",
      "\u001b[1;31mAttributeError\u001b[0m: 'NoneType' object has no attribute 'total_seconds'"
     ]
    },
    {
     "name": "stderr",
     "output_type": "stream",
     "text": [
      "Exception ignored in: 'pandas._libs.tslibs.conversion._localize_tso'\n",
      "Traceback (most recent call last):\n",
      "  File \"pandas\\_libs\\tslibs\\tzconversion.pyx\", line 85, in pandas._libs.tslibs.tzconversion.Localizer.__cinit__\n",
      "  File \"pandas\\_libs\\tslibs\\timezones.pyx\", line 306, in pandas._libs.tslibs.timezones.get_dst_info\n",
      "AttributeError: 'NoneType' object has no attribute 'total_seconds'\n"
     ]
    },
    {
     "ename": "AttributeError",
     "evalue": "'NoneType' object has no attribute 'total_seconds'",
     "output_type": "error",
     "traceback": [
      "\u001b[1;31m---------------------------------------------------------------------------\u001b[0m",
      "\u001b[1;31mAttributeError\u001b[0m                            Traceback (most recent call last)",
      "\u001b[1;32mc:\\Users\\henry.gu\\Anaconda3\\envs\\Python\\lib\\site-packages\\pandas\\_libs\\tslibs\\tzconversion.pyx\u001b[0m in \u001b[0;36mpandas._libs.tslibs.tzconversion.Localizer.__cinit__\u001b[1;34m()\u001b[0m\n",
      "\u001b[1;32mc:\\Users\\henry.gu\\Anaconda3\\envs\\Python\\lib\\site-packages\\pandas\\_libs\\tslibs\\timezones.pyx\u001b[0m in \u001b[0;36mpandas._libs.tslibs.timezones.get_dst_info\u001b[1;34m()\u001b[0m\n",
      "\u001b[1;31mAttributeError\u001b[0m: 'NoneType' object has no attribute 'total_seconds'"
     ]
    },
    {
     "name": "stderr",
     "output_type": "stream",
     "text": [
      "Exception ignored in: 'pandas._libs.tslibs.conversion._localize_tso'\n",
      "Traceback (most recent call last):\n",
      "  File \"pandas\\_libs\\tslibs\\tzconversion.pyx\", line 85, in pandas._libs.tslibs.tzconversion.Localizer.__cinit__\n",
      "  File \"pandas\\_libs\\tslibs\\timezones.pyx\", line 306, in pandas._libs.tslibs.timezones.get_dst_info\n",
      "AttributeError: 'NoneType' object has no attribute 'total_seconds'\n"
     ]
    },
    {
     "ename": "AttributeError",
     "evalue": "'NoneType' object has no attribute 'total_seconds'",
     "output_type": "error",
     "traceback": [
      "\u001b[1;31m---------------------------------------------------------------------------\u001b[0m",
      "\u001b[1;31mAttributeError\u001b[0m                            Traceback (most recent call last)",
      "\u001b[1;32mc:\\Users\\henry.gu\\Anaconda3\\envs\\Python\\lib\\site-packages\\pandas\\_libs\\tslibs\\tzconversion.pyx\u001b[0m in \u001b[0;36mpandas._libs.tslibs.tzconversion.Localizer.__cinit__\u001b[1;34m()\u001b[0m\n",
      "\u001b[1;32mc:\\Users\\henry.gu\\Anaconda3\\envs\\Python\\lib\\site-packages\\pandas\\_libs\\tslibs\\timezones.pyx\u001b[0m in \u001b[0;36mpandas._libs.tslibs.timezones.get_dst_info\u001b[1;34m()\u001b[0m\n",
      "\u001b[1;31mAttributeError\u001b[0m: 'NoneType' object has no attribute 'total_seconds'"
     ]
    },
    {
     "name": "stderr",
     "output_type": "stream",
     "text": [
      "Exception ignored in: 'pandas._libs.tslibs.conversion._localize_tso'\n",
      "Traceback (most recent call last):\n",
      "  File \"pandas\\_libs\\tslibs\\tzconversion.pyx\", line 85, in pandas._libs.tslibs.tzconversion.Localizer.__cinit__\n",
      "  File \"pandas\\_libs\\tslibs\\timezones.pyx\", line 306, in pandas._libs.tslibs.timezones.get_dst_info\n",
      "AttributeError: 'NoneType' object has no attribute 'total_seconds'\n"
     ]
    },
    {
     "ename": "AttributeError",
     "evalue": "'NoneType' object has no attribute 'total_seconds'",
     "output_type": "error",
     "traceback": [
      "\u001b[1;31m---------------------------------------------------------------------------\u001b[0m",
      "\u001b[1;31mAttributeError\u001b[0m                            Traceback (most recent call last)",
      "\u001b[1;32mc:\\Users\\henry.gu\\Anaconda3\\envs\\Python\\lib\\site-packages\\pandas\\_libs\\tslibs\\tzconversion.pyx\u001b[0m in \u001b[0;36mpandas._libs.tslibs.tzconversion.Localizer.__cinit__\u001b[1;34m()\u001b[0m\n",
      "\u001b[1;32mc:\\Users\\henry.gu\\Anaconda3\\envs\\Python\\lib\\site-packages\\pandas\\_libs\\tslibs\\timezones.pyx\u001b[0m in \u001b[0;36mpandas._libs.tslibs.timezones.get_dst_info\u001b[1;34m()\u001b[0m\n",
      "\u001b[1;31mAttributeError\u001b[0m: 'NoneType' object has no attribute 'total_seconds'"
     ]
    },
    {
     "name": "stderr",
     "output_type": "stream",
     "text": [
      "Exception ignored in: 'pandas._libs.tslibs.conversion._localize_tso'\n",
      "Traceback (most recent call last):\n",
      "  File \"pandas\\_libs\\tslibs\\tzconversion.pyx\", line 85, in pandas._libs.tslibs.tzconversion.Localizer.__cinit__\n",
      "  File \"pandas\\_libs\\tslibs\\timezones.pyx\", line 306, in pandas._libs.tslibs.timezones.get_dst_info\n",
      "AttributeError: 'NoneType' object has no attribute 'total_seconds'\n"
     ]
    },
    {
     "ename": "AttributeError",
     "evalue": "'NoneType' object has no attribute 'total_seconds'",
     "output_type": "error",
     "traceback": [
      "\u001b[1;31m---------------------------------------------------------------------------\u001b[0m",
      "\u001b[1;31mAttributeError\u001b[0m                            Traceback (most recent call last)",
      "\u001b[1;32mc:\\Users\\henry.gu\\Anaconda3\\envs\\Python\\lib\\site-packages\\pandas\\_libs\\tslibs\\tzconversion.pyx\u001b[0m in \u001b[0;36mpandas._libs.tslibs.tzconversion.Localizer.__cinit__\u001b[1;34m()\u001b[0m\n",
      "\u001b[1;32mc:\\Users\\henry.gu\\Anaconda3\\envs\\Python\\lib\\site-packages\\pandas\\_libs\\tslibs\\timezones.pyx\u001b[0m in \u001b[0;36mpandas._libs.tslibs.timezones.get_dst_info\u001b[1;34m()\u001b[0m\n",
      "\u001b[1;31mAttributeError\u001b[0m: 'NoneType' object has no attribute 'total_seconds'"
     ]
    },
    {
     "name": "stderr",
     "output_type": "stream",
     "text": [
      "Exception ignored in: 'pandas._libs.tslibs.conversion._localize_tso'\n",
      "Traceback (most recent call last):\n",
      "  File \"pandas\\_libs\\tslibs\\tzconversion.pyx\", line 85, in pandas._libs.tslibs.tzconversion.Localizer.__cinit__\n",
      "  File \"pandas\\_libs\\tslibs\\timezones.pyx\", line 306, in pandas._libs.tslibs.timezones.get_dst_info\n",
      "AttributeError: 'NoneType' object has no attribute 'total_seconds'\n"
     ]
    },
    {
     "ename": "AttributeError",
     "evalue": "'NoneType' object has no attribute 'total_seconds'",
     "output_type": "error",
     "traceback": [
      "\u001b[1;31m---------------------------------------------------------------------------\u001b[0m",
      "\u001b[1;31mAttributeError\u001b[0m                            Traceback (most recent call last)",
      "\u001b[1;32mc:\\Users\\henry.gu\\Anaconda3\\envs\\Python\\lib\\site-packages\\pandas\\_libs\\tslibs\\tzconversion.pyx\u001b[0m in \u001b[0;36mpandas._libs.tslibs.tzconversion.Localizer.__cinit__\u001b[1;34m()\u001b[0m\n",
      "\u001b[1;32mc:\\Users\\henry.gu\\Anaconda3\\envs\\Python\\lib\\site-packages\\pandas\\_libs\\tslibs\\timezones.pyx\u001b[0m in \u001b[0;36mpandas._libs.tslibs.timezones.get_dst_info\u001b[1;34m()\u001b[0m\n",
      "\u001b[1;31mAttributeError\u001b[0m: 'NoneType' object has no attribute 'total_seconds'"
     ]
    },
    {
     "name": "stderr",
     "output_type": "stream",
     "text": [
      "Exception ignored in: 'pandas._libs.tslibs.conversion._localize_tso'\n",
      "Traceback (most recent call last):\n",
      "  File \"pandas\\_libs\\tslibs\\tzconversion.pyx\", line 85, in pandas._libs.tslibs.tzconversion.Localizer.__cinit__\n",
      "  File \"pandas\\_libs\\tslibs\\timezones.pyx\", line 306, in pandas._libs.tslibs.timezones.get_dst_info\n",
      "AttributeError: 'NoneType' object has no attribute 'total_seconds'\n"
     ]
    },
    {
     "ename": "AttributeError",
     "evalue": "'NoneType' object has no attribute 'total_seconds'",
     "output_type": "error",
     "traceback": [
      "\u001b[1;31m---------------------------------------------------------------------------\u001b[0m",
      "\u001b[1;31mAttributeError\u001b[0m                            Traceback (most recent call last)",
      "\u001b[1;32mc:\\Users\\henry.gu\\Anaconda3\\envs\\Python\\lib\\site-packages\\pandas\\_libs\\tslibs\\tzconversion.pyx\u001b[0m in \u001b[0;36mpandas._libs.tslibs.tzconversion.Localizer.__cinit__\u001b[1;34m()\u001b[0m\n",
      "\u001b[1;32mc:\\Users\\henry.gu\\Anaconda3\\envs\\Python\\lib\\site-packages\\pandas\\_libs\\tslibs\\timezones.pyx\u001b[0m in \u001b[0;36mpandas._libs.tslibs.timezones.get_dst_info\u001b[1;34m()\u001b[0m\n",
      "\u001b[1;31mAttributeError\u001b[0m: 'NoneType' object has no attribute 'total_seconds'"
     ]
    },
    {
     "name": "stderr",
     "output_type": "stream",
     "text": [
      "Exception ignored in: 'pandas._libs.tslibs.conversion._localize_tso'\n",
      "Traceback (most recent call last):\n",
      "  File \"pandas\\_libs\\tslibs\\tzconversion.pyx\", line 85, in pandas._libs.tslibs.tzconversion.Localizer.__cinit__\n",
      "  File \"pandas\\_libs\\tslibs\\timezones.pyx\", line 306, in pandas._libs.tslibs.timezones.get_dst_info\n",
      "AttributeError: 'NoneType' object has no attribute 'total_seconds'\n"
     ]
    },
    {
     "ename": "AttributeError",
     "evalue": "'NoneType' object has no attribute 'total_seconds'",
     "output_type": "error",
     "traceback": [
      "\u001b[1;31m---------------------------------------------------------------------------\u001b[0m",
      "\u001b[1;31mAttributeError\u001b[0m                            Traceback (most recent call last)",
      "\u001b[1;32mc:\\Users\\henry.gu\\Anaconda3\\envs\\Python\\lib\\site-packages\\pandas\\_libs\\tslibs\\tzconversion.pyx\u001b[0m in \u001b[0;36mpandas._libs.tslibs.tzconversion.Localizer.__cinit__\u001b[1;34m()\u001b[0m\n",
      "\u001b[1;32mc:\\Users\\henry.gu\\Anaconda3\\envs\\Python\\lib\\site-packages\\pandas\\_libs\\tslibs\\timezones.pyx\u001b[0m in \u001b[0;36mpandas._libs.tslibs.timezones.get_dst_info\u001b[1;34m()\u001b[0m\n",
      "\u001b[1;31mAttributeError\u001b[0m: 'NoneType' object has no attribute 'total_seconds'"
     ]
    },
    {
     "name": "stderr",
     "output_type": "stream",
     "text": [
      "Exception ignored in: 'pandas._libs.tslibs.conversion._localize_tso'\n",
      "Traceback (most recent call last):\n",
      "  File \"pandas\\_libs\\tslibs\\tzconversion.pyx\", line 85, in pandas._libs.tslibs.tzconversion.Localizer.__cinit__\n",
      "  File \"pandas\\_libs\\tslibs\\timezones.pyx\", line 306, in pandas._libs.tslibs.timezones.get_dst_info\n",
      "AttributeError: 'NoneType' object has no attribute 'total_seconds'\n"
     ]
    },
    {
     "ename": "AttributeError",
     "evalue": "'NoneType' object has no attribute 'total_seconds'",
     "output_type": "error",
     "traceback": [
      "\u001b[1;31m---------------------------------------------------------------------------\u001b[0m",
      "\u001b[1;31mAttributeError\u001b[0m                            Traceback (most recent call last)",
      "\u001b[1;32mc:\\Users\\henry.gu\\Anaconda3\\envs\\Python\\lib\\site-packages\\pandas\\_libs\\tslibs\\tzconversion.pyx\u001b[0m in \u001b[0;36mpandas._libs.tslibs.tzconversion.Localizer.__cinit__\u001b[1;34m()\u001b[0m\n",
      "\u001b[1;32mc:\\Users\\henry.gu\\Anaconda3\\envs\\Python\\lib\\site-packages\\pandas\\_libs\\tslibs\\timezones.pyx\u001b[0m in \u001b[0;36mpandas._libs.tslibs.timezones.get_dst_info\u001b[1;34m()\u001b[0m\n",
      "\u001b[1;31mAttributeError\u001b[0m: 'NoneType' object has no attribute 'total_seconds'"
     ]
    },
    {
     "name": "stderr",
     "output_type": "stream",
     "text": [
      "Exception ignored in: 'pandas._libs.tslibs.conversion._localize_tso'\n",
      "Traceback (most recent call last):\n",
      "  File \"pandas\\_libs\\tslibs\\tzconversion.pyx\", line 85, in pandas._libs.tslibs.tzconversion.Localizer.__cinit__\n",
      "  File \"pandas\\_libs\\tslibs\\timezones.pyx\", line 306, in pandas._libs.tslibs.timezones.get_dst_info\n",
      "AttributeError: 'NoneType' object has no attribute 'total_seconds'\n"
     ]
    },
    {
     "ename": "AttributeError",
     "evalue": "'NoneType' object has no attribute 'total_seconds'",
     "output_type": "error",
     "traceback": [
      "\u001b[1;31m---------------------------------------------------------------------------\u001b[0m",
      "\u001b[1;31mAttributeError\u001b[0m                            Traceback (most recent call last)",
      "\u001b[1;32mc:\\Users\\henry.gu\\Anaconda3\\envs\\Python\\lib\\site-packages\\pandas\\_libs\\tslibs\\tzconversion.pyx\u001b[0m in \u001b[0;36mpandas._libs.tslibs.tzconversion.Localizer.__cinit__\u001b[1;34m()\u001b[0m\n",
      "\u001b[1;32mc:\\Users\\henry.gu\\Anaconda3\\envs\\Python\\lib\\site-packages\\pandas\\_libs\\tslibs\\timezones.pyx\u001b[0m in \u001b[0;36mpandas._libs.tslibs.timezones.get_dst_info\u001b[1;34m()\u001b[0m\n",
      "\u001b[1;31mAttributeError\u001b[0m: 'NoneType' object has no attribute 'total_seconds'"
     ]
    },
    {
     "name": "stderr",
     "output_type": "stream",
     "text": [
      "Exception ignored in: 'pandas._libs.tslibs.conversion._localize_tso'\n",
      "Traceback (most recent call last):\n",
      "  File \"pandas\\_libs\\tslibs\\tzconversion.pyx\", line 85, in pandas._libs.tslibs.tzconversion.Localizer.__cinit__\n",
      "  File \"pandas\\_libs\\tslibs\\timezones.pyx\", line 306, in pandas._libs.tslibs.timezones.get_dst_info\n",
      "AttributeError: 'NoneType' object has no attribute 'total_seconds'\n"
     ]
    },
    {
     "ename": "AttributeError",
     "evalue": "'NoneType' object has no attribute 'total_seconds'",
     "output_type": "error",
     "traceback": [
      "\u001b[1;31m---------------------------------------------------------------------------\u001b[0m",
      "\u001b[1;31mAttributeError\u001b[0m                            Traceback (most recent call last)",
      "\u001b[1;32mc:\\Users\\henry.gu\\Anaconda3\\envs\\Python\\lib\\site-packages\\pandas\\_libs\\tslibs\\tzconversion.pyx\u001b[0m in \u001b[0;36mpandas._libs.tslibs.tzconversion.Localizer.__cinit__\u001b[1;34m()\u001b[0m\n",
      "\u001b[1;32mc:\\Users\\henry.gu\\Anaconda3\\envs\\Python\\lib\\site-packages\\pandas\\_libs\\tslibs\\timezones.pyx\u001b[0m in \u001b[0;36mpandas._libs.tslibs.timezones.get_dst_info\u001b[1;34m()\u001b[0m\n",
      "\u001b[1;31mAttributeError\u001b[0m: 'NoneType' object has no attribute 'total_seconds'"
     ]
    },
    {
     "name": "stderr",
     "output_type": "stream",
     "text": [
      "Exception ignored in: 'pandas._libs.tslibs.conversion._localize_tso'\n",
      "Traceback (most recent call last):\n",
      "  File \"pandas\\_libs\\tslibs\\tzconversion.pyx\", line 85, in pandas._libs.tslibs.tzconversion.Localizer.__cinit__\n",
      "  File \"pandas\\_libs\\tslibs\\timezones.pyx\", line 306, in pandas._libs.tslibs.timezones.get_dst_info\n",
      "AttributeError: 'NoneType' object has no attribute 'total_seconds'\n"
     ]
    },
    {
     "ename": "AttributeError",
     "evalue": "'NoneType' object has no attribute 'total_seconds'",
     "output_type": "error",
     "traceback": [
      "\u001b[1;31m---------------------------------------------------------------------------\u001b[0m",
      "\u001b[1;31mAttributeError\u001b[0m                            Traceback (most recent call last)",
      "\u001b[1;32mc:\\Users\\henry.gu\\Anaconda3\\envs\\Python\\lib\\site-packages\\pandas\\_libs\\tslibs\\tzconversion.pyx\u001b[0m in \u001b[0;36mpandas._libs.tslibs.tzconversion.Localizer.__cinit__\u001b[1;34m()\u001b[0m\n",
      "\u001b[1;32mc:\\Users\\henry.gu\\Anaconda3\\envs\\Python\\lib\\site-packages\\pandas\\_libs\\tslibs\\timezones.pyx\u001b[0m in \u001b[0;36mpandas._libs.tslibs.timezones.get_dst_info\u001b[1;34m()\u001b[0m\n",
      "\u001b[1;31mAttributeError\u001b[0m: 'NoneType' object has no attribute 'total_seconds'"
     ]
    },
    {
     "name": "stderr",
     "output_type": "stream",
     "text": [
      "Exception ignored in: 'pandas._libs.tslibs.conversion._localize_tso'\n",
      "Traceback (most recent call last):\n",
      "  File \"pandas\\_libs\\tslibs\\tzconversion.pyx\", line 85, in pandas._libs.tslibs.tzconversion.Localizer.__cinit__\n",
      "  File \"pandas\\_libs\\tslibs\\timezones.pyx\", line 306, in pandas._libs.tslibs.timezones.get_dst_info\n",
      "AttributeError: 'NoneType' object has no attribute 'total_seconds'\n"
     ]
    },
    {
     "ename": "AttributeError",
     "evalue": "'NoneType' object has no attribute 'total_seconds'",
     "output_type": "error",
     "traceback": [
      "\u001b[1;31m---------------------------------------------------------------------------\u001b[0m",
      "\u001b[1;31mAttributeError\u001b[0m                            Traceback (most recent call last)",
      "\u001b[1;32mc:\\Users\\henry.gu\\Anaconda3\\envs\\Python\\lib\\site-packages\\pandas\\_libs\\tslibs\\tzconversion.pyx\u001b[0m in \u001b[0;36mpandas._libs.tslibs.tzconversion.Localizer.__cinit__\u001b[1;34m()\u001b[0m\n",
      "\u001b[1;32mc:\\Users\\henry.gu\\Anaconda3\\envs\\Python\\lib\\site-packages\\pandas\\_libs\\tslibs\\timezones.pyx\u001b[0m in \u001b[0;36mpandas._libs.tslibs.timezones.get_dst_info\u001b[1;34m()\u001b[0m\n",
      "\u001b[1;31mAttributeError\u001b[0m: 'NoneType' object has no attribute 'total_seconds'"
     ]
    },
    {
     "name": "stderr",
     "output_type": "stream",
     "text": [
      "Exception ignored in: 'pandas._libs.tslibs.conversion._localize_tso'\n",
      "Traceback (most recent call last):\n",
      "  File \"pandas\\_libs\\tslibs\\tzconversion.pyx\", line 85, in pandas._libs.tslibs.tzconversion.Localizer.__cinit__\n",
      "  File \"pandas\\_libs\\tslibs\\timezones.pyx\", line 306, in pandas._libs.tslibs.timezones.get_dst_info\n",
      "AttributeError: 'NoneType' object has no attribute 'total_seconds'\n"
     ]
    },
    {
     "ename": "AttributeError",
     "evalue": "'NoneType' object has no attribute 'total_seconds'",
     "output_type": "error",
     "traceback": [
      "\u001b[1;31m---------------------------------------------------------------------------\u001b[0m",
      "\u001b[1;31mAttributeError\u001b[0m                            Traceback (most recent call last)",
      "\u001b[1;32mc:\\Users\\henry.gu\\Anaconda3\\envs\\Python\\lib\\site-packages\\pandas\\_libs\\tslibs\\tzconversion.pyx\u001b[0m in \u001b[0;36mpandas._libs.tslibs.tzconversion.Localizer.__cinit__\u001b[1;34m()\u001b[0m\n",
      "\u001b[1;32mc:\\Users\\henry.gu\\Anaconda3\\envs\\Python\\lib\\site-packages\\pandas\\_libs\\tslibs\\timezones.pyx\u001b[0m in \u001b[0;36mpandas._libs.tslibs.timezones.get_dst_info\u001b[1;34m()\u001b[0m\n",
      "\u001b[1;31mAttributeError\u001b[0m: 'NoneType' object has no attribute 'total_seconds'"
     ]
    },
    {
     "name": "stderr",
     "output_type": "stream",
     "text": [
      "Exception ignored in: 'pandas._libs.tslibs.conversion._localize_tso'\n",
      "Traceback (most recent call last):\n",
      "  File \"pandas\\_libs\\tslibs\\tzconversion.pyx\", line 85, in pandas._libs.tslibs.tzconversion.Localizer.__cinit__\n",
      "  File \"pandas\\_libs\\tslibs\\timezones.pyx\", line 306, in pandas._libs.tslibs.timezones.get_dst_info\n",
      "AttributeError: 'NoneType' object has no attribute 'total_seconds'\n"
     ]
    },
    {
     "ename": "AttributeError",
     "evalue": "'NoneType' object has no attribute 'total_seconds'",
     "output_type": "error",
     "traceback": [
      "\u001b[1;31m---------------------------------------------------------------------------\u001b[0m",
      "\u001b[1;31mAttributeError\u001b[0m                            Traceback (most recent call last)",
      "\u001b[1;32mc:\\Users\\henry.gu\\Anaconda3\\envs\\Python\\lib\\site-packages\\pandas\\_libs\\tslibs\\tzconversion.pyx\u001b[0m in \u001b[0;36mpandas._libs.tslibs.tzconversion.Localizer.__cinit__\u001b[1;34m()\u001b[0m\n",
      "\u001b[1;32mc:\\Users\\henry.gu\\Anaconda3\\envs\\Python\\lib\\site-packages\\pandas\\_libs\\tslibs\\timezones.pyx\u001b[0m in \u001b[0;36mpandas._libs.tslibs.timezones.get_dst_info\u001b[1;34m()\u001b[0m\n",
      "\u001b[1;31mAttributeError\u001b[0m: 'NoneType' object has no attribute 'total_seconds'"
     ]
    },
    {
     "name": "stderr",
     "output_type": "stream",
     "text": [
      "Exception ignored in: 'pandas._libs.tslibs.conversion._localize_tso'\n",
      "Traceback (most recent call last):\n",
      "  File \"pandas\\_libs\\tslibs\\tzconversion.pyx\", line 85, in pandas._libs.tslibs.tzconversion.Localizer.__cinit__\n",
      "  File \"pandas\\_libs\\tslibs\\timezones.pyx\", line 306, in pandas._libs.tslibs.timezones.get_dst_info\n",
      "AttributeError: 'NoneType' object has no attribute 'total_seconds'\n"
     ]
    },
    {
     "ename": "AttributeError",
     "evalue": "'NoneType' object has no attribute 'total_seconds'",
     "output_type": "error",
     "traceback": [
      "\u001b[1;31m---------------------------------------------------------------------------\u001b[0m",
      "\u001b[1;31mAttributeError\u001b[0m                            Traceback (most recent call last)",
      "\u001b[1;32mc:\\Users\\henry.gu\\Anaconda3\\envs\\Python\\lib\\site-packages\\pandas\\_libs\\tslibs\\tzconversion.pyx\u001b[0m in \u001b[0;36mpandas._libs.tslibs.tzconversion.Localizer.__cinit__\u001b[1;34m()\u001b[0m\n",
      "\u001b[1;32mc:\\Users\\henry.gu\\Anaconda3\\envs\\Python\\lib\\site-packages\\pandas\\_libs\\tslibs\\timezones.pyx\u001b[0m in \u001b[0;36mpandas._libs.tslibs.timezones.get_dst_info\u001b[1;34m()\u001b[0m\n",
      "\u001b[1;31mAttributeError\u001b[0m: 'NoneType' object has no attribute 'total_seconds'"
     ]
    },
    {
     "name": "stderr",
     "output_type": "stream",
     "text": [
      "Exception ignored in: 'pandas._libs.tslibs.conversion._localize_tso'\n",
      "Traceback (most recent call last):\n",
      "  File \"pandas\\_libs\\tslibs\\tzconversion.pyx\", line 85, in pandas._libs.tslibs.tzconversion.Localizer.__cinit__\n",
      "  File \"pandas\\_libs\\tslibs\\timezones.pyx\", line 306, in pandas._libs.tslibs.timezones.get_dst_info\n",
      "AttributeError: 'NoneType' object has no attribute 'total_seconds'\n"
     ]
    },
    {
     "ename": "AttributeError",
     "evalue": "'NoneType' object has no attribute 'total_seconds'",
     "output_type": "error",
     "traceback": [
      "\u001b[1;31m---------------------------------------------------------------------------\u001b[0m",
      "\u001b[1;31mAttributeError\u001b[0m                            Traceback (most recent call last)",
      "\u001b[1;32mc:\\Users\\henry.gu\\Anaconda3\\envs\\Python\\lib\\site-packages\\pandas\\_libs\\tslibs\\tzconversion.pyx\u001b[0m in \u001b[0;36mpandas._libs.tslibs.tzconversion.Localizer.__cinit__\u001b[1;34m()\u001b[0m\n",
      "\u001b[1;32mc:\\Users\\henry.gu\\Anaconda3\\envs\\Python\\lib\\site-packages\\pandas\\_libs\\tslibs\\timezones.pyx\u001b[0m in \u001b[0;36mpandas._libs.tslibs.timezones.get_dst_info\u001b[1;34m()\u001b[0m\n",
      "\u001b[1;31mAttributeError\u001b[0m: 'NoneType' object has no attribute 'total_seconds'"
     ]
    },
    {
     "name": "stderr",
     "output_type": "stream",
     "text": [
      "Exception ignored in: 'pandas._libs.tslibs.conversion._localize_tso'\n",
      "Traceback (most recent call last):\n",
      "  File \"pandas\\_libs\\tslibs\\tzconversion.pyx\", line 85, in pandas._libs.tslibs.tzconversion.Localizer.__cinit__\n",
      "  File \"pandas\\_libs\\tslibs\\timezones.pyx\", line 306, in pandas._libs.tslibs.timezones.get_dst_info\n",
      "AttributeError: 'NoneType' object has no attribute 'total_seconds'\n"
     ]
    },
    {
     "ename": "AttributeError",
     "evalue": "'NoneType' object has no attribute 'total_seconds'",
     "output_type": "error",
     "traceback": [
      "\u001b[1;31m---------------------------------------------------------------------------\u001b[0m",
      "\u001b[1;31mAttributeError\u001b[0m                            Traceback (most recent call last)",
      "\u001b[1;32mc:\\Users\\henry.gu\\Anaconda3\\envs\\Python\\lib\\site-packages\\pandas\\_libs\\tslibs\\tzconversion.pyx\u001b[0m in \u001b[0;36mpandas._libs.tslibs.tzconversion.Localizer.__cinit__\u001b[1;34m()\u001b[0m\n",
      "\u001b[1;32mc:\\Users\\henry.gu\\Anaconda3\\envs\\Python\\lib\\site-packages\\pandas\\_libs\\tslibs\\timezones.pyx\u001b[0m in \u001b[0;36mpandas._libs.tslibs.timezones.get_dst_info\u001b[1;34m()\u001b[0m\n",
      "\u001b[1;31mAttributeError\u001b[0m: 'NoneType' object has no attribute 'total_seconds'"
     ]
    },
    {
     "name": "stderr",
     "output_type": "stream",
     "text": [
      "Exception ignored in: 'pandas._libs.tslibs.conversion._localize_tso'\n",
      "Traceback (most recent call last):\n",
      "  File \"pandas\\_libs\\tslibs\\tzconversion.pyx\", line 85, in pandas._libs.tslibs.tzconversion.Localizer.__cinit__\n",
      "  File \"pandas\\_libs\\tslibs\\timezones.pyx\", line 306, in pandas._libs.tslibs.timezones.get_dst_info\n",
      "AttributeError: 'NoneType' object has no attribute 'total_seconds'\n"
     ]
    },
    {
     "ename": "AttributeError",
     "evalue": "'NoneType' object has no attribute 'total_seconds'",
     "output_type": "error",
     "traceback": [
      "\u001b[1;31m---------------------------------------------------------------------------\u001b[0m",
      "\u001b[1;31mAttributeError\u001b[0m                            Traceback (most recent call last)",
      "\u001b[1;32mc:\\Users\\henry.gu\\Anaconda3\\envs\\Python\\lib\\site-packages\\pandas\\_libs\\tslibs\\tzconversion.pyx\u001b[0m in \u001b[0;36mpandas._libs.tslibs.tzconversion.Localizer.__cinit__\u001b[1;34m()\u001b[0m\n",
      "\u001b[1;32mc:\\Users\\henry.gu\\Anaconda3\\envs\\Python\\lib\\site-packages\\pandas\\_libs\\tslibs\\timezones.pyx\u001b[0m in \u001b[0;36mpandas._libs.tslibs.timezones.get_dst_info\u001b[1;34m()\u001b[0m\n",
      "\u001b[1;31mAttributeError\u001b[0m: 'NoneType' object has no attribute 'total_seconds'"
     ]
    },
    {
     "name": "stderr",
     "output_type": "stream",
     "text": [
      "Exception ignored in: 'pandas._libs.tslibs.conversion._localize_tso'\n",
      "Traceback (most recent call last):\n",
      "  File \"pandas\\_libs\\tslibs\\tzconversion.pyx\", line 85, in pandas._libs.tslibs.tzconversion.Localizer.__cinit__\n",
      "  File \"pandas\\_libs\\tslibs\\timezones.pyx\", line 306, in pandas._libs.tslibs.timezones.get_dst_info\n",
      "AttributeError: 'NoneType' object has no attribute 'total_seconds'\n"
     ]
    },
    {
     "ename": "AttributeError",
     "evalue": "'NoneType' object has no attribute 'total_seconds'",
     "output_type": "error",
     "traceback": [
      "\u001b[1;31m---------------------------------------------------------------------------\u001b[0m",
      "\u001b[1;31mAttributeError\u001b[0m                            Traceback (most recent call last)",
      "\u001b[1;32mc:\\Users\\henry.gu\\Anaconda3\\envs\\Python\\lib\\site-packages\\pandas\\_libs\\tslibs\\tzconversion.pyx\u001b[0m in \u001b[0;36mpandas._libs.tslibs.tzconversion.Localizer.__cinit__\u001b[1;34m()\u001b[0m\n",
      "\u001b[1;32mc:\\Users\\henry.gu\\Anaconda3\\envs\\Python\\lib\\site-packages\\pandas\\_libs\\tslibs\\timezones.pyx\u001b[0m in \u001b[0;36mpandas._libs.tslibs.timezones.get_dst_info\u001b[1;34m()\u001b[0m\n",
      "\u001b[1;31mAttributeError\u001b[0m: 'NoneType' object has no attribute 'total_seconds'"
     ]
    },
    {
     "name": "stderr",
     "output_type": "stream",
     "text": [
      "Exception ignored in: 'pandas._libs.tslibs.conversion._localize_tso'\n",
      "Traceback (most recent call last):\n",
      "  File \"pandas\\_libs\\tslibs\\tzconversion.pyx\", line 85, in pandas._libs.tslibs.tzconversion.Localizer.__cinit__\n",
      "  File \"pandas\\_libs\\tslibs\\timezones.pyx\", line 306, in pandas._libs.tslibs.timezones.get_dst_info\n",
      "AttributeError: 'NoneType' object has no attribute 'total_seconds'\n"
     ]
    },
    {
     "ename": "AttributeError",
     "evalue": "'NoneType' object has no attribute 'total_seconds'",
     "output_type": "error",
     "traceback": [
      "\u001b[1;31m---------------------------------------------------------------------------\u001b[0m",
      "\u001b[1;31mAttributeError\u001b[0m                            Traceback (most recent call last)",
      "\u001b[1;32mc:\\Users\\henry.gu\\Anaconda3\\envs\\Python\\lib\\site-packages\\pandas\\_libs\\tslibs\\tzconversion.pyx\u001b[0m in \u001b[0;36mpandas._libs.tslibs.tzconversion.Localizer.__cinit__\u001b[1;34m()\u001b[0m\n",
      "\u001b[1;32mc:\\Users\\henry.gu\\Anaconda3\\envs\\Python\\lib\\site-packages\\pandas\\_libs\\tslibs\\timezones.pyx\u001b[0m in \u001b[0;36mpandas._libs.tslibs.timezones.get_dst_info\u001b[1;34m()\u001b[0m\n",
      "\u001b[1;31mAttributeError\u001b[0m: 'NoneType' object has no attribute 'total_seconds'"
     ]
    },
    {
     "name": "stderr",
     "output_type": "stream",
     "text": [
      "Exception ignored in: 'pandas._libs.tslibs.conversion._localize_tso'\n",
      "Traceback (most recent call last):\n",
      "  File \"pandas\\_libs\\tslibs\\tzconversion.pyx\", line 85, in pandas._libs.tslibs.tzconversion.Localizer.__cinit__\n",
      "  File \"pandas\\_libs\\tslibs\\timezones.pyx\", line 306, in pandas._libs.tslibs.timezones.get_dst_info\n",
      "AttributeError: 'NoneType' object has no attribute 'total_seconds'\n"
     ]
    },
    {
     "ename": "AttributeError",
     "evalue": "'NoneType' object has no attribute 'total_seconds'",
     "output_type": "error",
     "traceback": [
      "\u001b[1;31m---------------------------------------------------------------------------\u001b[0m",
      "\u001b[1;31mAttributeError\u001b[0m                            Traceback (most recent call last)",
      "\u001b[1;32mc:\\Users\\henry.gu\\Anaconda3\\envs\\Python\\lib\\site-packages\\pandas\\_libs\\tslibs\\tzconversion.pyx\u001b[0m in \u001b[0;36mpandas._libs.tslibs.tzconversion.Localizer.__cinit__\u001b[1;34m()\u001b[0m\n",
      "\u001b[1;32mc:\\Users\\henry.gu\\Anaconda3\\envs\\Python\\lib\\site-packages\\pandas\\_libs\\tslibs\\timezones.pyx\u001b[0m in \u001b[0;36mpandas._libs.tslibs.timezones.get_dst_info\u001b[1;34m()\u001b[0m\n",
      "\u001b[1;31mAttributeError\u001b[0m: 'NoneType' object has no attribute 'total_seconds'"
     ]
    },
    {
     "name": "stderr",
     "output_type": "stream",
     "text": [
      "Exception ignored in: 'pandas._libs.tslibs.conversion._localize_tso'\n",
      "Traceback (most recent call last):\n",
      "  File \"pandas\\_libs\\tslibs\\tzconversion.pyx\", line 85, in pandas._libs.tslibs.tzconversion.Localizer.__cinit__\n",
      "  File \"pandas\\_libs\\tslibs\\timezones.pyx\", line 306, in pandas._libs.tslibs.timezones.get_dst_info\n",
      "AttributeError: 'NoneType' object has no attribute 'total_seconds'\n"
     ]
    },
    {
     "ename": "AttributeError",
     "evalue": "'NoneType' object has no attribute 'total_seconds'",
     "output_type": "error",
     "traceback": [
      "\u001b[1;31m---------------------------------------------------------------------------\u001b[0m",
      "\u001b[1;31mAttributeError\u001b[0m                            Traceback (most recent call last)",
      "\u001b[1;32mc:\\Users\\henry.gu\\Anaconda3\\envs\\Python\\lib\\site-packages\\pandas\\_libs\\tslibs\\tzconversion.pyx\u001b[0m in \u001b[0;36mpandas._libs.tslibs.tzconversion.Localizer.__cinit__\u001b[1;34m()\u001b[0m\n",
      "\u001b[1;32mc:\\Users\\henry.gu\\Anaconda3\\envs\\Python\\lib\\site-packages\\pandas\\_libs\\tslibs\\timezones.pyx\u001b[0m in \u001b[0;36mpandas._libs.tslibs.timezones.get_dst_info\u001b[1;34m()\u001b[0m\n",
      "\u001b[1;31mAttributeError\u001b[0m: 'NoneType' object has no attribute 'total_seconds'"
     ]
    },
    {
     "name": "stderr",
     "output_type": "stream",
     "text": [
      "Exception ignored in: 'pandas._libs.tslibs.conversion._localize_tso'\n",
      "Traceback (most recent call last):\n",
      "  File \"pandas\\_libs\\tslibs\\tzconversion.pyx\", line 85, in pandas._libs.tslibs.tzconversion.Localizer.__cinit__\n",
      "  File \"pandas\\_libs\\tslibs\\timezones.pyx\", line 306, in pandas._libs.tslibs.timezones.get_dst_info\n",
      "AttributeError: 'NoneType' object has no attribute 'total_seconds'\n"
     ]
    },
    {
     "ename": "AttributeError",
     "evalue": "'NoneType' object has no attribute 'total_seconds'",
     "output_type": "error",
     "traceback": [
      "\u001b[1;31m---------------------------------------------------------------------------\u001b[0m",
      "\u001b[1;31mAttributeError\u001b[0m                            Traceback (most recent call last)",
      "\u001b[1;32mc:\\Users\\henry.gu\\Anaconda3\\envs\\Python\\lib\\site-packages\\pandas\\_libs\\tslibs\\tzconversion.pyx\u001b[0m in \u001b[0;36mpandas._libs.tslibs.tzconversion.Localizer.__cinit__\u001b[1;34m()\u001b[0m\n",
      "\u001b[1;32mc:\\Users\\henry.gu\\Anaconda3\\envs\\Python\\lib\\site-packages\\pandas\\_libs\\tslibs\\timezones.pyx\u001b[0m in \u001b[0;36mpandas._libs.tslibs.timezones.get_dst_info\u001b[1;34m()\u001b[0m\n",
      "\u001b[1;31mAttributeError\u001b[0m: 'NoneType' object has no attribute 'total_seconds'"
     ]
    },
    {
     "name": "stderr",
     "output_type": "stream",
     "text": [
      "Exception ignored in: 'pandas._libs.tslibs.conversion._localize_tso'\n",
      "Traceback (most recent call last):\n",
      "  File \"pandas\\_libs\\tslibs\\tzconversion.pyx\", line 85, in pandas._libs.tslibs.tzconversion.Localizer.__cinit__\n",
      "  File \"pandas\\_libs\\tslibs\\timezones.pyx\", line 306, in pandas._libs.tslibs.timezones.get_dst_info\n",
      "AttributeError: 'NoneType' object has no attribute 'total_seconds'\n"
     ]
    },
    {
     "ename": "AttributeError",
     "evalue": "'NoneType' object has no attribute 'total_seconds'",
     "output_type": "error",
     "traceback": [
      "\u001b[1;31m---------------------------------------------------------------------------\u001b[0m",
      "\u001b[1;31mAttributeError\u001b[0m                            Traceback (most recent call last)",
      "\u001b[1;32mc:\\Users\\henry.gu\\Anaconda3\\envs\\Python\\lib\\site-packages\\pandas\\_libs\\tslibs\\tzconversion.pyx\u001b[0m in \u001b[0;36mpandas._libs.tslibs.tzconversion.Localizer.__cinit__\u001b[1;34m()\u001b[0m\n",
      "\u001b[1;32mc:\\Users\\henry.gu\\Anaconda3\\envs\\Python\\lib\\site-packages\\pandas\\_libs\\tslibs\\timezones.pyx\u001b[0m in \u001b[0;36mpandas._libs.tslibs.timezones.get_dst_info\u001b[1;34m()\u001b[0m\n",
      "\u001b[1;31mAttributeError\u001b[0m: 'NoneType' object has no attribute 'total_seconds'"
     ]
    },
    {
     "name": "stderr",
     "output_type": "stream",
     "text": [
      "Exception ignored in: 'pandas._libs.tslibs.conversion._localize_tso'\n",
      "Traceback (most recent call last):\n",
      "  File \"pandas\\_libs\\tslibs\\tzconversion.pyx\", line 85, in pandas._libs.tslibs.tzconversion.Localizer.__cinit__\n",
      "  File \"pandas\\_libs\\tslibs\\timezones.pyx\", line 306, in pandas._libs.tslibs.timezones.get_dst_info\n",
      "AttributeError: 'NoneType' object has no attribute 'total_seconds'\n"
     ]
    },
    {
     "ename": "AttributeError",
     "evalue": "'NoneType' object has no attribute 'total_seconds'",
     "output_type": "error",
     "traceback": [
      "\u001b[1;31m---------------------------------------------------------------------------\u001b[0m",
      "\u001b[1;31mAttributeError\u001b[0m                            Traceback (most recent call last)",
      "\u001b[1;32mc:\\Users\\henry.gu\\Anaconda3\\envs\\Python\\lib\\site-packages\\pandas\\_libs\\tslibs\\tzconversion.pyx\u001b[0m in \u001b[0;36mpandas._libs.tslibs.tzconversion.Localizer.__cinit__\u001b[1;34m()\u001b[0m\n",
      "\u001b[1;32mc:\\Users\\henry.gu\\Anaconda3\\envs\\Python\\lib\\site-packages\\pandas\\_libs\\tslibs\\timezones.pyx\u001b[0m in \u001b[0;36mpandas._libs.tslibs.timezones.get_dst_info\u001b[1;34m()\u001b[0m\n",
      "\u001b[1;31mAttributeError\u001b[0m: 'NoneType' object has no attribute 'total_seconds'"
     ]
    },
    {
     "name": "stderr",
     "output_type": "stream",
     "text": [
      "Exception ignored in: 'pandas._libs.tslibs.conversion._localize_tso'\n",
      "Traceback (most recent call last):\n",
      "  File \"pandas\\_libs\\tslibs\\tzconversion.pyx\", line 85, in pandas._libs.tslibs.tzconversion.Localizer.__cinit__\n",
      "  File \"pandas\\_libs\\tslibs\\timezones.pyx\", line 306, in pandas._libs.tslibs.timezones.get_dst_info\n",
      "AttributeError: 'NoneType' object has no attribute 'total_seconds'\n"
     ]
    },
    {
     "ename": "AttributeError",
     "evalue": "'NoneType' object has no attribute 'total_seconds'",
     "output_type": "error",
     "traceback": [
      "\u001b[1;31m---------------------------------------------------------------------------\u001b[0m",
      "\u001b[1;31mAttributeError\u001b[0m                            Traceback (most recent call last)",
      "\u001b[1;32mc:\\Users\\henry.gu\\Anaconda3\\envs\\Python\\lib\\site-packages\\pandas\\_libs\\tslibs\\tzconversion.pyx\u001b[0m in \u001b[0;36mpandas._libs.tslibs.tzconversion.Localizer.__cinit__\u001b[1;34m()\u001b[0m\n",
      "\u001b[1;32mc:\\Users\\henry.gu\\Anaconda3\\envs\\Python\\lib\\site-packages\\pandas\\_libs\\tslibs\\timezones.pyx\u001b[0m in \u001b[0;36mpandas._libs.tslibs.timezones.get_dst_info\u001b[1;34m()\u001b[0m\n",
      "\u001b[1;31mAttributeError\u001b[0m: 'NoneType' object has no attribute 'total_seconds'"
     ]
    },
    {
     "name": "stderr",
     "output_type": "stream",
     "text": [
      "Exception ignored in: 'pandas._libs.tslibs.conversion._localize_tso'\n",
      "Traceback (most recent call last):\n",
      "  File \"pandas\\_libs\\tslibs\\tzconversion.pyx\", line 85, in pandas._libs.tslibs.tzconversion.Localizer.__cinit__\n",
      "  File \"pandas\\_libs\\tslibs\\timezones.pyx\", line 306, in pandas._libs.tslibs.timezones.get_dst_info\n",
      "AttributeError: 'NoneType' object has no attribute 'total_seconds'\n"
     ]
    },
    {
     "ename": "AttributeError",
     "evalue": "'NoneType' object has no attribute 'total_seconds'",
     "output_type": "error",
     "traceback": [
      "\u001b[1;31m---------------------------------------------------------------------------\u001b[0m",
      "\u001b[1;31mAttributeError\u001b[0m                            Traceback (most recent call last)",
      "\u001b[1;32mc:\\Users\\henry.gu\\Anaconda3\\envs\\Python\\lib\\site-packages\\pandas\\_libs\\tslibs\\tzconversion.pyx\u001b[0m in \u001b[0;36mpandas._libs.tslibs.tzconversion.Localizer.__cinit__\u001b[1;34m()\u001b[0m\n",
      "\u001b[1;32mc:\\Users\\henry.gu\\Anaconda3\\envs\\Python\\lib\\site-packages\\pandas\\_libs\\tslibs\\timezones.pyx\u001b[0m in \u001b[0;36mpandas._libs.tslibs.timezones.get_dst_info\u001b[1;34m()\u001b[0m\n",
      "\u001b[1;31mAttributeError\u001b[0m: 'NoneType' object has no attribute 'total_seconds'"
     ]
    },
    {
     "name": "stderr",
     "output_type": "stream",
     "text": [
      "Exception ignored in: 'pandas._libs.tslibs.conversion._localize_tso'\n",
      "Traceback (most recent call last):\n",
      "  File \"pandas\\_libs\\tslibs\\tzconversion.pyx\", line 85, in pandas._libs.tslibs.tzconversion.Localizer.__cinit__\n",
      "  File \"pandas\\_libs\\tslibs\\timezones.pyx\", line 306, in pandas._libs.tslibs.timezones.get_dst_info\n",
      "AttributeError: 'NoneType' object has no attribute 'total_seconds'\n"
     ]
    },
    {
     "ename": "AttributeError",
     "evalue": "'NoneType' object has no attribute 'total_seconds'",
     "output_type": "error",
     "traceback": [
      "\u001b[1;31m---------------------------------------------------------------------------\u001b[0m",
      "\u001b[1;31mAttributeError\u001b[0m                            Traceback (most recent call last)",
      "\u001b[1;32mc:\\Users\\henry.gu\\Anaconda3\\envs\\Python\\lib\\site-packages\\pandas\\_libs\\tslibs\\tzconversion.pyx\u001b[0m in \u001b[0;36mpandas._libs.tslibs.tzconversion.Localizer.__cinit__\u001b[1;34m()\u001b[0m\n",
      "\u001b[1;32mc:\\Users\\henry.gu\\Anaconda3\\envs\\Python\\lib\\site-packages\\pandas\\_libs\\tslibs\\timezones.pyx\u001b[0m in \u001b[0;36mpandas._libs.tslibs.timezones.get_dst_info\u001b[1;34m()\u001b[0m\n",
      "\u001b[1;31mAttributeError\u001b[0m: 'NoneType' object has no attribute 'total_seconds'"
     ]
    },
    {
     "name": "stderr",
     "output_type": "stream",
     "text": [
      "Exception ignored in: 'pandas._libs.tslibs.conversion._localize_tso'\n",
      "Traceback (most recent call last):\n",
      "  File \"pandas\\_libs\\tslibs\\tzconversion.pyx\", line 85, in pandas._libs.tslibs.tzconversion.Localizer.__cinit__\n",
      "  File \"pandas\\_libs\\tslibs\\timezones.pyx\", line 306, in pandas._libs.tslibs.timezones.get_dst_info\n",
      "AttributeError: 'NoneType' object has no attribute 'total_seconds'\n"
     ]
    },
    {
     "ename": "AttributeError",
     "evalue": "'NoneType' object has no attribute 'total_seconds'",
     "output_type": "error",
     "traceback": [
      "\u001b[1;31m---------------------------------------------------------------------------\u001b[0m",
      "\u001b[1;31mAttributeError\u001b[0m                            Traceback (most recent call last)",
      "\u001b[1;32mc:\\Users\\henry.gu\\Anaconda3\\envs\\Python\\lib\\site-packages\\pandas\\_libs\\tslibs\\tzconversion.pyx\u001b[0m in \u001b[0;36mpandas._libs.tslibs.tzconversion.Localizer.__cinit__\u001b[1;34m()\u001b[0m\n",
      "\u001b[1;32mc:\\Users\\henry.gu\\Anaconda3\\envs\\Python\\lib\\site-packages\\pandas\\_libs\\tslibs\\timezones.pyx\u001b[0m in \u001b[0;36mpandas._libs.tslibs.timezones.get_dst_info\u001b[1;34m()\u001b[0m\n",
      "\u001b[1;31mAttributeError\u001b[0m: 'NoneType' object has no attribute 'total_seconds'"
     ]
    },
    {
     "name": "stderr",
     "output_type": "stream",
     "text": [
      "Exception ignored in: 'pandas._libs.tslibs.conversion._localize_tso'\n",
      "Traceback (most recent call last):\n",
      "  File \"pandas\\_libs\\tslibs\\tzconversion.pyx\", line 85, in pandas._libs.tslibs.tzconversion.Localizer.__cinit__\n",
      "  File \"pandas\\_libs\\tslibs\\timezones.pyx\", line 306, in pandas._libs.tslibs.timezones.get_dst_info\n",
      "AttributeError: 'NoneType' object has no attribute 'total_seconds'\n"
     ]
    },
    {
     "ename": "AttributeError",
     "evalue": "'NoneType' object has no attribute 'total_seconds'",
     "output_type": "error",
     "traceback": [
      "\u001b[1;31m---------------------------------------------------------------------------\u001b[0m",
      "\u001b[1;31mAttributeError\u001b[0m                            Traceback (most recent call last)",
      "\u001b[1;32mc:\\Users\\henry.gu\\Anaconda3\\envs\\Python\\lib\\site-packages\\pandas\\_libs\\tslibs\\tzconversion.pyx\u001b[0m in \u001b[0;36mpandas._libs.tslibs.tzconversion.Localizer.__cinit__\u001b[1;34m()\u001b[0m\n",
      "\u001b[1;32mc:\\Users\\henry.gu\\Anaconda3\\envs\\Python\\lib\\site-packages\\pandas\\_libs\\tslibs\\timezones.pyx\u001b[0m in \u001b[0;36mpandas._libs.tslibs.timezones.get_dst_info\u001b[1;34m()\u001b[0m\n",
      "\u001b[1;31mAttributeError\u001b[0m: 'NoneType' object has no attribute 'total_seconds'"
     ]
    },
    {
     "name": "stderr",
     "output_type": "stream",
     "text": [
      "Exception ignored in: 'pandas._libs.tslibs.conversion._localize_tso'\n",
      "Traceback (most recent call last):\n",
      "  File \"pandas\\_libs\\tslibs\\tzconversion.pyx\", line 85, in pandas._libs.tslibs.tzconversion.Localizer.__cinit__\n",
      "  File \"pandas\\_libs\\tslibs\\timezones.pyx\", line 306, in pandas._libs.tslibs.timezones.get_dst_info\n",
      "AttributeError: 'NoneType' object has no attribute 'total_seconds'\n"
     ]
    },
    {
     "ename": "AttributeError",
     "evalue": "'NoneType' object has no attribute 'total_seconds'",
     "output_type": "error",
     "traceback": [
      "\u001b[1;31m---------------------------------------------------------------------------\u001b[0m",
      "\u001b[1;31mAttributeError\u001b[0m                            Traceback (most recent call last)",
      "\u001b[1;32mc:\\Users\\henry.gu\\Anaconda3\\envs\\Python\\lib\\site-packages\\pandas\\_libs\\tslibs\\tzconversion.pyx\u001b[0m in \u001b[0;36mpandas._libs.tslibs.tzconversion.Localizer.__cinit__\u001b[1;34m()\u001b[0m\n",
      "\u001b[1;32mc:\\Users\\henry.gu\\Anaconda3\\envs\\Python\\lib\\site-packages\\pandas\\_libs\\tslibs\\timezones.pyx\u001b[0m in \u001b[0;36mpandas._libs.tslibs.timezones.get_dst_info\u001b[1;34m()\u001b[0m\n",
      "\u001b[1;31mAttributeError\u001b[0m: 'NoneType' object has no attribute 'total_seconds'"
     ]
    },
    {
     "name": "stderr",
     "output_type": "stream",
     "text": [
      "Exception ignored in: 'pandas._libs.tslibs.conversion._localize_tso'\n",
      "Traceback (most recent call last):\n",
      "  File \"pandas\\_libs\\tslibs\\tzconversion.pyx\", line 85, in pandas._libs.tslibs.tzconversion.Localizer.__cinit__\n",
      "  File \"pandas\\_libs\\tslibs\\timezones.pyx\", line 306, in pandas._libs.tslibs.timezones.get_dst_info\n",
      "AttributeError: 'NoneType' object has no attribute 'total_seconds'\n"
     ]
    },
    {
     "ename": "AttributeError",
     "evalue": "'NoneType' object has no attribute 'total_seconds'",
     "output_type": "error",
     "traceback": [
      "\u001b[1;31m---------------------------------------------------------------------------\u001b[0m",
      "\u001b[1;31mAttributeError\u001b[0m                            Traceback (most recent call last)",
      "\u001b[1;32mc:\\Users\\henry.gu\\Anaconda3\\envs\\Python\\lib\\site-packages\\pandas\\_libs\\tslibs\\tzconversion.pyx\u001b[0m in \u001b[0;36mpandas._libs.tslibs.tzconversion.Localizer.__cinit__\u001b[1;34m()\u001b[0m\n",
      "\u001b[1;32mc:\\Users\\henry.gu\\Anaconda3\\envs\\Python\\lib\\site-packages\\pandas\\_libs\\tslibs\\timezones.pyx\u001b[0m in \u001b[0;36mpandas._libs.tslibs.timezones.get_dst_info\u001b[1;34m()\u001b[0m\n",
      "\u001b[1;31mAttributeError\u001b[0m: 'NoneType' object has no attribute 'total_seconds'"
     ]
    },
    {
     "name": "stderr",
     "output_type": "stream",
     "text": [
      "Exception ignored in: 'pandas._libs.tslibs.conversion._localize_tso'\n",
      "Traceback (most recent call last):\n",
      "  File \"pandas\\_libs\\tslibs\\tzconversion.pyx\", line 85, in pandas._libs.tslibs.tzconversion.Localizer.__cinit__\n",
      "  File \"pandas\\_libs\\tslibs\\timezones.pyx\", line 306, in pandas._libs.tslibs.timezones.get_dst_info\n",
      "AttributeError: 'NoneType' object has no attribute 'total_seconds'\n"
     ]
    },
    {
     "ename": "AttributeError",
     "evalue": "'NoneType' object has no attribute 'total_seconds'",
     "output_type": "error",
     "traceback": [
      "\u001b[1;31m---------------------------------------------------------------------------\u001b[0m",
      "\u001b[1;31mAttributeError\u001b[0m                            Traceback (most recent call last)",
      "\u001b[1;32mc:\\Users\\henry.gu\\Anaconda3\\envs\\Python\\lib\\site-packages\\pandas\\_libs\\tslibs\\tzconversion.pyx\u001b[0m in \u001b[0;36mpandas._libs.tslibs.tzconversion.Localizer.__cinit__\u001b[1;34m()\u001b[0m\n",
      "\u001b[1;32mc:\\Users\\henry.gu\\Anaconda3\\envs\\Python\\lib\\site-packages\\pandas\\_libs\\tslibs\\timezones.pyx\u001b[0m in \u001b[0;36mpandas._libs.tslibs.timezones.get_dst_info\u001b[1;34m()\u001b[0m\n",
      "\u001b[1;31mAttributeError\u001b[0m: 'NoneType' object has no attribute 'total_seconds'"
     ]
    },
    {
     "name": "stderr",
     "output_type": "stream",
     "text": [
      "Exception ignored in: 'pandas._libs.tslibs.conversion._localize_tso'\n",
      "Traceback (most recent call last):\n",
      "  File \"pandas\\_libs\\tslibs\\tzconversion.pyx\", line 85, in pandas._libs.tslibs.tzconversion.Localizer.__cinit__\n",
      "  File \"pandas\\_libs\\tslibs\\timezones.pyx\", line 306, in pandas._libs.tslibs.timezones.get_dst_info\n",
      "AttributeError: 'NoneType' object has no attribute 'total_seconds'\n"
     ]
    },
    {
     "ename": "AttributeError",
     "evalue": "'NoneType' object has no attribute 'total_seconds'",
     "output_type": "error",
     "traceback": [
      "\u001b[1;31m---------------------------------------------------------------------------\u001b[0m",
      "\u001b[1;31mAttributeError\u001b[0m                            Traceback (most recent call last)",
      "\u001b[1;32mc:\\Users\\henry.gu\\Anaconda3\\envs\\Python\\lib\\site-packages\\pandas\\_libs\\tslibs\\tzconversion.pyx\u001b[0m in \u001b[0;36mpandas._libs.tslibs.tzconversion.Localizer.__cinit__\u001b[1;34m()\u001b[0m\n",
      "\u001b[1;32mc:\\Users\\henry.gu\\Anaconda3\\envs\\Python\\lib\\site-packages\\pandas\\_libs\\tslibs\\timezones.pyx\u001b[0m in \u001b[0;36mpandas._libs.tslibs.timezones.get_dst_info\u001b[1;34m()\u001b[0m\n",
      "\u001b[1;31mAttributeError\u001b[0m: 'NoneType' object has no attribute 'total_seconds'"
     ]
    },
    {
     "name": "stderr",
     "output_type": "stream",
     "text": [
      "Exception ignored in: 'pandas._libs.tslibs.conversion._localize_tso'\n",
      "Traceback (most recent call last):\n",
      "  File \"pandas\\_libs\\tslibs\\tzconversion.pyx\", line 85, in pandas._libs.tslibs.tzconversion.Localizer.__cinit__\n",
      "  File \"pandas\\_libs\\tslibs\\timezones.pyx\", line 306, in pandas._libs.tslibs.timezones.get_dst_info\n",
      "AttributeError: 'NoneType' object has no attribute 'total_seconds'\n"
     ]
    },
    {
     "ename": "AttributeError",
     "evalue": "'NoneType' object has no attribute 'total_seconds'",
     "output_type": "error",
     "traceback": [
      "\u001b[1;31m---------------------------------------------------------------------------\u001b[0m",
      "\u001b[1;31mAttributeError\u001b[0m                            Traceback (most recent call last)",
      "\u001b[1;32mc:\\Users\\henry.gu\\Anaconda3\\envs\\Python\\lib\\site-packages\\pandas\\_libs\\tslibs\\tzconversion.pyx\u001b[0m in \u001b[0;36mpandas._libs.tslibs.tzconversion.Localizer.__cinit__\u001b[1;34m()\u001b[0m\n",
      "\u001b[1;32mc:\\Users\\henry.gu\\Anaconda3\\envs\\Python\\lib\\site-packages\\pandas\\_libs\\tslibs\\timezones.pyx\u001b[0m in \u001b[0;36mpandas._libs.tslibs.timezones.get_dst_info\u001b[1;34m()\u001b[0m\n",
      "\u001b[1;31mAttributeError\u001b[0m: 'NoneType' object has no attribute 'total_seconds'"
     ]
    },
    {
     "name": "stderr",
     "output_type": "stream",
     "text": [
      "Exception ignored in: 'pandas._libs.tslibs.conversion._localize_tso'\n",
      "Traceback (most recent call last):\n",
      "  File \"pandas\\_libs\\tslibs\\tzconversion.pyx\", line 85, in pandas._libs.tslibs.tzconversion.Localizer.__cinit__\n",
      "  File \"pandas\\_libs\\tslibs\\timezones.pyx\", line 306, in pandas._libs.tslibs.timezones.get_dst_info\n",
      "AttributeError: 'NoneType' object has no attribute 'total_seconds'\n"
     ]
    },
    {
     "ename": "AttributeError",
     "evalue": "'NoneType' object has no attribute 'total_seconds'",
     "output_type": "error",
     "traceback": [
      "\u001b[1;31m---------------------------------------------------------------------------\u001b[0m",
      "\u001b[1;31mAttributeError\u001b[0m                            Traceback (most recent call last)",
      "\u001b[1;32mc:\\Users\\henry.gu\\Anaconda3\\envs\\Python\\lib\\site-packages\\pandas\\_libs\\tslibs\\tzconversion.pyx\u001b[0m in \u001b[0;36mpandas._libs.tslibs.tzconversion.Localizer.__cinit__\u001b[1;34m()\u001b[0m\n",
      "\u001b[1;32mc:\\Users\\henry.gu\\Anaconda3\\envs\\Python\\lib\\site-packages\\pandas\\_libs\\tslibs\\timezones.pyx\u001b[0m in \u001b[0;36mpandas._libs.tslibs.timezones.get_dst_info\u001b[1;34m()\u001b[0m\n",
      "\u001b[1;31mAttributeError\u001b[0m: 'NoneType' object has no attribute 'total_seconds'"
     ]
    },
    {
     "name": "stderr",
     "output_type": "stream",
     "text": [
      "Exception ignored in: 'pandas._libs.tslibs.conversion._localize_tso'\n",
      "Traceback (most recent call last):\n",
      "  File \"pandas\\_libs\\tslibs\\tzconversion.pyx\", line 85, in pandas._libs.tslibs.tzconversion.Localizer.__cinit__\n",
      "  File \"pandas\\_libs\\tslibs\\timezones.pyx\", line 306, in pandas._libs.tslibs.timezones.get_dst_info\n",
      "AttributeError: 'NoneType' object has no attribute 'total_seconds'\n"
     ]
    },
    {
     "ename": "AttributeError",
     "evalue": "'NoneType' object has no attribute 'total_seconds'",
     "output_type": "error",
     "traceback": [
      "\u001b[1;31m---------------------------------------------------------------------------\u001b[0m",
      "\u001b[1;31mAttributeError\u001b[0m                            Traceback (most recent call last)",
      "\u001b[1;32mc:\\Users\\henry.gu\\Anaconda3\\envs\\Python\\lib\\site-packages\\pandas\\_libs\\tslibs\\tzconversion.pyx\u001b[0m in \u001b[0;36mpandas._libs.tslibs.tzconversion.Localizer.__cinit__\u001b[1;34m()\u001b[0m\n",
      "\u001b[1;32mc:\\Users\\henry.gu\\Anaconda3\\envs\\Python\\lib\\site-packages\\pandas\\_libs\\tslibs\\timezones.pyx\u001b[0m in \u001b[0;36mpandas._libs.tslibs.timezones.get_dst_info\u001b[1;34m()\u001b[0m\n",
      "\u001b[1;31mAttributeError\u001b[0m: 'NoneType' object has no attribute 'total_seconds'"
     ]
    },
    {
     "name": "stderr",
     "output_type": "stream",
     "text": [
      "Exception ignored in: 'pandas._libs.tslibs.conversion._localize_tso'\n",
      "Traceback (most recent call last):\n",
      "  File \"pandas\\_libs\\tslibs\\tzconversion.pyx\", line 85, in pandas._libs.tslibs.tzconversion.Localizer.__cinit__\n",
      "  File \"pandas\\_libs\\tslibs\\timezones.pyx\", line 306, in pandas._libs.tslibs.timezones.get_dst_info\n",
      "AttributeError: 'NoneType' object has no attribute 'total_seconds'\n"
     ]
    },
    {
     "ename": "AttributeError",
     "evalue": "'NoneType' object has no attribute 'total_seconds'",
     "output_type": "error",
     "traceback": [
      "\u001b[1;31m---------------------------------------------------------------------------\u001b[0m",
      "\u001b[1;31mAttributeError\u001b[0m                            Traceback (most recent call last)",
      "\u001b[1;32mc:\\Users\\henry.gu\\Anaconda3\\envs\\Python\\lib\\site-packages\\pandas\\_libs\\tslibs\\tzconversion.pyx\u001b[0m in \u001b[0;36mpandas._libs.tslibs.tzconversion.Localizer.__cinit__\u001b[1;34m()\u001b[0m\n",
      "\u001b[1;32mc:\\Users\\henry.gu\\Anaconda3\\envs\\Python\\lib\\site-packages\\pandas\\_libs\\tslibs\\timezones.pyx\u001b[0m in \u001b[0;36mpandas._libs.tslibs.timezones.get_dst_info\u001b[1;34m()\u001b[0m\n",
      "\u001b[1;31mAttributeError\u001b[0m: 'NoneType' object has no attribute 'total_seconds'"
     ]
    },
    {
     "name": "stderr",
     "output_type": "stream",
     "text": [
      "Exception ignored in: 'pandas._libs.tslibs.conversion._localize_tso'\n",
      "Traceback (most recent call last):\n",
      "  File \"pandas\\_libs\\tslibs\\tzconversion.pyx\", line 85, in pandas._libs.tslibs.tzconversion.Localizer.__cinit__\n",
      "  File \"pandas\\_libs\\tslibs\\timezones.pyx\", line 306, in pandas._libs.tslibs.timezones.get_dst_info\n",
      "AttributeError: 'NoneType' object has no attribute 'total_seconds'\n"
     ]
    },
    {
     "ename": "AttributeError",
     "evalue": "'NoneType' object has no attribute 'total_seconds'",
     "output_type": "error",
     "traceback": [
      "\u001b[1;31m---------------------------------------------------------------------------\u001b[0m",
      "\u001b[1;31mAttributeError\u001b[0m                            Traceback (most recent call last)",
      "\u001b[1;32mc:\\Users\\henry.gu\\Anaconda3\\envs\\Python\\lib\\site-packages\\pandas\\_libs\\tslibs\\tzconversion.pyx\u001b[0m in \u001b[0;36mpandas._libs.tslibs.tzconversion.Localizer.__cinit__\u001b[1;34m()\u001b[0m\n",
      "\u001b[1;32mc:\\Users\\henry.gu\\Anaconda3\\envs\\Python\\lib\\site-packages\\pandas\\_libs\\tslibs\\timezones.pyx\u001b[0m in \u001b[0;36mpandas._libs.tslibs.timezones.get_dst_info\u001b[1;34m()\u001b[0m\n",
      "\u001b[1;31mAttributeError\u001b[0m: 'NoneType' object has no attribute 'total_seconds'"
     ]
    },
    {
     "name": "stderr",
     "output_type": "stream",
     "text": [
      "Exception ignored in: 'pandas._libs.tslibs.conversion._localize_tso'\n",
      "Traceback (most recent call last):\n",
      "  File \"pandas\\_libs\\tslibs\\tzconversion.pyx\", line 85, in pandas._libs.tslibs.tzconversion.Localizer.__cinit__\n",
      "  File \"pandas\\_libs\\tslibs\\timezones.pyx\", line 306, in pandas._libs.tslibs.timezones.get_dst_info\n",
      "AttributeError: 'NoneType' object has no attribute 'total_seconds'\n"
     ]
    },
    {
     "ename": "AttributeError",
     "evalue": "'NoneType' object has no attribute 'total_seconds'",
     "output_type": "error",
     "traceback": [
      "\u001b[1;31m---------------------------------------------------------------------------\u001b[0m",
      "\u001b[1;31mAttributeError\u001b[0m                            Traceback (most recent call last)",
      "\u001b[1;32mc:\\Users\\henry.gu\\Anaconda3\\envs\\Python\\lib\\site-packages\\pandas\\_libs\\tslibs\\tzconversion.pyx\u001b[0m in \u001b[0;36mpandas._libs.tslibs.tzconversion.Localizer.__cinit__\u001b[1;34m()\u001b[0m\n",
      "\u001b[1;32mc:\\Users\\henry.gu\\Anaconda3\\envs\\Python\\lib\\site-packages\\pandas\\_libs\\tslibs\\timezones.pyx\u001b[0m in \u001b[0;36mpandas._libs.tslibs.timezones.get_dst_info\u001b[1;34m()\u001b[0m\n",
      "\u001b[1;31mAttributeError\u001b[0m: 'NoneType' object has no attribute 'total_seconds'"
     ]
    },
    {
     "name": "stderr",
     "output_type": "stream",
     "text": [
      "Exception ignored in: 'pandas._libs.tslibs.conversion._localize_tso'\n",
      "Traceback (most recent call last):\n",
      "  File \"pandas\\_libs\\tslibs\\tzconversion.pyx\", line 85, in pandas._libs.tslibs.tzconversion.Localizer.__cinit__\n",
      "  File \"pandas\\_libs\\tslibs\\timezones.pyx\", line 306, in pandas._libs.tslibs.timezones.get_dst_info\n",
      "AttributeError: 'NoneType' object has no attribute 'total_seconds'\n"
     ]
    },
    {
     "ename": "AttributeError",
     "evalue": "'NoneType' object has no attribute 'total_seconds'",
     "output_type": "error",
     "traceback": [
      "\u001b[1;31m---------------------------------------------------------------------------\u001b[0m",
      "\u001b[1;31mAttributeError\u001b[0m                            Traceback (most recent call last)",
      "\u001b[1;32mc:\\Users\\henry.gu\\Anaconda3\\envs\\Python\\lib\\site-packages\\pandas\\_libs\\tslibs\\tzconversion.pyx\u001b[0m in \u001b[0;36mpandas._libs.tslibs.tzconversion.Localizer.__cinit__\u001b[1;34m()\u001b[0m\n",
      "\u001b[1;32mc:\\Users\\henry.gu\\Anaconda3\\envs\\Python\\lib\\site-packages\\pandas\\_libs\\tslibs\\timezones.pyx\u001b[0m in \u001b[0;36mpandas._libs.tslibs.timezones.get_dst_info\u001b[1;34m()\u001b[0m\n",
      "\u001b[1;31mAttributeError\u001b[0m: 'NoneType' object has no attribute 'total_seconds'"
     ]
    },
    {
     "name": "stderr",
     "output_type": "stream",
     "text": [
      "Exception ignored in: 'pandas._libs.tslibs.conversion._localize_tso'\n",
      "Traceback (most recent call last):\n",
      "  File \"pandas\\_libs\\tslibs\\tzconversion.pyx\", line 85, in pandas._libs.tslibs.tzconversion.Localizer.__cinit__\n",
      "  File \"pandas\\_libs\\tslibs\\timezones.pyx\", line 306, in pandas._libs.tslibs.timezones.get_dst_info\n",
      "AttributeError: 'NoneType' object has no attribute 'total_seconds'\n"
     ]
    },
    {
     "ename": "AttributeError",
     "evalue": "'NoneType' object has no attribute 'total_seconds'",
     "output_type": "error",
     "traceback": [
      "\u001b[1;31m---------------------------------------------------------------------------\u001b[0m",
      "\u001b[1;31mAttributeError\u001b[0m                            Traceback (most recent call last)",
      "\u001b[1;32mc:\\Users\\henry.gu\\Anaconda3\\envs\\Python\\lib\\site-packages\\pandas\\_libs\\tslibs\\tzconversion.pyx\u001b[0m in \u001b[0;36mpandas._libs.tslibs.tzconversion.Localizer.__cinit__\u001b[1;34m()\u001b[0m\n",
      "\u001b[1;32mc:\\Users\\henry.gu\\Anaconda3\\envs\\Python\\lib\\site-packages\\pandas\\_libs\\tslibs\\timezones.pyx\u001b[0m in \u001b[0;36mpandas._libs.tslibs.timezones.get_dst_info\u001b[1;34m()\u001b[0m\n",
      "\u001b[1;31mAttributeError\u001b[0m: 'NoneType' object has no attribute 'total_seconds'"
     ]
    },
    {
     "name": "stderr",
     "output_type": "stream",
     "text": [
      "Exception ignored in: 'pandas._libs.tslibs.conversion._localize_tso'\n",
      "Traceback (most recent call last):\n",
      "  File \"pandas\\_libs\\tslibs\\tzconversion.pyx\", line 85, in pandas._libs.tslibs.tzconversion.Localizer.__cinit__\n",
      "  File \"pandas\\_libs\\tslibs\\timezones.pyx\", line 306, in pandas._libs.tslibs.timezones.get_dst_info\n",
      "AttributeError: 'NoneType' object has no attribute 'total_seconds'\n"
     ]
    },
    {
     "ename": "AttributeError",
     "evalue": "'NoneType' object has no attribute 'total_seconds'",
     "output_type": "error",
     "traceback": [
      "\u001b[1;31m---------------------------------------------------------------------------\u001b[0m",
      "\u001b[1;31mAttributeError\u001b[0m                            Traceback (most recent call last)",
      "\u001b[1;32mc:\\Users\\henry.gu\\Anaconda3\\envs\\Python\\lib\\site-packages\\pandas\\_libs\\tslibs\\tzconversion.pyx\u001b[0m in \u001b[0;36mpandas._libs.tslibs.tzconversion.Localizer.__cinit__\u001b[1;34m()\u001b[0m\n",
      "\u001b[1;32mc:\\Users\\henry.gu\\Anaconda3\\envs\\Python\\lib\\site-packages\\pandas\\_libs\\tslibs\\timezones.pyx\u001b[0m in \u001b[0;36mpandas._libs.tslibs.timezones.get_dst_info\u001b[1;34m()\u001b[0m\n",
      "\u001b[1;31mAttributeError\u001b[0m: 'NoneType' object has no attribute 'total_seconds'"
     ]
    },
    {
     "name": "stderr",
     "output_type": "stream",
     "text": [
      "Exception ignored in: 'pandas._libs.tslibs.conversion._localize_tso'\n",
      "Traceback (most recent call last):\n",
      "  File \"pandas\\_libs\\tslibs\\tzconversion.pyx\", line 85, in pandas._libs.tslibs.tzconversion.Localizer.__cinit__\n",
      "  File \"pandas\\_libs\\tslibs\\timezones.pyx\", line 306, in pandas._libs.tslibs.timezones.get_dst_info\n",
      "AttributeError: 'NoneType' object has no attribute 'total_seconds'\n"
     ]
    },
    {
     "ename": "AttributeError",
     "evalue": "'NoneType' object has no attribute 'total_seconds'",
     "output_type": "error",
     "traceback": [
      "\u001b[1;31m---------------------------------------------------------------------------\u001b[0m",
      "\u001b[1;31mAttributeError\u001b[0m                            Traceback (most recent call last)",
      "\u001b[1;32mc:\\Users\\henry.gu\\Anaconda3\\envs\\Python\\lib\\site-packages\\pandas\\_libs\\tslibs\\tzconversion.pyx\u001b[0m in \u001b[0;36mpandas._libs.tslibs.tzconversion.Localizer.__cinit__\u001b[1;34m()\u001b[0m\n",
      "\u001b[1;32mc:\\Users\\henry.gu\\Anaconda3\\envs\\Python\\lib\\site-packages\\pandas\\_libs\\tslibs\\timezones.pyx\u001b[0m in \u001b[0;36mpandas._libs.tslibs.timezones.get_dst_info\u001b[1;34m()\u001b[0m\n",
      "\u001b[1;31mAttributeError\u001b[0m: 'NoneType' object has no attribute 'total_seconds'"
     ]
    },
    {
     "name": "stderr",
     "output_type": "stream",
     "text": [
      "Exception ignored in: 'pandas._libs.tslibs.conversion._localize_tso'\n",
      "Traceback (most recent call last):\n",
      "  File \"pandas\\_libs\\tslibs\\tzconversion.pyx\", line 85, in pandas._libs.tslibs.tzconversion.Localizer.__cinit__\n",
      "  File \"pandas\\_libs\\tslibs\\timezones.pyx\", line 306, in pandas._libs.tslibs.timezones.get_dst_info\n",
      "AttributeError: 'NoneType' object has no attribute 'total_seconds'\n"
     ]
    },
    {
     "ename": "AttributeError",
     "evalue": "'NoneType' object has no attribute 'total_seconds'",
     "output_type": "error",
     "traceback": [
      "\u001b[1;31m---------------------------------------------------------------------------\u001b[0m",
      "\u001b[1;31mAttributeError\u001b[0m                            Traceback (most recent call last)",
      "\u001b[1;32mc:\\Users\\henry.gu\\Anaconda3\\envs\\Python\\lib\\site-packages\\pandas\\_libs\\tslibs\\tzconversion.pyx\u001b[0m in \u001b[0;36mpandas._libs.tslibs.tzconversion.Localizer.__cinit__\u001b[1;34m()\u001b[0m\n",
      "\u001b[1;32mc:\\Users\\henry.gu\\Anaconda3\\envs\\Python\\lib\\site-packages\\pandas\\_libs\\tslibs\\timezones.pyx\u001b[0m in \u001b[0;36mpandas._libs.tslibs.timezones.get_dst_info\u001b[1;34m()\u001b[0m\n",
      "\u001b[1;31mAttributeError\u001b[0m: 'NoneType' object has no attribute 'total_seconds'"
     ]
    },
    {
     "name": "stderr",
     "output_type": "stream",
     "text": [
      "Exception ignored in: 'pandas._libs.tslibs.conversion._localize_tso'\n",
      "Traceback (most recent call last):\n",
      "  File \"pandas\\_libs\\tslibs\\tzconversion.pyx\", line 85, in pandas._libs.tslibs.tzconversion.Localizer.__cinit__\n",
      "  File \"pandas\\_libs\\tslibs\\timezones.pyx\", line 306, in pandas._libs.tslibs.timezones.get_dst_info\n",
      "AttributeError: 'NoneType' object has no attribute 'total_seconds'\n"
     ]
    },
    {
     "ename": "AttributeError",
     "evalue": "'NoneType' object has no attribute 'total_seconds'",
     "output_type": "error",
     "traceback": [
      "\u001b[1;31m---------------------------------------------------------------------------\u001b[0m",
      "\u001b[1;31mAttributeError\u001b[0m                            Traceback (most recent call last)",
      "\u001b[1;32mc:\\Users\\henry.gu\\Anaconda3\\envs\\Python\\lib\\site-packages\\pandas\\_libs\\tslibs\\tzconversion.pyx\u001b[0m in \u001b[0;36mpandas._libs.tslibs.tzconversion.Localizer.__cinit__\u001b[1;34m()\u001b[0m\n",
      "\u001b[1;32mc:\\Users\\henry.gu\\Anaconda3\\envs\\Python\\lib\\site-packages\\pandas\\_libs\\tslibs\\timezones.pyx\u001b[0m in \u001b[0;36mpandas._libs.tslibs.timezones.get_dst_info\u001b[1;34m()\u001b[0m\n",
      "\u001b[1;31mAttributeError\u001b[0m: 'NoneType' object has no attribute 'total_seconds'"
     ]
    },
    {
     "name": "stderr",
     "output_type": "stream",
     "text": [
      "Exception ignored in: 'pandas._libs.tslibs.conversion._localize_tso'\n",
      "Traceback (most recent call last):\n",
      "  File \"pandas\\_libs\\tslibs\\tzconversion.pyx\", line 85, in pandas._libs.tslibs.tzconversion.Localizer.__cinit__\n",
      "  File \"pandas\\_libs\\tslibs\\timezones.pyx\", line 306, in pandas._libs.tslibs.timezones.get_dst_info\n",
      "AttributeError: 'NoneType' object has no attribute 'total_seconds'\n"
     ]
    },
    {
     "ename": "AttributeError",
     "evalue": "'NoneType' object has no attribute 'total_seconds'",
     "output_type": "error",
     "traceback": [
      "\u001b[1;31m---------------------------------------------------------------------------\u001b[0m",
      "\u001b[1;31mAttributeError\u001b[0m                            Traceback (most recent call last)",
      "\u001b[1;32mc:\\Users\\henry.gu\\Anaconda3\\envs\\Python\\lib\\site-packages\\pandas\\_libs\\tslibs\\tzconversion.pyx\u001b[0m in \u001b[0;36mpandas._libs.tslibs.tzconversion.Localizer.__cinit__\u001b[1;34m()\u001b[0m\n",
      "\u001b[1;32mc:\\Users\\henry.gu\\Anaconda3\\envs\\Python\\lib\\site-packages\\pandas\\_libs\\tslibs\\timezones.pyx\u001b[0m in \u001b[0;36mpandas._libs.tslibs.timezones.get_dst_info\u001b[1;34m()\u001b[0m\n",
      "\u001b[1;31mAttributeError\u001b[0m: 'NoneType' object has no attribute 'total_seconds'"
     ]
    },
    {
     "name": "stderr",
     "output_type": "stream",
     "text": [
      "Exception ignored in: 'pandas._libs.tslibs.conversion._localize_tso'\n",
      "Traceback (most recent call last):\n",
      "  File \"pandas\\_libs\\tslibs\\tzconversion.pyx\", line 85, in pandas._libs.tslibs.tzconversion.Localizer.__cinit__\n",
      "  File \"pandas\\_libs\\tslibs\\timezones.pyx\", line 306, in pandas._libs.tslibs.timezones.get_dst_info\n",
      "AttributeError: 'NoneType' object has no attribute 'total_seconds'\n"
     ]
    },
    {
     "ename": "AttributeError",
     "evalue": "'NoneType' object has no attribute 'total_seconds'",
     "output_type": "error",
     "traceback": [
      "\u001b[1;31m---------------------------------------------------------------------------\u001b[0m",
      "\u001b[1;31mAttributeError\u001b[0m                            Traceback (most recent call last)",
      "\u001b[1;32mc:\\Users\\henry.gu\\Anaconda3\\envs\\Python\\lib\\site-packages\\pandas\\_libs\\tslibs\\tzconversion.pyx\u001b[0m in \u001b[0;36mpandas._libs.tslibs.tzconversion.Localizer.__cinit__\u001b[1;34m()\u001b[0m\n",
      "\u001b[1;32mc:\\Users\\henry.gu\\Anaconda3\\envs\\Python\\lib\\site-packages\\pandas\\_libs\\tslibs\\timezones.pyx\u001b[0m in \u001b[0;36mpandas._libs.tslibs.timezones.get_dst_info\u001b[1;34m()\u001b[0m\n",
      "\u001b[1;31mAttributeError\u001b[0m: 'NoneType' object has no attribute 'total_seconds'"
     ]
    },
    {
     "name": "stderr",
     "output_type": "stream",
     "text": [
      "Exception ignored in: 'pandas._libs.tslibs.conversion._localize_tso'\n",
      "Traceback (most recent call last):\n",
      "  File \"pandas\\_libs\\tslibs\\tzconversion.pyx\", line 85, in pandas._libs.tslibs.tzconversion.Localizer.__cinit__\n",
      "  File \"pandas\\_libs\\tslibs\\timezones.pyx\", line 306, in pandas._libs.tslibs.timezones.get_dst_info\n",
      "AttributeError: 'NoneType' object has no attribute 'total_seconds'\n"
     ]
    },
    {
     "ename": "AttributeError",
     "evalue": "'NoneType' object has no attribute 'total_seconds'",
     "output_type": "error",
     "traceback": [
      "\u001b[1;31m---------------------------------------------------------------------------\u001b[0m",
      "\u001b[1;31mAttributeError\u001b[0m                            Traceback (most recent call last)",
      "\u001b[1;32mc:\\Users\\henry.gu\\Anaconda3\\envs\\Python\\lib\\site-packages\\pandas\\_libs\\tslibs\\tzconversion.pyx\u001b[0m in \u001b[0;36mpandas._libs.tslibs.tzconversion.Localizer.__cinit__\u001b[1;34m()\u001b[0m\n",
      "\u001b[1;32mc:\\Users\\henry.gu\\Anaconda3\\envs\\Python\\lib\\site-packages\\pandas\\_libs\\tslibs\\timezones.pyx\u001b[0m in \u001b[0;36mpandas._libs.tslibs.timezones.get_dst_info\u001b[1;34m()\u001b[0m\n",
      "\u001b[1;31mAttributeError\u001b[0m: 'NoneType' object has no attribute 'total_seconds'"
     ]
    },
    {
     "name": "stderr",
     "output_type": "stream",
     "text": [
      "Exception ignored in: 'pandas._libs.tslibs.conversion._localize_tso'\n",
      "Traceback (most recent call last):\n",
      "  File \"pandas\\_libs\\tslibs\\tzconversion.pyx\", line 85, in pandas._libs.tslibs.tzconversion.Localizer.__cinit__\n",
      "  File \"pandas\\_libs\\tslibs\\timezones.pyx\", line 306, in pandas._libs.tslibs.timezones.get_dst_info\n",
      "AttributeError: 'NoneType' object has no attribute 'total_seconds'\n"
     ]
    },
    {
     "ename": "AttributeError",
     "evalue": "'NoneType' object has no attribute 'total_seconds'",
     "output_type": "error",
     "traceback": [
      "\u001b[1;31m---------------------------------------------------------------------------\u001b[0m",
      "\u001b[1;31mAttributeError\u001b[0m                            Traceback (most recent call last)",
      "\u001b[1;32mc:\\Users\\henry.gu\\Anaconda3\\envs\\Python\\lib\\site-packages\\pandas\\_libs\\tslibs\\tzconversion.pyx\u001b[0m in \u001b[0;36mpandas._libs.tslibs.tzconversion.Localizer.__cinit__\u001b[1;34m()\u001b[0m\n",
      "\u001b[1;32mc:\\Users\\henry.gu\\Anaconda3\\envs\\Python\\lib\\site-packages\\pandas\\_libs\\tslibs\\timezones.pyx\u001b[0m in \u001b[0;36mpandas._libs.tslibs.timezones.get_dst_info\u001b[1;34m()\u001b[0m\n",
      "\u001b[1;31mAttributeError\u001b[0m: 'NoneType' object has no attribute 'total_seconds'"
     ]
    },
    {
     "name": "stderr",
     "output_type": "stream",
     "text": [
      "Exception ignored in: 'pandas._libs.tslibs.conversion._localize_tso'\n",
      "Traceback (most recent call last):\n",
      "  File \"pandas\\_libs\\tslibs\\tzconversion.pyx\", line 85, in pandas._libs.tslibs.tzconversion.Localizer.__cinit__\n",
      "  File \"pandas\\_libs\\tslibs\\timezones.pyx\", line 306, in pandas._libs.tslibs.timezones.get_dst_info\n",
      "AttributeError: 'NoneType' object has no attribute 'total_seconds'\n"
     ]
    },
    {
     "ename": "AttributeError",
     "evalue": "'NoneType' object has no attribute 'total_seconds'",
     "output_type": "error",
     "traceback": [
      "\u001b[1;31m---------------------------------------------------------------------------\u001b[0m",
      "\u001b[1;31mAttributeError\u001b[0m                            Traceback (most recent call last)",
      "\u001b[1;32mc:\\Users\\henry.gu\\Anaconda3\\envs\\Python\\lib\\site-packages\\pandas\\_libs\\tslibs\\tzconversion.pyx\u001b[0m in \u001b[0;36mpandas._libs.tslibs.tzconversion.Localizer.__cinit__\u001b[1;34m()\u001b[0m\n",
      "\u001b[1;32mc:\\Users\\henry.gu\\Anaconda3\\envs\\Python\\lib\\site-packages\\pandas\\_libs\\tslibs\\timezones.pyx\u001b[0m in \u001b[0;36mpandas._libs.tslibs.timezones.get_dst_info\u001b[1;34m()\u001b[0m\n",
      "\u001b[1;31mAttributeError\u001b[0m: 'NoneType' object has no attribute 'total_seconds'"
     ]
    },
    {
     "name": "stderr",
     "output_type": "stream",
     "text": [
      "Exception ignored in: 'pandas._libs.tslibs.conversion._localize_tso'\n",
      "Traceback (most recent call last):\n",
      "  File \"pandas\\_libs\\tslibs\\tzconversion.pyx\", line 85, in pandas._libs.tslibs.tzconversion.Localizer.__cinit__\n",
      "  File \"pandas\\_libs\\tslibs\\timezones.pyx\", line 306, in pandas._libs.tslibs.timezones.get_dst_info\n",
      "AttributeError: 'NoneType' object has no attribute 'total_seconds'\n"
     ]
    },
    {
     "ename": "AttributeError",
     "evalue": "'NoneType' object has no attribute 'total_seconds'",
     "output_type": "error",
     "traceback": [
      "\u001b[1;31m---------------------------------------------------------------------------\u001b[0m",
      "\u001b[1;31mAttributeError\u001b[0m                            Traceback (most recent call last)",
      "\u001b[1;32mc:\\Users\\henry.gu\\Anaconda3\\envs\\Python\\lib\\site-packages\\pandas\\_libs\\tslibs\\tzconversion.pyx\u001b[0m in \u001b[0;36mpandas._libs.tslibs.tzconversion.Localizer.__cinit__\u001b[1;34m()\u001b[0m\n",
      "\u001b[1;32mc:\\Users\\henry.gu\\Anaconda3\\envs\\Python\\lib\\site-packages\\pandas\\_libs\\tslibs\\timezones.pyx\u001b[0m in \u001b[0;36mpandas._libs.tslibs.timezones.get_dst_info\u001b[1;34m()\u001b[0m\n",
      "\u001b[1;31mAttributeError\u001b[0m: 'NoneType' object has no attribute 'total_seconds'"
     ]
    },
    {
     "name": "stderr",
     "output_type": "stream",
     "text": [
      "Exception ignored in: 'pandas._libs.tslibs.conversion._localize_tso'\n",
      "Traceback (most recent call last):\n",
      "  File \"pandas\\_libs\\tslibs\\tzconversion.pyx\", line 85, in pandas._libs.tslibs.tzconversion.Localizer.__cinit__\n",
      "  File \"pandas\\_libs\\tslibs\\timezones.pyx\", line 306, in pandas._libs.tslibs.timezones.get_dst_info\n",
      "AttributeError: 'NoneType' object has no attribute 'total_seconds'\n"
     ]
    },
    {
     "ename": "AttributeError",
     "evalue": "'NoneType' object has no attribute 'total_seconds'",
     "output_type": "error",
     "traceback": [
      "\u001b[1;31m---------------------------------------------------------------------------\u001b[0m",
      "\u001b[1;31mAttributeError\u001b[0m                            Traceback (most recent call last)",
      "\u001b[1;32mc:\\Users\\henry.gu\\Anaconda3\\envs\\Python\\lib\\site-packages\\pandas\\_libs\\tslibs\\tzconversion.pyx\u001b[0m in \u001b[0;36mpandas._libs.tslibs.tzconversion.Localizer.__cinit__\u001b[1;34m()\u001b[0m\n",
      "\u001b[1;32mc:\\Users\\henry.gu\\Anaconda3\\envs\\Python\\lib\\site-packages\\pandas\\_libs\\tslibs\\timezones.pyx\u001b[0m in \u001b[0;36mpandas._libs.tslibs.timezones.get_dst_info\u001b[1;34m()\u001b[0m\n",
      "\u001b[1;31mAttributeError\u001b[0m: 'NoneType' object has no attribute 'total_seconds'"
     ]
    },
    {
     "name": "stderr",
     "output_type": "stream",
     "text": [
      "Exception ignored in: 'pandas._libs.tslibs.conversion._localize_tso'\n",
      "Traceback (most recent call last):\n",
      "  File \"pandas\\_libs\\tslibs\\tzconversion.pyx\", line 85, in pandas._libs.tslibs.tzconversion.Localizer.__cinit__\n",
      "  File \"pandas\\_libs\\tslibs\\timezones.pyx\", line 306, in pandas._libs.tslibs.timezones.get_dst_info\n",
      "AttributeError: 'NoneType' object has no attribute 'total_seconds'\n"
     ]
    },
    {
     "ename": "AttributeError",
     "evalue": "'NoneType' object has no attribute 'total_seconds'",
     "output_type": "error",
     "traceback": [
      "\u001b[1;31m---------------------------------------------------------------------------\u001b[0m",
      "\u001b[1;31mAttributeError\u001b[0m                            Traceback (most recent call last)",
      "\u001b[1;32mc:\\Users\\henry.gu\\Anaconda3\\envs\\Python\\lib\\site-packages\\pandas\\_libs\\tslibs\\tzconversion.pyx\u001b[0m in \u001b[0;36mpandas._libs.tslibs.tzconversion.Localizer.__cinit__\u001b[1;34m()\u001b[0m\n",
      "\u001b[1;32mc:\\Users\\henry.gu\\Anaconda3\\envs\\Python\\lib\\site-packages\\pandas\\_libs\\tslibs\\timezones.pyx\u001b[0m in \u001b[0;36mpandas._libs.tslibs.timezones.get_dst_info\u001b[1;34m()\u001b[0m\n",
      "\u001b[1;31mAttributeError\u001b[0m: 'NoneType' object has no attribute 'total_seconds'"
     ]
    },
    {
     "name": "stderr",
     "output_type": "stream",
     "text": [
      "Exception ignored in: 'pandas._libs.tslibs.conversion._localize_tso'\n",
      "Traceback (most recent call last):\n",
      "  File \"pandas\\_libs\\tslibs\\tzconversion.pyx\", line 85, in pandas._libs.tslibs.tzconversion.Localizer.__cinit__\n",
      "  File \"pandas\\_libs\\tslibs\\timezones.pyx\", line 306, in pandas._libs.tslibs.timezones.get_dst_info\n",
      "AttributeError: 'NoneType' object has no attribute 'total_seconds'\n"
     ]
    },
    {
     "ename": "AttributeError",
     "evalue": "'NoneType' object has no attribute 'total_seconds'",
     "output_type": "error",
     "traceback": [
      "\u001b[1;31m---------------------------------------------------------------------------\u001b[0m",
      "\u001b[1;31mAttributeError\u001b[0m                            Traceback (most recent call last)",
      "\u001b[1;32mc:\\Users\\henry.gu\\Anaconda3\\envs\\Python\\lib\\site-packages\\pandas\\_libs\\tslibs\\tzconversion.pyx\u001b[0m in \u001b[0;36mpandas._libs.tslibs.tzconversion.Localizer.__cinit__\u001b[1;34m()\u001b[0m\n",
      "\u001b[1;32mc:\\Users\\henry.gu\\Anaconda3\\envs\\Python\\lib\\site-packages\\pandas\\_libs\\tslibs\\timezones.pyx\u001b[0m in \u001b[0;36mpandas._libs.tslibs.timezones.get_dst_info\u001b[1;34m()\u001b[0m\n",
      "\u001b[1;31mAttributeError\u001b[0m: 'NoneType' object has no attribute 'total_seconds'"
     ]
    },
    {
     "name": "stderr",
     "output_type": "stream",
     "text": [
      "Exception ignored in: 'pandas._libs.tslibs.conversion._localize_tso'\n",
      "Traceback (most recent call last):\n",
      "  File \"pandas\\_libs\\tslibs\\tzconversion.pyx\", line 85, in pandas._libs.tslibs.tzconversion.Localizer.__cinit__\n",
      "  File \"pandas\\_libs\\tslibs\\timezones.pyx\", line 306, in pandas._libs.tslibs.timezones.get_dst_info\n",
      "AttributeError: 'NoneType' object has no attribute 'total_seconds'\n"
     ]
    },
    {
     "ename": "AttributeError",
     "evalue": "'NoneType' object has no attribute 'total_seconds'",
     "output_type": "error",
     "traceback": [
      "\u001b[1;31m---------------------------------------------------------------------------\u001b[0m",
      "\u001b[1;31mAttributeError\u001b[0m                            Traceback (most recent call last)",
      "\u001b[1;32mc:\\Users\\henry.gu\\Anaconda3\\envs\\Python\\lib\\site-packages\\pandas\\_libs\\tslibs\\tzconversion.pyx\u001b[0m in \u001b[0;36mpandas._libs.tslibs.tzconversion.Localizer.__cinit__\u001b[1;34m()\u001b[0m\n",
      "\u001b[1;32mc:\\Users\\henry.gu\\Anaconda3\\envs\\Python\\lib\\site-packages\\pandas\\_libs\\tslibs\\timezones.pyx\u001b[0m in \u001b[0;36mpandas._libs.tslibs.timezones.get_dst_info\u001b[1;34m()\u001b[0m\n",
      "\u001b[1;31mAttributeError\u001b[0m: 'NoneType' object has no attribute 'total_seconds'"
     ]
    },
    {
     "name": "stderr",
     "output_type": "stream",
     "text": [
      "Exception ignored in: 'pandas._libs.tslibs.conversion._localize_tso'\n",
      "Traceback (most recent call last):\n",
      "  File \"pandas\\_libs\\tslibs\\tzconversion.pyx\", line 85, in pandas._libs.tslibs.tzconversion.Localizer.__cinit__\n",
      "  File \"pandas\\_libs\\tslibs\\timezones.pyx\", line 306, in pandas._libs.tslibs.timezones.get_dst_info\n",
      "AttributeError: 'NoneType' object has no attribute 'total_seconds'\n"
     ]
    },
    {
     "ename": "AttributeError",
     "evalue": "'NoneType' object has no attribute 'total_seconds'",
     "output_type": "error",
     "traceback": [
      "\u001b[1;31m---------------------------------------------------------------------------\u001b[0m",
      "\u001b[1;31mAttributeError\u001b[0m                            Traceback (most recent call last)",
      "\u001b[1;32mc:\\Users\\henry.gu\\Anaconda3\\envs\\Python\\lib\\site-packages\\pandas\\_libs\\tslibs\\tzconversion.pyx\u001b[0m in \u001b[0;36mpandas._libs.tslibs.tzconversion.Localizer.__cinit__\u001b[1;34m()\u001b[0m\n",
      "\u001b[1;32mc:\\Users\\henry.gu\\Anaconda3\\envs\\Python\\lib\\site-packages\\pandas\\_libs\\tslibs\\timezones.pyx\u001b[0m in \u001b[0;36mpandas._libs.tslibs.timezones.get_dst_info\u001b[1;34m()\u001b[0m\n",
      "\u001b[1;31mAttributeError\u001b[0m: 'NoneType' object has no attribute 'total_seconds'"
     ]
    },
    {
     "name": "stderr",
     "output_type": "stream",
     "text": [
      "Exception ignored in: 'pandas._libs.tslibs.conversion._localize_tso'\n",
      "Traceback (most recent call last):\n",
      "  File \"pandas\\_libs\\tslibs\\tzconversion.pyx\", line 85, in pandas._libs.tslibs.tzconversion.Localizer.__cinit__\n",
      "  File \"pandas\\_libs\\tslibs\\timezones.pyx\", line 306, in pandas._libs.tslibs.timezones.get_dst_info\n",
      "AttributeError: 'NoneType' object has no attribute 'total_seconds'\n"
     ]
    },
    {
     "ename": "AttributeError",
     "evalue": "'NoneType' object has no attribute 'total_seconds'",
     "output_type": "error",
     "traceback": [
      "\u001b[1;31m---------------------------------------------------------------------------\u001b[0m",
      "\u001b[1;31mAttributeError\u001b[0m                            Traceback (most recent call last)",
      "\u001b[1;32mc:\\Users\\henry.gu\\Anaconda3\\envs\\Python\\lib\\site-packages\\pandas\\_libs\\tslibs\\tzconversion.pyx\u001b[0m in \u001b[0;36mpandas._libs.tslibs.tzconversion.Localizer.__cinit__\u001b[1;34m()\u001b[0m\n",
      "\u001b[1;32mc:\\Users\\henry.gu\\Anaconda3\\envs\\Python\\lib\\site-packages\\pandas\\_libs\\tslibs\\timezones.pyx\u001b[0m in \u001b[0;36mpandas._libs.tslibs.timezones.get_dst_info\u001b[1;34m()\u001b[0m\n",
      "\u001b[1;31mAttributeError\u001b[0m: 'NoneType' object has no attribute 'total_seconds'"
     ]
    },
    {
     "name": "stderr",
     "output_type": "stream",
     "text": [
      "Exception ignored in: 'pandas._libs.tslibs.conversion._localize_tso'\n",
      "Traceback (most recent call last):\n",
      "  File \"pandas\\_libs\\tslibs\\tzconversion.pyx\", line 85, in pandas._libs.tslibs.tzconversion.Localizer.__cinit__\n",
      "  File \"pandas\\_libs\\tslibs\\timezones.pyx\", line 306, in pandas._libs.tslibs.timezones.get_dst_info\n",
      "AttributeError: 'NoneType' object has no attribute 'total_seconds'\n"
     ]
    },
    {
     "ename": "AttributeError",
     "evalue": "'NoneType' object has no attribute 'total_seconds'",
     "output_type": "error",
     "traceback": [
      "\u001b[1;31m---------------------------------------------------------------------------\u001b[0m",
      "\u001b[1;31mAttributeError\u001b[0m                            Traceback (most recent call last)",
      "\u001b[1;32mc:\\Users\\henry.gu\\Anaconda3\\envs\\Python\\lib\\site-packages\\pandas\\_libs\\tslibs\\tzconversion.pyx\u001b[0m in \u001b[0;36mpandas._libs.tslibs.tzconversion.Localizer.__cinit__\u001b[1;34m()\u001b[0m\n",
      "\u001b[1;32mc:\\Users\\henry.gu\\Anaconda3\\envs\\Python\\lib\\site-packages\\pandas\\_libs\\tslibs\\timezones.pyx\u001b[0m in \u001b[0;36mpandas._libs.tslibs.timezones.get_dst_info\u001b[1;34m()\u001b[0m\n",
      "\u001b[1;31mAttributeError\u001b[0m: 'NoneType' object has no attribute 'total_seconds'"
     ]
    },
    {
     "name": "stderr",
     "output_type": "stream",
     "text": [
      "Exception ignored in: 'pandas._libs.tslibs.conversion._localize_tso'\n",
      "Traceback (most recent call last):\n",
      "  File \"pandas\\_libs\\tslibs\\tzconversion.pyx\", line 85, in pandas._libs.tslibs.tzconversion.Localizer.__cinit__\n",
      "  File \"pandas\\_libs\\tslibs\\timezones.pyx\", line 306, in pandas._libs.tslibs.timezones.get_dst_info\n",
      "AttributeError: 'NoneType' object has no attribute 'total_seconds'\n"
     ]
    },
    {
     "ename": "AttributeError",
     "evalue": "'NoneType' object has no attribute 'total_seconds'",
     "output_type": "error",
     "traceback": [
      "\u001b[1;31m---------------------------------------------------------------------------\u001b[0m",
      "\u001b[1;31mAttributeError\u001b[0m                            Traceback (most recent call last)",
      "\u001b[1;32mc:\\Users\\henry.gu\\Anaconda3\\envs\\Python\\lib\\site-packages\\pandas\\_libs\\tslibs\\tzconversion.pyx\u001b[0m in \u001b[0;36mpandas._libs.tslibs.tzconversion.Localizer.__cinit__\u001b[1;34m()\u001b[0m\n",
      "\u001b[1;32mc:\\Users\\henry.gu\\Anaconda3\\envs\\Python\\lib\\site-packages\\pandas\\_libs\\tslibs\\timezones.pyx\u001b[0m in \u001b[0;36mpandas._libs.tslibs.timezones.get_dst_info\u001b[1;34m()\u001b[0m\n",
      "\u001b[1;31mAttributeError\u001b[0m: 'NoneType' object has no attribute 'total_seconds'"
     ]
    },
    {
     "name": "stderr",
     "output_type": "stream",
     "text": [
      "Exception ignored in: 'pandas._libs.tslibs.conversion._localize_tso'\n",
      "Traceback (most recent call last):\n",
      "  File \"pandas\\_libs\\tslibs\\tzconversion.pyx\", line 85, in pandas._libs.tslibs.tzconversion.Localizer.__cinit__\n",
      "  File \"pandas\\_libs\\tslibs\\timezones.pyx\", line 306, in pandas._libs.tslibs.timezones.get_dst_info\n",
      "AttributeError: 'NoneType' object has no attribute 'total_seconds'\n"
     ]
    },
    {
     "ename": "AttributeError",
     "evalue": "'NoneType' object has no attribute 'total_seconds'",
     "output_type": "error",
     "traceback": [
      "\u001b[1;31m---------------------------------------------------------------------------\u001b[0m",
      "\u001b[1;31mAttributeError\u001b[0m                            Traceback (most recent call last)",
      "\u001b[1;32mc:\\Users\\henry.gu\\Anaconda3\\envs\\Python\\lib\\site-packages\\pandas\\_libs\\tslibs\\tzconversion.pyx\u001b[0m in \u001b[0;36mpandas._libs.tslibs.tzconversion.Localizer.__cinit__\u001b[1;34m()\u001b[0m\n",
      "\u001b[1;32mc:\\Users\\henry.gu\\Anaconda3\\envs\\Python\\lib\\site-packages\\pandas\\_libs\\tslibs\\timezones.pyx\u001b[0m in \u001b[0;36mpandas._libs.tslibs.timezones.get_dst_info\u001b[1;34m()\u001b[0m\n",
      "\u001b[1;31mAttributeError\u001b[0m: 'NoneType' object has no attribute 'total_seconds'"
     ]
    },
    {
     "name": "stderr",
     "output_type": "stream",
     "text": [
      "Exception ignored in: 'pandas._libs.tslibs.conversion._localize_tso'\n",
      "Traceback (most recent call last):\n",
      "  File \"pandas\\_libs\\tslibs\\tzconversion.pyx\", line 85, in pandas._libs.tslibs.tzconversion.Localizer.__cinit__\n",
      "  File \"pandas\\_libs\\tslibs\\timezones.pyx\", line 306, in pandas._libs.tslibs.timezones.get_dst_info\n",
      "AttributeError: 'NoneType' object has no attribute 'total_seconds'\n"
     ]
    },
    {
     "ename": "AttributeError",
     "evalue": "'NoneType' object has no attribute 'total_seconds'",
     "output_type": "error",
     "traceback": [
      "\u001b[1;31m---------------------------------------------------------------------------\u001b[0m",
      "\u001b[1;31mAttributeError\u001b[0m                            Traceback (most recent call last)",
      "\u001b[1;32mc:\\Users\\henry.gu\\Anaconda3\\envs\\Python\\lib\\site-packages\\pandas\\_libs\\tslibs\\tzconversion.pyx\u001b[0m in \u001b[0;36mpandas._libs.tslibs.tzconversion.Localizer.__cinit__\u001b[1;34m()\u001b[0m\n",
      "\u001b[1;32mc:\\Users\\henry.gu\\Anaconda3\\envs\\Python\\lib\\site-packages\\pandas\\_libs\\tslibs\\timezones.pyx\u001b[0m in \u001b[0;36mpandas._libs.tslibs.timezones.get_dst_info\u001b[1;34m()\u001b[0m\n",
      "\u001b[1;31mAttributeError\u001b[0m: 'NoneType' object has no attribute 'total_seconds'"
     ]
    },
    {
     "name": "stderr",
     "output_type": "stream",
     "text": [
      "Exception ignored in: 'pandas._libs.tslibs.conversion._localize_tso'\n",
      "Traceback (most recent call last):\n",
      "  File \"pandas\\_libs\\tslibs\\tzconversion.pyx\", line 85, in pandas._libs.tslibs.tzconversion.Localizer.__cinit__\n",
      "  File \"pandas\\_libs\\tslibs\\timezones.pyx\", line 306, in pandas._libs.tslibs.timezones.get_dst_info\n",
      "AttributeError: 'NoneType' object has no attribute 'total_seconds'\n"
     ]
    },
    {
     "ename": "AttributeError",
     "evalue": "'NoneType' object has no attribute 'total_seconds'",
     "output_type": "error",
     "traceback": [
      "\u001b[1;31m---------------------------------------------------------------------------\u001b[0m",
      "\u001b[1;31mAttributeError\u001b[0m                            Traceback (most recent call last)",
      "\u001b[1;32mc:\\Users\\henry.gu\\Anaconda3\\envs\\Python\\lib\\site-packages\\pandas\\_libs\\tslibs\\tzconversion.pyx\u001b[0m in \u001b[0;36mpandas._libs.tslibs.tzconversion.Localizer.__cinit__\u001b[1;34m()\u001b[0m\n",
      "\u001b[1;32mc:\\Users\\henry.gu\\Anaconda3\\envs\\Python\\lib\\site-packages\\pandas\\_libs\\tslibs\\timezones.pyx\u001b[0m in \u001b[0;36mpandas._libs.tslibs.timezones.get_dst_info\u001b[1;34m()\u001b[0m\n",
      "\u001b[1;31mAttributeError\u001b[0m: 'NoneType' object has no attribute 'total_seconds'"
     ]
    },
    {
     "name": "stderr",
     "output_type": "stream",
     "text": [
      "Exception ignored in: 'pandas._libs.tslibs.conversion._localize_tso'\n",
      "Traceback (most recent call last):\n",
      "  File \"pandas\\_libs\\tslibs\\tzconversion.pyx\", line 85, in pandas._libs.tslibs.tzconversion.Localizer.__cinit__\n",
      "  File \"pandas\\_libs\\tslibs\\timezones.pyx\", line 306, in pandas._libs.tslibs.timezones.get_dst_info\n",
      "AttributeError: 'NoneType' object has no attribute 'total_seconds'\n"
     ]
    },
    {
     "ename": "AttributeError",
     "evalue": "'NoneType' object has no attribute 'total_seconds'",
     "output_type": "error",
     "traceback": [
      "\u001b[1;31m---------------------------------------------------------------------------\u001b[0m",
      "\u001b[1;31mAttributeError\u001b[0m                            Traceback (most recent call last)",
      "\u001b[1;32mc:\\Users\\henry.gu\\Anaconda3\\envs\\Python\\lib\\site-packages\\pandas\\_libs\\tslibs\\tzconversion.pyx\u001b[0m in \u001b[0;36mpandas._libs.tslibs.tzconversion.Localizer.__cinit__\u001b[1;34m()\u001b[0m\n",
      "\u001b[1;32mc:\\Users\\henry.gu\\Anaconda3\\envs\\Python\\lib\\site-packages\\pandas\\_libs\\tslibs\\timezones.pyx\u001b[0m in \u001b[0;36mpandas._libs.tslibs.timezones.get_dst_info\u001b[1;34m()\u001b[0m\n",
      "\u001b[1;31mAttributeError\u001b[0m: 'NoneType' object has no attribute 'total_seconds'"
     ]
    },
    {
     "name": "stderr",
     "output_type": "stream",
     "text": [
      "Exception ignored in: 'pandas._libs.tslibs.conversion._localize_tso'\n",
      "Traceback (most recent call last):\n",
      "  File \"pandas\\_libs\\tslibs\\tzconversion.pyx\", line 85, in pandas._libs.tslibs.tzconversion.Localizer.__cinit__\n",
      "  File \"pandas\\_libs\\tslibs\\timezones.pyx\", line 306, in pandas._libs.tslibs.timezones.get_dst_info\n",
      "AttributeError: 'NoneType' object has no attribute 'total_seconds'\n"
     ]
    },
    {
     "ename": "AttributeError",
     "evalue": "'NoneType' object has no attribute 'total_seconds'",
     "output_type": "error",
     "traceback": [
      "\u001b[1;31m---------------------------------------------------------------------------\u001b[0m",
      "\u001b[1;31mAttributeError\u001b[0m                            Traceback (most recent call last)",
      "\u001b[1;32mc:\\Users\\henry.gu\\Anaconda3\\envs\\Python\\lib\\site-packages\\pandas\\_libs\\tslibs\\tzconversion.pyx\u001b[0m in \u001b[0;36mpandas._libs.tslibs.tzconversion.Localizer.__cinit__\u001b[1;34m()\u001b[0m\n",
      "\u001b[1;32mc:\\Users\\henry.gu\\Anaconda3\\envs\\Python\\lib\\site-packages\\pandas\\_libs\\tslibs\\timezones.pyx\u001b[0m in \u001b[0;36mpandas._libs.tslibs.timezones.get_dst_info\u001b[1;34m()\u001b[0m\n",
      "\u001b[1;31mAttributeError\u001b[0m: 'NoneType' object has no attribute 'total_seconds'"
     ]
    },
    {
     "name": "stderr",
     "output_type": "stream",
     "text": [
      "Exception ignored in: 'pandas._libs.tslibs.conversion._localize_tso'\n",
      "Traceback (most recent call last):\n",
      "  File \"pandas\\_libs\\tslibs\\tzconversion.pyx\", line 85, in pandas._libs.tslibs.tzconversion.Localizer.__cinit__\n",
      "  File \"pandas\\_libs\\tslibs\\timezones.pyx\", line 306, in pandas._libs.tslibs.timezones.get_dst_info\n",
      "AttributeError: 'NoneType' object has no attribute 'total_seconds'\n"
     ]
    }
   ],
   "source": [
    "df.to_csv('emails.csv', index=False)"
   ]
  }
 ],
 "metadata": {
  "kernelspec": {
   "display_name": "Python 3.8.11 ('Python')",
   "language": "python",
   "name": "python3"
  },
  "language_info": {
   "codemirror_mode": {
    "name": "ipython",
    "version": 3
   },
   "file_extension": ".py",
   "mimetype": "text/x-python",
   "name": "python",
   "nbconvert_exporter": "python",
   "pygments_lexer": "ipython3",
   "version": "3.8.11"
  },
  "orig_nbformat": 4,
  "vscode": {
   "interpreter": {
    "hash": "5d064b4d900fa6679b6293f861eedee3a6eedf1ab82b0278484d6831ca74f3db"
   }
  }
 },
 "nbformat": 4,
 "nbformat_minor": 2
}
