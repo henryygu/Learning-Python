{
 "cells": [
  {
   "cell_type": "code",
   "execution_count": null,
   "metadata": {},
   "outputs": [],
   "source": [
    "#Types\n",
    "int()\n",
    "float()\n",
    "bool() #convert to boolean\n",
    "str() #convert to string"
   ]
  },
  {
   "cell_type": "code",
   "execution_count": null,
   "metadata": {},
   "outputs": [],
   "source": [
    "birth_year = input(\"Enter your birth year: \")\n",
    "#this results in a string output\n",
    "age = 2022 - int(birth_year)"
   ]
  },
  {
   "cell_type": "code",
   "execution_count": 1,
   "metadata": {},
   "outputs": [
    {
     "name": "stdout",
     "output_type": "stream",
     "text": [
      "First number1\n",
      "Second number2\n",
      "12\n"
     ]
    }
   ],
   "source": [
    "# + \n",
    "\n",
    "first = input(\"First number\")\n",
    "second = input(\"Second number\")\n",
    "\n",
    "sum = first + second\n",
    "print(sum)\n",
    "\n",
    "#this concatenates the two strings"
   ]
  },
  {
   "cell_type": "code",
   "execution_count": null,
   "metadata": {},
   "outputs": [],
   "source": [
    "# + \n",
    "\n",
    "first = input(\"First number\")\n",
    "second = input(\"Second number\")\n",
    "\n",
    "sum = float(first) + float(second)\n",
    "print(\"sum\" + str(sum))\n",
    "\n",
    "#this concatenates the two strings"
   ]
  },
  {
   "cell_type": "code",
   "execution_count": null,
   "metadata": {},
   "outputs": [],
   "source": [
    "#str"
   ]
  },
  {
   "cell_type": "code",
   "execution_count": 2,
   "metadata": {},
   "outputs": [
    {
     "name": "stdout",
     "output_type": "stream",
     "text": [
      "True\n",
      "HELLO\n",
      "hello\n"
     ]
    }
   ],
   "source": [
    "sampletext = 'hello'\n",
    "#sampletext.replace()\n",
    "#.upper()\n",
    "#.capitalize()\n",
    "#.find()  #finds the first instancec\n",
    "## could also use the in operator\n",
    "\n",
    "print('hell' in sampletext)  #returns TRUE\n",
    "#.center()\n",
    "#.count()\n",
    "#.encode()\n",
    "#.endswith()\n",
    "#.expandtabs()\n",
    "\n",
    "#these are same as print functions, except print is general purpose function, wherease the ones above are specific to strings. they are referred to as Methods\n",
    "# when a function is part of an object\n",
    "\n",
    "print(sampletext.upper())\n",
    "print(sampletext)\n",
    "#these methods do not affect the original object\n",
    "\n"
   ]
  },
  {
   "cell_type": "code",
   "execution_count": null,
   "metadata": {},
   "outputs": [],
   "source": [
    "#Arithmetic \n",
    "\n",
    "print(10/3) #returns float\n",
    "print(10//3) #returns int\n",
    "\n",
    "print(10%3) #modulus operator, returns remainder\n",
    "print(10**3) #10 to the power of 3\n",
    "\n",
    "\n",
    "\n",
    "x = 10\n",
    "x= x + 3\n",
    "\n",
    "#this can be replaced with : Augmented assignment operator\n",
    "x += 3\n",
    "x -= 3\n",
    "x *= 3\n",
    "\n"
   ]
  },
  {
   "cell_type": "code",
   "execution_count": null,
   "metadata": {},
   "outputs": [],
   "source": [
    "#Comparisons\n",
    "\n",
    "x = 3 > 2 # returns boolean TRUE\n",
    "x = 3 >= 2\n",
    "x = 3 <= 2\n",
    "x = 3 == 2 #equally operator is ==\n",
    "x = 3 != 2 #not equal operator\n",
    "\n",
    "\n",
    "\n",
    "\n",
    "\n"
   ]
  },
  {
   "cell_type": "code",
   "execution_count": null,
   "metadata": {},
   "outputs": [],
   "source": [
    "#logical operator\n",
    "#3 logical operators and, or, not\n",
    "\n",
    "prince = 5\n",
    "print(price > 10 and price < 30)\n",
    "print(price > 10 or price < 30)\n",
    "print(not price > 10 )\n"
   ]
  },
  {
   "cell_type": "code",
   "execution_count": null,
   "metadata": {},
   "outputs": [],
   "source": [
    "#if statements\n",
    "\n",
    "temp = 35\n",
    "if temp > 30:\n",
    "    print(\"its hot\")\n",
    "elif temp > 20:\n",
    "    print(\"its a nice day\")\n",
    "else:\n",
    "    print(\"it's cold\")\n",
    "print(\"done\")\n",
    "\n"
   ]
  },
  {
   "cell_type": "code",
   "execution_count": 4,
   "metadata": {},
   "outputs": [
    {
     "name": "stdout",
     "output_type": "stream",
     "text": [
      "1\n",
      "2\n",
      "3\n",
      "4\n",
      "5\n",
      "*\n",
      "**\n",
      "***\n",
      "****\n",
      "*****\n"
     ]
    }
   ],
   "source": [
    "#while\n",
    "\n",
    "i = 1\n",
    "while i <= 5:\n",
    "    print(i)\n",
    "    i += 1\n",
    "    \n",
    "i = 1\n",
    "while i <= 5:\n",
    "    print(i * '*')  #multiplying str by int, it just repeats the str\n",
    "    i += 1  \n"
   ]
  },
  {
   "cell_type": "code",
   "execution_count": 7,
   "metadata": {},
   "outputs": [
    {
     "name": "stdout",
     "output_type": "stream",
     "text": [
      "['john', 'bob', 'mary']\n",
      "bob\n",
      "['john', 'bob']\n",
      "mary\n",
      "['jon', 'bob', 'mary']\n"
     ]
    }
   ],
   "source": [
    "#lists\n",
    "\n",
    "names = [\"john\", \"bob\", \"mary\"]\n",
    "print(names)\n",
    "print(names[1]) # retrieve a specific position. 0 represents the first position\n",
    "print(names[0:2]) # retrieve a set\n",
    "print(names[-1]) # can use a negative index, this counts from right to left\n",
    "\n",
    "##can use this to update\n",
    "names[0] = \"jon\"\n",
    "print(names)\n"
   ]
  },
  {
   "cell_type": "code",
   "execution_count": 13,
   "metadata": {},
   "outputs": [
    {
     "name": "stdout",
     "output_type": "stream",
     "text": [
      "[11, 21, 31, 41, 51, 6]\n",
      "[-1, 11, 21, 31, 41, 51, 6]\n",
      "True\n"
     ]
    }
   ],
   "source": [
    "#list objects\n",
    "\n",
    "numbers = [11,21,31,41,51]\n",
    "numbers.append(6)\n",
    "print(numbers)\n",
    "\n",
    "numbers.insert(0,-1)\n",
    "print(numbers)\n",
    "\n",
    "numbers.remove(31) # remove this exact number, not position\n",
    "\n",
    "print(11 in numbers) # check if this is in the list\n",
    "print(len(numbers)) #check number of elements in the list"
   ]
  },
  {
   "cell_type": "code",
   "execution_count": 27,
   "metadata": {},
   "outputs": [
    {
     "name": "stdout",
     "output_type": "stream",
     "text": [
      "[2, 3]\n",
      "[0, 1, 2, 3, 4]\n",
      "[5, 6, 7, 8]\n",
      "[2, 4, 6]\n",
      "[4, 3]\n"
     ]
    }
   ],
   "source": [
    "#slice operators\n",
    "\n",
    "x= [0,1,2,3,4,5,6,7,8]\n",
    "\n",
    "print(x[2:4]) # choose pos 2 and 3 not inclusive of pos 4\n",
    "print(x[:5]) #start at begining, stop at pos 5\n",
    "print(x[5:]) #start at pos 5, stop at end\n",
    "print(x[2:8:2]) #start at 2, stop at 8, in jumps of 2\n",
    "print(x[4:2:-1]) # start at 4, stop at 3, going negative"
   ]
  },
  {
   "cell_type": "code",
   "execution_count": 16,
   "metadata": {},
   "outputs": [
    {
     "name": "stdout",
     "output_type": "stream",
     "text": [
      "1\n",
      "2\n",
      "3\n",
      "4\n",
      "5\n",
      "1\n",
      "2\n",
      "3\n",
      "4\n",
      "5\n"
     ]
    }
   ],
   "source": [
    "#for loop\n",
    "numbers = [1,2,3,4,5]\n",
    "for item in numbers:\n",
    "    print(item)\n",
    "    \n",
    "i = 0\n",
    "while i < len(numbers):\n",
    "    print(numbers[i])\n",
    "    i += 1\n"
   ]
  },
  {
   "cell_type": "code",
   "execution_count": 20,
   "metadata": {},
   "outputs": [
    {
     "name": "stdout",
     "output_type": "stream",
     "text": [
      "range(0, 5)\n",
      "0\n",
      "1\n",
      "2\n",
      "3\n",
      "4\n",
      "5\n",
      "7\n",
      "9\n"
     ]
    }
   ],
   "source": [
    "#range\n",
    "\n",
    "numbers = range(5) # 0 to 5, not incl 5\n",
    "print(numbers)#to see the values, you need to iterate over the loop\n",
    "\n",
    "for number in numbers:\n",
    "    print(number)\n",
    "    \n",
    "    \n",
    "    \n",
    "#range\n",
    "\n",
    "for number in range(5,10,2):\n",
    "    print(number)"
   ]
  },
  {
   "cell_type": "code",
   "execution_count": 28,
   "metadata": {},
   "outputs": [
    {
     "data": {
      "text/plain": [
       "2"
      ]
     },
     "execution_count": 28,
     "metadata": {},
     "output_type": "execute_result"
    }
   ],
   "source": [
    "#Tuples\n",
    "#Tuples are immutable\n",
    "numbers = (1,2,3,3)\n",
    "\n",
    "numbers.count(1)\n",
    "numbers.index(3)"
   ]
  },
  {
   "cell_type": "code",
   "execution_count": 43,
   "metadata": {},
   "outputs": [
    {
     "name": "stdout",
     "output_type": "stream",
     "text": [
      "4\n",
      "{'key': 4, 'key2': 5, 2: [2, 2, 1, 1], 3: [2, 2, 1, 1]}\n",
      "True\n",
      "[4, 5, [2, 2, 1, 1], [2, 2, 1, 1]]\n",
      "['key', 'key2', 2, 3]\n",
      "for\n",
      "key2 5\n",
      "2 [2, 2, 1, 1]\n",
      "3 [2, 2, 1, 1]\n",
      "key2 5\n",
      "2 [2, 2, 1, 1]\n",
      "3 [2, 2, 1, 1]\n"
     ]
    }
   ],
   "source": [
    "#dict\n",
    "#key value pairs\n",
    "x = {'key': 4}\n",
    "\n",
    "print(x['key'])\n",
    "\n",
    "\n",
    "x['key2'] = 5\n",
    "x[2] = [2,2,1,1,]\n",
    "x[3] = [2,2,1,1,]\n",
    "\n",
    "print(x)\n",
    "print('key' in x)\n",
    "print(list(x.values()))\n",
    "print(list(x.keys()))\n",
    "\n",
    "\n",
    "del x['key']\n",
    "\n",
    "print(\"for\")\n",
    "for key, value in x.items():\n",
    "    print(key, value)\n",
    "    \n",
    "    \n",
    "for key in x:\n",
    "    print(key, x[key])"
   ]
  },
  {
   "cell_type": "code",
   "execution_count": 50,
   "metadata": {},
   "outputs": [
    {
     "name": "stdout",
     "output_type": "stream",
     "text": [
      "Run 5 6\n",
      "30 0.8333333333333334\n"
     ]
    }
   ],
   "source": [
    "def func(x, y):\n",
    "    print('Run', x, y)\n",
    "    #return x * y # can return one thing\n",
    "    return x * y, x / y # or return multiple objects as a tuple\n",
    "\n",
    "r1, r2 = func(5, 6) # this will seperate out the two objects in return into two variables\n",
    "print(r1, r2)"
   ]
  },
  {
   "cell_type": "code",
   "execution_count": 53,
   "metadata": {},
   "outputs": [
    {
     "name": "stdout",
     "output_type": "stream",
     "text": [
      "1 2 3 4 5 6 76\n"
     ]
    }
   ],
   "source": [
    "#args and kwarg\n",
    "\n",
    "x = [1,2,3,4,5,6,76]\n",
    "print(*x) # unpack them from the list \n",
    "\n",
    "#one asterixs for lists and tuples\n",
    "#two astierxs for dict"
   ]
  },
  {
   "cell_type": "code",
   "execution_count": 58,
   "metadata": {},
   "outputs": [
    {
     "name": "stdout",
     "output_type": "stream",
     "text": [
      "1 2\n",
      "3 4\n",
      "1 2\n",
      "3 4\n",
      "2 5\n",
      "2 5\n"
     ]
    }
   ],
   "source": [
    "def func(x, y):\n",
    "    print(x,y)\n",
    "    \n",
    "pairs = [(1,2),(3,4)]\n",
    "\n",
    "for pair in pairs:  #noob way\n",
    "    func(pair[0], pair[1])\n",
    "    \n",
    "for pair in pairs:\n",
    "    func(*pair)\n",
    "    \n",
    "    \n",
    "for pair in pairs:\n",
    "    func(**{'y':5,  'x':2})"
   ]
  },
  {
   "cell_type": "code",
   "execution_count": 61,
   "metadata": {},
   "outputs": [
    {
     "name": "stdout",
     "output_type": "stream",
     "text": [
      "division by zero\n",
      "finally\n"
     ]
    }
   ],
   "source": [
    "try:\n",
    "    x= 7/0\n",
    "except Exception as e:\n",
    "    print(e)\n",
    "finally:\n",
    "    print('finally')"
   ]
  },
  {
   "cell_type": "code",
   "execution_count": 73,
   "metadata": {},
   "outputs": [
    {
     "name": "stdout",
     "output_type": "stream",
     "text": [
      "7\n",
      "34\n",
      "[14, 5, 44, 58, 8, 8, 7, 47, 6, 5, 7, 69, 9, 69, 7, 6, 325, 4]\n",
      "[12, 42, 56, 6, 6, 4, 4, 2]\n"
     ]
    }
   ],
   "source": [
    "#'lambda\n",
    "x = lambda x: x + 5\n",
    "print(x(2))\n",
    "x = lambda x, y: x + y\n",
    "print(x(2,32))\n",
    "\n",
    "\n",
    "#map and filter\n",
    "x = [12,3,42,56,6,6,5,45,4,3,5,67,7,67,5,4,323,2]\n",
    "\n",
    "mp = map(lambda i: i + 2, x) # take this lambda function and apply to everything in x. this will add2  to everything\n",
    "print(list(mp))\n",
    "\n",
    "x = [12,3,42,56,6,6,5,45,4,3,5,67,7,67,5,4,323,2]\n",
    "filter1 = filter(lambda i: i % 2 == 0 , x) # this lambda will return true or false, ie only return if even\n",
    "print(list(filter1))\n"
   ]
  },
  {
   "cell_type": "code",
   "execution_count": 75,
   "metadata": {},
   "outputs": [
    {
     "name": "stdout",
     "output_type": "stream",
     "text": [
      "hello 14\n"
     ]
    }
   ],
   "source": [
    "#fstrings\n",
    "x = f'hello {6 + 8}' \n",
    "print(x)"
   ]
  }
 ],
 "metadata": {
  "kernelspec": {
   "display_name": "Python 3",
   "language": "python",
   "name": "python3"
  },
  "language_info": {
   "codemirror_mode": {
    "name": "ipython",
    "version": 3
   },
   "file_extension": ".py",
   "mimetype": "text/x-python",
   "name": "python",
   "nbconvert_exporter": "python",
   "pygments_lexer": "ipython3",
   "version": "3.7.6"
  }
 },
 "nbformat": 4,
 "nbformat_minor": 4
}
